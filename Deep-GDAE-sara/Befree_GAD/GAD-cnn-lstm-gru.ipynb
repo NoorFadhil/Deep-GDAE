{
 "cells": [
  {
   "cell_type": "markdown",
   "metadata": {},
   "source": [
    "# model 1 \n",
    "\n",
    " sara \n"
   ]
  },
  {
   "cell_type": "markdown",
   "metadata": {},
   "source": [
    "#  -------------------------------------------------------------------------------------------"
   ]
  },
  {
   "cell_type": "markdown",
   "metadata": {},
   "source": [
    "# imports"
   ]
  },
  {
   "cell_type": "code",
   "execution_count": 1,
   "metadata": {},
   "outputs": [
    {
     "name": "stderr",
     "output_type": "stream",
     "text": [
      "Using TensorFlow backend.\n"
     ]
    }
   ],
   "source": [
    "import tensorflow as tf\n",
    "import keras\n",
    "from keras.models import load_model\n",
    "from keras.callbacks import ModelCheckpoint, EarlyStopping\n",
    "from keras_tqdm import TQDMNotebookCallback\n",
    "import numpy as np\n",
    "np.random.seed(1337)\n",
    "from keras_tqdm import TQDMNotebookCallback\n",
    "import nltk\n",
    "import xml.etree.ElementTree as ET\n",
    "import pandas as pd\n",
    "import os\n",
    "import string\n",
    "from nltk.tokenize import TreebankWordTokenizer\n",
    "from numpy.random import random_sample\n",
    "import re\n",
    "import pickle\n",
    "from sklearn.metrics import accuracy_score\n",
    "from sklearn.metrics import classification_report\n",
    "\n",
    "from keras.layers import Embedding, Flatten,LSTM, GRU\n",
    "from keras.layers.convolutional import Conv2D, MaxPooling2D\n",
    "from tensorflow.keras.utils import to_categorical\n",
    "from tensorflow.keras.models import Sequential, Model\n",
    "from keras.layers import Dense, Dropout, Activation,  Input, merge,Conv1D,MaxPooling1D,GlobalMaxPooling1D,Convolution1D\n",
    "from keras import regularizers\n",
    "from sklearn.metrics import precision_recall_fscore_support\n",
    "from sklearn.model_selection import StratifiedKFold\n",
    "import matplotlib.pyplot as plt\n",
    "from keras.layers import Concatenate, concatenate\n",
    "from keras import backend as K\n",
    "from keras.layers import multiply\n",
    "from keras.layers import merge\n",
    "from keras.layers.core import *\n",
    "from keras.layers.recurrent import LSTM\n",
    "from keras.models import *\n",
    "random_seed=1337"
   ]
  },
  {
   "cell_type": "markdown",
   "metadata": {},
   "source": [
    "###  Define Callback functions to generate Measures"
   ]
  },
  {
   "cell_type": "code",
   "execution_count": 2,
   "metadata": {},
   "outputs": [],
   "source": [
    "from keras import backend as K\n",
    "\n",
    "def f1(y_true, y_pred):\n",
    "    def recall(y_true, y_pred):\n",
    "        true_positives = K.sum(K.round(K.clip(y_true * y_pred, 0, 1)))\n",
    "        possible_positives = K.sum(K.round(K.clip(y_true, 0, 1)))\n",
    "        recall = true_positives / (possible_positives + K.epsilon())\n",
    "        return recall\n",
    "\n",
    "    def precision(y_true, y_pred):\n",
    "        true_positives = K.sum(K.round(K.clip(y_true * y_pred, 0, 1)))\n",
    "        predicted_positives = K.sum(K.round(K.clip(y_pred, 0, 1)))\n",
    "        precision = true_positives / (predicted_positives + K.epsilon())\n",
    "        return precision\n",
    "    precision = precision(y_true, y_pred)\n",
    "    recall = recall(y_true, y_pred)\n",
    "    return 2*((precision*recall)/(precision+recall+K.epsilon()))\n"
   ]
  },
  {
   "cell_type": "markdown",
   "metadata": {},
   "source": [
    "# Experiments to reproduce the results of Table 9 "
   ]
  },
  {
   "cell_type": "markdown",
   "metadata": {},
   "source": [
    "### Load pre procssed Data"
   ]
  },
  {
   "cell_type": "code",
   "execution_count": 3,
   "metadata": {},
   "outputs": [
    {
     "name": "stdout",
     "output_type": "stream",
     "text": [
      "word_vectors 6766\n"
     ]
    }
   ],
   "source": [
    "with open('../data/pickles/befree_3class_crawl-300d-2M.pickle', 'rb') as handle:\n",
    "    gene_id_list = pickle.load(handle)\n",
    "    gene_symbol_list = pickle.load(handle)\n",
    "    disease_id_list = pickle.load(handle)    \n",
    "    X_train = pickle.load(handle)\n",
    "    distance1_vectors = pickle.load(handle)\n",
    "    distance2_vectors = pickle.load(handle)\n",
    "    Y_train = pickle.load(handle)\n",
    "    word_list = pickle.load(handle)\n",
    "    word_vectors = pickle.load(handle)\n",
    "    word_dict = pickle.load(handle)\n",
    "    distance1_dict = pickle.load(handle)\n",
    "    distance2_dict = pickle.load(handle)\n",
    "    label_dict = pickle.load(handle)\n",
    "    MAX_SEQUENCE_LENGTH = pickle.load(handle)\n",
    "print (\"word_vectors\",len(word_vectors))"
   ]
  },
  {
   "cell_type": "markdown",
   "metadata": {},
   "source": [
    "position embedding"
   ]
  },
  {
   "cell_type": "code",
   "execution_count": 4,
   "metadata": {},
   "outputs": [
    {
     "data": {
      "text/plain": [
       "(5330, 81, 20)"
      ]
     },
     "execution_count": 4,
     "metadata": {},
     "output_type": "execute_result"
    }
   ],
   "source": [
    "import keras\n",
    "from keras_pos_embd import TrigPosEmbedding\n",
    "\n",
    "model = keras.models.Sequential()\n",
    "model.add(TrigPosEmbedding(\n",
    "    input_shape=(None,),\n",
    "    output_dim=20,                      # The dimension of embeddings.\n",
    "    mode=TrigPosEmbedding.MODE_EXPAND,  # Use `expand` mode\n",
    "    name='Pos-Embd',\n",
    "))\n",
    "model.compile('adam', keras.losses.mae, {})\n",
    "\n",
    "\n",
    "d1_train_embedded=model.predict(distance1_vectors)\n",
    "\n",
    "d1_train_embedded.shape\n",
    "\n",
    "d2_train_embedded=model.predict(distance2_vectors)\n",
    "\n",
    "d2_train_embedded.shape"
   ]
  },
  {
   "cell_type": "markdown",
   "metadata": {},
   "source": [
    "### Prepare Word Embedding Layer"
   ]
  },
  {
   "cell_type": "code",
   "execution_count": 5,
   "metadata": {},
   "outputs": [
    {
     "name": "stdout",
     "output_type": "stream",
     "text": [
      "EMBEDDING_DIM= 300\n"
     ]
    }
   ],
   "source": [
    "EMBEDDING_DIM=word_vectors.shape[1]\n",
    "print(\"EMBEDDING_DIM=\",EMBEDDING_DIM)\n",
    "embedding_matrix=word_vectors\n",
    "\n",
    "def create_embedding_layer(l2_reg=0.01,use_pretrained=True,is_trainable=False):\n",
    "    \n",
    "    if use_pretrained:        \n",
    "        return Embedding(len(word_dict) ,EMBEDDING_DIM,weights=[embedding_matrix],input_length=MAX_SEQUENCE_LENGTH,trainable=is_trainable,embeddings_regularizer=regularizers.l2(l2_reg))\n",
    "    \n",
    "    else:    \n",
    "        return Embedding(len(word_dict) ,EMBEDDING_DIM,input_length=MAX_SEQUENCE_LENGTH)\n",
    "            \n",
    "    "
   ]
  },
  {
   "cell_type": "markdown",
   "metadata": {},
   "source": [
    "attention"
   ]
  },
  {
   "cell_type": "code",
   "execution_count": 6,
   "metadata": {},
   "outputs": [],
   "source": [
    "INPUT_DIM = 2\n",
    "TIME_STEPS = MAX_SEQUENCE_LENGTH\n",
    "def attentionNew(inputs):\n",
    "    inputs = Lambda(lambda x: tf.keras.backend.tanh(x))(inputs)\n",
    "    input_dim = int(inputs.shape[2])\n",
    "    a = Permute((2, 1))(inputs)\n",
    "    a = Dense(TIME_STEPS, activation='softmax')(a)\n",
    "    a_probs = Permute((2, 1))(a)\n",
    "    output_attention_mul = multiply([inputs, a_probs])\n",
    "    output_attention_mul = Lambda(lambda x: tf.keras.backend.tanh(x))(output_attention_mul)\n",
    "    return output_attention_mul"
   ]
  },
  {
   "cell_type": "markdown",
   "metadata": {},
   "source": [
    "### Create the Model"
   ]
  },
  {
   "cell_type": "code",
   "execution_count": 7,
   "metadata": {},
   "outputs": [],
   "source": [
    "# set parameter for metric calculation, 'macro' for multiclass classification\n",
    "param='macro' \n",
    "def build_model():    \n",
    "\n",
    "    sequence_input = Input(shape=(MAX_SEQUENCE_LENGTH,), dtype='int32')\n",
    "    embedding_layer=create_embedding_layer(use_pretrained=True,is_trainable=False)\n",
    "    embedded_sequences = embedding_layer(sequence_input)\n",
    "\n",
    "    \n",
    "    pos_embedd_1=Input(shape=(MAX_SEQUENCE_LENGTH,20), dtype='float32')\n",
    "    pos_embedd_2=Input(shape=(MAX_SEQUENCE_LENGTH,20), dtype='float32')\n",
    "    \n",
    "    embedded_sequences = concatenate([embedded_sequences,pos_embedd_1,pos_embedd_2])\n",
    "        \n",
    "    \n",
    "    x = Conv1D(32, 5, activation='relu')(embedded_sequences)\n",
    "    x = MaxPooling1D(3)(x)\n",
    "    x = Dropout(0.1)(x)\n",
    "    conv_sequence_w5=GlobalMaxPooling1D()(x)    #x = Flatten()(x)\n",
    "\n",
    "\n",
    "        \n",
    "    x = Conv1D(64, 3, activation='relu')(embedded_sequences)\n",
    "    x = MaxPooling1D(3)(x)\n",
    "    x = Dropout(0.1)(x)\n",
    "    conv_sequence_w4=GlobalMaxPooling1D()(x)    #x = Flatten()(x)\n",
    "\n",
    "\n",
    "            \n",
    "    x = Conv1D(128, 3, activation='relu')(embedded_sequences)\n",
    "    x = MaxPooling1D(3)(x)\n",
    "    x = Dropout(0.1)(x)\n",
    "    conv_sequence_w3=GlobalMaxPooling1D()(x)    #x = Flatten()(x)\n",
    "\n",
    "    forward = GRU(100, recurrent_dropout=0.05,return_sequences=True)(embedded_sequences)\n",
    "    backward = LSTM(100, go_backwards=True,recurrent_dropout=0.05,return_sequences=True)(embedded_sequences)\n",
    "    attention_forward=attentionNew(forward)\n",
    "    attention_backward=attentionNew(backward)\n",
    "    lstm_sequence = concatenate([attention_forward,attention_backward])\n",
    "   \n",
    "    lstm_sequence = Flatten()(lstm_sequence)\n",
    "    merge = concatenate([conv_sequence_w5,conv_sequence_w4,conv_sequence_w3,lstm_sequence])\n",
    "    x = Dense(64, activation='relu', kernel_regularizer=regularizers.l2(0.1))(merge)\n",
    "    x = Dropout(0.1)(x)\n",
    "    preds = Dense(3, activation='softmax')(x)\n",
    "    model = Model(inputs=[sequence_input, pos_embedd_1,pos_embedd_2],outputs=preds)\n",
    "    opt=tf.keras.optimizers.Adam()\n",
    "    model.compile(loss='categorical_crossentropy',optimizer=opt,metrics=['acc',f1])\n",
    "    return model\n",
    "    "
   ]
  },
  {
   "cell_type": "code",
   "execution_count": 8,
   "metadata": {},
   "outputs": [
    {
     "name": "stdout",
     "output_type": "stream",
     "text": [
      "Model: \"model_1\"\n",
      "__________________________________________________________________________________________________\n",
      "Layer (type)                    Output Shape         Param #     Connected to                     \n",
      "==================================================================================================\n",
      "input_1 (InputLayer)            (None, 81)           0                                            \n",
      "__________________________________________________________________________________________________\n",
      "embedding_1 (Embedding)         (None, 81, 300)      2029800     input_1[0][0]                    \n",
      "__________________________________________________________________________________________________\n",
      "input_2 (InputLayer)            (None, 81, 20)       0                                            \n",
      "__________________________________________________________________________________________________\n",
      "input_3 (InputLayer)            (None, 81, 20)       0                                            \n",
      "__________________________________________________________________________________________________\n",
      "concatenate_1 (Concatenate)     (None, 81, 340)      0           embedding_1[0][0]                \n",
      "                                                                 input_2[0][0]                    \n",
      "                                                                 input_3[0][0]                    \n",
      "__________________________________________________________________________________________________\n",
      "gru_1 (GRU)                     (None, 81, 100)      132300      concatenate_1[0][0]              \n",
      "__________________________________________________________________________________________________\n",
      "lstm_1 (LSTM)                   (None, 81, 100)      176400      concatenate_1[0][0]              \n",
      "__________________________________________________________________________________________________\n",
      "lambda_1 (Lambda)               (None, 81, 100)      0           gru_1[0][0]                      \n",
      "__________________________________________________________________________________________________\n",
      "lambda_3 (Lambda)               (None, 81, 100)      0           lstm_1[0][0]                     \n",
      "__________________________________________________________________________________________________\n",
      "permute_1 (Permute)             (None, 100, 81)      0           lambda_1[0][0]                   \n",
      "__________________________________________________________________________________________________\n",
      "permute_3 (Permute)             (None, 100, 81)      0           lambda_3[0][0]                   \n",
      "__________________________________________________________________________________________________\n",
      "dense_1 (Dense)                 (None, 100, 81)      6642        permute_1[0][0]                  \n",
      "__________________________________________________________________________________________________\n",
      "dense_2 (Dense)                 (None, 100, 81)      6642        permute_3[0][0]                  \n",
      "__________________________________________________________________________________________________\n",
      "permute_2 (Permute)             (None, 81, 100)      0           dense_1[0][0]                    \n",
      "__________________________________________________________________________________________________\n",
      "permute_4 (Permute)             (None, 81, 100)      0           dense_2[0][0]                    \n",
      "__________________________________________________________________________________________________\n",
      "conv1d_1 (Conv1D)               (None, 77, 32)       54432       concatenate_1[0][0]              \n",
      "__________________________________________________________________________________________________\n",
      "conv1d_2 (Conv1D)               (None, 79, 64)       65344       concatenate_1[0][0]              \n",
      "__________________________________________________________________________________________________\n",
      "conv1d_3 (Conv1D)               (None, 79, 128)      130688      concatenate_1[0][0]              \n",
      "__________________________________________________________________________________________________\n",
      "multiply_1 (Multiply)           (None, 81, 100)      0           lambda_1[0][0]                   \n",
      "                                                                 permute_2[0][0]                  \n",
      "__________________________________________________________________________________________________\n",
      "multiply_2 (Multiply)           (None, 81, 100)      0           lambda_3[0][0]                   \n",
      "                                                                 permute_4[0][0]                  \n",
      "__________________________________________________________________________________________________\n",
      "max_pooling1d_1 (MaxPooling1D)  (None, 25, 32)       0           conv1d_1[0][0]                   \n",
      "__________________________________________________________________________________________________\n",
      "max_pooling1d_2 (MaxPooling1D)  (None, 26, 64)       0           conv1d_2[0][0]                   \n",
      "__________________________________________________________________________________________________\n",
      "max_pooling1d_3 (MaxPooling1D)  (None, 26, 128)      0           conv1d_3[0][0]                   \n",
      "__________________________________________________________________________________________________\n",
      "lambda_2 (Lambda)               (None, 81, 100)      0           multiply_1[0][0]                 \n",
      "__________________________________________________________________________________________________\n",
      "lambda_4 (Lambda)               (None, 81, 100)      0           multiply_2[0][0]                 \n",
      "__________________________________________________________________________________________________\n",
      "dropout_1 (Dropout)             (None, 25, 32)       0           max_pooling1d_1[0][0]            \n",
      "__________________________________________________________________________________________________\n",
      "dropout_2 (Dropout)             (None, 26, 64)       0           max_pooling1d_2[0][0]            \n",
      "__________________________________________________________________________________________________\n",
      "dropout_3 (Dropout)             (None, 26, 128)      0           max_pooling1d_3[0][0]            \n",
      "__________________________________________________________________________________________________\n",
      "concatenate_2 (Concatenate)     (None, 81, 200)      0           lambda_2[0][0]                   \n",
      "                                                                 lambda_4[0][0]                   \n",
      "__________________________________________________________________________________________________\n",
      "global_max_pooling1d_1 (GlobalM (None, 32)           0           dropout_1[0][0]                  \n",
      "__________________________________________________________________________________________________\n",
      "global_max_pooling1d_2 (GlobalM (None, 64)           0           dropout_2[0][0]                  \n",
      "__________________________________________________________________________________________________\n",
      "global_max_pooling1d_3 (GlobalM (None, 128)          0           dropout_3[0][0]                  \n",
      "__________________________________________________________________________________________________\n",
      "flatten_1 (Flatten)             (None, 16200)        0           concatenate_2[0][0]              \n",
      "__________________________________________________________________________________________________\n",
      "concatenate_3 (Concatenate)     (None, 16424)        0           global_max_pooling1d_1[0][0]     \n",
      "                                                                 global_max_pooling1d_2[0][0]     \n",
      "                                                                 global_max_pooling1d_3[0][0]     \n",
      "                                                                 flatten_1[0][0]                  \n",
      "__________________________________________________________________________________________________\n",
      "dense_3 (Dense)                 (None, 64)           1051200     concatenate_3[0][0]              \n",
      "__________________________________________________________________________________________________\n",
      "dropout_4 (Dropout)             (None, 64)           0           dense_3[0][0]                    \n",
      "__________________________________________________________________________________________________\n",
      "dense_4 (Dense)                 (None, 3)            195         dropout_4[0][0]                  \n",
      "==================================================================================================\n",
      "Total params: 3,653,643\n",
      "Trainable params: 1,623,843\n",
      "Non-trainable params: 2,029,800\n",
      "__________________________________________________________________________________________________\n"
     ]
    }
   ],
   "source": [
    "model = build_model()\n",
    "model.summary()"
   ]
  },
  {
   "cell_type": "code",
   "execution_count": 9,
   "metadata": {},
   "outputs": [
    {
     "name": "stdout",
     "output_type": "stream",
     "text": [
      "TrainRate:80.00% testRate:20.00% validation:8.00%  \n"
     ]
    }
   ],
   "source": [
    "validation_split_rate = 0.1\n",
    "skf = StratifiedKFold(n_splits=5,shuffle=True, random_state=42)\n",
    "Y = [np.argmax(y, axis=None, out=None) for y in Y_train]\n",
    "for tr_index, te_index in skf.split(X_train,Y):\n",
    "    test_index = te_index \n",
    "    train_index = tr_index\n",
    "    \n",
    "trainRate = (len(train_index)/len(Y))*100   \n",
    "testRate = (len(test_index)/len(Y))*100   \n",
    "print (\"TrainRate:{:.2f}% testRate:{:.2f}% validation:{:.2f}%  \".format(trainRate,testRate, trainRate*validation_split_rate))\n",
    "X_train, X_test = X_train[train_index], X_train[test_index] \n",
    "pos_train1, pos_test1 = d1_train_embedded[train_index], d1_train_embedded[test_index] \n",
    "pos_train2, pos_test2 = d2_train_embedded[train_index], d2_train_embedded[test_index] \n",
    "y_train, y_test = Y_train[train_index], Y_train[test_index]\n",
    "\n",
    "\n",
    "\n",
    "# # Saving the training data split as a pickle file\n",
    "# training_data = {\n",
    "#     'X_train': X_train,\n",
    "#     'pos_train1': pos_train1,\n",
    "#     'pos_train2': pos_train2,\n",
    "#     'y_train': y_train\n",
    "# }\n",
    "\n",
    "# with open('training_data.pkl', 'wb') as f:\n",
    "#     pickle.dump(training_data, f)\n",
    "\n",
    "# # Saving the testing data split as a pickle file\n",
    "# testing_data = {\n",
    "#     'X_test': X_test,\n",
    "#     'pos_test1': pos_test1,\n",
    "#     'pos_test2': pos_test2,\n",
    "#     'y_test': y_test\n",
    "# }\n",
    "\n",
    "# with open('testing_data.pkl', 'wb') as f:\n",
    "#     pickle.dump(testing_data, f)\n",
    "    \n",
    "\n"
   ]
  },
  {
   "cell_type": "code",
   "execution_count": 10,
   "metadata": {},
   "outputs": [
    {
     "name": "stdout",
     "output_type": "stream",
     "text": [
      "(4264, 81)\n",
      "(1066, 81)\n"
     ]
    }
   ],
   "source": [
    "# Load the training data from the pickle file\n",
    "with open('training_data.pkl', 'rb') as f:\n",
    "    train_data = pickle.load(f)\n",
    "\n",
    "# Load the testing data from the pickle file\n",
    "with open('testing_data.pkl', 'rb') as f:\n",
    "    test_data = pickle.load(f)\n",
    "\n",
    "# Extract data from the loaded dictionaries\n",
    "X_train = train_data['X_train']\n",
    "pos_train1 = train_data['pos_train1']\n",
    "pos_train2 = train_data['pos_train2']\n",
    "y_train = train_data['y_train']\n",
    "\n",
    "\n",
    "X_test = test_data['X_test']\n",
    "pos_test1 = test_data['pos_test1']\n",
    "pos_test2 = test_data['pos_test2']\n",
    "y_test = test_data['y_test']\n",
    "print(X_train.shape)\n",
    "print(X_test.shape)"
   ]
  },
  {
   "cell_type": "markdown",
   "metadata": {},
   "source": [
    "### Run the Evaluation on the test dataset "
   ]
  },
  {
   "cell_type": "code",
   "execution_count": 11,
   "metadata": {},
   "outputs": [
    {
     "name": "stdout",
     "output_type": "stream",
     "text": [
      "Train on 3837 samples, validate on 427 samples\n",
      "Epoch 1/50\n",
      "3837/3837 [==============================] - 190s 50ms/step - loss: 2780.3218 - acc: 0.4561 - f1: 0.1841 - val_loss: 2779.6724 - val_acc: 0.4075 - val_f1: 0.2241\n",
      "Epoch 2/50\n",
      "3837/3837 [==============================] - 18s 5ms/step - loss: 2779.6294 - acc: 0.4694 - f1: 0.2441 - val_loss: 2779.6408 - val_acc: 0.4333 - val_f1: 0.3851\n",
      "Epoch 3/50\n",
      "3837/3837 [==============================] - 18s 5ms/step - loss: 2779.6003 - acc: 0.4780 - f1: 0.2902 - val_loss: 2779.6190 - val_acc: 0.4660 - val_f1: 0.2290\n",
      "Epoch 4/50\n",
      "3837/3837 [==============================] - 18s 5ms/step - loss: 2779.5662 - acc: 0.5129 - f1: 0.3406 - val_loss: 2779.6011 - val_acc: 0.4848 - val_f1: 0.2184\n",
      "Epoch 5/50\n",
      "3837/3837 [==============================] - 18s 5ms/step - loss: 2779.5442 - acc: 0.5298 - f1: 0.3990 - val_loss: 2779.6117 - val_acc: 0.4918 - val_f1: 0.3542\n",
      "Epoch 6/50\n",
      "3837/3837 [==============================] - 17s 5ms/step - loss: 2779.5107 - acc: 0.5549 - f1: 0.4490 - val_loss: 2779.6922 - val_acc: 0.4778 - val_f1: 0.3971\n",
      "Epoch 7/50\n",
      "3837/3837 [==============================] - 17s 4ms/step - loss: 2779.4939 - acc: 0.5736 - f1: 0.4904 - val_loss: 2779.5927 - val_acc: 0.5222 - val_f1: 0.4128\n",
      "Epoch 8/50\n",
      "3837/3837 [==============================] - 17s 5ms/step - loss: 2779.4441 - acc: 0.5932 - f1: 0.5441 - val_loss: 2779.6225 - val_acc: 0.5386 - val_f1: 0.4823\n",
      "Epoch 9/50\n",
      "3837/3837 [==============================] - 18s 5ms/step - loss: 2779.4104 - acc: 0.6171 - f1: 0.5762 - val_loss: 2779.5837 - val_acc: 0.5129 - val_f1: 0.4833\n",
      "Epoch 10/50\n",
      "3837/3837 [==============================] - 18s 5ms/step - loss: 2779.3748 - acc: 0.6424 - f1: 0.6102 - val_loss: 2779.5785 - val_acc: 0.5246 - val_f1: 0.4884\n",
      "Epoch 11/50\n",
      "3837/3837 [==============================] - 17s 5ms/step - loss: 2779.3336 - acc: 0.6818 - f1: 0.6545 - val_loss: 2779.5945 - val_acc: 0.5059 - val_f1: 0.4616\n",
      "Epoch 12/50\n",
      "3837/3837 [==============================] - 17s 5ms/step - loss: 2779.3164 - acc: 0.6839 - f1: 0.6679 - val_loss: 2779.4921 - val_acc: 0.5550 - val_f1: 0.4665\n",
      "Epoch 13/50\n",
      "3837/3837 [==============================] - 17s 4ms/step - loss: 2779.3153 - acc: 0.6982 - f1: 0.6843 - val_loss: 2779.6356 - val_acc: 0.5480 - val_f1: 0.5288\n",
      "Epoch 14/50\n",
      "3837/3837 [==============================] - 17s 5ms/step - loss: 2779.2680 - acc: 0.7232 - f1: 0.7066 - val_loss: 2779.7694 - val_acc: 0.5105 - val_f1: 0.4885\n",
      "Epoch 15/50\n",
      "3837/3837 [==============================] - 18s 5ms/step - loss: 2779.2400 - acc: 0.7407 - f1: 0.7352 - val_loss: 2779.6487 - val_acc: 0.5176 - val_f1: 0.5017\n",
      "Epoch 16/50\n",
      "3837/3837 [==============================] - 18s 5ms/step - loss: 2779.2406 - acc: 0.7352 - f1: 0.7263 - val_loss: 2779.6183 - val_acc: 0.5340 - val_f1: 0.5043\n",
      "Epoch 17/50\n",
      "3837/3837 [==============================] - 18s 5ms/step - loss: 2779.1886 - acc: 0.7649 - f1: 0.7612 - val_loss: 2779.7316 - val_acc: 0.5293 - val_f1: 0.5162\n",
      "Epoch 18/50\n",
      "3837/3837 [==============================] - 18s 5ms/step - loss: 2779.1657 - acc: 0.7839 - f1: 0.7783 - val_loss: 2779.6754 - val_acc: 0.5480 - val_f1: 0.5324\n",
      "Epoch 19/50\n",
      "3837/3837 [==============================] - 18s 5ms/step - loss: 2779.1498 - acc: 0.7892 - f1: 0.7853 - val_loss: 2779.6597 - val_acc: 0.5293 - val_f1: 0.5220\n",
      "Epoch 20/50\n",
      "3837/3837 [==============================] - 19s 5ms/step - loss: 2779.1260 - acc: 0.8024 - f1: 0.7961 - val_loss: 2779.6392 - val_acc: 0.5316 - val_f1: 0.5174\n",
      "Epoch 21/50\n",
      "3837/3837 [==============================] - 19s 5ms/step - loss: 2779.0931 - acc: 0.8199 - f1: 0.8163 - val_loss: 2779.6766 - val_acc: 0.5410 - val_f1: 0.5332\n",
      "Epoch 22/50\n",
      "3837/3837 [==============================] - 19s 5ms/step - loss: 2779.0885 - acc: 0.8215 - f1: 0.8189 - val_loss: 2779.6347 - val_acc: 0.5621 - val_f1: 0.5452\n",
      "Epoch 23/50\n",
      "3837/3837 [==============================] - 20s 5ms/step - loss: 2779.0558 - acc: 0.8389 - f1: 0.8386 - val_loss: 2779.8127 - val_acc: 0.5527 - val_f1: 0.5441\n",
      "Epoch 24/50\n",
      "3837/3837 [==============================] - 20s 5ms/step - loss: 2779.0513 - acc: 0.8350 - f1: 0.8325 - val_loss: 2779.6860 - val_acc: 0.5457 - val_f1: 0.5459\n",
      "Epoch 25/50\n",
      "3837/3837 [==============================] - 20s 5ms/step - loss: 2779.0265 - acc: 0.8517 - f1: 0.8496 - val_loss: 2779.8010 - val_acc: 0.5527 - val_f1: 0.5416\n",
      "Epoch 26/50\n",
      "3837/3837 [==============================] - 20s 5ms/step - loss: 2779.0195 - acc: 0.8572 - f1: 0.8569 - val_loss: 2779.6776 - val_acc: 0.5457 - val_f1: 0.5533\n",
      "Epoch 27/50\n",
      "3837/3837 [==============================] - 19s 5ms/step - loss: 2778.9918 - acc: 0.8723 - f1: 0.8693 - val_loss: 2779.7718 - val_acc: 0.5457 - val_f1: 0.5462\n",
      "Epoch 28/50\n",
      "3837/3837 [==============================] - 18s 5ms/step - loss: 2778.9790 - acc: 0.8799 - f1: 0.8758 - val_loss: 2779.7135 - val_acc: 0.5550 - val_f1: 0.5534\n",
      "Epoch 29/50\n",
      "3837/3837 [==============================] - 18s 5ms/step - loss: 2778.9448 - acc: 0.8918 - f1: 0.8901 - val_loss: 2779.9082 - val_acc: 0.5527 - val_f1: 0.5410\n",
      "Epoch 30/50\n",
      "3837/3837 [==============================] - 18s 5ms/step - loss: 2778.9488 - acc: 0.8861 - f1: 0.8872 - val_loss: 2779.7708 - val_acc: 0.5574 - val_f1: 0.5534\n",
      "Epoch 31/50\n",
      "3837/3837 [==============================] - 17s 4ms/step - loss: 2778.9251 - acc: 0.8997 - f1: 0.8996 - val_loss: 2779.8753 - val_acc: 0.5504 - val_f1: 0.5361\n",
      "Epoch 32/50\n",
      "3837/3837 [==============================] - 17s 5ms/step - loss: 2778.9161 - acc: 0.9064 - f1: 0.9066 - val_loss: 2779.9919 - val_acc: 0.5316 - val_f1: 0.5213\n",
      "Epoch 33/50\n",
      "3837/3837 [==============================] - 17s 5ms/step - loss: 2778.9116 - acc: 0.9057 - f1: 0.9041 - val_loss: 2779.7680 - val_acc: 0.5433 - val_f1: 0.5389\n",
      "Epoch 34/50\n",
      "3837/3837 [==============================] - 18s 5ms/step - loss: 2778.8768 - acc: 0.9208 - f1: 0.9211 - val_loss: 2779.8861 - val_acc: 0.5644 - val_f1: 0.5558\n",
      "Epoch 35/50\n",
      "3837/3837 [==============================] - 17s 5ms/step - loss: 2778.8571 - acc: 0.9328 - f1: 0.9315 - val_loss: 2779.8787 - val_acc: 0.5855 - val_f1: 0.5735\n",
      "Epoch 36/50\n",
      "3837/3837 [==============================] - 17s 5ms/step - loss: 2778.8533 - acc: 0.9343 - f1: 0.9356 - val_loss: 2780.0203 - val_acc: 0.5457 - val_f1: 0.5377\n",
      "Epoch 37/50\n",
      "3837/3837 [==============================] - 17s 5ms/step - loss: 2778.8409 - acc: 0.9361 - f1: 0.9369 - val_loss: 2779.9072 - val_acc: 0.5574 - val_f1: 0.5551\n",
      "Epoch 38/50\n",
      "3837/3837 [==============================] - 17s 5ms/step - loss: 2778.8239 - acc: 0.9468 - f1: 0.9461 - val_loss: 2780.1927 - val_acc: 0.5574 - val_f1: 0.5498\n",
      "Epoch 39/50\n",
      "3837/3837 [==============================] - 17s 4ms/step - loss: 2778.8113 - acc: 0.9437 - f1: 0.9434 - val_loss: 2780.0432 - val_acc: 0.5785 - val_f1: 0.5753\n",
      "Epoch 40/50\n",
      "3837/3837 [==============================] - 17s 5ms/step - loss: 2778.8086 - acc: 0.9513 - f1: 0.9510 - val_loss: 2780.1598 - val_acc: 0.5761 - val_f1: 0.5664\n",
      "Epoch 41/50\n",
      "3837/3837 [==============================] - 17s 4ms/step - loss: 2778.7810 - acc: 0.9588 - f1: 0.9597 - val_loss: 2780.1352 - val_acc: 0.5527 - val_f1: 0.5479\n",
      "Epoch 42/50\n",
      "3837/3837 [==============================] - 17s 5ms/step - loss: 2778.7994 - acc: 0.9526 - f1: 0.9527 - val_loss: 2780.1391 - val_acc: 0.5433 - val_f1: 0.5245\n",
      "Epoch 43/50\n",
      "3837/3837 [==============================] - 18s 5ms/step - loss: 2778.7829 - acc: 0.9617 - f1: 0.9606 - val_loss: 2780.3517 - val_acc: 0.5738 - val_f1: 0.5672\n",
      "Epoch 44/50\n",
      "3837/3837 [==============================] - 17s 5ms/step - loss: 2778.7580 - acc: 0.9700 - f1: 0.9691 - val_loss: 2780.2563 - val_acc: 0.5714 - val_f1: 0.5603\n",
      "Epoch 45/50\n",
      "3837/3837 [==============================] - 17s 5ms/step - loss: 2778.7659 - acc: 0.9627 - f1: 0.9628 - val_loss: 2780.1257 - val_acc: 0.5761 - val_f1: 0.5695\n",
      "Epoch 46/50\n",
      "3837/3837 [==============================] - 18s 5ms/step - loss: 2778.7643 - acc: 0.9630 - f1: 0.9636 - val_loss: 2780.2128 - val_acc: 0.5808 - val_f1: 0.5688\n",
      "Epoch 47/50\n",
      "3837/3837 [==============================] - 17s 5ms/step - loss: 2778.7427 - acc: 0.9732 - f1: 0.9724 - val_loss: 2780.1994 - val_acc: 0.5855 - val_f1: 0.5759\n",
      "Epoch 48/50\n"
     ]
    },
    {
     "name": "stdout",
     "output_type": "stream",
     "text": [
      "3837/3837 [==============================] - 17s 5ms/step - loss: 2778.7378 - acc: 0.9734 - f1: 0.9738 - val_loss: 2780.1098 - val_acc: 0.5855 - val_f1: 0.5759\n",
      "Epoch 49/50\n",
      "3837/3837 [==============================] - 17s 5ms/step - loss: 2778.7363 - acc: 0.9742 - f1: 0.9745 - val_loss: 2780.1983 - val_acc: 0.5855 - val_f1: 0.5806\n",
      "Epoch 50/50\n",
      "3837/3837 [==============================] - 18s 5ms/step - loss: 2778.7308 - acc: 0.9755 - f1: 0.9759 - val_loss: 2780.1241 - val_acc: 0.5831 - val_f1: 0.5781\n"
     ]
    }
   ],
   "source": [
    "MaxEpochs =50\n",
    "batchsize =32\n",
    "validation_split_rate = 0.1\n",
    "history=model.fit([X_train,pos_train1,pos_train2], y_train,validation_split=validation_split_rate ,epochs=MaxEpochs, batch_size=batchsize,verbose=1)\n",
    "\n"
   ]
  },
  {
   "cell_type": "code",
   "execution_count": 12,
   "metadata": {},
   "outputs": [
    {
     "data": {
      "image/png": "[encoded data removed]",
      "text/plain": [
       "<Figure size 1000x300 with 2 Axes>"
      ]
     },
     "metadata": {},
     "output_type": "display_data"
    }
   ],
   "source": [
    "import matplotlib.pyplot as plt\n",
    "\n",
    "# Training & Validation accuracy\n",
    "train_loss = history.history['loss']\n",
    "val_loss = history.history['val_loss']\n",
    "train_acc = history.history['acc']\n",
    "val_acc = history.history['val_acc']\n",
    "epochs = len(train_loss)\n",
    "\n",
    "xc = range(epochs)\n",
    "\n",
    "plt.figure(figsize=(10, 3))\n",
    "\n",
    "# Loss subplot\n",
    "plt.subplot(1, 2, 1)\n",
    "plt.plot(xc, train_loss, label='Training Loss')\n",
    "plt.plot(xc, val_loss, label='Validation Loss')\n",
    "plt.xlabel('Number of Epochs', fontsize=10)\n",
    "plt.ylabel('Loss', fontsize=10)\n",
    "plt.title('Training and Validation Loss', fontsize=12)\n",
    "plt.legend(fontsize=8)\n",
    "plt.grid(True)\n",
    "\n",
    "# Accuracy subplot\n",
    "plt.subplot(1, 2, 2)\n",
    "plt.plot(xc, train_acc, label='Training Accuracy')\n",
    "plt.plot(xc, val_acc, label='Validation Accuracy')\n",
    "plt.xlabel('Number of Epochs', fontsize=10)\n",
    "plt.ylabel('Accuracy', fontsize=10)\n",
    "plt.title('Training and Validation Accuracy', fontsize=12)\n",
    "plt.legend(fontsize=8, loc='lower right')  # Change position to lower right\n",
    "plt.grid(True)\n",
    "\n",
    "plt.tight_layout()\n",
    "plt.show()\n"
   ]
  },
  {
   "cell_type": "code",
   "execution_count": 13,
   "metadata": {},
   "outputs": [
    {
     "name": "stdout",
     "output_type": "stream",
     "text": [
      "Training Classification Report:\n",
      "              precision    recall  f1-score   support\n",
      "\n",
      "           0       0.95      0.95      0.95      2023\n",
      "           1       0.93      0.95      0.94      1468\n",
      "           2       0.94      0.91      0.92       773\n",
      "\n",
      "    accuracy                           0.94      4264\n",
      "   macro avg       0.94      0.94      0.94      4264\n",
      "weighted avg       0.94      0.94      0.94      4264\n",
      "\n",
      "Training Accuracy: 94.23%\n",
      "Training Precision: 93.98%\n",
      "Training Recall: 93.68%\n",
      "Training F1 Score: 93.82%\n"
     ]
    }
   ],
   "source": [
    "import torch\n",
    "from sklearn.metrics import accuracy_score, classification_report, precision_recall_fscore_support\n",
    "\n",
    "# Predict on the training dataset\n",
    "train_predicted = np.argmax(model.predict([X_train, pos_train1, pos_train2]), axis=1)\n",
    "y_train_to_label = np.argmax(y_train, axis=1)\n",
    "\n",
    "# Calculate accuracy, precision, recall, and F1-score for the training data\n",
    "train_accuracy = accuracy_score(y_train_to_label, train_predicted)\n",
    "train_prec, train_reca, train_fscore, _ = precision_recall_fscore_support(y_train_to_label, train_predicted, average=param)\n",
    "\n",
    "# Print the classification report for the training data\n",
    "print(\"Training Classification Report:\")\n",
    "print(classification_report(y_train_to_label, train_predicted))\n",
    "\n",
    "# Print the precision, recall, and F1-score for the training data\n",
    "print(\"Training Accuracy: {:.2f}%\".format(train_accuracy * 100))\n",
    "print(\"Training Precision: {:.2f}%\".format(train_prec * 100))\n",
    "print(\"Training Recall: {:.2f}%\".format(train_reca * 100))\n",
    "print(\"Training F1 Score: {:.2f}%\".format(train_fscore * 100))\n"
   ]
  },
  {
   "cell_type": "code",
   "execution_count": 19,
   "metadata": {},
   "outputs": [
    {
     "name": "stdout",
     "output_type": "stream",
     "text": [
      "              precision    recall  f1-score   support\n",
      "\n",
      "           0     0.7935    0.8058    0.7996       515\n",
      "           1     0.7486    0.7573    0.7529       342\n",
      "           2     0.7868    0.7416    0.7635       209\n",
      "\n",
      "    accuracy                         0.7777      1066\n",
      "   macro avg     0.7763    0.7683    0.7720      1066\n",
      "weighted avg     0.7778    0.7777    0.7776      1066\n",
      "\n",
      " Precision:77.63% Recall:76.83% Fscore:77.20% \n"
     ]
    }
   ],
   "source": [
    "predicted = np.argmax(model.predict([X_test,pos_test1,pos_test2]), axis=1)\n",
    "y_test_to_label = np.argmax(y_test, axis=1)\n",
    "prec, reca, fscore, sup = precision_recall_fscore_support(y_test_to_label, predicted, average=param)\n",
    "# Generate the classification report as a dictionary\n",
    "report_dict = classification_report(y_test_to_label, predicted, output_dict=True)\n",
    "\n",
    "# Create a new dictionary to hold the formatted values\n",
    "formatted_report_dict = {}\n",
    "\n",
    "# Iterate over the items in the report dictionary\n",
    "for key, value in report_dict.items():\n",
    "    if isinstance(value, dict):\n",
    "        # Format the nested dictionary values\n",
    "        formatted_report_dict[key] = {sub_key: f\"{sub_value:.4f}\" for sub_key, sub_value in value.items()}\n",
    "    else:\n",
    "        # Format the top-level dictionary values\n",
    "        formatted_report_dict[key] = f\"{value:.4f}\"\n",
    "\n",
    "# Create a string representation of the formatted dictionary\n",
    "formatted_report_str = classification_report(y_test_to_label, predicted, digits=4)\n",
    "\n",
    "# Print the formatted classification report\n",
    "print(formatted_report_str)\n",
    "print(\" Precision:{:.2f}% Recall:{:.2f}% Fscore:{:.2f}% \".format(prec*100, reca*100, fscore*100))"
   ]
  },
  {
   "cell_type": "code",
   "execution_count": 20,
   "metadata": {},
   "outputs": [
    {
     "data": {
      "image/png": "[encoded data removed]",
      "text/plain": [
       "<Figure size 1000x700 with 2 Axes>"
      ]
     },
     "metadata": {},
     "output_type": "display_data"
    },
    {
     "name": "stdout",
     "output_type": "stream",
     "text": [
      " Precision:77.63% Recall:76.83% Fscore:77.20% \n"
     ]
    }
   ],
   "source": [
    "import numpy as np\n",
    "import matplotlib.pyplot as plt\n",
    "import seaborn as sns\n",
    "from sklearn.metrics import classification_report, confusion_matrix, precision_recall_fscore_support\n",
    "from sklearn.model_selection import StratifiedKFold\n",
    "# Calculate and visualize the confusion matrix\n",
    "cm = confusion_matrix(y_test_to_label, predicted)\n",
    "plt.figure(figsize=(10, 7))\n",
    "sns.heatmap(cm, annot=True, fmt='d', cmap='Blues', xticklabels=['0', '1','2'], yticklabels=['0', '1','2'])\n",
    "plt.xlabel('Predicted')\n",
    "plt.ylabel('Actual')\n",
    "plt.title('Confusion Matrix')\n",
    "plt.show()\n",
    "\n",
    "# Print precision, recall, and f-score\n",
    "prec, reca, fscore, sup = precision_recall_fscore_support(y_test_to_label, predicted, average=param)\n",
    "print(\" Precision:{:.2f}% Recall:{:.2f}% Fscore:{:.2f}% \".format(prec*100, reca*100, fscore*100))"
   ]
  },
  {
   "cell_type": "code",
   "execution_count": null,
   "metadata": {},
   "outputs": [],
   "source": []
  }
 ],
 "metadata": {
  "kernelspec": {
   "display_name": "Python 3 (ipykernel)",
   "language": "python",
   "name": "python3"
  },
  "language_info": {
   "codemirror_mode": {
    "name": "ipython",
    "version": 3
   },
   "file_extension": ".py",
   "mimetype": "text/x-python",
   "name": "python",
   "nbconvert_exporter": "python",
   "pygments_lexer": "ipython3",
   "version": "3.7.16"
  }
 },
 "nbformat": 4,
 "nbformat_minor": 2
}
