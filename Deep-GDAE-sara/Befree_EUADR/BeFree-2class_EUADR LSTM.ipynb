{
 "cells": [
  {
   "cell_type": "markdown",
   "metadata": {},
   "source": [
    "# Evaluation using the BeFree corpus \n",
    "\n",
    "### EUADR dataset\n",
    "The EU-ADR dataset contains annotations on drugs, diseases, genes and proteins, and associations between them. In this study, we used only GDAs to evaluate the method. Each association is classified according to its level of certainty as positive association (PA), negative association (NA), speculative association (SA); or false association (FA). The EU-ADR corpus is based on 100 MEDLINE abstracts for each association set, and its annotation was conducted by three experts. \n"
   ]
  },
  {
   "cell_type": "markdown",
   "metadata": {},
   "source": [
    "#  -------------------------------------------------------------------------------------------"
   ]
  },
  {
   "cell_type": "markdown",
   "metadata": {},
   "source": [
    "# imports"
   ]
  },
  {
   "cell_type": "code",
   "execution_count": 1,
   "metadata": {},
   "outputs": [
    {
     "name": "stderr",
     "output_type": "stream",
     "text": [
      "Using TensorFlow backend.\n"
     ]
    }
   ],
   "source": [
    "import tensorflow as tf\n",
    "from keras.models import load_model\n",
    "from keras.callbacks import ModelCheckpoint, EarlyStopping\n",
    "from keras_tqdm import TQDMNotebookCallback\n",
    "import numpy as np\n",
    "from keras_tqdm import TQDMNotebookCallback\n",
    "import nltk\n",
    "import xml.etree.ElementTree as ET\n",
    "import pandas as pd\n",
    "import os\n",
    "import string\n",
    "from nltk.tokenize import TreebankWordTokenizer\n",
    "from numpy.random import random_sample\n",
    "import re\n",
    "import pickle\n",
    "from sklearn.metrics import accuracy_score\n",
    "from sklearn.metrics import classification_report\n",
    "from keras.layers import Embedding, Flatten,LSTM\n",
    "from keras.layers.convolutional import Conv2D, MaxPooling2D\n",
    "from tensorflow.keras.utils import to_categorical\n",
    "from keras.models import Sequential, Model\n",
    "from keras.layers import Dense, Dropout, Activation,  Input, merge,Conv1D,MaxPooling1D,GlobalMaxPooling1D,Convolution1D\n",
    "from keras import regularizers\n",
    "from sklearn.metrics import precision_recall_fscore_support\n",
    "from sklearn.model_selection import StratifiedKFold\n",
    "import matplotlib.pyplot as plt\n",
    "from keras.layers import Concatenate, concatenate\n",
    "from keras import backend as K\n",
    "from keras.layers import multiply\n",
    "from keras.layers import merge\n",
    "from keras.layers.core import *\n",
    "from keras.layers.recurrent import LSTM\n",
    "from keras.models import *"
   ]
  },
  {
   "cell_type": "markdown",
   "metadata": {},
   "source": [
    "###  Define Callback functions to generate Mesures"
   ]
  },
  {
   "cell_type": "code",
   "execution_count": 2,
   "metadata": {},
   "outputs": [],
   "source": [
    "from keras import backend as K\n",
    "\n",
    "def f1(y_true, y_pred):\n",
    "    def recall(y_true, y_pred):\n",
    "        true_positives = K.sum(K.round(K.clip(y_true * y_pred, 0, 1)))\n",
    "        possible_positives = K.sum(K.round(K.clip(y_true, 0, 1)))\n",
    "        recall = true_positives / (possible_positives + K.epsilon())\n",
    "        return recall\n",
    "\n",
    "    def precision(y_true, y_pred):\n",
    "        true_positives = K.sum(K.round(K.clip(y_true * y_pred, 0, 1)))\n",
    "        predicted_positives = K.sum(K.round(K.clip(y_pred, 0, 1)))\n",
    "        precision = true_positives / (predicted_positives + K.epsilon())\n",
    "        return precision\n",
    "    precision = precision(y_true, y_pred)\n",
    "    recall = recall(y_true, y_pred)\n",
    "    return 2*((precision*recall)/(precision+recall+K.epsilon()))\n"
   ]
  },
  {
   "cell_type": "markdown",
   "metadata": {},
   "source": [
    "# Experiments to reproduce the results of Table 8 "
   ]
  },
  {
   "cell_type": "markdown",
   "metadata": {},
   "source": [
    "### Load Prerocssed Data"
   ]
  },
  {
   "cell_type": "code",
   "execution_count": 3,
   "metadata": {},
   "outputs": [
    {
     "name": "stdout",
     "output_type": "stream",
     "text": [
      "W_train 355\n",
      "d1_train 355\n",
      "d2_train 355\n",
      "Y_train 355\n",
      "Tr_word_list 355\n",
      "word_vectors 1355\n",
      "word_dict 1355\n",
      "d1_dict 169\n",
      "d2_dict 171\n",
      "label_dict 4\n",
      "MAX_SEQUENCE_LENGTH 102\n"
     ]
    }
   ],
   "source": [
    "with open('../data/pickles/befree_EUADR_2class_PubMed-and-PMC-w2v.pickle', 'rb') as handle:        \n",
    "    \n",
    "    W_train = pickle.load(handle)\n",
    "    print(\"W_train\",len(W_train))\n",
    "    d1_train = pickle.load(handle)\n",
    "    print(\"d1_train\",len(d1_train))\n",
    "    d2_train = pickle.load(handle)\n",
    "    print(\"d2_train\",len(d2_train))\n",
    "    Y_train = pickle.load(handle)\n",
    "    print(\"Y_train\",len(d2_train))\n",
    "    Tr_word_list = pickle.load(handle)\n",
    "    print(\"Tr_word_list\",len(d2_train))\n",
    "    word_vectors = pickle.load(handle)\n",
    "    print(\"word_vectors\",len(word_vectors))\n",
    "    word_dict = pickle.load(handle)\n",
    "    print(\"word_dict\",len(word_dict))\n",
    "    d1_dict = pickle.load(handle)\n",
    "    print(\"d1_dict\",len(d1_dict))\n",
    "    d2_dict = pickle.load(handle)\n",
    "    print(\"d2_dict\",len(d2_dict))\n",
    "    label_dict = pickle.load(handle)\n",
    "    print(\"label_dict\",len(label_dict))\n",
    "    MAX_SEQUENCE_LENGTH = pickle.load(handle)\n",
    "    print(\"MAX_SEQUENCE_LENGTH\",MAX_SEQUENCE_LENGTH)\n"
   ]
  },
  {
   "cell_type": "markdown",
   "metadata": {},
   "source": [
    "### Create Position Embedding Vectors"
   ]
  },
  {
   "cell_type": "code",
   "execution_count": 4,
   "metadata": {},
   "outputs": [
    {
     "name": "stdout",
     "output_type": "stream",
     "text": [
      "Model: \"sequential_1\"\n",
      "_________________________________________________________________\n",
      "Layer (type)                 Output Shape              Param #   \n",
      "=================================================================\n",
      "Pos-Embd (TrigPosEmbedding)  (None, None, 20)          0         \n",
      "=================================================================\n",
      "Total params: 0\n",
      "Trainable params: 0\n",
      "Non-trainable params: 0\n",
      "_________________________________________________________________\n"
     ]
    },
    {
     "data": {
      "text/plain": [
       "(355, 102, 20)"
      ]
     },
     "execution_count": 4,
     "metadata": {},
     "output_type": "execute_result"
    }
   ],
   "source": [
    "import keras\n",
    "from keras_pos_embd import TrigPosEmbedding\n",
    "\n",
    "model = keras.models.Sequential()\n",
    "model.add(TrigPosEmbedding(\n",
    "    input_shape=(None,),\n",
    "    output_dim=20,                      # The dimension of embeddings.\n",
    "    mode=TrigPosEmbedding.MODE_EXPAND,  # Use `expand` mode\n",
    "    name='Pos-Embd',\n",
    "))\n",
    "model.compile('adam', keras.losses.mae, {})\n",
    "model.summary()\n",
    "\n",
    "d1_train_embedded=model.predict(d1_train)\n",
    "\n",
    "d1_train_embedded.shape\n",
    "\n",
    "d2_train_embedded=model.predict(d2_train)\n",
    "\n",
    "d2_train_embedded.shape"
   ]
  },
  {
   "cell_type": "markdown",
   "metadata": {},
   "source": [
    "### Prepare Word Embedding Layer"
   ]
  },
  {
   "cell_type": "code",
   "execution_count": 5,
   "metadata": {},
   "outputs": [
    {
     "name": "stdout",
     "output_type": "stream",
     "text": [
      "200\n",
      "1355\n"
     ]
    }
   ],
   "source": [
    "EMBEDDING_DIM=word_vectors.shape[1]\n",
    "embedding_matrix=word_vectors\n",
    "print(EMBEDDING_DIM)\n",
    "print(len(embedding_matrix))\n",
    "\n",
    "param='binary'\n",
    "\n",
    "def create_embedding_layer(l2_reg=0.01,use_pretrained=True,is_trainable=False):\n",
    "    \n",
    "    if use_pretrained:        \n",
    "        return Embedding(len(word_dict) ,EMBEDDING_DIM,weights=[embedding_matrix],input_length=MAX_SEQUENCE_LENGTH,trainable=is_trainable,embeddings_regularizer=regularizers.l2(l2_reg))\n",
    "    \n",
    "    else:    \n",
    "        return Embedding(len(word_dict) ,EMBEDDING_DIM,input_length=MAX_SEQUENCE_LENGTH)\n",
    "            \n",
    "    "
   ]
  },
  {
   "cell_type": "markdown",
   "metadata": {},
   "source": [
    "### Prepare Attention Mechanism"
   ]
  },
  {
   "cell_type": "code",
   "execution_count": 6,
   "metadata": {},
   "outputs": [],
   "source": [
    "INPUT_DIM = 2\n",
    "TIME_STEPS = MAX_SEQUENCE_LENGTH\n"
   ]
  },
  {
   "cell_type": "code",
   "execution_count": 7,
   "metadata": {},
   "outputs": [],
   "source": [
    "def attentionNew(inputs):\n",
    "    inputs = Lambda(lambda x: tf.keras.backend.sigmoid(x))(inputs)\n",
    "    input_dim = int(inputs.shape[2])\n",
    "    a = Permute((2, 1))(inputs)\n",
    "    a = Dense(TIME_STEPS, activation='softmax')(a)\n",
    "    a_probs = Permute((2, 1))(a)\n",
    "    output_attention_mul = multiply([inputs, a_probs])\n",
    "    output_attention_mul = Lambda(lambda x: tf.keras.backend.sigmoid(x))(output_attention_mul)\n",
    "    return output_attention_mul\n"
   ]
  },
  {
   "cell_type": "markdown",
   "metadata": {},
   "source": [
    "### Create the Model"
   ]
  },
  {
   "cell_type": "code",
   "execution_count": 8,
   "metadata": {},
   "outputs": [],
   "source": [
    "dropRate=0.1\n",
    "param='binary'\n",
    "def build_model_positionAttention():    \n",
    "\n",
    "    sequence_input = Input(shape=(MAX_SEQUENCE_LENGTH,), dtype='int32')\n",
    "    embedding_layer=create_embedding_layer(use_pretrained=True,is_trainable=False)\n",
    "    embedded_sequences = embedding_layer(sequence_input)\n",
    "\n",
    "    \n",
    "    pos_embedd_1=Input(shape=(MAX_SEQUENCE_LENGTH,20), dtype='float32')\n",
    "    pos_embedd_2=Input(shape=(MAX_SEQUENCE_LENGTH,20), dtype='float32')\n",
    "    \n",
    "    embedded_sequences = concatenate([embedded_sequences,pos_embedd_1,pos_embedd_2])\n",
    "    x = Conv1D(128, 7, activation='relu')(embedded_sequences)\n",
    "    x = MaxPooling1D(3)(x)\n",
    "    x = Dropout(0.5)(x)\n",
    "\n",
    "    x = Conv1D(64, 5, activation='relu')(x)\n",
    "    x = MaxPooling1D(3)(x)\n",
    "    x = Dropout(0.5)(x)\n",
    "    conv_sequence_7=GlobalMaxPooling1D()(x)    #x = Flatten()(x)\n",
    "\n",
    "\n",
    "\n",
    "    \n",
    "    forward = LSTM(100, recurrent_dropout=0.05)(embedded_sequences)\n",
    "    backward = LSTM(100, go_backwards=True,recurrent_dropout=0.05)(embedded_sequences)\n",
    "    lstm_sequence = concatenate([forward,backward])\n",
    "    \n",
    "    merge = concatenate([conv_sequence_7,lstm_sequence])\n",
    "    \n",
    "\n",
    "    \n",
    "    x = Dropout(dropRate)(x)\n",
    "    x = Dense(256, activation='relu', kernel_regularizer=regularizers.l2(0.05))(merge)\n",
    "    x = Dropout(0.1)(x)\n",
    "    preds = Dense(2, activation='softmax')(x)\n",
    "    model = Model(inputs=[sequence_input, pos_embedd_1,pos_embedd_2],outputs=preds)\n",
    "    model.compile(loss='binary_crossentropy',optimizer='adam',metrics=['acc',f1])\n",
    "    \n",
    "    #model.summary()\n",
    "    return model\n",
    "    "
   ]
  },
  {
   "cell_type": "code",
   "execution_count": 9,
   "metadata": {},
   "outputs": [
    {
     "name": "stdout",
     "output_type": "stream",
     "text": [
      "Model: \"model_1\"\n",
      "__________________________________________________________________________________________________\n",
      "Layer (type)                    Output Shape         Param #     Connected to                     \n",
      "==================================================================================================\n",
      "input_1 (InputLayer)            (None, 102)          0                                            \n",
      "__________________________________________________________________________________________________\n",
      "embedding_1 (Embedding)         (None, 102, 200)     271000      input_1[0][0]                    \n",
      "__________________________________________________________________________________________________\n",
      "input_2 (InputLayer)            (None, 102, 20)      0                                            \n",
      "__________________________________________________________________________________________________\n",
      "input_3 (InputLayer)            (None, 102, 20)      0                                            \n",
      "__________________________________________________________________________________________________\n",
      "concatenate_1 (Concatenate)     (None, 102, 240)     0           embedding_1[0][0]                \n",
      "                                                                 input_2[0][0]                    \n",
      "                                                                 input_3[0][0]                    \n",
      "__________________________________________________________________________________________________\n",
      "conv1d_1 (Conv1D)               (None, 96, 128)      215168      concatenate_1[0][0]              \n",
      "__________________________________________________________________________________________________\n",
      "max_pooling1d_1 (MaxPooling1D)  (None, 32, 128)      0           conv1d_1[0][0]                   \n",
      "__________________________________________________________________________________________________\n",
      "dropout_1 (Dropout)             (None, 32, 128)      0           max_pooling1d_1[0][0]            \n",
      "__________________________________________________________________________________________________\n",
      "conv1d_2 (Conv1D)               (None, 28, 64)       41024       dropout_1[0][0]                  \n",
      "__________________________________________________________________________________________________\n",
      "max_pooling1d_2 (MaxPooling1D)  (None, 9, 64)        0           conv1d_2[0][0]                   \n",
      "__________________________________________________________________________________________________\n",
      "dropout_2 (Dropout)             (None, 9, 64)        0           max_pooling1d_2[0][0]            \n",
      "__________________________________________________________________________________________________\n",
      "lstm_1 (LSTM)                   (None, 100)          136400      concatenate_1[0][0]              \n",
      "__________________________________________________________________________________________________\n",
      "lstm_2 (LSTM)                   (None, 100)          136400      concatenate_1[0][0]              \n",
      "__________________________________________________________________________________________________\n",
      "global_max_pooling1d_1 (GlobalM (None, 64)           0           dropout_2[0][0]                  \n",
      "__________________________________________________________________________________________________\n",
      "concatenate_2 (Concatenate)     (None, 200)          0           lstm_1[0][0]                     \n",
      "                                                                 lstm_2[0][0]                     \n",
      "__________________________________________________________________________________________________\n",
      "concatenate_3 (Concatenate)     (None, 264)          0           global_max_pooling1d_1[0][0]     \n",
      "                                                                 concatenate_2[0][0]              \n",
      "__________________________________________________________________________________________________\n",
      "dense_1 (Dense)                 (None, 256)          67840       concatenate_3[0][0]              \n",
      "__________________________________________________________________________________________________\n",
      "dropout_4 (Dropout)             (None, 256)          0           dense_1[0][0]                    \n",
      "__________________________________________________________________________________________________\n",
      "dense_2 (Dense)                 (None, 2)            514         dropout_4[0][0]                  \n",
      "==================================================================================================\n",
      "Total params: 868,346\n",
      "Trainable params: 597,346\n",
      "Non-trainable params: 271,000\n",
      "__________________________________________________________________________________________________\n"
     ]
    }
   ],
   "source": [
    "model = build_model_positionAttention()\n",
    "model.summary()"
   ]
  },
  {
   "cell_type": "code",
   "execution_count": null,
   "metadata": {},
   "outputs": [],
   "source": []
  },
  {
   "cell_type": "markdown",
   "metadata": {},
   "source": [
    "### Run the Evaluation using 10 fold Cross Validation  "
   ]
  },
  {
   "cell_type": "code",
   "execution_count": 10,
   "metadata": {},
   "outputs": [
    {
     "name": "stdout",
     "output_type": "stream",
     "text": [
      "TrainRate:80.00% testRate:20.00% validation:8.00%  \n"
     ]
    }
   ],
   "source": [
    "\n",
    "\n",
    "validation_split_rate=0.1\n",
    "skf = StratifiedKFold(n_splits=5, random_state=None)\n",
    "Y = [np.argmax(y, axis=None, out=None) for y in Y_train]\n",
    "#print(len(Y))\n",
    "all_histories=[]\n",
    "for trI, teI in skf.split(W_train,Y): \n",
    "    train_index =trI\n",
    "    test_index  =teI\n",
    "trainRate = (len(train_index)/len(Y))*100   \n",
    "testRate = (len(test_index)/len(Y))*100\n",
    "print (\"TrainRate:{:.2f}% testRate:{:.2f}% validation:{:.2f}%  \".format(trainRate,testRate, trainRate*validation_split_rate))\n",
    "#print(train_index, test_index)\n",
    "X_train, X_test = W_train[train_index], W_train[test_index] \n",
    "pos_train1, pos_test1 = d1_train_embedded[train_index], d1_train_embedded[test_index] \n",
    "pos_train2, pos_test2 = d2_train_embedded[train_index], d2_train_embedded[test_index] \n",
    "y_train, y_test = Y_train[train_index], Y_train[test_index]\n",
    "\n",
    "\n",
    "\n",
    "# # Saving the training data split as a pickle file\n",
    "# training_data = {\n",
    "#     'X_train': X_train,\n",
    "#     'pos_train1': pos_train1,\n",
    "#     'pos_train2': pos_train2,\n",
    "#     'y_train': y_train\n",
    "# }\n",
    "\n",
    "# with open('training_data.pkl', 'wb') as f:\n",
    "#     pickle.dump(training_data, f)\n",
    "\n",
    "# # Saving the testing data split as a pickle file\n",
    "# testing_data = {\n",
    "#     'X_test': X_test,\n",
    "#     'pos_test1': pos_test1,\n",
    "#     'pos_test2': pos_test2,\n",
    "#     'y_test': y_test\n",
    "# }\n",
    "\n",
    "# with open('testing_data.pkl', 'wb') as f:\n",
    "#     pickle.dump(testing_data, f)\n",
    "    \n",
    "\n"
   ]
  },
  {
   "cell_type": "code",
   "execution_count": 11,
   "metadata": {},
   "outputs": [
    {
     "name": "stdout",
     "output_type": "stream",
     "text": [
      "(284, 102)\n"
     ]
    }
   ],
   "source": [
    "# Load the training data from the pickle file\n",
    "with open('training_data.pkl', 'rb') as f:\n",
    "    train_data = pickle.load(f)\n",
    "\n",
    "# Load the testing data from the pickle file\n",
    "with open('testing_data.pkl', 'rb') as f:\n",
    "    test_data = pickle.load(f)\n",
    "\n",
    "# Extract data from the loaded dictionaries\n",
    "X_train = train_data['X_train']\n",
    "pos_train1 = train_data['pos_train1']\n",
    "pos_train2 = train_data['pos_train2']\n",
    "y_train = train_data['y_train']\n",
    "\n",
    "\n",
    "X_test = test_data['X_test']\n",
    "pos_test1 = test_data['pos_test1']\n",
    "pos_test2 = test_data['pos_test2']\n",
    "y_test = test_data['y_test']\n",
    "print(X_train.shape)"
   ]
  },
  {
   "cell_type": "code",
   "execution_count": 12,
   "metadata": {},
   "outputs": [
    {
     "name": "stdout",
     "output_type": "stream",
     "text": [
      "Train on 255 samples, validate on 29 samples\n",
      "Epoch 1/50\n",
      "255/255 [==============================] - 522s 2s/step - loss: 586.8758 - acc: 0.6235 - f1: 0.6226 - val_loss: 585.3108 - val_acc: 0.0690 - val_f1: 0.0690\n",
      "Epoch 2/50\n",
      "255/255 [==============================] - 18s 70ms/step - loss: 584.6866 - acc: 0.4510 - f1: 0.4512 - val_loss: 582.9426 - val_acc: 0.9310 - val_f1: 0.9310\n",
      "Epoch 3/50\n",
      "255/255 [==============================] - 47s 186ms/step - loss: 582.7049 - acc: 0.6314 - f1: 0.6307 - val_loss: 581.7048 - val_acc: 0.8621 - val_f1: 0.8621\n",
      "Epoch 4/50\n",
      "255/255 [==============================] - 29s 115ms/step - loss: 581.2989 - acc: 0.4706 - f1: 0.4714 - val_loss: 580.2935 - val_acc: 0.9310 - val_f1: 0.9310\n",
      "Epoch 5/50\n",
      "255/255 [==============================] - 55s 215ms/step - loss: 580.0127 - acc: 0.6588 - f1: 0.6589 - val_loss: 579.2651 - val_acc: 0.9310 - val_f1: 0.9310\n",
      "Epoch 6/50\n",
      "255/255 [==============================] - 28s 110ms/step - loss: 579.0379 - acc: 0.6157 - f1: 0.6154 - val_loss: 578.3752 - val_acc: 0.9310 - val_f1: 0.9310\n",
      "Epoch 7/50\n",
      "255/255 [==============================] - 23s 89ms/step - loss: 578.1911 - acc: 0.6549 - f1: 0.6547 - val_loss: 577.6010 - val_acc: 0.9310 - val_f1: 0.9310\n",
      "Epoch 8/50\n",
      "255/255 [==============================] - 5s 21ms/step - loss: 577.5770 - acc: 0.6314 - f1: 0.6307 - val_loss: 577.0852 - val_acc: 0.9310 - val_f1: 0.9310\n",
      "Epoch 9/50\n",
      "255/255 [==============================] - 2s 8ms/step - loss: 577.0397 - acc: 0.6314 - f1: 0.6313 - val_loss: 576.6284 - val_acc: 0.9310 - val_f1: 0.9310\n",
      "Epoch 10/50\n",
      "255/255 [==============================] - 2s 8ms/step - loss: 576.6443 - acc: 0.6745 - f1: 0.6738 - val_loss: 576.3329 - val_acc: 0.8621 - val_f1: 0.8621\n",
      "Epoch 11/50\n",
      "255/255 [==============================] - 2s 8ms/step - loss: 576.2826 - acc: 0.6745 - f1: 0.6741 - val_loss: 575.8536 - val_acc: 0.9310 - val_f1: 0.9310\n",
      "Epoch 12/50\n",
      "255/255 [==============================] - 2s 6ms/step - loss: 576.1141 - acc: 0.6392 - f1: 0.6394 - val_loss: 575.8679 - val_acc: 0.8621 - val_f1: 0.8621\n",
      "Epoch 13/50\n",
      "255/255 [==============================] - 2s 7ms/step - loss: 575.8180 - acc: 0.7020 - f1: 0.7016 - val_loss: 575.5275 - val_acc: 0.8966 - val_f1: 0.8966\n",
      "Epoch 14/50\n",
      "255/255 [==============================] - 2s 6ms/step - loss: 575.5907 - acc: 0.7137 - f1: 0.7140 - val_loss: 575.3867 - val_acc: 0.8966 - val_f1: 0.8966\n",
      "Epoch 15/50\n",
      "255/255 [==============================] - 2s 9ms/step - loss: 575.4940 - acc: 0.7216 - f1: 0.7216 - val_loss: 575.1622 - val_acc: 0.9310 - val_f1: 0.9310\n",
      "Epoch 16/50\n",
      "255/255 [==============================] - 3s 12ms/step - loss: 575.3880 - acc: 0.7020 - f1: 0.7031 - val_loss: 575.0663 - val_acc: 0.9310 - val_f1: 0.9310\n",
      "Epoch 17/50\n",
      "255/255 [==============================] - 2s 9ms/step - loss: 575.3626 - acc: 0.7098 - f1: 0.7089 - val_loss: 575.3945 - val_acc: 0.5862 - val_f1: 0.5862\n",
      "Epoch 18/50\n",
      "255/255 [==============================] - 2s 8ms/step - loss: 575.3889 - acc: 0.6510 - f1: 0.6512 - val_loss: 574.9982 - val_acc: 0.9310 - val_f1: 0.9310\n",
      "Epoch 19/50\n",
      "255/255 [==============================] - 2s 6ms/step - loss: 575.3346 - acc: 0.7098 - f1: 0.7092 - val_loss: 575.1613 - val_acc: 0.6552 - val_f1: 0.6552\n",
      "Epoch 20/50\n",
      "255/255 [==============================] - 2s 7ms/step - loss: 575.1409 - acc: 0.7137 - f1: 0.7136 - val_loss: 574.8128 - val_acc: 0.8966 - val_f1: 0.8966\n",
      "Epoch 21/50\n",
      "255/255 [==============================] - 2s 7ms/step - loss: 575.0511 - acc: 0.7412 - f1: 0.7409 - val_loss: 574.9236 - val_acc: 0.7931 - val_f1: 0.7931\n",
      "Epoch 22/50\n",
      "255/255 [==============================] - 2s 8ms/step - loss: 574.9288 - acc: 0.7725 - f1: 0.7729 - val_loss: 574.8499 - val_acc: 0.7931 - val_f1: 0.7931\n",
      "Epoch 23/50\n",
      "255/255 [==============================] - 2s 7ms/step - loss: 574.8660 - acc: 0.7765 - f1: 0.7768 - val_loss: 574.7311 - val_acc: 0.8276 - val_f1: 0.8276\n",
      "Epoch 24/50\n",
      "255/255 [==============================] - 2s 7ms/step - loss: 574.7966 - acc: 0.7922 - f1: 0.7923 - val_loss: 574.6774 - val_acc: 0.8621 - val_f1: 0.8621\n",
      "Epoch 25/50\n",
      "255/255 [==============================] - 2s 7ms/step - loss: 574.6938 - acc: 0.8392 - f1: 0.8388 - val_loss: 574.6389 - val_acc: 0.7931 - val_f1: 0.7931\n",
      "Epoch 26/50\n",
      "255/255 [==============================] - 2s 7ms/step - loss: 574.7284 - acc: 0.8196 - f1: 0.8202 - val_loss: 574.7734 - val_acc: 0.7586 - val_f1: 0.7586\n",
      "Epoch 27/50\n",
      "255/255 [==============================] - 2s 7ms/step - loss: 574.6313 - acc: 0.8863 - f1: 0.8863 - val_loss: 574.7174 - val_acc: 0.7586 - val_f1: 0.7586\n",
      "Epoch 28/50\n",
      "255/255 [==============================] - 13s 52ms/step - loss: 574.5854 - acc: 0.8627 - f1: 0.8630 - val_loss: 574.6096 - val_acc: 0.7931 - val_f1: 0.7931\n",
      "Epoch 29/50\n",
      "255/255 [==============================] - 2s 7ms/step - loss: 574.5237 - acc: 0.8941 - f1: 0.8942 - val_loss: 574.6714 - val_acc: 0.7931 - val_f1: 0.7931\n",
      "Epoch 30/50\n",
      "255/255 [==============================] - 7s 27ms/step - loss: 574.5090 - acc: 0.9020 - f1: 0.9017 - val_loss: 574.5762 - val_acc: 0.7931 - val_f1: 0.7931\n",
      "Epoch 31/50\n",
      "255/255 [==============================] - 2s 7ms/step - loss: 574.4359 - acc: 0.9059 - f1: 0.9052 - val_loss: 574.6773 - val_acc: 0.7586 - val_f1: 0.7586\n",
      "Epoch 32/50\n",
      "255/255 [==============================] - 4s 16ms/step - loss: 574.3591 - acc: 0.9373 - f1: 0.9372 - val_loss: 574.6636 - val_acc: 0.7931 - val_f1: 0.7931\n",
      "Epoch 33/50\n",
      "255/255 [==============================] - 4s 14ms/step - loss: 574.3912 - acc: 0.9059 - f1: 0.9059 - val_loss: 574.5253 - val_acc: 0.7586 - val_f1: 0.7586\n",
      "Epoch 34/50\n",
      "255/255 [==============================] - 2s 7ms/step - loss: 574.4087 - acc: 0.8784 - f1: 0.8785 - val_loss: 574.4338 - val_acc: 0.8276 - val_f1: 0.8276\n",
      "Epoch 35/50\n",
      "255/255 [==============================] - 2s 9ms/step - loss: 574.2980 - acc: 0.9412 - f1: 0.9412 - val_loss: 574.4556 - val_acc: 0.8276 - val_f1: 0.8276\n",
      "Epoch 36/50\n",
      "255/255 [==============================] - 2s 9ms/step - loss: 574.2887 - acc: 0.9176 - f1: 0.9177 - val_loss: 574.6126 - val_acc: 0.7931 - val_f1: 0.7931\n",
      "Epoch 37/50\n",
      "255/255 [==============================] - 25s 98ms/step - loss: 574.2268 - acc: 0.9608 - f1: 0.9609 - val_loss: 574.7714 - val_acc: 0.7586 - val_f1: 0.7586\n",
      "Epoch 38/50\n",
      "255/255 [==============================] - 25s 98ms/step - loss: 574.2284 - acc: 0.9569 - f1: 0.9570 - val_loss: 574.6733 - val_acc: 0.7241 - val_f1: 0.7241\n",
      "Epoch 39/50\n",
      "255/255 [==============================] - 26s 103ms/step - loss: 574.2075 - acc: 0.9529 - f1: 0.9529 - val_loss: 574.4665 - val_acc: 0.8276 - val_f1: 0.8276\n",
      "Epoch 40/50\n",
      "255/255 [==============================] - 60s 236ms/step - loss: 574.1612 - acc: 0.9569 - f1: 0.9568 - val_loss: 574.6920 - val_acc: 0.6897 - val_f1: 0.6897\n",
      "Epoch 41/50\n",
      "255/255 [==============================] - 40s 158ms/step - loss: 574.1420 - acc: 0.9608 - f1: 0.9603 - val_loss: 574.4649 - val_acc: 0.7931 - val_f1: 0.7931\n",
      "Epoch 42/50\n",
      "255/255 [==============================] - 58s 229ms/step - loss: 574.1420 - acc: 0.9647 - f1: 0.9648 - val_loss: 574.7181 - val_acc: 0.7241 - val_f1: 0.7241\n",
      "Epoch 43/50\n",
      "255/255 [==============================] - 132s 519ms/step - loss: 574.1348 - acc: 0.9529 - f1: 0.9530 - val_loss: 574.5671 - val_acc: 0.6897 - val_f1: 0.6897\n",
      "Epoch 44/50\n",
      "255/255 [==============================] - 18s 70ms/step - loss: 574.2098 - acc: 0.9137 - f1: 0.9141 - val_loss: 574.4708 - val_acc: 0.7931 - val_f1: 0.7931\n",
      "Epoch 45/50\n",
      "255/255 [==============================] - 2s 8ms/step - loss: 574.1206 - acc: 0.9529 - f1: 0.9530 - val_loss: 574.5026 - val_acc: 0.8276 - val_f1: 0.8276\n",
      "Epoch 46/50\n",
      "255/255 [==============================] - 2s 8ms/step - loss: 574.0492 - acc: 0.9804 - f1: 0.9805 - val_loss: 574.4952 - val_acc: 0.7931 - val_f1: 0.7931\n",
      "Epoch 47/50\n",
      "255/255 [==============================] - 2s 8ms/step - loss: 574.0374 - acc: 0.9725 - f1: 0.9727 - val_loss: 574.4174 - val_acc: 0.8276 - val_f1: 0.8276\n",
      "Epoch 48/50\n",
      "255/255 [==============================] - 2s 9ms/step - loss: 574.1528 - acc: 0.9216 - f1: 0.9219 - val_loss: 574.3728 - val_acc: 0.7931 - val_f1: 0.7931\n",
      "Epoch 49/50\n"
     ]
    },
    {
     "name": "stdout",
     "output_type": "stream",
     "text": [
      "255/255 [==============================] - 2s 9ms/step - loss: 574.0725 - acc: 0.9490 - f1: 0.9488 - val_loss: 574.6471 - val_acc: 0.6897 - val_f1: 0.6897\n",
      "Epoch 50/50\n",
      "255/255 [==============================] - 2s 8ms/step - loss: 574.1212 - acc: 0.9255 - f1: 0.9255 - val_loss: 574.5488 - val_acc: 0.7241 - val_f1: 0.7241\n"
     ]
    }
   ],
   "source": [
    "epochs =50\n",
    "batch_size =32\n",
    "validation_split_rate=0.1\n",
    "history=model.fit([X_train,pos_train1,pos_train2], y_train,validation_split=validation_split_rate ,epochs=epochs, batch_size=batch_size,verbose=1)\n",
    "\n"
   ]
  },
  {
   "cell_type": "code",
   "execution_count": null,
   "metadata": {
    "scrolled": true
   },
   "outputs": [],
   "source": []
  },
  {
   "cell_type": "code",
   "execution_count": 13,
   "metadata": {},
   "outputs": [
    {
     "data": {
      "image/png": "[encoded data removed]",
      "text/plain": [
       "<Figure size 1000x300 with 2 Axes>"
      ]
     },
     "metadata": {},
     "output_type": "display_data"
    }
   ],
   "source": [
    "import matplotlib.pyplot as plt\n",
    "\n",
    "# Training & Validation accuracy\n",
    "train_loss = history.history['loss']\n",
    "val_loss = history.history['val_loss']\n",
    "train_acc = history.history['acc']\n",
    "val_acc = history.history['val_acc']\n",
    "epochs = len(train_loss)\n",
    "\n",
    "xc = range(epochs)\n",
    "\n",
    "plt.figure(figsize=(10, 3))\n",
    "\n",
    "# Loss subplot\n",
    "plt.subplot(1, 2, 1)\n",
    "plt.plot(xc, train_loss, label='Training Loss')\n",
    "plt.plot(xc, val_loss, label='Validation Loss')\n",
    "plt.xlabel('Number of Epochs', fontsize=10)\n",
    "plt.ylabel('Loss', fontsize=10)\n",
    "plt.title('Training and Validation Loss', fontsize=12)\n",
    "plt.legend(fontsize=8)\n",
    "plt.grid(True)\n",
    "\n",
    "# Accuracy subplot\n",
    "plt.subplot(1, 2, 2)\n",
    "plt.plot(xc, train_acc, label='Training Accuracy')\n",
    "plt.plot(xc, val_acc, label='Validation Accuracy')\n",
    "plt.xlabel('Number of Epochs', fontsize=10)\n",
    "plt.ylabel('Accuracy', fontsize=10)\n",
    "plt.title('Training and Validation Accuracy', fontsize=12)\n",
    "plt.legend(fontsize=8, loc='lower right')  # Change position to lower right\n",
    "plt.grid(True)\n",
    "\n",
    "plt.tight_layout()\n",
    "plt.show()\n"
   ]
  },
  {
   "cell_type": "code",
   "execution_count": 14,
   "metadata": {},
   "outputs": [
    {
     "name": "stdout",
     "output_type": "stream",
     "text": [
      "Training Classification Report:\n",
      "              precision    recall  f1-score   support\n",
      "\n",
      "           0       0.91      0.96      0.93        89\n",
      "           1       0.98      0.96      0.97       195\n",
      "\n",
      "    accuracy                           0.96       284\n",
      "   macro avg       0.95      0.96      0.95       284\n",
      "weighted avg       0.96      0.96      0.96       284\n",
      "\n",
      "Training Accuracy: 95.77%\n",
      "Training Precision: 97.91%\n",
      "Training Recall: 95.90%\n",
      "Training F1 Score: 96.89%\n"
     ]
    }
   ],
   "source": [
    "from sklearn.metrics import accuracy_score, classification_report, precision_recall_fscore_support\n",
    "\n",
    "# Predict on the training dataset\n",
    "train_predicted = np.argmax(model.predict([X_train, pos_train1, pos_train2]), axis=1)\n",
    "y_train_to_label = np.argmax(y_train, axis=1)\n",
    "\n",
    "# Calculate accuracy, precision, recall, and F1-score for the training data\n",
    "train_accuracy = accuracy_score(y_train_to_label, train_predicted)\n",
    "train_prec, train_reca, train_fscore, _ = precision_recall_fscore_support(y_train_to_label, train_predicted, average=param)\n",
    "\n",
    "# Print the classification report for the training data\n",
    "print(\"Training Classification Report:\")\n",
    "print(classification_report(y_train_to_label, train_predicted))\n",
    "\n",
    "# Print the precision, recall, and F1-score for the training data\n",
    "print(\"Training Accuracy: {:.2f}%\".format(train_accuracy * 100))\n",
    "print(\"Training Precision: {:.2f}%\".format(train_prec * 100))\n",
    "print(\"Training Recall: {:.2f}%\".format(train_reca * 100))\n",
    "print(\"Training F1 Score: {:.2f}%\".format(train_fscore * 100))\n"
   ]
  },
  {
   "cell_type": "code",
   "execution_count": null,
   "metadata": {},
   "outputs": [],
   "source": [
    "\n"
   ]
  },
  {
   "cell_type": "code",
   "execution_count": null,
   "metadata": {},
   "outputs": [],
   "source": []
  },
  {
   "cell_type": "code",
   "execution_count": 17,
   "metadata": {
    "scrolled": true
   },
   "outputs": [
    {
     "name": "stdout",
     "output_type": "stream",
     "text": [
      "              precision    recall  f1-score   support\n",
      "\n",
      "           0     0.6087    0.7778    0.6829        18\n",
      "           1     0.9167    0.8302    0.8713        53\n",
      "\n",
      "    accuracy                         0.8169        71\n",
      "   macro avg     0.7627    0.8040    0.7771        71\n",
      "weighted avg     0.8386    0.8169    0.8235        71\n",
      "\n",
      " Precision:91.67% Recall:83.02% Fscore:87.13% \n"
     ]
    }
   ],
   "source": [
    "predicted = np.argmax(model.predict([X_test,pos_test1,pos_test2]), axis=1)\n",
    "y_test_to_label= np.argmax(y_test, axis=1)\n",
    "prec, reca, fscore, sup = precision_recall_fscore_support(y_test_to_label, predicted, average=param)\n",
    "\n",
    "\n",
    "# Generate the classification report as a dictionary\n",
    "report_dict = classification_report(y_test_to_label, predicted, output_dict=True)\n",
    "\n",
    "# Create a new dictionary to hold the formatted values\n",
    "formatted_report_dict = {}\n",
    "\n",
    "# Iterate over the items in the report dictionary\n",
    "for key, value in report_dict.items():\n",
    "    if isinstance(value, dict):\n",
    "        # Format the nested dictionary values\n",
    "        formatted_report_dict[key] = {sub_key: f\"{sub_value:.4f}\" for sub_key, sub_value in value.items()}\n",
    "    else:\n",
    "        # Format the top-level dictionary values\n",
    "        formatted_report_dict[key] = f\"{value:.4f}\"\n",
    "\n",
    "# Create a string representation of the formatted dictionary\n",
    "formatted_report_str = classification_report(y_test_to_label, predicted, digits=4)\n",
    "\n",
    "# Print the formatted classification report\n",
    "print(formatted_report_str)\n",
    "\n",
    "\n",
    "print(\" Precision:{:.2f}% Recall:{:.2f}% Fscore:{:.2f}% \".format(prec*100, reca*100, fscore*100))"
   ]
  },
  {
   "cell_type": "code",
   "execution_count": 16,
   "metadata": {},
   "outputs": [
    {
     "data": {
      "image/png": "[encoded data removed]",
      "text/plain": [
       "<Figure size 1000x700 with 2 Axes>"
      ]
     },
     "metadata": {},
     "output_type": "display_data"
    },
    {
     "name": "stdout",
     "output_type": "stream",
     "text": [
      " Precision:91.84% Recall:84.91% Fscore:88.24% \n"
     ]
    }
   ],
   "source": [
    "import numpy as np\n",
    "import matplotlib.pyplot as plt\n",
    "import seaborn as sns\n",
    "from sklearn.metrics import classification_report, confusion_matrix, precision_recall_fscore_support\n",
    "from sklearn.model_selection import StratifiedKFold\n",
    "# Calculate and visualize the confusion matrix\n",
    "cm = confusion_matrix(y_test_to_label, predicted)\n",
    "plt.figure(figsize=(10, 7))\n",
    "sns.heatmap(cm, annot=True, fmt='d', cmap='Blues', xticklabels=['0', '1'], yticklabels=['0', '1'])\n",
    "plt.xlabel('Predicted')\n",
    "plt.ylabel('Actual')\n",
    "plt.title('Confusion Matrix')\n",
    "plt.show()\n",
    "\n",
    "# Print precision, recall, and f-score\n",
    "prec, reca, fscore, sup = precision_recall_fscore_support(y_test_to_label, predicted, average=param)\n",
    "print(\" Precision:{:.2f}% Recall:{:.2f}% Fscore:{:.2f}% \".format(prec*100, reca*100, fscore*100))"
   ]
  },
  {
   "cell_type": "code",
   "execution_count": null,
   "metadata": {},
   "outputs": [],
   "source": []
  }
 ],
 "metadata": {
  "kernelspec": {
   "display_name": "Python 3 (ipykernel)",
   "language": "python",
   "name": "python3"
  },
  "language_info": {
   "codemirror_mode": {
    "name": "ipython",
    "version": 3
   },
   "file_extension": ".py",
   "mimetype": "text/x-python",
   "name": "python",
   "nbconvert_exporter": "python",
   "pygments_lexer": "ipython3",
   "version": "3.7.16"
  }
 },
 "nbformat": 4,
 "nbformat_minor": 2
}
