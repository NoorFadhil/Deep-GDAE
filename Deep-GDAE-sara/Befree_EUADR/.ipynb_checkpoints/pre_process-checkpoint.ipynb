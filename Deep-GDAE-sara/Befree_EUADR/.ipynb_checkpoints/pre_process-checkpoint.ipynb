{
 "cells": [
  {
   "cell_type": "markdown",
   "metadata": {},
   "source": [
    "# Preprocess Required for Generating Train Data: "
   ]
  },
  {
   "cell_type": "code",
   "execution_count": 10,
   "metadata": {},
   "outputs": [],
   "source": [
    "import urllib.request\n",
    "import time\n",
    "import sys\n",
    "import getopt\n",
    "import pandas as pd\n",
    "import numpy as np\n",
    "import pickle\n"
   ]
  },
  {
   "cell_type": "code",
   "execution_count": 11,
   "metadata": {},
   "outputs": [],
   "source": [
    "%run ../utils.ipynb"
   ]
  },
  {
   "cell_type": "code",
   "execution_count": 12,
   "metadata": {},
   "outputs": [],
   "source": [
    "embSize = 200\n",
    "\n",
    "ftrain='../data/EUADR_target_disease.csv'\n",
    "# Replace with path of word embdding file   \n",
    "#wefile = \"/mnt/admin/GDA_backup/Dataset/embeddings/PubMed-and-PMC-w2v.bin\"\n",
    "wefile = \"../support/PubMed-and-PMC-w2v.bin\"\n",
    "random_seed=1331"
   ]
  },
  {
   "cell_type": "markdown",
   "metadata": {},
   "source": [
    "# Read Data"
   ]
  },
  {
   "cell_type": "code",
   "execution_count": 13,
   "metadata": {},
   "outputs": [
    {
     "name": "stdout",
     "output_type": "stream",
     "text": [
      "Input File Reading\n",
      "train_size 355\n"
     ]
    }
   ],
   "source": [
    "Tr_sent_contents, Tr_entity1_list, Tr_entity2_list, Tr_sent_lables = dataRead_befree_EUADR(ftrain)\n",
    "\n",
    "Tr_word_list, Tr_d1_list, Tr_d2_list  = get_wordList_and_distances_befree(Tr_sent_contents)\n",
    "\n",
    "print (\"train_size\", len(Tr_word_list))\n"
   ]
  },
  {
   "cell_type": "markdown",
   "metadata": {},
   "source": [
    "## Prepare Lable Matrix"
   ]
  },
  {
   "cell_type": "code",
   "execution_count": 17,
   "metadata": {},
   "outputs": [],
   "source": [
    "# Y : is positive association \n",
    "# N: is negative association\n",
    "label_dict = {'FA':0, 'NA':0,'PA':1,'SA':1}\n",
    "Y_t = mapLabelToId_befree_EUADR(Tr_sent_lables, label_dict)\n",
    "Y_train = np.zeros((len(Y_t), 2))\n",
    "for i in range(len(Y_t)):\n",
    "    Y_train[i][Y_t[i]] = 1.0"
   ]
  },
  {
   "cell_type": "markdown",
   "metadata": {},
   "source": [
    "# Generate Word and Position Embedding Vectors"
   ]
  },
  {
   "cell_type": "markdown",
   "metadata": {},
   "source": [
    "### Word Embedding"
   ]
  },
  {
   "cell_type": "code",
   "execution_count": 18,
   "metadata": {},
   "outputs": [
    {
     "name": "stdout",
     "output_type": "stream",
     "text": [
      "Found 1355 unique words (10062 in total)\n",
      "word dictonary length 1355\n",
      "Reading word vectors\n",
      "Loaded 1356 pretrained embeddings.\n",
      "number of unknown word in word embedding 814\n",
      "W_train 355\n",
      "word_vectors 1355\n"
     ]
    }
   ],
   "source": [
    "word_dict, word_to_id, id_to_word = word_mapping(Tr_word_list)\n",
    "\n",
    "print( \"word dictonary length\", len(word_dict))\n",
    "\n",
    "# Word Embedding\n",
    "word_vectors = readWordEmb(word_dict,id_to_word,word_to_id, wefile, embSize,limit=1356)\n",
    "W_train =   mapWordToId(Tr_word_list, word_to_id)\n",
    "print(\"W_train\",len(W_train))\n",
    "print(\"word_vectors\",len(word_vectors))"
   ]
  },
  {
   "cell_type": "markdown",
   "metadata": {},
   "source": [
    "### Position Embedding"
   ]
  },
  {
   "cell_type": "code",
   "execution_count": 19,
   "metadata": {},
   "outputs": [],
   "source": [
    "d1_dict = makeDistanceList([Tr_d1_list])\n",
    "d2_dict = makeDistanceList([Tr_d2_list])\n",
    "d1_train = mapWordToId_list(Tr_d1_list, d1_dict)\n",
    "d2_train = mapWordToId_list(Tr_d2_list, d2_dict)\n"
   ]
  },
  {
   "cell_type": "markdown",
   "metadata": {},
   "source": [
    "### Pad Embdding Vectors"
   ]
  },
  {
   "cell_type": "code",
   "execution_count": 20,
   "metadata": {},
   "outputs": [
    {
     "name": "stdout",
     "output_type": "stream",
     "text": [
      "sentMax 102\n",
      "W_train 355\n",
      "d1_train 355\n",
      "d2_train 355\n"
     ]
    }
   ],
   "source": [
    "train_sent_lengths= findSentLengths([Tr_word_list])\n",
    "\n",
    "sentMax =max(max(train_sent_lengths[:]))\n",
    "\n",
    "W_train, d1_train, d2_train = paddData([W_train, d1_train, d2_train ], sentMax,padd_num=1354)\n",
    "print(\"sentMax\",sentMax)\n",
    "print(\"W_train\",len(W_train))\n",
    "print(\"d1_train\",len(d1_train))\n",
    "print(\"d2_train\",len(d2_train))"
   ]
  },
  {
   "cell_type": "markdown",
   "metadata": {},
   "source": [
    "# Save Prepared Data as Pickle File"
   ]
  },
  {
   "cell_type": "code",
   "execution_count": 21,
   "metadata": {},
   "outputs": [],
   "source": [
    "with open('../data/pickles/befree_EUADR_2class_PubMed-and-PMC-w2v.pickle', 'wb') as handle:\n",
    "    pickle.dump(W_train, handle)\n",
    "    pickle.dump(d1_train, handle)\n",
    "    pickle.dump(d2_train, handle)    \n",
    "    pickle.dump(Y_train, handle)\n",
    "    pickle.dump(Tr_word_list, handle)\n",
    "    pickle.dump(word_vectors, handle)\n",
    "    pickle.dump(word_dict, handle)\n",
    "    pickle.dump(d1_dict, handle)\n",
    "    pickle.dump(d2_dict, handle)\n",
    "    pickle.dump(label_dict, handle) \n",
    "    pickle.dump(sentMax, handle)\n",
    "    \n",
    "    "
   ]
  },
  {
   "cell_type": "code",
   "execution_count": null,
   "metadata": {},
   "outputs": [],
   "source": []
  },
  {
   "cell_type": "code",
   "execution_count": null,
   "metadata": {},
   "outputs": [],
   "source": []
  }
 ],
 "metadata": {
  "kernelspec": {
   "display_name": "Python 3 (ipykernel)",
   "language": "python",
   "name": "python3"
  },
  "language_info": {
   "codemirror_mode": {
    "name": "ipython",
    "version": 3
   },
   "file_extension": ".py",
   "mimetype": "text/x-python",
   "name": "python",
   "nbconvert_exporter": "python",
   "pygments_lexer": "ipython3",
   "version": "3.7.16"
  }
 },
 "nbformat": 4,
 "nbformat_minor": 2
}
