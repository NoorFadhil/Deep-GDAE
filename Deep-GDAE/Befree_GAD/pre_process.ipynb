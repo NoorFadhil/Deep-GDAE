{
 "cells": [
  {
   "cell_type": "code",
   "execution_count": 2,
   "metadata": {},
   "outputs": [],
   "source": [
    "import urllib.request\n",
    "import time\n",
    "import sys\n",
    "import getopt\n",
    "import pandas as pd\n",
    "import numpy as np\n",
    "import pickle\n"
   ]
  },
  {
   "cell_type": "code",
   "execution_count": 28,
   "metadata": {},
   "outputs": [],
   "source": [
    "%run ../utils.ipynb"
   ]
  },
  {
   "cell_type": "code",
   "execution_count": 3,
   "metadata": {},
   "outputs": [],
   "source": [
    "embSize = 300\n",
    "d1_emb_size=20\n",
    "d2_emb_size=20\n",
    "trainFile='../data/GAD_merged_samples_mesh.csv'\n",
    "\n",
    "# Replace with path of word embdding file   \n",
    "wefile = \"../Dataset/embeddings/crawl-300d-2M.vec\"\n",
    "random_seed=1331"
   ]
  },
  {
   "cell_type": "code",
   "execution_count": 8,
   "metadata": {},
   "outputs": [
    {
     "name": "stdout",
     "output_type": "stream",
     "text": [
      "GAD_ID,associationType,geneSymbol,GAD_GENE_NAME,geneId,gene_mention,GENE_ENTITY_OFFSET,diseaseName,disease_mention,DISEASE_ENTITY_OFFSET,raw_sentence,diseaseId\n",
      "\n",
      "+----+----------+-------------------+--------------+---------------------------------+----------+----------------+----------------------+---------------------------------------------+-------------------+-------------------------+---------------------------------------------------------------------------------------------------------------------------------------------------------------------+--------------+\n",
      "|    |   GAD_ID | associationType   | geneSymbol   | GAD_GENE_NAME                   |   geneId | gene_mention   | GENE_ENTITY_OFFSET   | diseaseName                                 | disease_mention   | DISEASE_ENTITY_OFFSET   | raw_sentence                                                                                                                                                        | diseaseId    |\n",
      "+====+==========+===================+==============+=================================+==========+================+======================+=============================================+===================+=========================+=====================================================================================================================================================================+==============+\n",
      "|  0 |   116326 | Y                 | AGTR1        | Angiotensin II receptor, type 1 |      185 | AT1R           | 80#84                | atherosclerosis, coronary                   | CAD               | 159#162                 | This study indicates a synergistic contribution of RAS genes (ACE I/D, AGT T/M, AT1R T/C) and eNOS Glu298Asp polymorphisms to the development of the premature CAD. | MESH:D003324 |\n",
      "+----+----------+-------------------+--------------+---------------------------------+----------+----------------+----------------------+---------------------------------------------+-------------------+-------------------------+---------------------------------------------------------------------------------------------------------------------------------------------------------------------+--------------+\n",
      "|  1 |   588219 | F                 | PALB2        | partner and localizer of BRCA2  |    79728 | PALB2          | 4#9                  | breast cancer                               | mutation          | 19#27                   | The PALB2 1592delT mutation has a strong effect on familial breast cancer risk.                                                                                     | nan          |\n",
      "+----+----------+-------------------+--------------+---------------------------------+----------+----------------+----------------------+---------------------------------------------+-------------------+-------------------------+---------------------------------------------------------------------------------------------------------------------------------------------------------------------+--------------+\n",
      "|  2 |   127842 | Y                 | IL1A         | Interleukin 1, alpha            |     3552 | IL-1           | 30#34                | osteoarthritis                              | OA                | 113#115                 | Our findings suggest that the IL-1 gene cluster polymorphisms may play a significant role in the pathogenesis of OA of the hip.                                     | MESH:D010003 |\n",
      "+----+----------+-------------------+--------------+---------------------------------+----------+----------------+----------------------+---------------------------------------------+-------------------+-------------------------+---------------------------------------------------------------------------------------------------------------------------------------------------------------------+--------------+\n",
      "|  3 |   154807 | F                 | TPMT         | Thiopurine S-methyltransferase  |     7172 | TPMT           | 26#30                | azathioprine toxicity hepatitis, autoimmune | fibrosis          | 9#17                    | Advanced fibrosis but not TPMT genotype or activity predicts azathioprine toxicity in AIH.                                                                          | MESH:D005355 |\n",
      "+----+----------+-------------------+--------------+---------------------------------+----------+----------------+----------------------+---------------------------------------------+-------------------+-------------------------+---------------------------------------------------------------------------------------------------------------------------------------------------------------------+--------------+\n"
     ]
    }
   ],
   "source": [
    "import pandas as pd\n",
    "from tabulate import tabulate\n",
    "ftrain = '../data/GAD_merged_samples_mesh.csv'\n",
    "with open(ftrain, 'r', encoding='latin1') as file:\n",
    "    first_line = file.readline()\n",
    "    print(first_line)\n",
    "import pandas as pd\n",
    "\n",
    "ftrain = '../data/GAD_merged_samples_mesh.csv'\n",
    "\n",
    "# Specify the delimiter for tabs\n",
    "df = pd.read_csv(ftrain)\n",
    "\n",
    "\n",
    "# Display the first 10 rows of the DataFrame as a table\n",
    "print(tabulate(df.head(4), headers='keys', tablefmt='grid'))\n"
   ]
  },
  {
   "cell_type": "code",
   "execution_count": 17,
   "metadata": {},
   "outputs": [
    {
     "name": "stdout",
     "output_type": "stream",
     "text": [
      "First 4 rows of the DataFrame:\n",
      "+----+----------+-------------------+--------------+---------------------------------+----------+----------------+----------------------+---------------------------------------------+-------------------+-------------------------+---------------------------------------------------------------------------------------------------------------------------------------------------------------------+--------------+\n",
      "|    |   GAD_ID | associationType   | geneSymbol   | GAD_GENE_NAME                   |   geneId | gene_mention   | GENE_ENTITY_OFFSET   | diseaseName                                 | disease_mention   | DISEASE_ENTITY_OFFSET   | raw_sentence                                                                                                                                                        | diseaseId    |\n",
      "+====+==========+===================+==============+=================================+==========+================+======================+=============================================+===================+=========================+=====================================================================================================================================================================+==============+\n",
      "|  0 |   116326 | Y                 | AGTR1        | Angiotensin II receptor, type 1 |      185 | AT1R           | 80#84                | atherosclerosis, coronary                   | CAD               | 159#162                 | This study indicates a synergistic contribution of RAS genes (ACE I/D, AGT T/M, AT1R T/C) and eNOS Glu298Asp polymorphisms to the development of the premature CAD. | MESH:D003324 |\n",
      "+----+----------+-------------------+--------------+---------------------------------+----------+----------------+----------------------+---------------------------------------------+-------------------+-------------------------+---------------------------------------------------------------------------------------------------------------------------------------------------------------------+--------------+\n",
      "|  1 |   588219 | F                 | PALB2        | partner and localizer of BRCA2  |    79728 | PALB2          | 4#9                  | breast cancer                               | mutation          | 19#27                   | The PALB2 1592delT mutation has a strong effect on familial breast cancer risk.                                                                                     | nan          |\n",
      "+----+----------+-------------------+--------------+---------------------------------+----------+----------------+----------------------+---------------------------------------------+-------------------+-------------------------+---------------------------------------------------------------------------------------------------------------------------------------------------------------------+--------------+\n",
      "|  2 |   127842 | Y                 | IL1A         | Interleukin 1, alpha            |     3552 | IL-1           | 30#34                | osteoarthritis                              | OA                | 113#115                 | Our findings suggest that the IL-1 gene cluster polymorphisms may play a significant role in the pathogenesis of OA of the hip.                                     | MESH:D010003 |\n",
      "+----+----------+-------------------+--------------+---------------------------------+----------+----------------+----------------------+---------------------------------------------+-------------------+-------------------------+---------------------------------------------------------------------------------------------------------------------------------------------------------------------+--------------+\n",
      "|  3 |   154807 | F                 | TPMT         | Thiopurine S-methyltransferase  |     7172 | TPMT           | 26#30                | azathioprine toxicity hepatitis, autoimmune | fibrosis          | 9#17                    | Advanced fibrosis but not TPMT genotype or activity predicts azathioprine toxicity in AIH.                                                                          | MESH:D005355 |\n",
      "+----+----------+-------------------+--------------+---------------------------------+----------+----------------+----------------------+---------------------------------------------+-------------------+-------------------------+---------------------------------------------------------------------------------------------------------------------------------------------------------------------+--------------+\n",
      "\n",
      "Unique labels: ['Y' 'F' 'N' 'P']\n",
      "\n",
      "Samples with label 'Y':\n",
      "+----+----------+-------------------+--------------+--------------------------------------------------------------------------------+----------+------------------+----------------------+-------------------------------+-------------------+-------------------------+-----------------------------------------------------------------------------------------------------------------------------------------------------------------------------------------------------------------------------------------------------------------------------------------------------------------------------------------------------------------------------------------------------------------------------------------------------+--------------+\n",
      "|    |   GAD_ID | associationType   | geneSymbol   | GAD_GENE_NAME                                                                  |   geneId | gene_mention     | GENE_ENTITY_OFFSET   | diseaseName                   | disease_mention   | DISEASE_ENTITY_OFFSET   | raw_sentence                                                                                                                                                                                                                                                                                                                                                                                                                                        | diseaseId    |\n",
      "+====+==========+===================+==============+================================================================================+==========+==================+======================+===============================+===================+=========================+=====================================================================================================================================================================================================================================================================================================================================================================================================================================================+==============+\n",
      "|  0 |   116326 | Y                 | AGTR1        | Angiotensin II receptor, type 1                                                |      185 | AT1R             | 80#84                | atherosclerosis, coronary     | CAD               | 159#162                 | This study indicates a synergistic contribution of RAS genes (ACE I/D, AGT T/M, AT1R T/C) and eNOS Glu298Asp polymorphisms to the development of the premature CAD.                                                                                                                                                                                                                                                                                 | MESH:D003324 |\n",
      "+----+----------+-------------------+--------------+--------------------------------------------------------------------------------+----------+------------------+----------------------+-------------------------------+-------------------+-------------------------+-----------------------------------------------------------------------------------------------------------------------------------------------------------------------------------------------------------------------------------------------------------------------------------------------------------------------------------------------------------------------------------------------------------------------------------------------------+--------------+\n",
      "|  2 |   127842 | Y                 | IL1A         | Interleukin 1, alpha                                                           |     3552 | IL-1             | 30#34                | osteoarthritis                | OA                | 113#115                 | Our findings suggest that the IL-1 gene cluster polymorphisms may play a significant role in the pathogenesis of OA of the hip.                                                                                                                                                                                                                                                                                                                     | MESH:D010003 |\n",
      "+----+----------+-------------------+--------------+--------------------------------------------------------------------------------+----------+------------------+----------------------+-------------------------------+-------------------+-------------------------+-----------------------------------------------------------------------------------------------------------------------------------------------------------------------------------------------------------------------------------------------------------------------------------------------------------------------------------------------------------------------------------------------------------------------------------------------------+--------------+\n",
      "|  5 |   135175 | Y                 | SLC7A9       | Solute carrier family 7 (cationic amino acid transporter, y+ system), member 9 |    11136 | SLC7A9           | 193#199              | cystinuria                    | cystinuria        | 34#44                   | In summary, our results show that cystinuria is a complex disease which is not only caused by mutations in SLC7A9 and SLC3A1, but also influenced by other modifying factors such as variants in SLC7A9.                                                                                                                                                                                                                                            | MESH:D003555 |\n",
      "+----+----------+-------------------+--------------+--------------------------------------------------------------------------------+----------+------------------+----------------------+-------------------------------+-------------------+-------------------------+-----------------------------------------------------------------------------------------------------------------------------------------------------------------------------------------------------------------------------------------------------------------------------------------------------------------------------------------------------------------------------------------------------------------------------------------------------+--------------+\n",
      "| 11 |   152643 | Y                 | PON1         | Paraoxonase 1                                                                  |     5444 | PON1             | 0#4                  | stroke                        | stroke            | 90#96                   | PON1 genetic variations are associated with risk factors, severity, type and prognosis of stroke and oxidative stress.                                                                                                                                                                                                                                                                                                                              | MESH:D020521 |\n",
      "+----+----------+-------------------+--------------+--------------------------------------------------------------------------------+----------+------------------+----------------------+-------------------------------+-------------------+-------------------------+-----------------------------------------------------------------------------------------------------------------------------------------------------------------------------------------------------------------------------------------------------------------------------------------------------------------------------------------------------------------------------------------------------------------------------------------------------+--------------+\n",
      "| 13 |   114502 | Y                 | A2M          | Alpha-2-macroglobulin                                                          |        2 | A2M              | 27#30                | Alzheimer's Disease           | AD                | 111#113                 | our data suggests that the A2M D allele is a modest risk factor for late-onset sporadic AD in Koreans, and the AD risk conferred by the A2M D allele increases in APOE epsilon4 negative subjects.                                                                                                                                                                                                                                                  | MESH:D000544 |\n",
      "+----+----------+-------------------+--------------+--------------------------------------------------------------------------------+----------+------------------+----------------------+-------------------------------+-------------------+-------------------------+-----------------------------------------------------------------------------------------------------------------------------------------------------------------------------------------------------------------------------------------------------------------------------------------------------------------------------------------------------------------------------------------------------------------------------------------------------+--------------+\n",
      "| 14 |   133817 | Y                 | RP1          | Retinitis pigmentosa 1 (autosomal dominant)                                    |     6101 | RP1              | 237#240              | retinitis pigmentosa          | RP                | 124#126                 | The de novo origin of an RP1 (Arg677ter) mutation in a patient with simplex RP suggests that this common autosomal dominant RP mutation can arise independently in the population and supports the hypothesis of a mutational hotspot in the RP1 gene.                                                                                                                                                                                              | MESH:D012174 |\n",
      "+----+----------+-------------------+--------------+--------------------------------------------------------------------------------+----------+------------------+----------------------+-------------------------------+-------------------+-------------------------+-----------------------------------------------------------------------------------------------------------------------------------------------------------------------------------------------------------------------------------------------------------------------------------------------------------------------------------------------------------------------------------------------------------------------------------------------------+--------------+\n",
      "| 17 |   127050 | Y                 | IFNG         | Interferon, gamma                                                              |     3458 | interferon gamma | 78#94                | tuberculosis                  | tuberculosis      | 152#164                 | This preferential binding suggests that genetically determined variability in interferon gamma and expression might be important for the development of tuberculosis.                                                                                                                                                                                                                                                                               | MESH:D014376 |\n",
      "+----+----------+-------------------+--------------+--------------------------------------------------------------------------------+----------+------------------+----------------------+-------------------------------+-------------------+-------------------------+-----------------------------------------------------------------------------------------------------------------------------------------------------------------------------------------------------------------------------------------------------------------------------------------------------------------------------------------------------------------------------------------------------------------------------------------------------+--------------+\n",
      "| 19 |   139782 | Y                 | HLA-DRB1     | major histocompatibility complex, class II, DR beta 1                          |     3123 | DRB1             | 176#180              | Vogt-Koyanagi-Harada syndrome | VKH syndrome      | 253#265                 | (1) DRB1 * 0405 and DRB1 * 15 are closely associated with the susceptibility to VKH syndrome, DRB1 * 0405 may be the major susceptible gene and DRB1 * 15 may be the minor; (2) DRB1 * 14 and DRB1 * 08 are negatively associated with the susceptibility to VKH syndrome, suggesting that they may be the resistant genes; (3) DRB1 * 0405 is not related to the clinical features, incidence of ocular complications as well as visual prognosis. | MESH:D014607 |\n",
      "+----+----------+-------------------+--------------+--------------------------------------------------------------------------------+----------+------------------+----------------------+-------------------------------+-------------------+-------------------------+-----------------------------------------------------------------------------------------------------------------------------------------------------------------------------------------------------------------------------------------------------------------------------------------------------------------------------------------------------------------------------------------------------------------------------------------------------+--------------+\n"
     ]
    }
   ],
   "source": [
    "import pandas as pd\n",
    "from tabulate import tabulate\n",
    "\n",
    "# Path to the CSV file\n",
    "ftrain = '../data/GAD_merged_samples_mesh.csv'\n",
    "\n",
    "# Read the CSV file with the correct encoding\n",
    "df = pd.read_csv(ftrain, encoding='latin1')\n",
    "\n",
    "# Display the first 4 rows to check the structure\n",
    "print(\"First 4 rows of the DataFrame:\")\n",
    "print(tabulate(df.head(4), headers='keys', tablefmt='grid'))\n",
    "\n",
    "# Get unique labels from the 'associationType' column\n",
    "labels = df['associationType'].unique()\n",
    "print(f\"\\nUnique labels: {labels}\")\n",
    "\n",
    "# Filter and display samples for the label 'F'\n",
    "target_label = 'Y'\n",
    "if target_label in labels:\n",
    "    filtered_df = df[df['associationType'] == target_label]\n",
    "    print(f\"\\nSamples with label '{target_label}':\")\n",
    "    print(tabulate(filtered_df.head(8), headers='keys', tablefmt='grid'))\n",
    "else:\n",
    "    print(f\"No samples found with label '{target_label}'\")\n",
    "\n"
   ]
  },
  {
   "cell_type": "markdown",
   "metadata": {},
   "source": [
    "# Read Data"
   ]
  },
  {
   "cell_type": "code",
   "execution_count": 30,
   "metadata": {},
   "outputs": [
    {
     "name": "stdout",
     "output_type": "stream",
     "text": [
      "Input File Reading\n"
     ]
    }
   ],
   "source": [
    "sent_contents, entity1_list, entity2_list, sent_lables,gene_id_list,disease_id_list,gene_symbol_list = dataRead_befree(trainFile)"
   ]
  },
  {
   "cell_type": "code",
   "execution_count": 31,
   "metadata": {},
   "outputs": [],
   "source": [
    "word_list, distance1_list, distance2_list  = get_wordList_and_distances_befree(sent_contents)"
   ]
  },
  {
   "cell_type": "code",
   "execution_count": 32,
   "metadata": {},
   "outputs": [
    {
     "name": "stdout",
     "output_type": "stream",
     "text": [
      "train_size 5330\n"
     ]
    }
   ],
   "source": [
    "print (\"train_size\", len(word_list))\n"
   ]
  },
  {
   "cell_type": "code",
   "execution_count": 33,
   "metadata": {},
   "outputs": [],
   "source": [
    "sent_lengths= findSentLengths([word_list])"
   ]
  },
  {
   "cell_type": "code",
   "execution_count": 34,
   "metadata": {},
   "outputs": [],
   "source": [
    "sentMax =max(max(sent_lengths[:]))\n"
   ]
  },
  {
   "cell_type": "markdown",
   "metadata": {},
   "source": [
    "## Prepare Lable Matrix"
   ]
  },
  {
   "cell_type": "code",
   "execution_count": 35,
   "metadata": {},
   "outputs": [],
   "source": [
    "# Three Class\n",
    "\n",
    "# Y : positive association \n",
    "# N:  negative association\n",
    "# F:  No Smmantic Association\n",
    "\n",
    "\n",
    "label_dict = {'F':0, 'Y': 1, 'N': 2}\n",
    "\n",
    "\n",
    "Y = mapLabelToId_befree(sent_lables, label_dict)\n",
    "Y_train = np.zeros((len(Y), len(label_dict)))\n",
    "for i in range(len(Y)):\n",
    "    Y_train[i][Y[i]] = 1.0"
   ]
  },
  {
   "cell_type": "markdown",
   "metadata": {},
   "source": [
    "# Generate Word and Position Embedding Vectors"
   ]
  },
  {
   "cell_type": "markdown",
   "metadata": {},
   "source": [
    "### Word Embedding"
   ]
  },
  {
   "cell_type": "code",
   "execution_count": 36,
   "metadata": {},
   "outputs": [
    {
     "name": "stdout",
     "output_type": "stream",
     "text": [
      "Found 6766 unique words (139634 in total)\n",
      "word dictonary length 6766\n",
      "Reading word vectors\n",
      "number of unknown word in word embedding 1525\n",
      "number of known word in word embedding 5241\n"
     ]
    }
   ],
   "source": [
    "word_dict, word_to_id, id_to_word = word_mapping(word_list)\n",
    "print( \"word dictonary length\", len(word_dict))\n",
    "word_vectors = readWordEmb_fastText(word_dict,id_to_word,word_to_id, wefile, embSize)\n",
    "X_train =   mapWordToId(word_list, word_to_id)"
   ]
  },
  {
   "cell_type": "markdown",
   "metadata": {},
   "source": [
    "### Position Embedding"
   ]
  },
  {
   "cell_type": "code",
   "execution_count": 37,
   "metadata": {},
   "outputs": [],
   "source": [
    "distance1_dict = makeDistanceList([distance1_list])\n",
    "distance2_dict = makeDistanceList([distance2_list])\n",
    "distance1_vectors = mapWordToId_list(distance1_list, distance1_dict)\n",
    "distance2_vectors = mapWordToId_list(distance2_list, distance2_dict)"
   ]
  },
  {
   "cell_type": "markdown",
   "metadata": {},
   "source": [
    "### Pad Embdding Vectors"
   ]
  },
  {
   "cell_type": "code",
   "execution_count": 38,
   "metadata": {},
   "outputs": [],
   "source": [
    "X_train, distance1_vectors, distance2_vectors = paddData([X_train, distance1_vectors, distance2_vectors ], sentMax,padd_num= 6765) \n"
   ]
  },
  {
   "cell_type": "markdown",
   "metadata": {},
   "source": [
    "# Save Prepared Data as Pickle File"
   ]
  },
  {
   "cell_type": "code",
   "execution_count": 39,
   "metadata": {},
   "outputs": [],
   "source": [
    "with open('../data/pickles/befree_3class_crawl-300d-2M.pickle', 'wb') as handle:\n",
    "    pickle.dump(gene_id_list, handle)\n",
    "    pickle.dump(gene_symbol_list, handle)\n",
    "    pickle.dump(disease_id_list, handle)\n",
    "    pickle.dump(X_train, handle)\n",
    "    pickle.dump(distance1_vectors, handle)\n",
    "    pickle.dump(distance2_vectors, handle)    \n",
    "    pickle.dump(Y_train, handle)\n",
    "    pickle.dump(word_list, handle)\n",
    "    pickle.dump(word_vectors, handle)\n",
    "    pickle.dump(word_dict, handle)\n",
    "    pickle.dump(distance1_dict, handle)\n",
    "    pickle.dump(distance2_dict, handle)\n",
    "    pickle.dump(label_dict, handle) \n",
    "    pickle.dump(sentMax, handle)\n",
    "    \n",
    "    \n",
    "    \n",
    "    "
   ]
  },
  {
   "cell_type": "code",
   "execution_count": null,
   "metadata": {},
   "outputs": [],
   "source": []
  },
  {
   "cell_type": "code",
   "execution_count": null,
   "metadata": {},
   "outputs": [],
   "source": []
  }
 ],
 "metadata": {
  "kernelspec": {
   "display_name": "Python 3 (ipykernel)",
   "language": "python",
   "name": "python3"
  },
  "language_info": {
   "codemirror_mode": {
    "name": "ipython",
    "version": 3
   },
   "file_extension": ".py",
   "mimetype": "text/x-python",
   "name": "python",
   "nbconvert_exporter": "python",
   "pygments_lexer": "ipython3",
   "version": "3.9.7"
  }
 },
 "nbformat": 4,
 "nbformat_minor": 2
}
