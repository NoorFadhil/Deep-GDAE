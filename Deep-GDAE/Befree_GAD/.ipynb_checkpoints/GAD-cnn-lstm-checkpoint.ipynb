{
 "cells": [
  {
   "cell_type": "markdown",
   "metadata": {},
   "source": [
    "# model 1 \n",
    "\n",
    "\n"
   ]
  },
  {
   "cell_type": "markdown",
   "metadata": {},
   "source": [
    "#  -------------------------------------------------------------------------------------------"
   ]
  },
  {
   "cell_type": "markdown",
   "metadata": {},
   "source": [
    "# imports"
   ]
  },
  {
   "cell_type": "code",
   "execution_count": 2,
   "metadata": {},
   "outputs": [],
   "source": [
    "import tensorflow as tf\n",
    "import keras\n",
    "from keras.models import load_model\n",
    "from keras.callbacks import ModelCheckpoint, EarlyStopping\n",
    "from keras_tqdm import TQDMNotebookCallback\n",
    "import numpy as np\n",
    "np.random.seed(1337)\n",
    "from keras_tqdm import TQDMNotebookCallback\n",
    "import nltk\n",
    "import xml.etree.ElementTree as ET\n",
    "import pandas as pd\n",
    "import os\n",
    "import string\n",
    "from nltk.tokenize import TreebankWordTokenizer\n",
    "from numpy.random import random_sample\n",
    "import re\n",
    "import pickle\n",
    "from sklearn.metrics import accuracy_score\n",
    "from sklearn.metrics import classification_report\n",
    "\n",
    "from keras.layers import Embedding, Flatten,LSTM, GRU\n",
    "from keras.layers.convolutional import Conv2D, MaxPooling2D\n",
    "from tensorflow.keras.utils import to_categorical\n",
    "from tensorflow.keras.models import Sequential, Model\n",
    "from keras.layers import Dense, Dropout, Activation,  Input, merge,Conv1D,MaxPooling1D,GlobalMaxPooling1D,Convolution1D\n",
    "from keras import regularizers\n",
    "from sklearn.metrics import precision_recall_fscore_support\n",
    "from sklearn.model_selection import StratifiedKFold\n",
    "import matplotlib.pyplot as plt\n",
    "from keras.layers import Concatenate, concatenate\n",
    "from keras import backend as K\n",
    "from keras.layers import multiply\n",
    "from keras.layers import merge\n",
    "from keras.layers.core import *\n",
    "from keras.layers.recurrent import LSTM\n",
    "from keras.models import *\n",
    "random_seed=1337"
   ]
  },
  {
   "cell_type": "markdown",
   "metadata": {},
   "source": [
    "###  Define Callback functions to generate Measures"
   ]
  },
  {
   "cell_type": "code",
   "execution_count": 3,
   "metadata": {},
   "outputs": [],
   "source": [
    "from keras import backend as K\n",
    "\n",
    "def f1(y_true, y_pred):\n",
    "    def recall(y_true, y_pred):\n",
    "        true_positives = K.sum(K.round(K.clip(y_true * y_pred, 0, 1)))\n",
    "        possible_positives = K.sum(K.round(K.clip(y_true, 0, 1)))\n",
    "        recall = true_positives / (possible_positives + K.epsilon())\n",
    "        return recall\n",
    "\n",
    "    def precision(y_true, y_pred):\n",
    "        true_positives = K.sum(K.round(K.clip(y_true * y_pred, 0, 1)))\n",
    "        predicted_positives = K.sum(K.round(K.clip(y_pred, 0, 1)))\n",
    "        precision = true_positives / (predicted_positives + K.epsilon())\n",
    "        return precision\n",
    "    precision = precision(y_true, y_pred)\n",
    "    recall = recall(y_true, y_pred)\n",
    "    return 2*((precision*recall)/(precision+recall+K.epsilon()))\n"
   ]
  },
  {
   "cell_type": "markdown",
   "metadata": {},
   "source": [
    "# Experiments to reproduce the results of Table 9 "
   ]
  },
  {
   "cell_type": "markdown",
   "metadata": {},
   "source": [
    "### Load pre procssed Data"
   ]
  },
  {
   "cell_type": "code",
   "execution_count": 4,
   "metadata": {},
   "outputs": [
    {
     "name": "stdout",
     "output_type": "stream",
     "text": [
      "word_vectors 6766\n"
     ]
    }
   ],
   "source": [
    "with open('../data/pickles/befree_3class_crawl-300d-2M.pickle', 'rb') as handle:\n",
    "    gene_id_list = pickle.load(handle)\n",
    "    gene_symbol_list = pickle.load(handle)\n",
    "    disease_id_list = pickle.load(handle)    \n",
    "    X_train = pickle.load(handle)\n",
    "    distance1_vectors = pickle.load(handle)\n",
    "    distance2_vectors = pickle.load(handle)\n",
    "    Y_train = pickle.load(handle)\n",
    "    word_list = pickle.load(handle)\n",
    "    word_vectors = pickle.load(handle)\n",
    "    word_dict = pickle.load(handle)\n",
    "    distance1_dict = pickle.load(handle)\n",
    "    distance2_dict = pickle.load(handle)\n",
    "    label_dict = pickle.load(handle)\n",
    "    MAX_SEQUENCE_LENGTH = pickle.load(handle)\n",
    "print (\"word_vectors\",len(word_vectors))"
   ]
  },
  {
   "cell_type": "markdown",
   "metadata": {},
   "source": [
    "position embedding"
   ]
  },
  {
   "cell_type": "code",
   "execution_count": 5,
   "metadata": {},
   "outputs": [
    {
     "data": {
      "text/plain": [
       "(5330, 81, 20)"
      ]
     },
     "execution_count": 5,
     "metadata": {},
     "output_type": "execute_result"
    }
   ],
   "source": [
    "import keras\n",
    "from keras_pos_embd import TrigPosEmbedding\n",
    "\n",
    "model = keras.models.Sequential()\n",
    "model.add(TrigPosEmbedding(\n",
    "    input_shape=(None,),\n",
    "    output_dim=20,                      # The dimension of embeddings.\n",
    "    mode=TrigPosEmbedding.MODE_EXPAND,  # Use `expand` mode\n",
    "    name='Pos-Embd',\n",
    "))\n",
    "model.compile('adam', keras.losses.mae, {})\n",
    "\n",
    "\n",
    "d1_train_embedded=model.predict(distance1_vectors)\n",
    "\n",
    "d1_train_embedded.shape\n",
    "\n",
    "d2_train_embedded=model.predict(distance2_vectors)\n",
    "\n",
    "d2_train_embedded.shape"
   ]
  },
  {
   "cell_type": "markdown",
   "metadata": {},
   "source": [
    "### Prepare Word Embedding Layer"
   ]
  },
  {
   "cell_type": "code",
   "execution_count": 6,
   "metadata": {},
   "outputs": [
    {
     "name": "stdout",
     "output_type": "stream",
     "text": [
      "EMBEDDING_DIM= 300\n"
     ]
    }
   ],
   "source": [
    "EMBEDDING_DIM=word_vectors.shape[1]\n",
    "print(\"EMBEDDING_DIM=\",EMBEDDING_DIM)\n",
    "embedding_matrix=word_vectors\n",
    "\n",
    "def create_embedding_layer(l2_reg=0.01,use_pretrained=True,is_trainable=False):\n",
    "    \n",
    "    if use_pretrained:        \n",
    "        return Embedding(len(word_dict) ,EMBEDDING_DIM,weights=[embedding_matrix],input_length=MAX_SEQUENCE_LENGTH,trainable=is_trainable,embeddings_regularizer=regularizers.l2(l2_reg))\n",
    "    \n",
    "    else:    \n",
    "        return Embedding(len(word_dict) ,EMBEDDING_DIM,input_length=MAX_SEQUENCE_LENGTH)\n",
    "            \n",
    "    "
   ]
  },
  {
   "cell_type": "markdown",
   "metadata": {},
   "source": [
    "attention"
   ]
  },
  {
   "cell_type": "code",
   "execution_count": 7,
   "metadata": {},
   "outputs": [],
   "source": [
    "INPUT_DIM = 2\n",
    "TIME_STEPS = MAX_SEQUENCE_LENGTH\n",
    "def attentionNew(inputs):\n",
    "    inputs = Lambda(lambda x: tf.keras.backend.tanh(x))(inputs)\n",
    "    input_dim = int(inputs.shape[2])\n",
    "    a = Permute((2, 1))(inputs)\n",
    "    a = Dense(TIME_STEPS, activation='softmax')(a)\n",
    "    a_probs = Permute((2, 1))(a)\n",
    "    output_attention_mul = multiply([inputs, a_probs])\n",
    "    output_attention_mul = Lambda(lambda x: tf.keras.backend.tanh(x))(output_attention_mul)\n",
    "    return output_attention_mul"
   ]
  },
  {
   "cell_type": "markdown",
   "metadata": {},
   "source": [
    "### Create the Model"
   ]
  },
  {
   "cell_type": "code",
   "execution_count": 8,
   "metadata": {},
   "outputs": [],
   "source": [
    "# set parameter for metric calculation, 'macro' for multiclass classification\n",
    "param='macro' \n",
    "def build_model():    \n",
    "\n",
    "    sequence_input = Input(shape=(MAX_SEQUENCE_LENGTH,), dtype='int32')\n",
    "    embedding_layer=create_embedding_layer(use_pretrained=True,is_trainable=False)\n",
    "    embedded_sequences = embedding_layer(sequence_input)\n",
    "\n",
    "    \n",
    "    pos_embedd_1=Input(shape=(MAX_SEQUENCE_LENGTH,20), dtype='float32')\n",
    "    pos_embedd_2=Input(shape=(MAX_SEQUENCE_LENGTH,20), dtype='float32')\n",
    "    \n",
    "    embedded_sequences = concatenate([embedded_sequences,pos_embedd_1,pos_embedd_2])\n",
    "        \n",
    "    \n",
    "    x = Conv1D(32, 5, activation='relu')(embedded_sequences)\n",
    "    x = MaxPooling1D(3)(x)\n",
    "    x = Dropout(0.1)(x)\n",
    "    conv_sequence_w5=GlobalMaxPooling1D()(x)    #x = Flatten()(x)\n",
    "\n",
    "\n",
    "        \n",
    "    x = Conv1D(64, 3, activation='relu')(embedded_sequences)\n",
    "    x = MaxPooling1D(3)(x)\n",
    "    x = Dropout(0.1)(x)\n",
    "    conv_sequence_w4=GlobalMaxPooling1D()(x)    #x = Flatten()(x)\n",
    "\n",
    "\n",
    "            \n",
    "    x = Conv1D(128, 3, activation='relu')(embedded_sequences)\n",
    "    x = MaxPooling1D(3)(x)\n",
    "    x = Dropout(0.1)(x)\n",
    "    conv_sequence_w3=GlobalMaxPooling1D()(x)    #x = Flatten()(x)\n",
    "\n",
    "    forward = LSTM(100, recurrent_dropout=0.05,return_sequences=True)(embedded_sequences)\n",
    "    backward = LSTM(100, go_backwards=True,recurrent_dropout=0.05,return_sequences=True)(embedded_sequences)\n",
    "    attention_forward=attentionNew(forward)\n",
    "    attention_backward=attentionNew(backward)\n",
    "    lstm_sequence = concatenate([attention_forward,attention_backward])\n",
    "   \n",
    "    lstm_sequence = Flatten()(lstm_sequence)\n",
    "    merge = concatenate([conv_sequence_w5,conv_sequence_w4,conv_sequence_w3,lstm_sequence])\n",
    "    x = Dense(64, activation='relu', kernel_regularizer=regularizers.l2(0.1))(merge)\n",
    "    x = Dropout(0.1)(x)\n",
    "    preds = Dense(3, activation='softmax')(x)\n",
    "    model = Model(inputs=[sequence_input, pos_embedd_1,pos_embedd_2],outputs=preds)\n",
    "    opt=tf.keras.optimizers.Adam()\n",
    "    model.compile(loss='categorical_crossentropy',optimizer=opt,metrics=['acc',f1])\n",
    "    return model\n",
    "    "
   ]
  },
  {
   "cell_type": "code",
   "execution_count": 9,
   "metadata": {},
   "outputs": [
    {
     "name": "stdout",
     "output_type": "stream",
     "text": [
      "Model: \"model_1\"\n",
      "__________________________________________________________________________________________________\n",
      "Layer (type)                    Output Shape         Param #     Connected to                     \n",
      "==================================================================================================\n",
      "input_1 (InputLayer)            (None, 81)           0                                            \n",
      "__________________________________________________________________________________________________\n",
      "embedding_1 (Embedding)         (None, 81, 300)      2029800     input_1[0][0]                    \n",
      "__________________________________________________________________________________________________\n",
      "input_2 (InputLayer)            (None, 81, 20)       0                                            \n",
      "__________________________________________________________________________________________________\n",
      "input_3 (InputLayer)            (None, 81, 20)       0                                            \n",
      "__________________________________________________________________________________________________\n",
      "concatenate_1 (Concatenate)     (None, 81, 340)      0           embedding_1[0][0]                \n",
      "                                                                 input_2[0][0]                    \n",
      "                                                                 input_3[0][0]                    \n",
      "__________________________________________________________________________________________________\n",
      "lstm_1 (LSTM)                   (None, 81, 100)      176400      concatenate_1[0][0]              \n",
      "__________________________________________________________________________________________________\n",
      "lstm_2 (LSTM)                   (None, 81, 100)      176400      concatenate_1[0][0]              \n",
      "__________________________________________________________________________________________________\n",
      "lambda_1 (Lambda)               (None, 81, 100)      0           lstm_1[0][0]                     \n",
      "__________________________________________________________________________________________________\n",
      "lambda_3 (Lambda)               (None, 81, 100)      0           lstm_2[0][0]                     \n",
      "__________________________________________________________________________________________________\n",
      "permute_1 (Permute)             (None, 100, 81)      0           lambda_1[0][0]                   \n",
      "__________________________________________________________________________________________________\n",
      "permute_3 (Permute)             (None, 100, 81)      0           lambda_3[0][0]                   \n",
      "__________________________________________________________________________________________________\n",
      "dense_1 (Dense)                 (None, 100, 81)      6642        permute_1[0][0]                  \n",
      "__________________________________________________________________________________________________\n",
      "dense_2 (Dense)                 (None, 100, 81)      6642        permute_3[0][0]                  \n",
      "__________________________________________________________________________________________________\n",
      "permute_2 (Permute)             (None, 81, 100)      0           dense_1[0][0]                    \n",
      "__________________________________________________________________________________________________\n",
      "permute_4 (Permute)             (None, 81, 100)      0           dense_2[0][0]                    \n",
      "__________________________________________________________________________________________________\n",
      "conv1d_1 (Conv1D)               (None, 77, 32)       54432       concatenate_1[0][0]              \n",
      "__________________________________________________________________________________________________\n",
      "conv1d_2 (Conv1D)               (None, 79, 64)       65344       concatenate_1[0][0]              \n",
      "__________________________________________________________________________________________________\n",
      "conv1d_3 (Conv1D)               (None, 79, 128)      130688      concatenate_1[0][0]              \n",
      "__________________________________________________________________________________________________\n",
      "multiply_1 (Multiply)           (None, 81, 100)      0           lambda_1[0][0]                   \n",
      "                                                                 permute_2[0][0]                  \n",
      "__________________________________________________________________________________________________\n",
      "multiply_2 (Multiply)           (None, 81, 100)      0           lambda_3[0][0]                   \n",
      "                                                                 permute_4[0][0]                  \n",
      "__________________________________________________________________________________________________\n",
      "max_pooling1d_1 (MaxPooling1D)  (None, 25, 32)       0           conv1d_1[0][0]                   \n",
      "__________________________________________________________________________________________________\n",
      "max_pooling1d_2 (MaxPooling1D)  (None, 26, 64)       0           conv1d_2[0][0]                   \n",
      "__________________________________________________________________________________________________\n",
      "max_pooling1d_3 (MaxPooling1D)  (None, 26, 128)      0           conv1d_3[0][0]                   \n",
      "__________________________________________________________________________________________________\n",
      "lambda_2 (Lambda)               (None, 81, 100)      0           multiply_1[0][0]                 \n",
      "__________________________________________________________________________________________________\n",
      "lambda_4 (Lambda)               (None, 81, 100)      0           multiply_2[0][0]                 \n",
      "__________________________________________________________________________________________________\n",
      "dropout_1 (Dropout)             (None, 25, 32)       0           max_pooling1d_1[0][0]            \n",
      "__________________________________________________________________________________________________\n",
      "dropout_2 (Dropout)             (None, 26, 64)       0           max_pooling1d_2[0][0]            \n",
      "__________________________________________________________________________________________________\n",
      "dropout_3 (Dropout)             (None, 26, 128)      0           max_pooling1d_3[0][0]            \n",
      "__________________________________________________________________________________________________\n",
      "concatenate_2 (Concatenate)     (None, 81, 200)      0           lambda_2[0][0]                   \n",
      "                                                                 lambda_4[0][0]                   \n",
      "__________________________________________________________________________________________________\n",
      "global_max_pooling1d_1 (GlobalM (None, 32)           0           dropout_1[0][0]                  \n",
      "__________________________________________________________________________________________________\n",
      "global_max_pooling1d_2 (GlobalM (None, 64)           0           dropout_2[0][0]                  \n",
      "__________________________________________________________________________________________________\n",
      "global_max_pooling1d_3 (GlobalM (None, 128)          0           dropout_3[0][0]                  \n",
      "__________________________________________________________________________________________________\n",
      "flatten_1 (Flatten)             (None, 16200)        0           concatenate_2[0][0]              \n",
      "__________________________________________________________________________________________________\n",
      "concatenate_3 (Concatenate)     (None, 16424)        0           global_max_pooling1d_1[0][0]     \n",
      "                                                                 global_max_pooling1d_2[0][0]     \n",
      "                                                                 global_max_pooling1d_3[0][0]     \n",
      "                                                                 flatten_1[0][0]                  \n",
      "__________________________________________________________________________________________________\n",
      "dense_3 (Dense)                 (None, 64)           1051200     concatenate_3[0][0]              \n",
      "__________________________________________________________________________________________________\n",
      "dropout_4 (Dropout)             (None, 64)           0           dense_3[0][0]                    \n",
      "__________________________________________________________________________________________________\n",
      "dense_4 (Dense)                 (None, 3)            195         dropout_4[0][0]                  \n",
      "==================================================================================================\n",
      "Total params: 3,697,743\n",
      "Trainable params: 1,667,943\n",
      "Non-trainable params: 2,029,800\n",
      "__________________________________________________________________________________________________\n"
     ]
    }
   ],
   "source": [
    "model = build_model()\n",
    "model.summary()"
   ]
  },
  {
   "cell_type": "code",
   "execution_count": 10,
   "metadata": {},
   "outputs": [
    {
     "name": "stdout",
     "output_type": "stream",
     "text": [
      "TrainRate:80.00% testRate:20.00% validation:8.00%  \n"
     ]
    }
   ],
   "source": [
    "validation_split_rate = 0.1\n",
    "skf = StratifiedKFold(n_splits=5,shuffle=True, random_state=42)\n",
    "Y = [np.argmax(y, axis=None, out=None) for y in Y_train]\n",
    "for tr_index, te_index in skf.split(X_train,Y):\n",
    "    test_index = te_index \n",
    "    train_index = tr_index\n",
    "    \n",
    "trainRate = (len(train_index)/len(Y))*100   \n",
    "testRate = (len(test_index)/len(Y))*100   \n",
    "print (\"TrainRate:{:.2f}% testRate:{:.2f}% validation:{:.2f}%  \".format(trainRate,testRate, trainRate*validation_split_rate))\n",
    "X_train, X_test = X_train[train_index], X_train[test_index] \n",
    "pos_train1, pos_test1 = d1_train_embedded[train_index], d1_train_embedded[test_index] \n",
    "pos_train2, pos_test2 = d2_train_embedded[train_index], d2_train_embedded[test_index] \n",
    "y_train, y_test = Y_train[train_index], Y_train[test_index]\n",
    "\n",
    "\n",
    "\n",
    "# # Saving the training data split as a pickle file\n",
    "# training_data = {\n",
    "#     'X_train': X_train,\n",
    "#     'pos_train1': pos_train1,\n",
    "#     'pos_train2': pos_train2,\n",
    "#     'y_train': y_train\n",
    "# }\n",
    "\n",
    "# with open('training_data.pkl', 'wb') as f:\n",
    "#     pickle.dump(training_data, f)\n",
    "\n",
    "# # Saving the testing data split as a pickle file\n",
    "# testing_data = {\n",
    "#     'X_test': X_test,\n",
    "#     'pos_test1': pos_test1,\n",
    "#     'pos_test2': pos_test2,\n",
    "#     'y_test': y_test\n",
    "# }\n",
    "\n",
    "# with open('testing_data.pkl', 'wb') as f:\n",
    "#     pickle.dump(testing_data, f)\n",
    "    \n",
    "\n"
   ]
  },
  {
   "cell_type": "code",
   "execution_count": 11,
   "metadata": {},
   "outputs": [
    {
     "name": "stdout",
     "output_type": "stream",
     "text": [
      "(4264, 81)\n",
      "(1066, 81)\n"
     ]
    }
   ],
   "source": [
    "# Load the training data from the pickle file\n",
    "with open('training_data.pkl', 'rb') as f:\n",
    "    train_data = pickle.load(f)\n",
    "\n",
    "# Load the testing data from the pickle file\n",
    "with open('testing_data.pkl', 'rb') as f:\n",
    "    test_data = pickle.load(f)\n",
    "\n",
    "# Extract data from the loaded dictionaries\n",
    "X_train = train_data['X_train']\n",
    "pos_train1 = train_data['pos_train1']\n",
    "pos_train2 = train_data['pos_train2']\n",
    "y_train = train_data['y_train']\n",
    "\n",
    "\n",
    "X_test = test_data['X_test']\n",
    "pos_test1 = test_data['pos_test1']\n",
    "pos_test2 = test_data['pos_test2']\n",
    "y_test = test_data['y_test']\n",
    "print(X_train.shape)\n",
    "print(X_test.shape)"
   ]
  },
  {
   "cell_type": "markdown",
   "metadata": {},
   "source": [
    "### Run the Evaluation on the test dataset "
   ]
  },
  {
   "cell_type": "code",
   "execution_count": 12,
   "metadata": {},
   "outputs": [
    {
     "name": "stdout",
     "output_type": "stream",
     "text": [
      "Train on 3837 samples, validate on 427 samples\n",
      "Epoch 1/50\n",
      "3837/3837 [==============================] - 134s 35ms/step - loss: 2780.3397 - acc: 0.4522 - f1: 0.1557 - val_loss: 2779.6699 - val_acc: 0.4333 - val_f1: 0.2862\n",
      "Epoch 2/50\n",
      "3837/3837 [==============================] - 16s 4ms/step - loss: 2779.6495 - acc: 0.4717 - f1: 0.2152 - val_loss: 2779.6760 - val_acc: 0.4379 - val_f1: 0.0000e+00\n",
      "Epoch 3/50\n",
      "3837/3837 [==============================] - 15s 4ms/step - loss: 2779.6943 - acc: 0.4756 - f1: 0.2328 - val_loss: 2779.6339 - val_acc: 0.4520 - val_f1: 0.1126\n",
      "Epoch 4/50\n",
      "3837/3837 [==============================] - 15s 4ms/step - loss: 2779.6121 - acc: 0.4782 - f1: 0.2640 - val_loss: 2779.6475 - val_acc: 0.4450 - val_f1: 0.1833\n",
      "Epoch 5/50\n",
      "3837/3837 [==============================] - 15s 4ms/step - loss: 2779.5923 - acc: 0.5046 - f1: 0.3184 - val_loss: 2779.6017 - val_acc: 0.4754 - val_f1: 0.3563\n",
      "Epoch 6/50\n",
      "3837/3837 [==============================] - 15s 4ms/step - loss: 2779.5891 - acc: 0.5207 - f1: 0.3936 - val_loss: 2779.5443 - val_acc: 0.5269 - val_f1: 0.3319\n",
      "Epoch 7/50\n",
      "3837/3837 [==============================] - 15s 4ms/step - loss: 2779.5729 - acc: 0.5747 - f1: 0.4789 - val_loss: 2779.4975 - val_acc: 0.5808 - val_f1: 0.4736\n",
      "Epoch 8/50\n",
      "3837/3837 [==============================] - 15s 4ms/step - loss: 2779.4549 - acc: 0.6044 - f1: 0.5434 - val_loss: 2779.4850 - val_acc: 0.5691 - val_f1: 0.5268\n",
      "Epoch 9/50\n",
      "3837/3837 [==============================] - 15s 4ms/step - loss: 2779.4592 - acc: 0.6083 - f1: 0.5556 - val_loss: 2779.4880 - val_acc: 0.6136 - val_f1: 0.6029\n",
      "Epoch 10/50\n",
      "3837/3837 [==============================] - 16s 4ms/step - loss: 2779.4649 - acc: 0.6552 - f1: 0.6300 - val_loss: 2779.4806 - val_acc: 0.5902 - val_f1: 0.5760\n",
      "Epoch 11/50\n",
      "3837/3837 [==============================] - 15s 4ms/step - loss: 2779.4065 - acc: 0.6727 - f1: 0.6511 - val_loss: 2779.4394 - val_acc: 0.6487 - val_f1: 0.6292\n",
      "Epoch 12/50\n",
      "3837/3837 [==============================] - 15s 4ms/step - loss: 2779.4547 - acc: 0.6190 - f1: 0.5952 - val_loss: 2779.4847 - val_acc: 0.5644 - val_f1: 0.5329\n",
      "Epoch 13/50\n",
      "3837/3837 [==============================] - 15s 4ms/step - loss: 2779.3941 - acc: 0.6823 - f1: 0.6671 - val_loss: 2779.4446 - val_acc: 0.6089 - val_f1: 0.6010\n",
      "Epoch 14/50\n",
      "3837/3837 [==============================] - 15s 4ms/step - loss: 2779.3539 - acc: 0.6974 - f1: 0.6773 - val_loss: 2779.4530 - val_acc: 0.6206 - val_f1: 0.6101\n",
      "Epoch 15/50\n",
      "3837/3837 [==============================] - 16s 4ms/step - loss: 2779.4770 - acc: 0.7081 - f1: 0.6915 - val_loss: 2779.4025 - val_acc: 0.6768 - val_f1: 0.6558\n",
      "Epoch 16/50\n",
      "3837/3837 [==============================] - 15s 4ms/step - loss: 2779.3432 - acc: 0.7300 - f1: 0.7194 - val_loss: 2779.3852 - val_acc: 0.6838 - val_f1: 0.6918\n",
      "Epoch 17/50\n",
      "3837/3837 [==============================] - 15s 4ms/step - loss: 2779.2838 - acc: 0.7482 - f1: 0.7383 - val_loss: 2779.4634 - val_acc: 0.6651 - val_f1: 0.6513\n",
      "Epoch 18/50\n",
      "3837/3837 [==============================] - 15s 4ms/step - loss: 2779.2747 - acc: 0.7628 - f1: 0.7544 - val_loss: 2779.4039 - val_acc: 0.6932 - val_f1: 0.6938\n",
      "Epoch 19/50\n",
      "3837/3837 [==============================] - 15s 4ms/step - loss: 2779.2369 - acc: 0.7639 - f1: 0.7556 - val_loss: 2779.4242 - val_acc: 0.6815 - val_f1: 0.6746\n",
      "Epoch 20/50\n",
      "3837/3837 [==============================] - 15s 4ms/step - loss: 2779.2064 - acc: 0.7933 - f1: 0.7838 - val_loss: 2779.4328 - val_acc: 0.6628 - val_f1: 0.6495\n",
      "Epoch 21/50\n",
      "3837/3837 [==============================] - 15s 4ms/step - loss: 2779.2524 - acc: 0.8011 - f1: 0.7928 - val_loss: 2779.4012 - val_acc: 0.6932 - val_f1: 0.6983\n",
      "Epoch 22/50\n",
      "3837/3837 [==============================] - 15s 4ms/step - loss: 2779.1452 - acc: 0.8163 - f1: 0.8143 - val_loss: 2779.4248 - val_acc: 0.6487 - val_f1: 0.6466\n",
      "Epoch 23/50\n",
      "3837/3837 [==============================] - 15s 4ms/step - loss: 2779.1810 - acc: 0.8262 - f1: 0.8260 - val_loss: 2779.4629 - val_acc: 0.6745 - val_f1: 0.6675\n",
      "Epoch 24/50\n",
      "3837/3837 [==============================] - 15s 4ms/step - loss: 2779.1134 - acc: 0.8423 - f1: 0.8412 - val_loss: 2779.4890 - val_acc: 0.6956 - val_f1: 0.6919\n",
      "Epoch 25/50\n",
      "3837/3837 [==============================] - 15s 4ms/step - loss: 2779.1405 - acc: 0.8449 - f1: 0.8419 - val_loss: 2779.5274 - val_acc: 0.6511 - val_f1: 0.6544\n",
      "Epoch 26/50\n",
      "3837/3837 [==============================] - 15s 4ms/step - loss: 2779.0867 - acc: 0.8533 - f1: 0.8522 - val_loss: 2779.4808 - val_acc: 0.6651 - val_f1: 0.6723\n",
      "Epoch 27/50\n",
      "3837/3837 [==============================] - 15s 4ms/step - loss: 2779.0690 - acc: 0.8752 - f1: 0.8722 - val_loss: 2779.5467 - val_acc: 0.6628 - val_f1: 0.6458\n",
      "Epoch 28/50\n",
      "3837/3837 [==============================] - 15s 4ms/step - loss: 2779.0163 - acc: 0.8835 - f1: 0.8817 - val_loss: 2779.5127 - val_acc: 0.6768 - val_f1: 0.6767\n",
      "Epoch 29/50\n",
      "3837/3837 [==============================] - 15s 4ms/step - loss: 2778.9911 - acc: 0.8973 - f1: 0.8962 - val_loss: 2779.5349 - val_acc: 0.6604 - val_f1: 0.6548\n",
      "Epoch 30/50\n",
      "3837/3837 [==============================] - 15s 4ms/step - loss: 2779.0193 - acc: 0.8976 - f1: 0.8963 - val_loss: 2779.5848 - val_acc: 0.6440 - val_f1: 0.6381\n",
      "Epoch 31/50\n",
      "3837/3837 [==============================] - 15s 4ms/step - loss: 2778.9969 - acc: 0.9046 - f1: 0.9042 - val_loss: 2779.5279 - val_acc: 0.6721 - val_f1: 0.6759\n",
      "Epoch 32/50\n",
      "3837/3837 [==============================] - 15s 4ms/step - loss: 2778.9527 - acc: 0.9124 - f1: 0.9126 - val_loss: 2779.5695 - val_acc: 0.6862 - val_f1: 0.6887\n",
      "Epoch 33/50\n",
      "3837/3837 [==============================] - 15s 4ms/step - loss: 2779.0045 - acc: 0.9124 - f1: 0.9107 - val_loss: 2779.6091 - val_acc: 0.6651 - val_f1: 0.6684\n",
      "Epoch 34/50\n",
      "3837/3837 [==============================] - 15s 4ms/step - loss: 2778.9306 - acc: 0.9252 - f1: 0.9258 - val_loss: 2779.6103 - val_acc: 0.6674 - val_f1: 0.6704\n",
      "Epoch 35/50\n",
      "3837/3837 [==============================] - 15s 4ms/step - loss: 2779.0780 - acc: 0.9210 - f1: 0.9219 - val_loss: 2779.6212 - val_acc: 0.6792 - val_f1: 0.6855\n",
      "Epoch 36/50\n",
      "3837/3837 [==============================] - 15s 4ms/step - loss: 2778.9977 - acc: 0.9187 - f1: 0.9176 - val_loss: 2779.6071 - val_acc: 0.6792 - val_f1: 0.6884\n",
      "Epoch 37/50\n",
      "3837/3837 [==============================] - 15s 4ms/step - loss: 2778.9499 - acc: 0.9294 - f1: 0.9294 - val_loss: 2779.6633 - val_acc: 0.6862 - val_f1: 0.6770\n",
      "Epoch 38/50\n",
      "3837/3837 [==============================] - 15s 4ms/step - loss: 2778.9597 - acc: 0.9260 - f1: 0.9249 - val_loss: 2779.6880 - val_acc: 0.6838 - val_f1: 0.6819\n",
      "Epoch 39/50\n",
      "3837/3837 [==============================] - 16s 4ms/step - loss: 2778.9169 - acc: 0.9333 - f1: 0.9329 - val_loss: 2779.6387 - val_acc: 0.6721 - val_f1: 0.6702\n",
      "Epoch 40/50\n",
      "3837/3837 [==============================] - 15s 4ms/step - loss: 2778.9074 - acc: 0.9354 - f1: 0.9365 - val_loss: 2779.7365 - val_acc: 0.6651 - val_f1: 0.6635\n",
      "Epoch 41/50\n",
      "3837/3837 [==============================] - 15s 4ms/step - loss: 2779.0502 - acc: 0.9348 - f1: 0.9313 - val_loss: 2779.6527 - val_acc: 0.6628 - val_f1: 0.6724\n",
      "Epoch 42/50\n",
      "3837/3837 [==============================] - 15s 4ms/step - loss: 2779.0230 - acc: 0.9440 - f1: 0.9453 - val_loss: 2779.6870 - val_acc: 0.6815 - val_f1: 0.6756\n",
      "Epoch 43/50\n",
      "3837/3837 [==============================] - 15s 4ms/step - loss: 2778.8834 - acc: 0.9479 - f1: 0.9487 - val_loss: 2779.7654 - val_acc: 0.6628 - val_f1: 0.6578\n",
      "Epoch 44/50\n",
      "3837/3837 [==============================] - 15s 4ms/step - loss: 2778.8493 - acc: 0.9560 - f1: 0.9548 - val_loss: 2779.6741 - val_acc: 0.6885 - val_f1: 0.6798\n",
      "Epoch 45/50\n",
      "3837/3837 [==============================] - 15s 4ms/step - loss: 2778.8757 - acc: 0.9507 - f1: 0.9514 - val_loss: 2779.7536 - val_acc: 0.6932 - val_f1: 0.6878\n",
      "Epoch 46/50\n",
      "3837/3837 [==============================] - 15s 4ms/step - loss: 2778.9165 - acc: 0.9544 - f1: 0.9544 - val_loss: 2779.7397 - val_acc: 0.7002 - val_f1: 0.6947\n",
      "Epoch 47/50\n",
      "3837/3837 [==============================] - 15s 4ms/step - loss: 2778.8242 - acc: 0.9625 - f1: 0.9620 - val_loss: 2779.6613 - val_acc: 0.6909 - val_f1: 0.6981\n",
      "Epoch 48/50\n",
      "3837/3837 [==============================] - 15s 4ms/step - loss: 2778.8486 - acc: 0.9567 - f1: 0.9577 - val_loss: 2779.7434 - val_acc: 0.6792 - val_f1: 0.6725\n",
      "Epoch 49/50\n",
      "3837/3837 [==============================] - 15s 4ms/step - loss: 2778.8367 - acc: 0.9541 - f1: 0.9539 - val_loss: 2779.6761 - val_acc: 0.6909 - val_f1: 0.6882\n",
      "Epoch 50/50\n",
      "3837/3837 [==============================] - 15s 4ms/step - loss: 2778.9597 - acc: 0.9528 - f1: 0.9528 - val_loss: 2779.8483 - val_acc: 0.6815 - val_f1: 0.6845\n"
     ]
    }
   ],
   "source": [
    "MaxEpochs =50\n",
    "batchsize =32\n",
    "validation_split_rate = 0.1\n",
    "history=model.fit([X_train,pos_train1,pos_train2], y_train,validation_split=validation_split_rate ,epochs=MaxEpochs, batch_size=batchsize,verbose=1)"
   ]
  },
  {
   "cell_type": "code",
   "execution_count": 13,
   "metadata": {},
   "outputs": [
    {
     "data": {
      "image/png": "[encoded data removed]",
      "text/plain": [
       "<Figure size 1000x300 with 2 Axes>"
      ]
     },
     "metadata": {},
     "output_type": "display_data"
    }
   ],
   "source": [
    "import matplotlib.pyplot as plt\n",
    "\n",
    "# Training & Validation accuracy\n",
    "train_loss = history.history['loss']\n",
    "val_loss = history.history['val_loss']\n",
    "train_acc = history.history['acc']\n",
    "val_acc = history.history['val_acc']\n",
    "epochs = len(train_loss)\n",
    "\n",
    "xc = range(epochs)\n",
    "\n",
    "plt.figure(figsize=(10, 3))\n",
    "\n",
    "# Loss subplot\n",
    "plt.subplot(1, 2, 1)\n",
    "plt.plot(xc, train_loss, label='Training Loss')\n",
    "plt.plot(xc, val_loss, label='Validation Loss')\n",
    "plt.xlabel('Number of Epochs', fontsize=10)\n",
    "plt.ylabel('Loss', fontsize=10)\n",
    "plt.title('Training and Validation Loss', fontsize=12)\n",
    "plt.legend(fontsize=8)\n",
    "plt.grid(True)\n",
    "\n",
    "# Accuracy subplot\n",
    "plt.subplot(1, 2, 2)\n",
    "plt.plot(xc, train_acc, label='Training Accuracy')\n",
    "plt.plot(xc, val_acc, label='Validation Accuracy')\n",
    "plt.xlabel('Number of Epochs', fontsize=10)\n",
    "plt.ylabel('Accuracy', fontsize=10)\n",
    "plt.title('Training and Validation Accuracy', fontsize=12)\n",
    "plt.legend(fontsize=8, loc='lower right')  # Change position to lower right\n",
    "plt.grid(True)\n",
    "\n",
    "plt.tight_layout()\n",
    "plt.show()\n"
   ]
  },
  {
   "cell_type": "code",
   "execution_count": 14,
   "metadata": {},
   "outputs": [
    {
     "name": "stdout",
     "output_type": "stream",
     "text": [
      "Training Classification Report:\n",
      "              precision    recall  f1-score   support\n",
      "\n",
      "           0       0.93      0.97      0.95      2023\n",
      "           1       0.97      0.91      0.94      1468\n",
      "           2       0.93      0.94      0.93       773\n",
      "\n",
      "    accuracy                           0.94      4264\n",
      "   macro avg       0.94      0.94      0.94      4264\n",
      "weighted avg       0.94      0.94      0.94      4264\n",
      "\n",
      "Training Accuracy: 94.18%\n",
      "Training Precision: 94.32%\n",
      "Training Recall: 93.76%\n",
      "Training F1 Score: 93.99%\n"
     ]
    }
   ],
   "source": [
    "import torch\n",
    "from sklearn.metrics import accuracy_score, classification_report, precision_recall_fscore_support\n",
    "\n",
    "# Predict on the training dataset\n",
    "train_predicted = np.argmax(model.predict([X_train, pos_train1, pos_train2]), axis=1)\n",
    "y_train_to_label = np.argmax(y_train, axis=1)\n",
    "\n",
    "# Calculate accuracy, precision, recall, and F1-score for the training data\n",
    "train_accuracy = accuracy_score(y_train_to_label, train_predicted)\n",
    "train_prec, train_reca, train_fscore, _ = precision_recall_fscore_support(y_train_to_label, train_predicted, average=param)\n",
    "\n",
    "# Print the classification report for the training data\n",
    "print(\"Training Classification Report:\")\n",
    "print(classification_report(y_train_to_label, train_predicted))\n",
    "\n",
    "# Print the precision, recall, and F1-score for the training data\n",
    "print(\"Training Accuracy: {:.2f}%\".format(train_accuracy * 100))\n",
    "print(\"Training Precision: {:.2f}%\".format(train_prec * 100))\n",
    "print(\"Training Recall: {:.2f}%\".format(train_reca * 100))\n",
    "print(\"Training F1 Score: {:.2f}%\".format(train_fscore * 100))\n"
   ]
  },
  {
   "cell_type": "code",
   "execution_count": 15,
   "metadata": {},
   "outputs": [
    {
     "name": "stdout",
     "output_type": "stream",
     "text": [
      "              precision    recall  f1-score   support\n",
      "\n",
      "           0     0.7969    0.8913    0.8414       515\n",
      "           1     0.8793    0.7456    0.8070       342\n",
      "           2     0.8200    0.7847    0.8020       209\n",
      "\n",
      "    accuracy                         0.8236      1066\n",
      "   macro avg     0.8321    0.8072    0.8168      1066\n",
      "weighted avg     0.8279    0.8236    0.8226      1066\n",
      "\n",
      " Precision:83.21% Recall:80.72% Fscore:81.68% \n"
     ]
    }
   ],
   "source": [
    "predicted = np.argmax(model.predict([X_test,pos_test1,pos_test2]), axis=1)\n",
    "y_test_to_label = np.argmax(y_test, axis=1)\n",
    "prec, reca, fscore, sup = precision_recall_fscore_support(y_test_to_label, predicted, average=param)\n",
    "# Generate the classification report as a dictionary\n",
    "report_dict = classification_report(y_test_to_label, predicted, output_dict=True)\n",
    "\n",
    "# Create a new dictionary to hold the formatted values\n",
    "formatted_report_dict = {}\n",
    "\n",
    "# Iterate over the items in the report dictionary\n",
    "for key, value in report_dict.items():\n",
    "    if isinstance(value, dict):\n",
    "        # Format the nested dictionary values\n",
    "        formatted_report_dict[key] = {sub_key: f\"{sub_value:.4f}\" for sub_key, sub_value in value.items()}\n",
    "    else:\n",
    "        # Format the top-level dictionary values\n",
    "        formatted_report_dict[key] = f\"{value:.4f}\"\n",
    "\n",
    "# Create a string representation of the formatted dictionary\n",
    "formatted_report_str = classification_report(y_test_to_label, predicted, digits=4)\n",
    "\n",
    "# Print the formatted classification report\n",
    "print(formatted_report_str)\n",
    "print(\" Precision:{:.2f}% Recall:{:.2f}% Fscore:{:.2f}% \".format(prec*100, reca*100, fscore*100))"
   ]
  },
  {
   "cell_type": "code",
   "execution_count": 16,
   "metadata": {},
   "outputs": [
    {
     "data": {
      "image/png": "[encoded data removed]",
      "text/plain": [
       "<Figure size 1000x700 with 2 Axes>"
      ]
     },
     "metadata": {},
     "output_type": "display_data"
    },
    {
     "name": "stdout",
     "output_type": "stream",
     "text": [
      " Precision:83.21% Recall:80.72% Fscore:81.68% \n"
     ]
    }
   ],
   "source": [
    "import numpy as np\n",
    "import matplotlib.pyplot as plt\n",
    "import seaborn as sns\n",
    "from sklearn.metrics import classification_report, confusion_matrix, precision_recall_fscore_support\n",
    "from sklearn.model_selection import StratifiedKFold\n",
    "# Calculate and visualize the confusion matrix\n",
    "cm = confusion_matrix(y_test_to_label, predicted)\n",
    "plt.figure(figsize=(10, 7))\n",
    "sns.heatmap(cm, annot=True, fmt='d', cmap='Blues', xticklabels=['0', '1','2'], yticklabels=['0', '1','2'])\n",
    "plt.xlabel('Predicted')\n",
    "plt.ylabel('Actual')\n",
    "plt.title('Confusion Matrix')\n",
    "plt.show()\n",
    "\n",
    "# Print precision, recall, and f-score\n",
    "prec, reca, fscore, sup = precision_recall_fscore_support(y_test_to_label, predicted, average=param)\n",
    "print(\" Precision:{:.2f}% Recall:{:.2f}% Fscore:{:.2f}% \".format(prec*100, reca*100, fscore*100))"
   ]
  },
  {
   "cell_type": "code",
   "execution_count": null,
   "metadata": {},
   "outputs": [],
   "source": []
  }
 ],
 "metadata": {
  "kernelspec": {
   "display_name": "Python 3 (ipykernel)",
   "language": "python",
   "name": "python3"
  },
  "language_info": {
   "codemirror_mode": {
    "name": "ipython",
    "version": 3
   },
   "file_extension": ".py",
   "mimetype": "text/x-python",
   "name": "python",
   "nbconvert_exporter": "python",
   "pygments_lexer": "ipython3",
   "version": "3.7.16"
  }
 },
 "nbformat": 4,
 "nbformat_minor": 2
}
