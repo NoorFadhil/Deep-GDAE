{
 "cells": [
  {
   "cell_type": "markdown",
   "metadata": {},
   "source": [
    "# model 1 \n",
    "\n",
    " sara \n"
   ]
  },
  {
   "cell_type": "markdown",
   "metadata": {},
   "source": [
    "#  -------------------------------------------------------------------------------------------"
   ]
  },
  {
   "cell_type": "markdown",
   "metadata": {},
   "source": [
    "# imports"
   ]
  },
  {
   "cell_type": "code",
   "execution_count": 2,
   "metadata": {},
   "outputs": [],
   "source": [
    "import tensorflow as tf\n",
    "import keras\n",
    "from keras.models import load_model\n",
    "from keras.callbacks import ModelCheckpoint, EarlyStopping\n",
    "from keras_tqdm import TQDMNotebookCallback\n",
    "import numpy as np\n",
    "np.random.seed(1337)\n",
    "from keras_tqdm import TQDMNotebookCallback\n",
    "import nltk\n",
    "import xml.etree.ElementTree as ET\n",
    "import pandas as pd\n",
    "import os\n",
    "import string\n",
    "from nltk.tokenize import TreebankWordTokenizer\n",
    "from numpy.random import random_sample\n",
    "import re\n",
    "import pickle\n",
    "from sklearn.metrics import accuracy_score\n",
    "from sklearn.metrics import classification_report\n",
    "\n",
    "from keras.layers import Embedding, Flatten,LSTM, GRU\n",
    "from keras.layers.convolutional import Conv2D, MaxPooling2D\n",
    "from tensorflow.keras.utils import to_categorical\n",
    "from tensorflow.keras.models import Sequential, Model\n",
    "from keras.layers import Dense, Dropout, Activation,  Input, merge,Conv1D,MaxPooling1D,GlobalMaxPooling1D,Convolution1D\n",
    "from keras import regularizers\n",
    "from sklearn.metrics import precision_recall_fscore_support\n",
    "from sklearn.model_selection import StratifiedKFold\n",
    "import matplotlib.pyplot as plt\n",
    "from keras.layers import Concatenate, concatenate\n",
    "from keras import backend as K\n",
    "from keras.layers import multiply\n",
    "from keras.layers import merge\n",
    "from keras.layers.core import *\n",
    "from keras.layers.recurrent import LSTM\n",
    "from keras.models import *\n",
    "random_seed=1337"
   ]
  },
  {
   "cell_type": "markdown",
   "metadata": {},
   "source": [
    "###  Define Callback functions to generate Measures"
   ]
  },
  {
   "cell_type": "code",
   "execution_count": 4,
   "metadata": {},
   "outputs": [],
   "source": [
    "from keras import backend as K\n",
    "\n",
    "def f1(y_true, y_pred):\n",
    "    def recall(y_true, y_pred):\n",
    "        true_positives = K.sum(K.round(K.clip(y_true * y_pred, 0, 1)))\n",
    "        possible_positives = K.sum(K.round(K.clip(y_true, 0, 1)))\n",
    "        recall = true_positives / (possible_positives + K.epsilon())\n",
    "        return recall\n",
    "\n",
    "    def precision(y_true, y_pred):\n",
    "        true_positives = K.sum(K.round(K.clip(y_true * y_pred, 0, 1)))\n",
    "        predicted_positives = K.sum(K.round(K.clip(y_pred, 0, 1)))\n",
    "        precision = true_positives / (predicted_positives + K.epsilon())\n",
    "        return precision\n",
    "    precision = precision(y_true, y_pred)\n",
    "    recall = recall(y_true, y_pred)\n",
    "    return 2*((precision*recall)/(precision+recall+K.epsilon()))\n"
   ]
  },
  {
   "cell_type": "markdown",
   "metadata": {},
   "source": [
    "# Experiments to reproduce the results of Table 9 "
   ]
  },
  {
   "cell_type": "markdown",
   "metadata": {},
   "source": [
    "### Load pre procssed Data"
   ]
  },
  {
   "cell_type": "code",
   "execution_count": 9,
   "metadata": {},
   "outputs": [
    {
     "name": "stdout",
     "output_type": "stream",
     "text": [
      "word_vectors 6766\n"
     ]
    }
   ],
   "source": [
    "with open('../data/pickles/befree_3class_crawl-300d-2M.pickle', 'rb') as handle:\n",
    "    gene_id_list = pickle.load(handle)\n",
    "    gene_symbol_list = pickle.load(handle)\n",
    "    disease_id_list = pickle.load(handle)    \n",
    "    X_train = pickle.load(handle)\n",
    "    distance1_vectors = pickle.load(handle)\n",
    "    distance2_vectors = pickle.load(handle)\n",
    "    Y_train = pickle.load(handle)\n",
    "    word_list = pickle.load(handle)\n",
    "    word_vectors = pickle.load(handle)\n",
    "    word_dict = pickle.load(handle)\n",
    "    distance1_dict = pickle.load(handle)\n",
    "    distance2_dict = pickle.load(handle)\n",
    "    label_dict = pickle.load(handle)\n",
    "    MAX_SEQUENCE_LENGTH = pickle.load(handle)\n",
    "print (\"word_vectors\",len(word_vectors))"
   ]
  },
  {
   "cell_type": "markdown",
   "metadata": {},
   "source": [
    "position embedding"
   ]
  },
  {
   "cell_type": "code",
   "execution_count": 12,
   "metadata": {},
   "outputs": [
    {
     "data": {
      "text/plain": [
       "(5330, 81, 20)"
      ]
     },
     "execution_count": 12,
     "metadata": {},
     "output_type": "execute_result"
    }
   ],
   "source": [
    "import keras\n",
    "from keras_pos_embd import TrigPosEmbedding\n",
    "\n",
    "model = keras.models.Sequential()\n",
    "model.add(TrigPosEmbedding(\n",
    "    input_shape=(None,),\n",
    "    output_dim=20,                      # The dimension of embeddings.\n",
    "    mode=TrigPosEmbedding.MODE_EXPAND,  # Use `expand` mode\n",
    "    name='Pos-Embd',\n",
    "))\n",
    "model.compile('adam', keras.losses.mae, {})\n",
    "\n",
    "\n",
    "d1_train_embedded=model.predict(distance1_vectors)\n",
    "\n",
    "d1_train_embedded.shape\n",
    "\n",
    "d2_train_embedded=model.predict(distance2_vectors)\n",
    "\n",
    "d2_train_embedded.shape"
   ]
  },
  {
   "cell_type": "markdown",
   "metadata": {},
   "source": [
    "### Prepare Word Embedding Layer"
   ]
  },
  {
   "cell_type": "code",
   "execution_count": 15,
   "metadata": {},
   "outputs": [
    {
     "name": "stdout",
     "output_type": "stream",
     "text": [
      "EMBEDDING_DIM= 300\n"
     ]
    }
   ],
   "source": [
    "EMBEDDING_DIM=word_vectors.shape[1]\n",
    "print(\"EMBEDDING_DIM=\",EMBEDDING_DIM)\n",
    "embedding_matrix=word_vectors\n",
    "\n",
    "def create_embedding_layer(l2_reg=0.01,use_pretrained=True,is_trainable=False):\n",
    "    \n",
    "    if use_pretrained:        \n",
    "        return Embedding(len(word_dict) ,EMBEDDING_DIM,weights=[embedding_matrix],input_length=MAX_SEQUENCE_LENGTH,trainable=is_trainable,embeddings_regularizer=regularizers.l2(l2_reg))\n",
    "    \n",
    "    else:    \n",
    "        return Embedding(len(word_dict) ,EMBEDDING_DIM,input_length=MAX_SEQUENCE_LENGTH)\n",
    "            \n",
    "    "
   ]
  },
  {
   "cell_type": "markdown",
   "metadata": {},
   "source": [
    "attention"
   ]
  },
  {
   "cell_type": "code",
   "execution_count": 18,
   "metadata": {},
   "outputs": [],
   "source": [
    "INPUT_DIM = 2\n",
    "TIME_STEPS = MAX_SEQUENCE_LENGTH\n",
    "def attentionNew(inputs):\n",
    "    inputs = Lambda(lambda x: tf.keras.backend.tanh(x))(inputs)\n",
    "    input_dim = int(inputs.shape[2])\n",
    "    a = Permute((2, 1))(inputs)\n",
    "    a = Dense(TIME_STEPS, activation='softmax')(a)\n",
    "    a_probs = Permute((2, 1))(a)\n",
    "    output_attention_mul = multiply([inputs, a_probs])\n",
    "    output_attention_mul = Lambda(lambda x: tf.keras.backend.tanh(x))(output_attention_mul)\n",
    "    return output_attention_mul"
   ]
  },
  {
   "cell_type": "markdown",
   "metadata": {},
   "source": [
    "### Create the Model"
   ]
  },
  {
   "cell_type": "code",
   "execution_count": 21,
   "metadata": {},
   "outputs": [],
   "source": [
    "# set parameter for metric calculation, 'macro' for multiclass classification\n",
    "param='macro' \n",
    "from keras.optimizers import Adam\n",
    "def build_model():    \n",
    "\n",
    "    sequence_input = Input(shape=(MAX_SEQUENCE_LENGTH,), dtype='int32')\n",
    "    embedding_layer=create_embedding_layer(use_pretrained=True,is_trainable=False)\n",
    "    embedded_sequences = embedding_layer(sequence_input)\n",
    "\n",
    "    \n",
    "    pos_embedd_1=Input(shape=(MAX_SEQUENCE_LENGTH,20), dtype='float32')\n",
    "    pos_embedd_2=Input(shape=(MAX_SEQUENCE_LENGTH,20), dtype='float32')\n",
    "    \n",
    "    embedded_sequences = concatenate([embedded_sequences,pos_embedd_1,pos_embedd_2])\n",
    "        \n",
    "    \n",
    "    x = Conv1D(64, 5, activation='relu')(embedded_sequences)\n",
    "    x = MaxPooling1D(3)(x)\n",
    "    x = Dropout(0.4)(x)\n",
    "    conv_sequence_w5=GlobalMaxPooling1D()(x)    #x = Flatten()(x)\n",
    "\n",
    "\n",
    "        \n",
    "    x = Conv1D(128, 3, activation='relu')(embedded_sequences)\n",
    "    x = MaxPooling1D(3)(x)\n",
    "    x = Dropout(0.4)(x)\n",
    "    conv_sequence_w4=GlobalMaxPooling1D()(x)    #x = Flatten()(x)\n",
    "\n",
    "\n",
    "            \n",
    "    x = Conv1D(256, 3, activation='relu')(embedded_sequences)\n",
    "    x = MaxPooling1D(3)(x)\n",
    "    x = Dropout(0.4)(x)\n",
    "    conv_sequence_w3=GlobalMaxPooling1D()(x)    #x = Flatten()(x)\n",
    "\n",
    "    forward = GRU(100, recurrent_dropout=0.1, return_sequences=True)(embedded_sequences)\n",
    "    backward = LSTM(100, go_backwards=True, recurrent_dropout=0.1, return_sequences=True)(embedded_sequences)\n",
    "    lstm_gru_sequence = concatenate([forward, backward], axis=-1)\n",
    "    # Apply attention mechanism\n",
    "    attention_output = attentionNew(lstm_gru_sequence)  # Shape: (None, MAX_SEQUENCE_LENGTH, 200)\n",
    "    attention_pooled = GlobalMaxPooling1D()(attention_output)  # Shape: (None, 200)\n",
    "    \n",
    "    merge = concatenate([conv_sequence_w5,conv_sequence_w4,conv_sequence_w3,attention_pooled])\n",
    "    x = Dense(128, activation='relu', kernel_regularizer=regularizers.l2(0.05))(merge)\n",
    "    x = Dropout(0.4)(x)\n",
    "    preds = Dense(3, activation='softmax')(x)\n",
    "    model = Model(inputs=[sequence_input, pos_embedd_1,pos_embedd_2],outputs=preds)\n",
    "    opt=tf.keras.optimizers.Adam(learning_rate=0.001)\n",
    "    model.compile(loss='categorical_crossentropy',optimizer=opt,metrics=['acc',f1])\n",
    "    return model\n",
    "    "
   ]
  },
  {
   "cell_type": "code",
   "execution_count": 23,
   "metadata": {},
   "outputs": [
    {
     "name": "stdout",
     "output_type": "stream",
     "text": [
      "Model: \"model_1\"\n",
      "__________________________________________________________________________________________________\n",
      "Layer (type)                    Output Shape         Param #     Connected to                     \n",
      "==================================================================================================\n",
      "input_1 (InputLayer)            (None, 81)           0                                            \n",
      "__________________________________________________________________________________________________\n",
      "embedding_1 (Embedding)         (None, 81, 300)      2029800     input_1[0][0]                    \n",
      "__________________________________________________________________________________________________\n",
      "input_2 (InputLayer)            (None, 81, 20)       0                                            \n",
      "__________________________________________________________________________________________________\n",
      "input_3 (InputLayer)            (None, 81, 20)       0                                            \n",
      "__________________________________________________________________________________________________\n",
      "concatenate_1 (Concatenate)     (None, 81, 340)      0           embedding_1[0][0]                \n",
      "                                                                 input_2[0][0]                    \n",
      "                                                                 input_3[0][0]                    \n",
      "__________________________________________________________________________________________________\n",
      "gru_1 (GRU)                     (None, 81, 100)      132300      concatenate_1[0][0]              \n",
      "__________________________________________________________________________________________________\n",
      "lstm_1 (LSTM)                   (None, 81, 100)      176400      concatenate_1[0][0]              \n",
      "__________________________________________________________________________________________________\n",
      "concatenate_2 (Concatenate)     (None, 81, 200)      0           gru_1[0][0]                      \n",
      "                                                                 lstm_1[0][0]                     \n",
      "__________________________________________________________________________________________________\n",
      "lambda_1 (Lambda)               (None, 81, 200)      0           concatenate_2[0][0]              \n",
      "__________________________________________________________________________________________________\n",
      "permute_1 (Permute)             (None, 200, 81)      0           lambda_1[0][0]                   \n",
      "__________________________________________________________________________________________________\n",
      "dense_1 (Dense)                 (None, 200, 81)      6642        permute_1[0][0]                  \n",
      "__________________________________________________________________________________________________\n",
      "conv1d_1 (Conv1D)               (None, 77, 64)       108864      concatenate_1[0][0]              \n",
      "__________________________________________________________________________________________________\n",
      "conv1d_2 (Conv1D)               (None, 79, 128)      130688      concatenate_1[0][0]              \n",
      "__________________________________________________________________________________________________\n",
      "conv1d_3 (Conv1D)               (None, 79, 256)      261376      concatenate_1[0][0]              \n",
      "__________________________________________________________________________________________________\n",
      "permute_2 (Permute)             (None, 81, 200)      0           dense_1[0][0]                    \n",
      "__________________________________________________________________________________________________\n",
      "max_pooling1d_1 (MaxPooling1D)  (None, 25, 64)       0           conv1d_1[0][0]                   \n",
      "__________________________________________________________________________________________________\n",
      "max_pooling1d_2 (MaxPooling1D)  (None, 26, 128)      0           conv1d_2[0][0]                   \n",
      "__________________________________________________________________________________________________\n",
      "max_pooling1d_3 (MaxPooling1D)  (None, 26, 256)      0           conv1d_3[0][0]                   \n",
      "__________________________________________________________________________________________________\n",
      "multiply_1 (Multiply)           (None, 81, 200)      0           lambda_1[0][0]                   \n",
      "                                                                 permute_2[0][0]                  \n",
      "__________________________________________________________________________________________________\n",
      "dropout_1 (Dropout)             (None, 25, 64)       0           max_pooling1d_1[0][0]            \n",
      "__________________________________________________________________________________________________\n",
      "dropout_2 (Dropout)             (None, 26, 128)      0           max_pooling1d_2[0][0]            \n",
      "__________________________________________________________________________________________________\n",
      "dropout_3 (Dropout)             (None, 26, 256)      0           max_pooling1d_3[0][0]            \n",
      "__________________________________________________________________________________________________\n",
      "lambda_2 (Lambda)               (None, 81, 200)      0           multiply_1[0][0]                 \n",
      "__________________________________________________________________________________________________\n",
      "global_max_pooling1d_1 (GlobalM (None, 64)           0           dropout_1[0][0]                  \n",
      "__________________________________________________________________________________________________\n",
      "global_max_pooling1d_2 (GlobalM (None, 128)          0           dropout_2[0][0]                  \n",
      "__________________________________________________________________________________________________\n",
      "global_max_pooling1d_3 (GlobalM (None, 256)          0           dropout_3[0][0]                  \n",
      "__________________________________________________________________________________________________\n",
      "global_max_pooling1d_4 (GlobalM (None, 200)          0           lambda_2[0][0]                   \n",
      "__________________________________________________________________________________________________\n",
      "concatenate_3 (Concatenate)     (None, 648)          0           global_max_pooling1d_1[0][0]     \n",
      "                                                                 global_max_pooling1d_2[0][0]     \n",
      "                                                                 global_max_pooling1d_3[0][0]     \n",
      "                                                                 global_max_pooling1d_4[0][0]     \n",
      "__________________________________________________________________________________________________\n",
      "dense_2 (Dense)                 (None, 128)          83072       concatenate_3[0][0]              \n",
      "__________________________________________________________________________________________________\n",
      "dropout_4 (Dropout)             (None, 128)          0           dense_2[0][0]                    \n",
      "__________________________________________________________________________________________________\n",
      "dense_3 (Dense)                 (None, 3)            387         dropout_4[0][0]                  \n",
      "==================================================================================================\n",
      "Total params: 2,929,529\n",
      "Trainable params: 899,729\n",
      "Non-trainable params: 2,029,800\n",
      "__________________________________________________________________________________________________\n"
     ]
    }
   ],
   "source": [
    "model = build_model()\n",
    "model.summary()"
   ]
  },
  {
   "cell_type": "code",
   "execution_count": 9,
   "metadata": {},
   "outputs": [
    {
     "name": "stdout",
     "output_type": "stream",
     "text": [
      "TrainRate:80.00% testRate:20.00% validation:8.00%  \n"
     ]
    }
   ],
   "source": [
    "validation_split_rate = 0.1\n",
    "skf = StratifiedKFold(n_splits=5,shuffle=True, random_state=42)\n",
    "Y = [np.argmax(y, axis=None, out=None) for y in Y_train]\n",
    "for tr_index, te_index in skf.split(X_train,Y):\n",
    "    test_index = te_index \n",
    "    train_index = tr_index\n",
    "    \n",
    "trainRate = (len(train_index)/len(Y))*100   \n",
    "testRate = (len(test_index)/len(Y))*100   \n",
    "print (\"TrainRate:{:.2f}% testRate:{:.2f}% validation:{:.2f}%  \".format(trainRate,testRate, trainRate*validation_split_rate))\n",
    "X_train, X_test = X_train[train_index], X_train[test_index] \n",
    "pos_train1, pos_test1 = d1_train_embedded[train_index], d1_train_embedded[test_index] \n",
    "pos_train2, pos_test2 = d2_train_embedded[train_index], d2_train_embedded[test_index] \n",
    "y_train, y_test = Y_train[train_index], Y_train[test_index]\n",
    "\n",
    "\n",
    "\n",
    "# # Saving the training data split as a pickle file\n",
    "# training_data = {\n",
    "#     'X_train': X_train,\n",
    "#     'pos_train1': pos_train1,\n",
    "#     'pos_train2': pos_train2,\n",
    "#     'y_train': y_train\n",
    "# }\n",
    "\n",
    "# with open('training_data.pkl', 'wb') as f:\n",
    "#     pickle.dump(training_data, f)\n",
    "\n",
    "# # Saving the testing data split as a pickle file\n",
    "# testing_data = {\n",
    "#     'X_test': X_test,\n",
    "#     'pos_test1': pos_test1,\n",
    "#     'pos_test2': pos_test2,\n",
    "#     'y_test': y_test\n",
    "# }\n",
    "\n",
    "# with open('testing_data.pkl', 'wb') as f:\n",
    "#     pickle.dump(testing_data, f)\n",
    "    \n",
    "\n"
   ]
  },
  {
   "cell_type": "code",
   "execution_count": 10,
   "metadata": {},
   "outputs": [
    {
     "name": "stdout",
     "output_type": "stream",
     "text": [
      "(4264, 81)\n",
      "(1066, 81)\n"
     ]
    }
   ],
   "source": [
    "# Load the training data from the pickle file\n",
    "with open('training_data.pkl', 'rb') as f:\n",
    "    train_data = pickle.load(f)\n",
    "\n",
    "# Load the testing data from the pickle file\n",
    "with open('testing_data.pkl', 'rb') as f:\n",
    "    test_data = pickle.load(f)\n",
    "\n",
    "# Extract data from the loaded dictionaries\n",
    "X_train = train_data['X_train']\n",
    "pos_train1 = train_data['pos_train1']\n",
    "pos_train2 = train_data['pos_train2']\n",
    "y_train = train_data['y_train']\n",
    "\n",
    "\n",
    "X_test = test_data['X_test']\n",
    "pos_test1 = test_data['pos_test1']\n",
    "pos_test2 = test_data['pos_test2']\n",
    "y_test = test_data['y_test']\n",
    "print(X_train.shape)\n",
    "print(X_test.shape)"
   ]
  },
  {
   "cell_type": "markdown",
   "metadata": {},
   "source": [
    "### Run the Evaluation on the test dataset "
   ]
  },
  {
   "cell_type": "code",
   "execution_count": 11,
   "metadata": {},
   "outputs": [
    {
     "name": "stdout",
     "output_type": "stream",
     "text": [
      "Train on 3837 samples, validate on 427 samples\n",
      "Epoch 1/70\n",
      "3837/3837 [==============================] - 13s 3ms/step - loss: 2789.0856 - acc: 0.4438 - f1: 0.3066 - val_loss: 2787.7002 - val_acc: 0.4988 - val_f1: 0.0211\n",
      "Epoch 2/70\n",
      "3837/3837 [==============================] - 12s 3ms/step - loss: 2786.6357 - acc: 0.4814 - f1: 0.2908 - val_loss: 2785.6618 - val_acc: 0.5012 - val_f1: 0.0536\n",
      "Epoch 3/70\n",
      "3837/3837 [==============================] - 12s 3ms/step - loss: 2784.8455 - acc: 0.5033 - f1: 0.3376 - val_loss: 2784.1454 - val_acc: 0.5012 - val_f1: 0.0664\n",
      "Epoch 4/70\n",
      "3837/3837 [==============================] - 12s 3ms/step - loss: 2783.5244 - acc: 0.5121 - f1: 0.3588 - val_loss: 2783.0171 - val_acc: 0.5105 - val_f1: 0.0822\n",
      "Epoch 5/70\n",
      "3837/3837 [==============================] - 12s 3ms/step - loss: 2782.5451 - acc: 0.5283 - f1: 0.4026 - val_loss: 2782.1919 - val_acc: 0.5457 - val_f1: 0.1137\n",
      "Epoch 6/70\n",
      "3837/3837 [==============================] - 11s 3ms/step - loss: 2781.8217 - acc: 0.5444 - f1: 0.4170 - val_loss: 2781.5689 - val_acc: 0.5035 - val_f1: 0.3113\n",
      "Epoch 7/70\n",
      "3837/3837 [==============================] - 12s 3ms/step - loss: 2781.2928 - acc: 0.5543 - f1: 0.4425 - val_loss: 2781.1235 - val_acc: 0.5363 - val_f1: 0.2943\n",
      "Epoch 8/70\n",
      "3837/3837 [==============================] - 12s 3ms/step - loss: 2780.8872 - acc: 0.5882 - f1: 0.4786 - val_loss: 2780.7930 - val_acc: 0.5972 - val_f1: 0.2512\n",
      "Epoch 9/70\n",
      "3837/3837 [==============================] - 12s 3ms/step - loss: 2780.5922 - acc: 0.5979 - f1: 0.5030 - val_loss: 2780.5321 - val_acc: 0.6370 - val_f1: 0.3036\n",
      "Epoch 10/70\n",
      "3837/3837 [==============================] - 12s 3ms/step - loss: 2780.3610 - acc: 0.6171 - f1: 0.5306 - val_loss: 2780.3397 - val_acc: 0.5785 - val_f1: 0.4340\n",
      "Epoch 11/70\n",
      "3837/3837 [==============================] - 12s 3ms/step - loss: 2780.1752 - acc: 0.6458 - f1: 0.5696 - val_loss: 2780.1740 - val_acc: 0.6674 - val_f1: 0.4532\n",
      "Epoch 12/70\n",
      "3837/3837 [==============================] - 13s 3ms/step - loss: 2780.0211 - acc: 0.6635 - f1: 0.6071 - val_loss: 2780.0620 - val_acc: 0.6768 - val_f1: 0.5010\n",
      "Epoch 13/70\n",
      "3837/3837 [==============================] - 12s 3ms/step - loss: 2779.9138 - acc: 0.6690 - f1: 0.6268 - val_loss: 2779.9890 - val_acc: 0.6581 - val_f1: 0.5135\n",
      "Epoch 14/70\n",
      "3837/3837 [==============================] - 12s 3ms/step - loss: 2779.8075 - acc: 0.7107 - f1: 0.6636 - val_loss: 2779.8629 - val_acc: 0.6909 - val_f1: 0.5822\n",
      "Epoch 15/70\n",
      "3837/3837 [==============================] - 12s 3ms/step - loss: 2779.7264 - acc: 0.7071 - f1: 0.6789 - val_loss: 2779.7740 - val_acc: 0.6885 - val_f1: 0.6211\n",
      "Epoch 16/70\n",
      "3837/3837 [==============================] - 13s 3ms/step - loss: 2779.6514 - acc: 0.7227 - f1: 0.7003 - val_loss: 2779.7480 - val_acc: 0.6792 - val_f1: 0.6135\n",
      "Epoch 17/70\n",
      "3837/3837 [==============================] - 13s 3ms/step - loss: 2779.5906 - acc: 0.7318 - f1: 0.7127 - val_loss: 2779.6872 - val_acc: 0.6909 - val_f1: 0.6506\n",
      "Epoch 18/70\n",
      "3837/3837 [==============================] - 12s 3ms/step - loss: 2779.5276 - acc: 0.7519 - f1: 0.7351 - val_loss: 2779.6462 - val_acc: 0.6932 - val_f1: 0.6522\n",
      "Epoch 19/70\n",
      "3837/3837 [==============================] - 12s 3ms/step - loss: 2779.4892 - acc: 0.7587 - f1: 0.7358 - val_loss: 2779.5992 - val_acc: 0.6909 - val_f1: 0.6658\n",
      "Epoch 20/70\n",
      "3837/3837 [==============================] - 12s 3ms/step - loss: 2779.4434 - acc: 0.7709 - f1: 0.7555 - val_loss: 2779.5709 - val_acc: 0.7096 - val_f1: 0.6681\n",
      "Epoch 21/70\n",
      "3837/3837 [==============================] - 12s 3ms/step - loss: 2779.3967 - acc: 0.7897 - f1: 0.7761 - val_loss: 2779.5504 - val_acc: 0.6792 - val_f1: 0.6608\n",
      "Epoch 22/70\n",
      "3837/3837 [==============================] - 12s 3ms/step - loss: 2779.3670 - acc: 0.7944 - f1: 0.7824 - val_loss: 2779.5271 - val_acc: 0.6792 - val_f1: 0.6602\n",
      "Epoch 23/70\n",
      "3837/3837 [==============================] - 12s 3ms/step - loss: 2779.3390 - acc: 0.8004 - f1: 0.7905 - val_loss: 2779.5123 - val_acc: 0.6721 - val_f1: 0.6528\n",
      "Epoch 24/70\n",
      "3837/3837 [==============================] - 12s 3ms/step - loss: 2779.3051 - acc: 0.8118 - f1: 0.8016 - val_loss: 2779.4807 - val_acc: 0.6885 - val_f1: 0.6672\n",
      "Epoch 25/70\n",
      "3837/3837 [==============================] - 12s 3ms/step - loss: 2779.2698 - acc: 0.8225 - f1: 0.8135 - val_loss: 2779.4688 - val_acc: 0.7002 - val_f1: 0.6762\n",
      "Epoch 26/70\n",
      "3837/3837 [==============================] - 12s 3ms/step - loss: 2779.2440 - acc: 0.8337 - f1: 0.8287 - val_loss: 2779.4643 - val_acc: 0.6815 - val_f1: 0.6673\n",
      "Epoch 27/70\n",
      "3837/3837 [==============================] - 12s 3ms/step - loss: 2779.2144 - acc: 0.8449 - f1: 0.8394 - val_loss: 2779.4307 - val_acc: 0.6956 - val_f1: 0.6816\n",
      "Epoch 28/70\n",
      "3837/3837 [==============================] - 12s 3ms/step - loss: 2779.1906 - acc: 0.8504 - f1: 0.8444 - val_loss: 2779.4263 - val_acc: 0.6862 - val_f1: 0.6870\n",
      "Epoch 29/70\n",
      "3837/3837 [==============================] - 12s 3ms/step - loss: 2779.1680 - acc: 0.8600 - f1: 0.8533 - val_loss: 2779.4203 - val_acc: 0.6979 - val_f1: 0.6658\n",
      "Epoch 30/70\n",
      "3837/3837 [==============================] - 12s 3ms/step - loss: 2779.1391 - acc: 0.8700 - f1: 0.8637 - val_loss: 2779.4055 - val_acc: 0.6792 - val_f1: 0.6844\n",
      "Epoch 31/70\n",
      "3837/3837 [==============================] - 12s 3ms/step - loss: 2779.1169 - acc: 0.8817 - f1: 0.8765 - val_loss: 2779.3995 - val_acc: 0.6956 - val_f1: 0.6673\n",
      "Epoch 32/70\n",
      "3837/3837 [==============================] - 12s 3ms/step - loss: 2779.0995 - acc: 0.8866 - f1: 0.8824 - val_loss: 2779.3878 - val_acc: 0.7119 - val_f1: 0.6878\n",
      "Epoch 33/70\n",
      "3837/3837 [==============================] - 12s 3ms/step - loss: 2779.0763 - acc: 0.8944 - f1: 0.8921 - val_loss: 2779.3937 - val_acc: 0.7073 - val_f1: 0.6882\n",
      "Epoch 34/70\n",
      "3837/3837 [==============================] - 12s 3ms/step - loss: 2779.0518 - acc: 0.9051 - f1: 0.9006 - val_loss: 2779.3729 - val_acc: 0.7073 - val_f1: 0.6924\n",
      "Epoch 35/70\n",
      "3837/3837 [==============================] - 12s 3ms/step - loss: 2779.0389 - acc: 0.9127 - f1: 0.9091 - val_loss: 2779.3674 - val_acc: 0.7096 - val_f1: 0.6955\n",
      "Epoch 36/70\n",
      "3837/3837 [==============================] - 12s 3ms/step - loss: 2779.0049 - acc: 0.9260 - f1: 0.9265 - val_loss: 2779.3620 - val_acc: 0.7002 - val_f1: 0.6796\n",
      "Epoch 37/70\n",
      "3837/3837 [==============================] - 12s 3ms/step - loss: 2779.0020 - acc: 0.9174 - f1: 0.9150 - val_loss: 2779.3652 - val_acc: 0.6956 - val_f1: 0.6775\n",
      "Epoch 38/70\n",
      "3837/3837 [==============================] - 12s 3ms/step - loss: 2778.9967 - acc: 0.9208 - f1: 0.9185 - val_loss: 2779.3501 - val_acc: 0.7026 - val_f1: 0.6914\n",
      "Epoch 39/70\n",
      "3837/3837 [==============================] - 12s 3ms/step - loss: 2778.9747 - acc: 0.9320 - f1: 0.9317 - val_loss: 2779.3529 - val_acc: 0.6838 - val_f1: 0.6799\n",
      "Epoch 40/70\n",
      "3837/3837 [==============================] - 12s 3ms/step - loss: 2778.9600 - acc: 0.9356 - f1: 0.9360 - val_loss: 2779.3627 - val_acc: 0.6956 - val_f1: 0.6801\n",
      "Epoch 41/70\n",
      "3837/3837 [==============================] - 12s 3ms/step - loss: 2778.9365 - acc: 0.9463 - f1: 0.9459 - val_loss: 2779.3415 - val_acc: 0.7190 - val_f1: 0.6953\n",
      "Epoch 42/70\n",
      "3837/3837 [==============================] - 12s 3ms/step - loss: 2778.9422 - acc: 0.9408 - f1: 0.9385 - val_loss: 2779.3545 - val_acc: 0.6815 - val_f1: 0.6812\n",
      "Epoch 43/70\n",
      "3837/3837 [==============================] - 12s 3ms/step - loss: 2778.9159 - acc: 0.9502 - f1: 0.9484 - val_loss: 2779.3563 - val_acc: 0.7143 - val_f1: 0.6960\n",
      "Epoch 44/70\n",
      "3837/3837 [==============================] - 12s 3ms/step - loss: 2778.9128 - acc: 0.9539 - f1: 0.9528 - val_loss: 2779.3373 - val_acc: 0.7096 - val_f1: 0.6922\n",
      "Epoch 45/70\n",
      "3837/3837 [==============================] - 12s 3ms/step - loss: 2778.9042 - acc: 0.9507 - f1: 0.9507 - val_loss: 2779.3258 - val_acc: 0.7096 - val_f1: 0.6913\n",
      "Epoch 46/70\n",
      "3837/3837 [==============================] - 12s 3ms/step - loss: 2778.8913 - acc: 0.9614 - f1: 0.9580 - val_loss: 2779.3449 - val_acc: 0.7073 - val_f1: 0.6840\n",
      "Epoch 47/70\n",
      "3837/3837 [==============================] - 12s 3ms/step - loss: 2778.8785 - acc: 0.9593 - f1: 0.9589 - val_loss: 2779.3188 - val_acc: 0.7190 - val_f1: 0.7011\n",
      "Epoch 48/70\n"
     ]
    },
    {
     "name": "stdout",
     "output_type": "stream",
     "text": [
      "3837/3837 [==============================] - 12s 3ms/step - loss: 2778.8729 - acc: 0.9580 - f1: 0.9586 - val_loss: 2779.3236 - val_acc: 0.7283 - val_f1: 0.7120\n",
      "Epoch 49/70\n",
      "3837/3837 [==============================] - 12s 3ms/step - loss: 2778.8691 - acc: 0.9625 - f1: 0.9607 - val_loss: 2779.3246 - val_acc: 0.7213 - val_f1: 0.6956\n",
      "Epoch 50/70\n",
      "3837/3837 [==============================] - 13s 3ms/step - loss: 2778.8572 - acc: 0.9685 - f1: 0.9658 - val_loss: 2779.3307 - val_acc: 0.7143 - val_f1: 0.6932\n",
      "Epoch 51/70\n",
      "3837/3837 [==============================] - 13s 3ms/step - loss: 2778.8605 - acc: 0.9606 - f1: 0.9607 - val_loss: 2779.3346 - val_acc: 0.7166 - val_f1: 0.7010\n",
      "Epoch 52/70\n",
      "3837/3837 [==============================] - 13s 3ms/step - loss: 2778.8398 - acc: 0.9646 - f1: 0.9646 - val_loss: 2779.3338 - val_acc: 0.7119 - val_f1: 0.7018\n",
      "Epoch 53/70\n",
      "3837/3837 [==============================] - 13s 3ms/step - loss: 2778.8329 - acc: 0.9734 - f1: 0.9723 - val_loss: 2779.3323 - val_acc: 0.7096 - val_f1: 0.7024\n",
      "Epoch 54/70\n",
      "3837/3837 [==============================] - 13s 3ms/step - loss: 2778.8185 - acc: 0.9763 - f1: 0.9764 - val_loss: 2779.3415 - val_acc: 0.7026 - val_f1: 0.6946\n",
      "Epoch 55/70\n",
      "3837/3837 [==============================] - 13s 3ms/step - loss: 2778.8196 - acc: 0.9716 - f1: 0.9709 - val_loss: 2779.3490 - val_acc: 0.6979 - val_f1: 0.7012\n",
      "Epoch 56/70\n",
      "3837/3837 [==============================] - 12s 3ms/step - loss: 2778.8128 - acc: 0.9739 - f1: 0.9730 - val_loss: 2779.3211 - val_acc: 0.7073 - val_f1: 0.6975\n",
      "Epoch 57/70\n",
      "3837/3837 [==============================] - 13s 3ms/step - loss: 2778.8077 - acc: 0.9750 - f1: 0.9751 - val_loss: 2779.3356 - val_acc: 0.7002 - val_f1: 0.7058\n",
      "Epoch 58/70\n",
      "3837/3837 [==============================] - 13s 3ms/step - loss: 2778.8063 - acc: 0.9786 - f1: 0.9783 - val_loss: 2779.3206 - val_acc: 0.7119 - val_f1: 0.7056\n",
      "Epoch 59/70\n",
      "3837/3837 [==============================] - 13s 3ms/step - loss: 2778.7917 - acc: 0.9815 - f1: 0.9798 - val_loss: 2779.3396 - val_acc: 0.7002 - val_f1: 0.6904\n",
      "Epoch 60/70\n",
      "3837/3837 [==============================] - 13s 3ms/step - loss: 2778.7918 - acc: 0.9794 - f1: 0.9785 - val_loss: 2779.3339 - val_acc: 0.7143 - val_f1: 0.7148\n",
      "Epoch 61/70\n",
      "3837/3837 [==============================] - 12s 3ms/step - loss: 2778.7935 - acc: 0.9755 - f1: 0.9751 - val_loss: 2779.3662 - val_acc: 0.7190 - val_f1: 0.7015\n",
      "Epoch 62/70\n",
      "3837/3837 [==============================] - 12s 3ms/step - loss: 2778.7797 - acc: 0.9792 - f1: 0.9796 - val_loss: 2779.3188 - val_acc: 0.7026 - val_f1: 0.6928\n",
      "Epoch 63/70\n",
      "3837/3837 [==============================] - 12s 3ms/step - loss: 2778.7838 - acc: 0.9789 - f1: 0.9784 - val_loss: 2779.3381 - val_acc: 0.7237 - val_f1: 0.7127\n",
      "Epoch 64/70\n",
      "3837/3837 [==============================] - 13s 3ms/step - loss: 2778.7681 - acc: 0.9844 - f1: 0.9834 - val_loss: 2779.3198 - val_acc: 0.7143 - val_f1: 0.7045\n",
      "Epoch 65/70\n",
      "3837/3837 [==============================] - 13s 3ms/step - loss: 2778.7686 - acc: 0.9836 - f1: 0.9839 - val_loss: 2779.3264 - val_acc: 0.7073 - val_f1: 0.7092\n",
      "Epoch 66/70\n",
      "3837/3837 [==============================] - 12s 3ms/step - loss: 2778.7624 - acc: 0.9859 - f1: 0.9851 - val_loss: 2779.3237 - val_acc: 0.7190 - val_f1: 0.7122\n",
      "Epoch 67/70\n",
      "3837/3837 [==============================] - 12s 3ms/step - loss: 2778.7571 - acc: 0.9870 - f1: 0.9862 - val_loss: 2779.3376 - val_acc: 0.7190 - val_f1: 0.7060\n",
      "Epoch 68/70\n",
      "3837/3837 [==============================] - 12s 3ms/step - loss: 2778.7531 - acc: 0.9851 - f1: 0.9853 - val_loss: 2779.3321 - val_acc: 0.7049 - val_f1: 0.7039\n",
      "Epoch 69/70\n",
      "3837/3837 [==============================] - 13s 3ms/step - loss: 2778.7478 - acc: 0.9883 - f1: 0.9880 - val_loss: 2779.3169 - val_acc: 0.7143 - val_f1: 0.7073\n",
      "Epoch 70/70\n",
      "3837/3837 [==============================] - 13s 3ms/step - loss: 2778.7482 - acc: 0.9864 - f1: 0.9861 - val_loss: 2779.3338 - val_acc: 0.7073 - val_f1: 0.7100\n"
     ]
    }
   ],
   "source": [
    "MaxEpochs =70\n",
    "batchsize =32\n",
    "validation_split_rate = 0.1\n",
    "history=model.fit([X_train,pos_train1,pos_train2], y_train,validation_split=validation_split_rate ,epochs=MaxEpochs, batch_size=batchsize,verbose=1)\n",
    "\n"
   ]
  },
  {
   "cell_type": "code",
   "execution_count": 17,
   "metadata": {},
   "outputs": [
    {
     "data": {
      "image/png": "[encoded data removed]",
      "text/plain": [
       "<Figure size 1000x300 with 2 Axes>"
      ]
     },
     "metadata": {},
     "output_type": "display_data"
    }
   ],
   "source": [
    "import matplotlib.pyplot as plt\n",
    "\n",
    "# Training & Validation accuracy\n",
    "train_loss = history.history['loss']\n",
    "val_loss = history.history['val_loss']\n",
    "train_acc = history.history['acc']\n",
    "val_acc = history.history['val_acc']\n",
    "epochs = len(train_loss)\n",
    "\n",
    "xc = range(epochs)\n",
    "\n",
    "plt.figure(figsize=(10, 3))\n",
    "\n",
    "# Loss subplot\n",
    "plt.subplot(1, 2, 1)\n",
    "plt.plot(xc, train_loss, label='Training Loss')\n",
    "plt.plot(xc, val_loss, label='Validation Loss')\n",
    "plt.xlabel('Number of Epochs', fontsize=10)\n",
    "plt.ylabel('Loss', fontsize=10)\n",
    "plt.title('Training and Validation Loss', fontsize=12)\n",
    "plt.legend(fontsize=8)\n",
    "plt.grid(True)\n",
    "\n",
    "# Accuracy subplot\n",
    "plt.subplot(1, 2, 2)\n",
    "plt.plot(xc, train_acc, label='Training Accuracy')\n",
    "plt.plot(xc, val_acc, label='Validation Accuracy')\n",
    "plt.xlabel('Number of Epochs', fontsize=10)\n",
    "plt.ylabel('Accuracy', fontsize=10)\n",
    "plt.title('Training and Validation Accuracy', fontsize=12)\n",
    "plt.legend(fontsize=8, loc='lower right')  # Change position to lower right\n",
    "plt.grid(True)\n",
    "\n",
    "plt.tight_layout()\n",
    "plt.show()\n"
   ]
  },
  {
   "cell_type": "code",
   "execution_count": 15,
   "metadata": {},
   "outputs": [
    {
     "name": "stdout",
     "output_type": "stream",
     "text": [
      "              precision    recall  f1-score   support\n",
      "\n",
      "           0     0.8628    0.8427    0.8527       515\n",
      "           1     0.8123    0.8480    0.8298       342\n",
      "           2     0.8738    0.8612    0.8675       209\n",
      "\n",
      "    accuracy                         0.8480      1066\n",
      "   macro avg     0.8496    0.8506    0.8500      1066\n",
      "weighted avg     0.8488    0.8480    0.8482      1066\n",
      "\n",
      " Precision:84.96% Recall:85.06% Fscore:85.00% \n"
     ]
    }
   ],
   "source": [
    "predicted = np.argmax(model.predict([X_test,pos_test1,pos_test2]), axis=1)\n",
    "y_test_to_label = np.argmax(y_test, axis=1)\n",
    "prec, reca, fscore, sup = precision_recall_fscore_support(y_test_to_label, predicted, average=param)\n",
    "# Generate the classification report as a dictionary\n",
    "report_dict = classification_report(y_test_to_label, predicted, output_dict=True)\n",
    "\n",
    "# Create a new dictionary to hold the formatted values\n",
    "formatted_report_dict = {}\n",
    "\n",
    "# Iterate over the items in the report dictionary\n",
    "for key, value in report_dict.items():\n",
    "    if isinstance(value, dict):\n",
    "        # Format the nested dictionary values\n",
    "        formatted_report_dict[key] = {sub_key: f\"{sub_value:.4f}\" for sub_key, sub_value in value.items()}\n",
    "    else:\n",
    "        # Format the top-level dictionary values\n",
    "        formatted_report_dict[key] = f\"{value:.4f}\"\n",
    "\n",
    "# Create a string representation of the formatted dictionary\n",
    "formatted_report_str = classification_report(y_test_to_label, predicted, digits=4)\n",
    "\n",
    "# Print the formatted classification report\n",
    "print(formatted_report_str)\n",
    "print(\" Precision:{:.2f}% Recall:{:.2f}% Fscore:{:.2f}% \".format(prec*100, reca*100, fscore*100))"
   ]
  },
  {
   "cell_type": "code",
   "execution_count": 16,
   "metadata": {},
   "outputs": [
    {
     "data": {
      "image/png": "[encoded data removed]",
      "text/plain": [
       "<Figure size 1000x700 with 2 Axes>"
      ]
     },
     "metadata": {},
     "output_type": "display_data"
    },
    {
     "name": "stdout",
     "output_type": "stream",
     "text": [
      " Precision:84.96% Recall:85.06% Fscore:85.00% \n"
     ]
    }
   ],
   "source": [
    "import numpy as np\n",
    "import matplotlib.pyplot as plt\n",
    "import seaborn as sns\n",
    "from sklearn.metrics import classification_report, confusion_matrix, precision_recall_fscore_support\n",
    "from sklearn.model_selection import StratifiedKFold\n",
    "# Calculate and visualize the confusion matrix\n",
    "cm = confusion_matrix(y_test_to_label, predicted)\n",
    "plt.figure(figsize=(10, 7))\n",
    "sns.heatmap(cm, annot=True, fmt='d', cmap='Blues', xticklabels=['0', '1','2'], yticklabels=['0', '1','2'])\n",
    "plt.xlabel('Predicted')\n",
    "plt.ylabel('Actual')\n",
    "plt.title('Confusion Matrix')\n",
    "plt.show()\n",
    "\n",
    "# Print precision, recall, and f-score\n",
    "prec, reca, fscore, sup = precision_recall_fscore_support(y_test_to_label, predicted, average=param)\n",
    "print(\" Precision:{:.2f}% Recall:{:.2f}% Fscore:{:.2f}% \".format(prec*100, reca*100, fscore*100))"
   ]
  },
  {
   "cell_type": "code",
   "execution_count": null,
   "metadata": {},
   "outputs": [],
   "source": []
  }
 ],
 "metadata": {
  "kernelspec": {
   "display_name": "Python [conda env:python]",
   "language": "python",
   "name": "conda-env-python-py"
  },
  "language_info": {
   "codemirror_mode": {
    "name": "ipython",
    "version": 3
   },
   "file_extension": ".py",
   "mimetype": "text/x-python",
   "name": "python",
   "nbconvert_exporter": "python",
   "pygments_lexer": "ipython3",
   "version": "3.7.1"
  }
 },
 "nbformat": 4,
 "nbformat_minor": 4
}
