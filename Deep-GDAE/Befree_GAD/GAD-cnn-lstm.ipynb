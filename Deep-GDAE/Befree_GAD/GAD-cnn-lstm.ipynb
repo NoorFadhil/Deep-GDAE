{
 "cells": [
  {
   "cell_type": "markdown",
   "metadata": {},
   "source": [
    "# model 1 \n",
    "\n",
    " sara \n"
   ]
  },
  {
   "cell_type": "markdown",
   "metadata": {},
   "source": [
    "#  -------------------------------------------------------------------------------------------"
   ]
  },
  {
   "cell_type": "markdown",
   "metadata": {},
   "source": [
    "# imports"
   ]
  },
  {
   "cell_type": "code",
   "execution_count": 2,
   "metadata": {},
   "outputs": [],
   "source": [
    "import tensorflow as tf\n",
    "import keras\n",
    "from keras.models import load_model\n",
    "from keras.callbacks import ModelCheckpoint, EarlyStopping\n",
    "from keras_tqdm import TQDMNotebookCallback\n",
    "import numpy as np\n",
    "np.random.seed(1337)\n",
    "from keras_tqdm import TQDMNotebookCallback\n",
    "import nltk\n",
    "import xml.etree.ElementTree as ET\n",
    "import pandas as pd\n",
    "import os\n",
    "import string\n",
    "from nltk.tokenize import TreebankWordTokenizer\n",
    "from numpy.random import random_sample\n",
    "import re\n",
    "import pickle\n",
    "from sklearn.metrics import accuracy_score\n",
    "from sklearn.metrics import classification_report\n",
    "\n",
    "from keras.layers import Embedding, Flatten,LSTM, GRU\n",
    "from keras.layers.convolutional import Conv2D, MaxPooling2D\n",
    "from tensorflow.keras.utils import to_categorical\n",
    "from tensorflow.keras.models import Sequential, Model\n",
    "from keras.layers import Dense, Dropout, Activation,  Input, merge,Conv1D,MaxPooling1D,GlobalMaxPooling1D,Convolution1D\n",
    "from keras import regularizers\n",
    "from sklearn.metrics import precision_recall_fscore_support\n",
    "from sklearn.model_selection import StratifiedKFold\n",
    "import matplotlib.pyplot as plt\n",
    "from keras.layers import Concatenate, concatenate\n",
    "from keras import backend as K\n",
    "from keras.layers import multiply\n",
    "from keras.layers import merge\n",
    "from keras.layers.core import *\n",
    "from keras.layers.recurrent import LSTM\n",
    "from keras.models import *\n",
    "random_seed=1337"
   ]
  },
  {
   "cell_type": "markdown",
   "metadata": {},
   "source": [
    "###  Define Callback functions to generate Measures"
   ]
  },
  {
   "cell_type": "code",
   "execution_count": 4,
   "metadata": {},
   "outputs": [],
   "source": [
    "from keras import backend as K\n",
    "\n",
    "def f1(y_true, y_pred):\n",
    "    def recall(y_true, y_pred):\n",
    "        true_positives = K.sum(K.round(K.clip(y_true * y_pred, 0, 1)))\n",
    "        possible_positives = K.sum(K.round(K.clip(y_true, 0, 1)))\n",
    "        recall = true_positives / (possible_positives + K.epsilon())\n",
    "        return recall\n",
    "\n",
    "    def precision(y_true, y_pred):\n",
    "        true_positives = K.sum(K.round(K.clip(y_true * y_pred, 0, 1)))\n",
    "        predicted_positives = K.sum(K.round(K.clip(y_pred, 0, 1)))\n",
    "        precision = true_positives / (predicted_positives + K.epsilon())\n",
    "        return precision\n",
    "    precision = precision(y_true, y_pred)\n",
    "    recall = recall(y_true, y_pred)\n",
    "    return 2*((precision*recall)/(precision+recall+K.epsilon()))\n"
   ]
  },
  {
   "cell_type": "markdown",
   "metadata": {},
   "source": [
    "# Experiments to reproduce the results of Table 9 "
   ]
  },
  {
   "cell_type": "markdown",
   "metadata": {},
   "source": [
    "### Load pre procssed Data"
   ]
  },
  {
   "cell_type": "code",
   "execution_count": 9,
   "metadata": {},
   "outputs": [
    {
     "name": "stdout",
     "output_type": "stream",
     "text": [
      "word_vectors 6766\n"
     ]
    }
   ],
   "source": [
    "with open('../data/pickles/befree_3class_crawl-300d-2M.pickle', 'rb') as handle:\n",
    "    gene_id_list = pickle.load(handle)\n",
    "    gene_symbol_list = pickle.load(handle)\n",
    "    disease_id_list = pickle.load(handle)    \n",
    "    X_train = pickle.load(handle)\n",
    "    distance1_vectors = pickle.load(handle)\n",
    "    distance2_vectors = pickle.load(handle)\n",
    "    Y_train = pickle.load(handle)\n",
    "    word_list = pickle.load(handle)\n",
    "    word_vectors = pickle.load(handle)\n",
    "    word_dict = pickle.load(handle)\n",
    "    distance1_dict = pickle.load(handle)\n",
    "    distance2_dict = pickle.load(handle)\n",
    "    label_dict = pickle.load(handle)\n",
    "    MAX_SEQUENCE_LENGTH = pickle.load(handle)\n",
    "print (\"word_vectors\",len(word_vectors))"
   ]
  },
  {
   "cell_type": "markdown",
   "metadata": {},
   "source": [
    "position embedding"
   ]
  },
  {
   "cell_type": "code",
   "execution_count": 12,
   "metadata": {},
   "outputs": [
    {
     "data": {
      "text/plain": [
       "(5330, 81, 20)"
      ]
     },
     "execution_count": 12,
     "metadata": {},
     "output_type": "execute_result"
    }
   ],
   "source": [
    "import keras\n",
    "from keras_pos_embd import TrigPosEmbedding\n",
    "\n",
    "model = keras.models.Sequential()\n",
    "model.add(TrigPosEmbedding(\n",
    "    input_shape=(None,),\n",
    "    output_dim=20,                      # The dimension of embeddings.\n",
    "    mode=TrigPosEmbedding.MODE_EXPAND,  # Use `expand` mode\n",
    "    name='Pos-Embd',\n",
    "))\n",
    "model.compile('adam', keras.losses.mae, {})\n",
    "\n",
    "\n",
    "d1_train_embedded=model.predict(distance1_vectors)\n",
    "\n",
    "d1_train_embedded.shape\n",
    "\n",
    "d2_train_embedded=model.predict(distance2_vectors)\n",
    "\n",
    "d2_train_embedded.shape"
   ]
  },
  {
   "cell_type": "markdown",
   "metadata": {},
   "source": [
    "### Prepare Word Embedding Layer"
   ]
  },
  {
   "cell_type": "code",
   "execution_count": 15,
   "metadata": {},
   "outputs": [
    {
     "name": "stdout",
     "output_type": "stream",
     "text": [
      "EMBEDDING_DIM= 300\n"
     ]
    }
   ],
   "source": [
    "EMBEDDING_DIM=word_vectors.shape[1]\n",
    "print(\"EMBEDDING_DIM=\",EMBEDDING_DIM)\n",
    "embedding_matrix=word_vectors\n",
    "\n",
    "def create_embedding_layer(l2_reg=0.01,use_pretrained=True,is_trainable=False):\n",
    "    \n",
    "    if use_pretrained:        \n",
    "        return Embedding(len(word_dict) ,EMBEDDING_DIM,weights=[embedding_matrix],input_length=MAX_SEQUENCE_LENGTH,trainable=is_trainable,embeddings_regularizer=regularizers.l2(l2_reg))\n",
    "    \n",
    "    else:    \n",
    "        return Embedding(len(word_dict) ,EMBEDDING_DIM,input_length=MAX_SEQUENCE_LENGTH)\n",
    "            \n",
    "    "
   ]
  },
  {
   "cell_type": "markdown",
   "metadata": {},
   "source": [
    "attention"
   ]
  },
  {
   "cell_type": "code",
   "execution_count": 18,
   "metadata": {},
   "outputs": [],
   "source": [
    "INPUT_DIM = 2\n",
    "TIME_STEPS = MAX_SEQUENCE_LENGTH\n",
    "def attentionNew(inputs):\n",
    "    inputs = Lambda(lambda x: tf.keras.backend.tanh(x))(inputs)\n",
    "    input_dim = int(inputs.shape[2])\n",
    "    a = Permute((2, 1))(inputs)\n",
    "    a = Dense(TIME_STEPS, activation='softmax')(a)\n",
    "    a_probs = Permute((2, 1))(a)\n",
    "    output_attention_mul = multiply([inputs, a_probs])\n",
    "    output_attention_mul = Lambda(lambda x: tf.keras.backend.tanh(x))(output_attention_mul)\n",
    "    return output_attention_mul"
   ]
  },
  {
   "cell_type": "markdown",
   "metadata": {},
   "source": [
    "### Create the Model"
   ]
  },
  {
   "cell_type": "code",
   "execution_count": 21,
   "metadata": {},
   "outputs": [],
   "source": [
    "# set parameter for metric calculation, 'macro' for multiclass classification\n",
    "param='macro' \n",
    "from keras.optimizers import Adam\n",
    "def build_model():    \n",
    "\n",
    "    sequence_input = Input(shape=(MAX_SEQUENCE_LENGTH,), dtype='int32')\n",
    "    embedding_layer=create_embedding_layer(use_pretrained=True,is_trainable=False)\n",
    "    embedded_sequences = embedding_layer(sequence_input)\n",
    "\n",
    "    \n",
    "    pos_embedd_1=Input(shape=(MAX_SEQUENCE_LENGTH,20), dtype='float32')\n",
    "    pos_embedd_2=Input(shape=(MAX_SEQUENCE_LENGTH,20), dtype='float32')\n",
    "    \n",
    "    embedded_sequences = concatenate([embedded_sequences,pos_embedd_1,pos_embedd_2])\n",
    "        \n",
    "    \n",
    "    x = Conv1D(64, 5, activation='relu')(embedded_sequences)\n",
    "    x = MaxPooling1D(3)(x)\n",
    "    x = Dropout(0.4)(x)\n",
    "    conv_sequence_w5=GlobalMaxPooling1D()(x)    #x = Flatten()(x)\n",
    "\n",
    "\n",
    "        \n",
    "    x = Conv1D(128, 3, activation='relu')(embedded_sequences)\n",
    "    x = MaxPooling1D(3)(x)\n",
    "    x = Dropout(0.4)(x)\n",
    "    conv_sequence_w4=GlobalMaxPooling1D()(x)    #x = Flatten()(x)\n",
    "\n",
    "\n",
    "            \n",
    "    x = Conv1D(256, 3, activation='relu')(embedded_sequences)\n",
    "    x = MaxPooling1D(3)(x)\n",
    "    x = Dropout(0.4)(x)\n",
    "    conv_sequence_w3=GlobalMaxPooling1D()(x)    #x = Flatten()(x)\n",
    "\n",
    "    forward = LSTM(100, recurrent_dropout=0.1, return_sequences=True)(embedded_sequences)\n",
    "    backward = LSTM(100, go_backwards=True, recurrent_dropout=0.1, return_sequences=True)(embedded_sequences)\n",
    "    lstm_gru_sequence = concatenate([forward, backward], axis=-1)\n",
    "    # Apply attention mechanism\n",
    "    attention_output = attentionNew(lstm_gru_sequence)  # Shape: (None, MAX_SEQUENCE_LENGTH, 200)\n",
    "    attention_pooled = GlobalMaxPooling1D()(attention_output)  # Shape: (None, 200)\n",
    "    \n",
    "    merge = concatenate([conv_sequence_w5,conv_sequence_w4,conv_sequence_w3,attention_pooled])\n",
    "    x = Dense(128, activation='relu', kernel_regularizer=regularizers.l2(0.05))(merge)\n",
    "    x = Dropout(0.4)(x)\n",
    "    preds = Dense(3, activation='softmax')(x)\n",
    "    model = Model(inputs=[sequence_input, pos_embedd_1,pos_embedd_2],outputs=preds)\n",
    "    opt=tf.keras.optimizers.Adam(learning_rate=0.001)\n",
    "    model.compile(loss='categorical_crossentropy',optimizer=opt,metrics=['acc',f1])\n",
    "    return model\n",
    "    "
   ]
  },
  {
   "cell_type": "code",
   "execution_count": 23,
   "metadata": {},
   "outputs": [
    {
     "name": "stdout",
     "output_type": "stream",
     "text": [
      "Model: \"model_1\"\n",
      "__________________________________________________________________________________________________\n",
      "Layer (type)                    Output Shape         Param #     Connected to                     \n",
      "==================================================================================================\n",
      "input_1 (InputLayer)            (None, 81)           0                                            \n",
      "__________________________________________________________________________________________________\n",
      "embedding_1 (Embedding)         (None, 81, 300)      2029800     input_1[0][0]                    \n",
      "__________________________________________________________________________________________________\n",
      "input_2 (InputLayer)            (None, 81, 20)       0                                            \n",
      "__________________________________________________________________________________________________\n",
      "input_3 (InputLayer)            (None, 81, 20)       0                                            \n",
      "__________________________________________________________________________________________________\n",
      "concatenate_1 (Concatenate)     (None, 81, 340)      0           embedding_1[0][0]                \n",
      "                                                                 input_2[0][0]                    \n",
      "                                                                 input_3[0][0]                    \n",
      "__________________________________________________________________________________________________\n",
      "lstm_1 (LSTM)                   (None, 81, 100)      176400      concatenate_1[0][0]              \n",
      "__________________________________________________________________________________________________\n",
      "lstm_2 (LSTM)                   (None, 81, 100)      176400      concatenate_1[0][0]              \n",
      "__________________________________________________________________________________________________\n",
      "concatenate_2 (Concatenate)     (None, 81, 200)      0           lstm_1[0][0]                     \n",
      "                                                                 lstm_2[0][0]                     \n",
      "__________________________________________________________________________________________________\n",
      "lambda_1 (Lambda)               (None, 81, 200)      0           concatenate_2[0][0]              \n",
      "__________________________________________________________________________________________________\n",
      "permute_1 (Permute)             (None, 200, 81)      0           lambda_1[0][0]                   \n",
      "__________________________________________________________________________________________________\n",
      "dense_1 (Dense)                 (None, 200, 81)      6642        permute_1[0][0]                  \n",
      "__________________________________________________________________________________________________\n",
      "conv1d_1 (Conv1D)               (None, 77, 64)       108864      concatenate_1[0][0]              \n",
      "__________________________________________________________________________________________________\n",
      "conv1d_2 (Conv1D)               (None, 79, 128)      130688      concatenate_1[0][0]              \n",
      "__________________________________________________________________________________________________\n",
      "conv1d_3 (Conv1D)               (None, 79, 256)      261376      concatenate_1[0][0]              \n",
      "__________________________________________________________________________________________________\n",
      "permute_2 (Permute)             (None, 81, 200)      0           dense_1[0][0]                    \n",
      "__________________________________________________________________________________________________\n",
      "max_pooling1d_1 (MaxPooling1D)  (None, 25, 64)       0           conv1d_1[0][0]                   \n",
      "__________________________________________________________________________________________________\n",
      "max_pooling1d_2 (MaxPooling1D)  (None, 26, 128)      0           conv1d_2[0][0]                   \n",
      "__________________________________________________________________________________________________\n",
      "max_pooling1d_3 (MaxPooling1D)  (None, 26, 256)      0           conv1d_3[0][0]                   \n",
      "__________________________________________________________________________________________________\n",
      "multiply_1 (Multiply)           (None, 81, 200)      0           lambda_1[0][0]                   \n",
      "                                                                 permute_2[0][0]                  \n",
      "__________________________________________________________________________________________________\n",
      "dropout_1 (Dropout)             (None, 25, 64)       0           max_pooling1d_1[0][0]            \n",
      "__________________________________________________________________________________________________\n",
      "dropout_2 (Dropout)             (None, 26, 128)      0           max_pooling1d_2[0][0]            \n",
      "__________________________________________________________________________________________________\n",
      "dropout_3 (Dropout)             (None, 26, 256)      0           max_pooling1d_3[0][0]            \n",
      "__________________________________________________________________________________________________\n",
      "lambda_2 (Lambda)               (None, 81, 200)      0           multiply_1[0][0]                 \n",
      "__________________________________________________________________________________________________\n",
      "global_max_pooling1d_1 (GlobalM (None, 64)           0           dropout_1[0][0]                  \n",
      "__________________________________________________________________________________________________\n",
      "global_max_pooling1d_2 (GlobalM (None, 128)          0           dropout_2[0][0]                  \n",
      "__________________________________________________________________________________________________\n",
      "global_max_pooling1d_3 (GlobalM (None, 256)          0           dropout_3[0][0]                  \n",
      "__________________________________________________________________________________________________\n",
      "global_max_pooling1d_4 (GlobalM (None, 200)          0           lambda_2[0][0]                   \n",
      "__________________________________________________________________________________________________\n",
      "concatenate_3 (Concatenate)     (None, 648)          0           global_max_pooling1d_1[0][0]     \n",
      "                                                                 global_max_pooling1d_2[0][0]     \n",
      "                                                                 global_max_pooling1d_3[0][0]     \n",
      "                                                                 global_max_pooling1d_4[0][0]     \n",
      "__________________________________________________________________________________________________\n",
      "dense_2 (Dense)                 (None, 128)          83072       concatenate_3[0][0]              \n",
      "__________________________________________________________________________________________________\n",
      "dropout_4 (Dropout)             (None, 128)          0           dense_2[0][0]                    \n",
      "__________________________________________________________________________________________________\n",
      "dense_3 (Dense)                 (None, 3)            387         dropout_4[0][0]                  \n",
      "==================================================================================================\n",
      "Total params: 2,973,629\n",
      "Trainable params: 943,829\n",
      "Non-trainable params: 2,029,800\n",
      "__________________________________________________________________________________________________\n"
     ]
    }
   ],
   "source": [
    "model = build_model()\n",
    "model.summary()"
   ]
  },
  {
   "cell_type": "code",
   "execution_count": 27,
   "metadata": {},
   "outputs": [
    {
     "name": "stdout",
     "output_type": "stream",
     "text": [
      "TrainRate:80.00% testRate:20.00% validation:8.00%  \n"
     ]
    }
   ],
   "source": [
    "validation_split_rate = 0.1\n",
    "skf = StratifiedKFold(n_splits=5,shuffle=True, random_state=42)\n",
    "Y = [np.argmax(y, axis=None, out=None) for y in Y_train]\n",
    "for tr_index, te_index in skf.split(X_train,Y):\n",
    "    test_index = te_index \n",
    "    train_index = tr_index\n",
    "    \n",
    "trainRate = (len(train_index)/len(Y))*100   \n",
    "testRate = (len(test_index)/len(Y))*100   \n",
    "print (\"TrainRate:{:.2f}% testRate:{:.2f}% validation:{:.2f}%  \".format(trainRate,testRate, trainRate*validation_split_rate))\n",
    "X_train, X_test = X_train[train_index], X_train[test_index] \n",
    "pos_train1, pos_test1 = d1_train_embedded[train_index], d1_train_embedded[test_index] \n",
    "pos_train2, pos_test2 = d2_train_embedded[train_index], d2_train_embedded[test_index] \n",
    "y_train, y_test = Y_train[train_index], Y_train[test_index]\n",
    "\n",
    "\n",
    "\n",
    "# # Saving the training data split as a pickle file\n",
    "# training_data = {\n",
    "#     'X_train': X_train,\n",
    "#     'pos_train1': pos_train1,\n",
    "#     'pos_train2': pos_train2,\n",
    "#     'y_train': y_train\n",
    "# }\n",
    "\n",
    "# with open('training_data.pkl', 'wb') as f:\n",
    "#     pickle.dump(training_data, f)\n",
    "\n",
    "# # Saving the testing data split as a pickle file\n",
    "# testing_data = {\n",
    "#     'X_test': X_test,\n",
    "#     'pos_test1': pos_test1,\n",
    "#     'pos_test2': pos_test2,\n",
    "#     'y_test': y_test\n",
    "# }\n",
    "\n",
    "# with open('testing_data.pkl', 'wb') as f:\n",
    "#     pickle.dump(testing_data, f)\n",
    "    \n",
    "\n"
   ]
  },
  {
   "cell_type": "code",
   "execution_count": 28,
   "metadata": {},
   "outputs": [
    {
     "name": "stdout",
     "output_type": "stream",
     "text": [
      "(4264, 81)\n",
      "(1066, 81)\n"
     ]
    }
   ],
   "source": [
    "# Load the training data from the pickle file\n",
    "with open('training_data.pkl', 'rb') as f:\n",
    "    train_data = pickle.load(f)\n",
    "\n",
    "# Load the testing data from the pickle file\n",
    "with open('testing_data.pkl', 'rb') as f:\n",
    "    test_data = pickle.load(f)\n",
    "\n",
    "# Extract data from the loaded dictionaries\n",
    "X_train = train_data['X_train']\n",
    "pos_train1 = train_data['pos_train1']\n",
    "pos_train2 = train_data['pos_train2']\n",
    "y_train = train_data['y_train']\n",
    "\n",
    "\n",
    "X_test = test_data['X_test']\n",
    "pos_test1 = test_data['pos_test1']\n",
    "pos_test2 = test_data['pos_test2']\n",
    "y_test = test_data['y_test']\n",
    "print(X_train.shape)\n",
    "print(X_test.shape)"
   ]
  },
  {
   "cell_type": "markdown",
   "metadata": {},
   "source": [
    "### Run the Evaluation on the test dataset "
   ]
  },
  {
   "cell_type": "code",
   "execution_count": 29,
   "metadata": {},
   "outputs": [
    {
     "name": "stdout",
     "output_type": "stream",
     "text": [
      "Train on 3837 samples, validate on 427 samples\n",
      "Epoch 1/70\n",
      "3837/3837 [==============================] - 14s 4ms/step - loss: 2788.9749 - acc: 0.4324 - f1: 0.3124 - val_loss: 2787.5957 - val_acc: 0.4918 - val_f1: 0.0206\n",
      "Epoch 2/70\n",
      "3837/3837 [==============================] - 13s 3ms/step - loss: 2786.5063 - acc: 0.4910 - f1: 0.3353 - val_loss: 2785.5271 - val_acc: 0.4543 - val_f1: 0.2975\n",
      "Epoch 3/70\n",
      "3837/3837 [==============================] - 13s 3ms/step - loss: 2784.7246 - acc: 0.4962 - f1: 0.3478 - val_loss: 2784.0132 - val_acc: 0.5129 - val_f1: 0.0711\n",
      "Epoch 4/70\n",
      "3837/3837 [==============================] - 13s 3ms/step - loss: 2783.3995 - acc: 0.5012 - f1: 0.3730 - val_loss: 2782.8968 - val_acc: 0.5152 - val_f1: 0.0594\n",
      "Epoch 5/70\n",
      "3837/3837 [==============================] - 13s 3ms/step - loss: 2782.4359 - acc: 0.5215 - f1: 0.3948 - val_loss: 2782.0704 - val_acc: 0.5152 - val_f1: 0.2729\n",
      "Epoch 6/70\n",
      "3837/3837 [==============================] - 13s 3ms/step - loss: 2781.7384 - acc: 0.5311 - f1: 0.4227 - val_loss: 2781.4981 - val_acc: 0.5480 - val_f1: 0.1586\n",
      "Epoch 7/70\n",
      "3837/3837 [==============================] - 13s 3ms/step - loss: 2781.2229 - acc: 0.5439 - f1: 0.4327 - val_loss: 2781.0568 - val_acc: 0.5129 - val_f1: 0.3131\n",
      "Epoch 8/70\n",
      "3837/3837 [==============================] - 13s 3ms/step - loss: 2780.8410 - acc: 0.5676 - f1: 0.4607 - val_loss: 2780.7418 - val_acc: 0.5597 - val_f1: 0.2424\n",
      "Epoch 9/70\n",
      "3837/3837 [==============================] - 13s 3ms/step - loss: 2780.5659 - acc: 0.5846 - f1: 0.4944 - val_loss: 2780.4983 - val_acc: 0.5644 - val_f1: 0.3825\n",
      "Epoch 10/70\n",
      "3837/3837 [==============================] - 13s 3ms/step - loss: 2780.3376 - acc: 0.6039 - f1: 0.5258 - val_loss: 2780.3048 - val_acc: 0.5761 - val_f1: 0.4185\n",
      "Epoch 11/70\n",
      "3837/3837 [==============================] - 13s 3ms/step - loss: 2780.1572 - acc: 0.6221 - f1: 0.5604 - val_loss: 2780.1659 - val_acc: 0.6253 - val_f1: 0.3794\n",
      "Epoch 12/70\n",
      "3837/3837 [==============================] - 12s 3ms/step - loss: 2780.0213 - acc: 0.6542 - f1: 0.5830 - val_loss: 2780.0398 - val_acc: 0.6557 - val_f1: 0.4815\n",
      "Epoch 13/70\n",
      "3837/3837 [==============================] - 12s 3ms/step - loss: 2779.9041 - acc: 0.6680 - f1: 0.6144 - val_loss: 2779.9333 - val_acc: 0.6393 - val_f1: 0.5361\n",
      "Epoch 14/70\n",
      "3837/3837 [==============================] - 13s 3ms/step - loss: 2779.8086 - acc: 0.6815 - f1: 0.6384 - val_loss: 2779.8912 - val_acc: 0.6674 - val_f1: 0.5716\n",
      "Epoch 15/70\n",
      "3837/3837 [==============================] - 13s 3ms/step - loss: 2779.7286 - acc: 0.6969 - f1: 0.6623 - val_loss: 2779.8003 - val_acc: 0.6511 - val_f1: 0.5949\n",
      "Epoch 16/70\n",
      "3837/3837 [==============================] - 13s 3ms/step - loss: 2779.6541 - acc: 0.7164 - f1: 0.6891 - val_loss: 2779.7333 - val_acc: 0.6792 - val_f1: 0.6349\n",
      "Epoch 17/70\n",
      "3837/3837 [==============================] - 13s 3ms/step - loss: 2779.5951 - acc: 0.7412 - f1: 0.7096 - val_loss: 2779.6847 - val_acc: 0.6792 - val_f1: 0.6332\n",
      "Epoch 18/70\n",
      "3837/3837 [==============================] - 13s 3ms/step - loss: 2779.5513 - acc: 0.7331 - f1: 0.7140 - val_loss: 2779.6595 - val_acc: 0.6745 - val_f1: 0.6415\n",
      "Epoch 19/70\n",
      "3837/3837 [==============================] - 13s 3ms/step - loss: 2779.4905 - acc: 0.7488 - f1: 0.7370 - val_loss: 2779.6113 - val_acc: 0.6745 - val_f1: 0.6331\n",
      "Epoch 20/70\n",
      "3837/3837 [==============================] - 13s 3ms/step - loss: 2779.4531 - acc: 0.7704 - f1: 0.7466 - val_loss: 2779.5806 - val_acc: 0.6838 - val_f1: 0.6586\n",
      "Epoch 21/70\n",
      "3837/3837 [==============================] - 13s 3ms/step - loss: 2779.4216 - acc: 0.7743 - f1: 0.7556 - val_loss: 2779.5509 - val_acc: 0.6885 - val_f1: 0.6443\n",
      "Epoch 22/70\n",
      "3837/3837 [==============================] - 13s 3ms/step - loss: 2779.3726 - acc: 0.7899 - f1: 0.7769 - val_loss: 2779.5428 - val_acc: 0.6956 - val_f1: 0.6668\n",
      "Epoch 23/70\n",
      "3837/3837 [==============================] - 13s 3ms/step - loss: 2779.3471 - acc: 0.7975 - f1: 0.7889 - val_loss: 2779.5180 - val_acc: 0.6745 - val_f1: 0.6519\n",
      "Epoch 24/70\n",
      "3837/3837 [==============================] - 13s 3ms/step - loss: 2779.3137 - acc: 0.8074 - f1: 0.7964 - val_loss: 2779.5305 - val_acc: 0.6862 - val_f1: 0.6494\n",
      "Epoch 25/70\n",
      "3837/3837 [==============================] - 13s 3ms/step - loss: 2779.2760 - acc: 0.8254 - f1: 0.8167 - val_loss: 2779.4825 - val_acc: 0.6885 - val_f1: 0.6514\n",
      "Epoch 26/70\n",
      "3837/3837 [==============================] - 13s 3ms/step - loss: 2779.2569 - acc: 0.8283 - f1: 0.8208 - val_loss: 2779.4704 - val_acc: 0.6932 - val_f1: 0.6672\n",
      "Epoch 27/70\n",
      "3837/3837 [==============================] - 13s 3ms/step - loss: 2779.2231 - acc: 0.8395 - f1: 0.8318 - val_loss: 2779.4401 - val_acc: 0.7026 - val_f1: 0.6750\n",
      "Epoch 28/70\n",
      "3837/3837 [==============================] - 13s 3ms/step - loss: 2779.2124 - acc: 0.8363 - f1: 0.8262 - val_loss: 2779.4319 - val_acc: 0.7002 - val_f1: 0.6809\n",
      "Epoch 29/70\n",
      "3837/3837 [==============================] - 13s 3ms/step - loss: 2779.1795 - acc: 0.8525 - f1: 0.8454 - val_loss: 2779.4461 - val_acc: 0.6932 - val_f1: 0.6689\n",
      "Epoch 30/70\n",
      "3837/3837 [==============================] - 13s 3ms/step - loss: 2779.1517 - acc: 0.8684 - f1: 0.8597 - val_loss: 2779.4288 - val_acc: 0.6979 - val_f1: 0.6710\n",
      "Epoch 31/70\n",
      "3837/3837 [==============================] - 12s 3ms/step - loss: 2779.1288 - acc: 0.8689 - f1: 0.8650 - val_loss: 2779.4044 - val_acc: 0.7026 - val_f1: 0.6876\n",
      "Epoch 32/70\n",
      "3837/3837 [==============================] - 13s 3ms/step - loss: 2779.1021 - acc: 0.8848 - f1: 0.8801 - val_loss: 2779.4067 - val_acc: 0.6932 - val_f1: 0.6843\n",
      "Epoch 33/70\n",
      "3837/3837 [==============================] - 13s 3ms/step - loss: 2779.0882 - acc: 0.8825 - f1: 0.8804 - val_loss: 2779.3836 - val_acc: 0.7073 - val_f1: 0.6770\n",
      "Epoch 34/70\n",
      "3837/3837 [==============================] - 12s 3ms/step - loss: 2779.0648 - acc: 0.8994 - f1: 0.8931 - val_loss: 2779.3747 - val_acc: 0.7119 - val_f1: 0.6831\n",
      "Epoch 35/70\n",
      "3837/3837 [==============================] - 12s 3ms/step - loss: 2779.0503 - acc: 0.8976 - f1: 0.8932 - val_loss: 2779.3833 - val_acc: 0.7049 - val_f1: 0.6897\n",
      "Epoch 36/70\n",
      "3837/3837 [==============================] - 12s 3ms/step - loss: 2779.0345 - acc: 0.9070 - f1: 0.9020 - val_loss: 2779.3659 - val_acc: 0.7237 - val_f1: 0.6920\n",
      "Epoch 37/70\n",
      "3837/3837 [==============================] - 12s 3ms/step - loss: 2779.0124 - acc: 0.9122 - f1: 0.9111 - val_loss: 2779.3707 - val_acc: 0.7190 - val_f1: 0.6967\n",
      "Epoch 38/70\n",
      "3837/3837 [==============================] - 12s 3ms/step - loss: 2778.9988 - acc: 0.9242 - f1: 0.9214 - val_loss: 2779.3539 - val_acc: 0.7073 - val_f1: 0.6804\n",
      "Epoch 39/70\n",
      "3837/3837 [==============================] - 12s 3ms/step - loss: 2778.9838 - acc: 0.9307 - f1: 0.9262 - val_loss: 2779.3605 - val_acc: 0.7096 - val_f1: 0.6889\n",
      "Epoch 40/70\n",
      "3837/3837 [==============================] - 13s 3ms/step - loss: 2778.9683 - acc: 0.9330 - f1: 0.9300 - val_loss: 2779.3477 - val_acc: 0.7166 - val_f1: 0.6946\n",
      "Epoch 41/70\n",
      "3837/3837 [==============================] - 13s 3ms/step - loss: 2778.9734 - acc: 0.9223 - f1: 0.9203 - val_loss: 2779.3414 - val_acc: 0.7119 - val_f1: 0.6850\n",
      "Epoch 42/70\n",
      "3837/3837 [==============================] - 13s 3ms/step - loss: 2778.9460 - acc: 0.9380 - f1: 0.9356 - val_loss: 2779.3562 - val_acc: 0.7096 - val_f1: 0.6912\n",
      "Epoch 43/70\n",
      "3837/3837 [==============================] - 13s 3ms/step - loss: 2778.9442 - acc: 0.9377 - f1: 0.9353 - val_loss: 2779.3510 - val_acc: 0.7073 - val_f1: 0.6975\n",
      "Epoch 44/70\n",
      "3837/3837 [==============================] - 12s 3ms/step - loss: 2778.9268 - acc: 0.9466 - f1: 0.9441 - val_loss: 2779.3730 - val_acc: 0.7073 - val_f1: 0.6901\n",
      "Epoch 45/70\n",
      "3837/3837 [==============================] - 13s 3ms/step - loss: 2778.9140 - acc: 0.9458 - f1: 0.9476 - val_loss: 2779.3328 - val_acc: 0.7260 - val_f1: 0.6955\n",
      "Epoch 46/70\n",
      "3837/3837 [==============================] - 13s 3ms/step - loss: 2778.9000 - acc: 0.9515 - f1: 0.9503 - val_loss: 2779.3292 - val_acc: 0.7213 - val_f1: 0.6974\n",
      "Epoch 47/70\n",
      "3837/3837 [==============================] - 12s 3ms/step - loss: 2778.8963 - acc: 0.9549 - f1: 0.9518 - val_loss: 2779.3751 - val_acc: 0.7143 - val_f1: 0.6985\n",
      "Epoch 48/70\n"
     ]
    },
    {
     "name": "stdout",
     "output_type": "stream",
     "text": [
      "3837/3837 [==============================] - 12s 3ms/step - loss: 2778.8892 - acc: 0.9570 - f1: 0.9544 - val_loss: 2779.3702 - val_acc: 0.7096 - val_f1: 0.6974\n",
      "Epoch 49/70\n",
      "3837/3837 [==============================] - 12s 3ms/step - loss: 2778.8760 - acc: 0.9588 - f1: 0.9555 - val_loss: 2779.3265 - val_acc: 0.7237 - val_f1: 0.6953\n",
      "Epoch 50/70\n",
      "3837/3837 [==============================] - 13s 3ms/step - loss: 2778.8557 - acc: 0.9651 - f1: 0.9635 - val_loss: 2779.3294 - val_acc: 0.7190 - val_f1: 0.6983\n",
      "Epoch 51/70\n",
      "3837/3837 [==============================] - 13s 3ms/step - loss: 2778.8553 - acc: 0.9648 - f1: 0.9631 - val_loss: 2779.3170 - val_acc: 0.7213 - val_f1: 0.6969\n",
      "Epoch 52/70\n",
      "3837/3837 [==============================] - 13s 3ms/step - loss: 2778.8448 - acc: 0.9682 - f1: 0.9670 - val_loss: 2779.3554 - val_acc: 0.7049 - val_f1: 0.6994\n",
      "Epoch 53/70\n",
      "3837/3837 [==============================] - 13s 3ms/step - loss: 2778.8491 - acc: 0.9635 - f1: 0.9632 - val_loss: 2779.3252 - val_acc: 0.7237 - val_f1: 0.7083\n",
      "Epoch 54/70\n",
      "3837/3837 [==============================] - 13s 3ms/step - loss: 2778.8323 - acc: 0.9711 - f1: 0.9698 - val_loss: 2779.3381 - val_acc: 0.7354 - val_f1: 0.7134\n",
      "Epoch 55/70\n",
      "3837/3837 [==============================] - 13s 3ms/step - loss: 2778.8355 - acc: 0.9690 - f1: 0.9681 - val_loss: 2779.3548 - val_acc: 0.7143 - val_f1: 0.6996\n",
      "Epoch 56/70\n",
      "3837/3837 [==============================] - 13s 3ms/step - loss: 2778.8213 - acc: 0.9752 - f1: 0.9729 - val_loss: 2779.3216 - val_acc: 0.7073 - val_f1: 0.6974\n",
      "Epoch 57/70\n",
      "3837/3837 [==============================] - 12s 3ms/step - loss: 2778.8136 - acc: 0.9771 - f1: 0.9748 - val_loss: 2779.3374 - val_acc: 0.7143 - val_f1: 0.6885\n",
      "Epoch 58/70\n",
      "3837/3837 [==============================] - 13s 3ms/step - loss: 2778.8129 - acc: 0.9713 - f1: 0.9708 - val_loss: 2779.3368 - val_acc: 0.7283 - val_f1: 0.7084\n",
      "Epoch 59/70\n",
      "3837/3837 [==============================] - 13s 3ms/step - loss: 2778.8088 - acc: 0.9763 - f1: 0.9749 - val_loss: 2779.3161 - val_acc: 0.7237 - val_f1: 0.7089\n",
      "Epoch 60/70\n",
      "3837/3837 [==============================] - 13s 3ms/step - loss: 2778.7985 - acc: 0.9768 - f1: 0.9763 - val_loss: 2779.3029 - val_acc: 0.7330 - val_f1: 0.7089\n",
      "Epoch 61/70\n",
      "3837/3837 [==============================] - 12s 3ms/step - loss: 2778.8021 - acc: 0.9713 - f1: 0.9722 - val_loss: 2779.3202 - val_acc: 0.7354 - val_f1: 0.7214\n",
      "Epoch 62/70\n",
      "3837/3837 [==============================] - 12s 3ms/step - loss: 2778.7945 - acc: 0.9745 - f1: 0.9734 - val_loss: 2779.3078 - val_acc: 0.7237 - val_f1: 0.6976\n",
      "Epoch 63/70\n",
      "3837/3837 [==============================] - 12s 3ms/step - loss: 2778.7888 - acc: 0.9752 - f1: 0.9749 - val_loss: 2779.3075 - val_acc: 0.7213 - val_f1: 0.7071\n",
      "Epoch 64/70\n",
      "3837/3837 [==============================] - 13s 3ms/step - loss: 2778.7796 - acc: 0.9799 - f1: 0.9795 - val_loss: 2779.3101 - val_acc: 0.7283 - val_f1: 0.7072\n",
      "Epoch 65/70\n",
      "3837/3837 [==============================] - 13s 3ms/step - loss: 2778.7774 - acc: 0.9807 - f1: 0.9804 - val_loss: 2779.3173 - val_acc: 0.7143 - val_f1: 0.7050\n",
      "Epoch 66/70\n",
      "3837/3837 [==============================] - 12s 3ms/step - loss: 2778.7700 - acc: 0.9854 - f1: 0.9845 - val_loss: 2779.3126 - val_acc: 0.7237 - val_f1: 0.7106\n",
      "Epoch 67/70\n",
      "3837/3837 [==============================] - 12s 3ms/step - loss: 2778.7698 - acc: 0.9794 - f1: 0.9790 - val_loss: 2779.3321 - val_acc: 0.7190 - val_f1: 0.7052\n",
      "Epoch 68/70\n",
      "3837/3837 [==============================] - 13s 3ms/step - loss: 2778.7649 - acc: 0.9838 - f1: 0.9827 - val_loss: 2779.3126 - val_acc: 0.7260 - val_f1: 0.7092\n",
      "Epoch 69/70\n",
      "3837/3837 [==============================] - 12s 3ms/step - loss: 2778.7650 - acc: 0.9828 - f1: 0.9820 - val_loss: 2779.3247 - val_acc: 0.7143 - val_f1: 0.6948\n",
      "Epoch 70/70\n",
      "3837/3837 [==============================] - 13s 3ms/step - loss: 2778.7591 - acc: 0.9841 - f1: 0.9833 - val_loss: 2779.3206 - val_acc: 0.7307 - val_f1: 0.7107\n"
     ]
    }
   ],
   "source": [
    "MaxEpochs =70\n",
    "batchsize =32\n",
    "validation_split_rate = 0.1\n",
    "history=model.fit([X_train,pos_train1,pos_train2], y_train,validation_split=validation_split_rate ,epochs=MaxEpochs, batch_size=batchsize,verbose=1)"
   ]
  },
  {
   "cell_type": "code",
   "execution_count": 30,
   "metadata": {},
   "outputs": [
    {
     "data": {
      "image/png": "[encoded data removed]",
      "text/plain": [
       "<Figure size 1000x300 with 2 Axes>"
      ]
     },
     "metadata": {},
     "output_type": "display_data"
    }
   ],
   "source": [
    "import matplotlib.pyplot as plt\n",
    "\n",
    "# Training & Validation accuracy\n",
    "train_loss = history.history['loss']\n",
    "val_loss = history.history['val_loss']\n",
    "train_acc = history.history['acc']\n",
    "val_acc = history.history['val_acc']\n",
    "epochs = len(train_loss)\n",
    "\n",
    "xc = range(epochs)\n",
    "\n",
    "plt.figure(figsize=(10, 3))\n",
    "\n",
    "# Loss subplot\n",
    "plt.subplot(1, 2, 1)\n",
    "plt.plot(xc, train_loss, label='Training Loss')\n",
    "plt.plot(xc, val_loss, label='Validation Loss')\n",
    "plt.xlabel('Number of Epochs', fontsize=10)\n",
    "plt.ylabel('Loss', fontsize=10)\n",
    "plt.title('Training and Validation Loss', fontsize=12)\n",
    "plt.legend(fontsize=8)\n",
    "plt.grid(True)\n",
    "\n",
    "# Accuracy subplot\n",
    "plt.subplot(1, 2, 2)\n",
    "plt.plot(xc, train_acc, label='Training Accuracy')\n",
    "plt.plot(xc, val_acc, label='Validation Accuracy')\n",
    "plt.xlabel('Number of Epochs', fontsize=10)\n",
    "plt.ylabel('Accuracy', fontsize=10)\n",
    "plt.title('Training and Validation Accuracy', fontsize=12)\n",
    "plt.legend(fontsize=8, loc='lower right')  # Change position to lower right\n",
    "plt.grid(True)\n",
    "\n",
    "plt.tight_layout()\n",
    "plt.show()\n"
   ]
  },
  {
   "cell_type": "code",
   "execution_count": 33,
   "metadata": {},
   "outputs": [
    {
     "name": "stdout",
     "output_type": "stream",
     "text": [
      "              precision    recall  f1-score   support\n",
      "\n",
      "           0     0.8901    0.8175    0.8522       515\n",
      "           1     0.8234    0.8450    0.8341       342\n",
      "           2     0.8058    0.9330    0.8647       209\n",
      "\n",
      "    accuracy                         0.8490      1066\n",
      "   macro avg     0.8397    0.8652    0.8503      1066\n",
      "weighted avg     0.8521    0.8490    0.8489      1066\n",
      "\n",
      " Precision:83.97% Recall:86.52% Fscore:85.03% \n"
     ]
    }
   ],
   "source": [
    "predicted = np.argmax(model.predict([X_test,pos_test1,pos_test2]), axis=1)\n",
    "y_test_to_label = np.argmax(y_test, axis=1)\n",
    "prec, reca, fscore, sup = precision_recall_fscore_support(y_test_to_label, predicted, average=param)\n",
    "# Generate the classification report as a dictionary\n",
    "report_dict = classification_report(y_test_to_label, predicted, output_dict=True)\n",
    "\n",
    "# Create a new dictionary to hold the formatted values\n",
    "formatted_report_dict = {}\n",
    "\n",
    "# Iterate over the items in the report dictionary\n",
    "for key, value in report_dict.items():\n",
    "    if isinstance(value, dict):\n",
    "        # Format the nested dictionary values\n",
    "        formatted_report_dict[key] = {sub_key: f\"{sub_value:.4f}\" for sub_key, sub_value in value.items()}\n",
    "    else:\n",
    "        # Format the top-level dictionary values\n",
    "        formatted_report_dict[key] = f\"{value:.4f}\"\n",
    "\n",
    "# Create a string representation of the formatted dictionary\n",
    "formatted_report_str = classification_report(y_test_to_label, predicted, digits=4)\n",
    "\n",
    "# Print the formatted classification report\n",
    "print(formatted_report_str)\n",
    "print(\" Precision:{:.2f}% Recall:{:.2f}% Fscore:{:.2f}% \".format(prec*100, reca*100, fscore*100))"
   ]
  },
  {
   "cell_type": "code",
   "execution_count": 34,
   "metadata": {},
   "outputs": [
    {
     "data": {
      "image/png": "[encoded data removed]",
      "text/plain": [
       "<Figure size 1000x700 with 2 Axes>"
      ]
     },
     "metadata": {},
     "output_type": "display_data"
    },
    {
     "name": "stdout",
     "output_type": "stream",
     "text": [
      " Precision:83.97% Recall:86.52% Fscore:85.03% \n"
     ]
    }
   ],
   "source": [
    "import numpy as np\n",
    "import matplotlib.pyplot as plt\n",
    "import seaborn as sns\n",
    "from sklearn.metrics import classification_report, confusion_matrix, precision_recall_fscore_support\n",
    "from sklearn.model_selection import StratifiedKFold\n",
    "# Calculate and visualize the confusion matrix\n",
    "cm = confusion_matrix(y_test_to_label, predicted)\n",
    "plt.figure(figsize=(10, 7))\n",
    "sns.heatmap(cm, annot=True, fmt='d', cmap='Blues', xticklabels=['0', '1','2'], yticklabels=['0', '1','2'])\n",
    "plt.xlabel('Predicted')\n",
    "plt.ylabel('Actual')\n",
    "plt.title('Confusion Matrix')\n",
    "plt.show()\n",
    "\n",
    "# Print precision, recall, and f-score\n",
    "prec, reca, fscore, sup = precision_recall_fscore_support(y_test_to_label, predicted, average=param)\n",
    "print(\" Precision:{:.2f}% Recall:{:.2f}% Fscore:{:.2f}% \".format(prec*100, reca*100, fscore*100))"
   ]
  },
  {
   "cell_type": "code",
   "execution_count": null,
   "metadata": {},
   "outputs": [],
   "source": []
  }
 ],
 "metadata": {
  "kernelspec": {
   "display_name": "Python [conda env:python]",
   "language": "python",
   "name": "conda-env-python-py"
  },
  "language_info": {
   "codemirror_mode": {
    "name": "ipython",
    "version": 3
   },
   "file_extension": ".py",
   "mimetype": "text/x-python",
   "name": "python",
   "nbconvert_exporter": "python",
   "pygments_lexer": "ipython3",
   "version": "3.7.1"
  }
 },
 "nbformat": 4,
 "nbformat_minor": 4
}
