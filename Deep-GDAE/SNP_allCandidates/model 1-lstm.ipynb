{
 "cells": [
  {
   "cell_type": "markdown",
   "metadata": {},
   "source": [
    "# model 1 \n",
    "\n",
    " sara \n"
   ]
  },
  {
   "cell_type": "markdown",
   "metadata": {},
   "source": [
    "#  -------------------------------------------------------------------------------------------"
   ]
  },
  {
   "cell_type": "markdown",
   "metadata": {},
   "source": [
    "# imports"
   ]
  },
  {
   "cell_type": "code",
   "execution_count": 1,
   "metadata": {},
   "outputs": [
    {
     "name": "stderr",
     "output_type": "stream",
     "text": [
      "Using TensorFlow backend.\n"
     ]
    }
   ],
   "source": [
    "import tensorflow as tf\n",
    "from keras.models import load_model\n",
    "from keras.callbacks import ModelCheckpoint, EarlyStopping\n",
    "from keras_tqdm import TQDMNotebookCallback\n",
    "import numpy as np\n",
    "from keras_tqdm import TQDMNotebookCallback\n",
    "import nltk\n",
    "import xml.etree.ElementTree as ET\n",
    "import pandas as pd\n",
    "import os\n",
    "import string\n",
    "from nltk.tokenize import TreebankWordTokenizer\n",
    "from numpy.random import random_sample\n",
    "import re\n",
    "import pickle\n",
    "from sklearn.metrics import accuracy_score\n",
    "from sklearn.metrics import classification_report\n",
    "\n",
    "from keras.layers import Embedding, Flatten,LSTM\n",
    "from keras.layers.convolutional import Conv2D, MaxPooling2D\n",
    "from keras.utils import to_categorical\n",
    "from keras.models import Sequential, Model\n",
    "from keras.layers import Dense, Dropout, Activation,  Input, merge,Conv1D,MaxPooling1D,GlobalMaxPooling1D,Convolution1D\n",
    "from keras import regularizers\n",
    "from sklearn.metrics import precision_recall_fscore_support\n",
    "from sklearn.model_selection import StratifiedKFold\n",
    "import matplotlib.pyplot as plt\n",
    "from keras.layers import Concatenate, concatenate\n",
    "from keras import backend as K\n",
    "from keras.layers import multiply\n",
    "from keras.layers import merge\n",
    "from keras.layers.core import *\n",
    "from keras.layers.recurrent import LSTM\n",
    "from keras.models import *\n",
    "from keras.regularizers import l2 \n",
    "random_seed=1337"
   ]
  },
  {
   "cell_type": "markdown",
   "metadata": {},
   "source": [
    "###  Define Callback functions to generate Measures"
   ]
  },
  {
   "cell_type": "code",
   "execution_count": 3,
   "metadata": {},
   "outputs": [],
   "source": [
    "from keras import backend as K\n",
    "\n",
    "def f1(y_true, y_pred):\n",
    "    def recall(y_true, y_pred):\n",
    "        true_positives = K.sum(K.round(K.clip(y_true * y_pred, 0, 1)))\n",
    "        possible_positives = K.sum(K.round(K.clip(y_true, 0, 1)))\n",
    "        recall = true_positives / (possible_positives + K.epsilon())\n",
    "        return recall\n",
    "\n",
    "    def precision(y_true, y_pred):\n",
    "        true_positives = K.sum(K.round(K.clip(y_true * y_pred, 0, 1)))\n",
    "        predicted_positives = K.sum(K.round(K.clip(y_pred, 0, 1)))\n",
    "        precision = true_positives / (predicted_positives + K.epsilon())\n",
    "        return precision\n",
    "    precision = precision(y_true, y_pred)\n",
    "    recall = recall(y_true, y_pred)\n",
    "    return 2*((precision*recall)/(precision+recall+K.epsilon()))\n"
   ]
  },
  {
   "cell_type": "markdown",
   "metadata": {},
   "source": [
    "# Experiments to reproduce the results of Table 9 "
   ]
  },
  {
   "cell_type": "markdown",
   "metadata": {},
   "source": [
    "### Load pre procssed Data"
   ]
  },
  {
   "cell_type": "code",
   "execution_count": 8,
   "metadata": {},
   "outputs": [],
   "source": [
    "with open('../data/pickles/train_and_test_data_sentences_snp_2class.pickle', 'rb') as handle:\n",
    "#with open('../../SNP-Disease/train_and_test_data_sentences_snp_2classWiki.pickle', 'rb') as handle:\n",
    "\n",
    "    W_train = pickle.load(handle)\n",
    "    d1_train = pickle.load(handle)\n",
    "    d2_train = pickle.load(handle)\n",
    "    Y_train = pickle.load(handle)\n",
    "    Tr_word_list = pickle.load(handle)\n",
    "    \n",
    "    W_test = pickle.load(handle)\n",
    "    d1_test = pickle.load(handle)\n",
    "    d2_test = pickle.load(handle)\n",
    "    Y_test = pickle.load(handle)\n",
    "    Te_word_list = pickle.load(handle)\n",
    "    \n",
    "    \n",
    "    word_vectors = pickle.load(handle)\n",
    "    word_dict = pickle.load(handle)\n",
    "    d1_dict = pickle.load(handle)\n",
    "    d2_dict = pickle.load(handle)\n",
    "    label_dict = pickle.load(handle)\n",
    "    MAX_SEQUENCE_LENGTH = pickle.load(handle)\n",
    "    \n",
    "    \n",
    "    "
   ]
  },
  {
   "cell_type": "markdown",
   "metadata": {},
   "source": [
    "### Prepare Word Embedding Layer"
   ]
  },
  {
   "cell_type": "code",
   "execution_count": 11,
   "metadata": {},
   "outputs": [],
   "source": [
    "EMBEDDING_DIM=word_vectors.shape[1]\n",
    "embedding_matrix=word_vectors\n",
    "\n",
    "def create_embedding_layer(l2_reg=0.1,use_pretrained=True,is_trainable=False):\n",
    "    \n",
    "    if use_pretrained:        \n",
    "        return Embedding(len(word_dict) ,EMBEDDING_DIM,weights=[embedding_matrix],input_length=MAX_SEQUENCE_LENGTH,trainable=is_trainable,embeddings_regularizer=regularizers.l2(l2_reg))\n",
    "    else:    \n",
    "        return Embedding(len(word_dict) ,EMBEDDING_DIM,input_length=MAX_SEQUENCE_LENGTH)\n",
    "            "
   ]
  },
  {
   "cell_type": "code",
   "execution_count": 13,
   "metadata": {},
   "outputs": [],
   "source": [
    "INPUT_DIM = 2\n",
    "TIME_STEPS = MAX_SEQUENCE_LENGTH"
   ]
  },
  {
   "cell_type": "code",
   "execution_count": 15,
   "metadata": {},
   "outputs": [],
   "source": [
    "def attentionNew(inputs):\n",
    "    inputs = Lambda(lambda x: tf.keras.backend.sigmoid(x))(inputs)\n",
    "    input_dim = int(inputs.shape[2])\n",
    "    a = Permute((2, 1))(inputs)\n",
    "    a = Dense(TIME_STEPS, activation='softmax')(a)\n",
    "    a_probs = Permute((2, 1))(a)\n",
    "    output_attention_mul = multiply([inputs, a_probs])\n",
    "    output_attention_mul = Lambda(lambda x: tf.keras.backend.sigmoid(x))(output_attention_mul)\n",
    "    return output_attention_mul\n"
   ]
  },
  {
   "cell_type": "markdown",
   "metadata": {},
   "source": [
    "### Create the Model"
   ]
  },
  {
   "cell_type": "code",
   "execution_count": 17,
   "metadata": {},
   "outputs": [],
   "source": [
    "from keras.optimizers import Adam\n",
    "def build_model():    \n",
    "    sequence_input = Input(shape=(MAX_SEQUENCE_LENGTH,), dtype='int32')\n",
    "    embedding_layer = create_embedding_layer(use_pretrained=True, is_trainable=False)\n",
    "    embedded_sequences = embedding_layer(sequence_input)\n",
    "\n",
    "    # First Conv1D Layer\n",
    "    x = Conv1D(256, 7, activation='relu')(embedded_sequences)\n",
    "    x = MaxPooling1D(3)(x)\n",
    "    x = Dropout(0.4)(x)\n",
    "\n",
    "    # Second Conv1D Layer\n",
    "    x = Conv1D(128, 5, activation='relu')(x)\n",
    "    x = MaxPooling1D(3)(x)\n",
    "    x = Dropout(0.4)(x)\n",
    "    \n",
    "    conv_sequence = GlobalMaxPooling1D()(x)  # GlobalMaxPooling after all CNN layers\n",
    "\n",
    "    # Bidirectional RNN layers\n",
    "    forward = LSTM(100, return_sequences=True, recurrent_dropout=0.05)(embedded_sequences)\n",
    "    backward = LSTM(100, return_sequences=True, go_backwards=True, recurrent_dropout=0.05)(embedded_sequences)\n",
    "    lstm_gru_sequence = concatenate([forward, backward], axis=-1)\n",
    "\n",
    "    # Apply attention mechanism\n",
    "    attention_output = attentionNew(lstm_gru_sequence)\n",
    "    attention_pooled = GlobalMaxPooling1D()(attention_output)\n",
    "\n",
    "    # Merge CNN and attention-enhanced RNN outputs\n",
    "    merge = concatenate([conv_sequence, attention_pooled])\n",
    "\n",
    "    # Fully connected layers\n",
    "    x = Dense(256, activation='relu', kernel_regularizer=regularizers.l2(0.05))(merge)\n",
    "    x = Dropout(0.4)(x)\n",
    "    preds = Dense(2, activation='softmax')(x)\n",
    "\n",
    "    # Compile model\n",
    "    optimizer = Adam(learning_rate=0.001)\n",
    "    model = Model(sequence_input, preds)\n",
    "    model.compile(loss='binary_crossentropy', optimizer=optimizer, metrics=['acc', f1])\n",
    "    \n",
    "    return model\n"
   ]
  },
  {
   "cell_type": "code",
   "execution_count": 19,
   "metadata": {},
   "outputs": [
    {
     "name": "stdout",
     "output_type": "stream",
     "text": [
      "Model: \"model_1\"\n",
      "__________________________________________________________________________________________________\n",
      "Layer (type)                    Output Shape         Param #     Connected to                     \n",
      "==================================================================================================\n",
      "input_1 (InputLayer)            (None, 91)           0                                            \n",
      "__________________________________________________________________________________________________\n",
      "embedding_1 (Embedding)         (None, 91, 200)      555000      input_1[0][0]                    \n",
      "__________________________________________________________________________________________________\n",
      "lstm_1 (LSTM)                   (None, 91, 100)      120400      embedding_1[0][0]                \n",
      "__________________________________________________________________________________________________\n",
      "lstm_2 (LSTM)                   (None, 91, 100)      120400      embedding_1[0][0]                \n",
      "__________________________________________________________________________________________________\n",
      "concatenate_1 (Concatenate)     (None, 91, 200)      0           lstm_1[0][0]                     \n",
      "                                                                 lstm_2[0][0]                     \n",
      "__________________________________________________________________________________________________\n",
      "conv1d_1 (Conv1D)               (None, 85, 256)      358656      embedding_1[0][0]                \n",
      "__________________________________________________________________________________________________\n",
      "lambda_1 (Lambda)               (None, 91, 200)      0           concatenate_1[0][0]              \n",
      "__________________________________________________________________________________________________\n",
      "max_pooling1d_1 (MaxPooling1D)  (None, 28, 256)      0           conv1d_1[0][0]                   \n",
      "__________________________________________________________________________________________________\n",
      "permute_1 (Permute)             (None, 200, 91)      0           lambda_1[0][0]                   \n",
      "__________________________________________________________________________________________________\n",
      "dropout_1 (Dropout)             (None, 28, 256)      0           max_pooling1d_1[0][0]            \n",
      "__________________________________________________________________________________________________\n",
      "dense_1 (Dense)                 (None, 200, 91)      8372        permute_1[0][0]                  \n",
      "__________________________________________________________________________________________________\n",
      "conv1d_2 (Conv1D)               (None, 24, 128)      163968      dropout_1[0][0]                  \n",
      "__________________________________________________________________________________________________\n",
      "permute_2 (Permute)             (None, 91, 200)      0           dense_1[0][0]                    \n",
      "__________________________________________________________________________________________________\n",
      "max_pooling1d_2 (MaxPooling1D)  (None, 8, 128)       0           conv1d_2[0][0]                   \n",
      "__________________________________________________________________________________________________\n",
      "multiply_1 (Multiply)           (None, 91, 200)      0           lambda_1[0][0]                   \n",
      "                                                                 permute_2[0][0]                  \n",
      "__________________________________________________________________________________________________\n",
      "dropout_2 (Dropout)             (None, 8, 128)       0           max_pooling1d_2[0][0]            \n",
      "__________________________________________________________________________________________________\n",
      "lambda_2 (Lambda)               (None, 91, 200)      0           multiply_1[0][0]                 \n",
      "__________________________________________________________________________________________________\n",
      "global_max_pooling1d_1 (GlobalM (None, 128)          0           dropout_2[0][0]                  \n",
      "__________________________________________________________________________________________________\n",
      "global_max_pooling1d_2 (GlobalM (None, 200)          0           lambda_2[0][0]                   \n",
      "__________________________________________________________________________________________________\n",
      "concatenate_2 (Concatenate)     (None, 328)          0           global_max_pooling1d_1[0][0]     \n",
      "                                                                 global_max_pooling1d_2[0][0]     \n",
      "__________________________________________________________________________________________________\n",
      "dense_2 (Dense)                 (None, 256)          84224       concatenate_2[0][0]              \n",
      "__________________________________________________________________________________________________\n",
      "dropout_3 (Dropout)             (None, 256)          0           dense_2[0][0]                    \n",
      "__________________________________________________________________________________________________\n",
      "dense_3 (Dense)                 (None, 2)            514         dropout_3[0][0]                  \n",
      "==================================================================================================\n",
      "Total params: 1,411,534\n",
      "Trainable params: 856,534\n",
      "Non-trainable params: 555,000\n",
      "__________________________________________________________________________________________________\n"
     ]
    }
   ],
   "source": [
    "model = build_model()\n",
    "model.summary()"
   ]
  },
  {
   "cell_type": "markdown",
   "metadata": {},
   "source": [
    "### Run the Evaluation on the test dataset "
   ]
  },
  {
   "cell_type": "code",
   "execution_count": 9,
   "metadata": {},
   "outputs": [
    {
     "name": "stdout",
     "output_type": "stream",
     "text": [
      "Train on 935 samples, validate on 365 samples\n",
      "Epoch 1/70\n",
      "935/935 [==============================] - 2s 3ms/step - loss: 5023.6647 - acc: 0.7059 - f1: 0.6949 - val_loss: 5023.1115 - val_acc: 0.7068 - val_f1: 0.6909\n",
      "Epoch 2/70\n",
      "935/935 [==============================] - 3s 3ms/step - loss: 5022.6282 - acc: 0.7176 - f1: 0.7213 - val_loss: 5022.1397 - val_acc: 0.7068 - val_f1: 0.6909\n",
      "Epoch 3/70\n",
      "935/935 [==============================] - 3s 3ms/step - loss: 5021.6634 - acc: 0.7433 - f1: 0.7500 - val_loss: 5021.2463 - val_acc: 0.7068 - val_f1: 0.6909\n",
      "Epoch 4/70\n",
      "935/935 [==============================] - 3s 3ms/step - loss: 5020.7641 - acc: 0.7487 - f1: 0.7515 - val_loss: 5020.3706 - val_acc: 0.7068 - val_f1: 0.6909\n",
      "Epoch 5/70\n",
      "935/935 [==============================] - 3s 3ms/step - loss: 5019.9258 - acc: 0.7561 - f1: 0.7588 - val_loss: 5019.5534 - val_acc: 0.7068 - val_f1: 0.6909\n",
      "Epoch 6/70\n",
      "935/935 [==============================] - 3s 3ms/step - loss: 5019.1490 - acc: 0.7540 - f1: 0.7455 - val_loss: 5018.8039 - val_acc: 0.7068 - val_f1: 0.6909\n",
      "Epoch 7/70\n",
      "935/935 [==============================] - 3s 3ms/step - loss: 5018.4159 - acc: 0.7529 - f1: 0.7482 - val_loss: 5018.1015 - val_acc: 0.7068 - val_f1: 0.6909\n",
      "Epoch 8/70\n",
      "935/935 [==============================] - 3s 3ms/step - loss: 5017.7388 - acc: 0.7465 - f1: 0.7457 - val_loss: 5017.4493 - val_acc: 0.7068 - val_f1: 0.6909\n",
      "Epoch 9/70\n",
      "935/935 [==============================] - 3s 3ms/step - loss: 5017.0862 - acc: 0.7690 - f1: 0.7638 - val_loss: 5016.8374 - val_acc: 0.7068 - val_f1: 0.6909\n",
      "Epoch 10/70\n",
      "935/935 [==============================] - 3s 3ms/step - loss: 5016.4904 - acc: 0.7904 - f1: 0.7921 - val_loss: 5016.2697 - val_acc: 0.7288 - val_f1: 0.7117\n",
      "Epoch 11/70\n",
      "935/935 [==============================] - 3s 3ms/step - loss: 5015.9368 - acc: 0.8011 - f1: 0.8025 - val_loss: 5015.7382 - val_acc: 0.7370 - val_f1: 0.7196\n",
      "Epoch 12/70\n",
      "935/935 [==============================] - 3s 3ms/step - loss: 5015.4262 - acc: 0.8064 - f1: 0.8115 - val_loss: 5015.2357 - val_acc: 0.7562 - val_f1: 0.7378\n",
      "Epoch 13/70\n",
      "935/935 [==============================] - 3s 3ms/step - loss: 5014.9288 - acc: 0.8235 - f1: 0.8244 - val_loss: 5014.7739 - val_acc: 0.7616 - val_f1: 0.7430\n",
      "Epoch 14/70\n",
      "935/935 [==============================] - 3s 3ms/step - loss: 5014.4881 - acc: 0.8406 - f1: 0.8411 - val_loss: 5014.3467 - val_acc: 0.8274 - val_f1: 0.8245\n",
      "Epoch 15/70\n",
      "935/935 [==============================] - 3s 3ms/step - loss: 5014.0656 - acc: 0.8610 - f1: 0.8609 - val_loss: 5013.9601 - val_acc: 0.8301 - val_f1: 0.8309\n",
      "Epoch 16/70\n",
      "935/935 [==============================] - 3s 3ms/step - loss: 5013.6705 - acc: 0.8652 - f1: 0.8613 - val_loss: 5013.5864 - val_acc: 0.7973 - val_f1: 0.7806\n",
      "Epoch 17/70\n",
      "935/935 [==============================] - 3s 3ms/step - loss: 5013.3233 - acc: 0.8759 - f1: 0.8717 - val_loss: 5013.2443 - val_acc: 0.8301 - val_f1: 0.8233\n",
      "Epoch 18/70\n",
      "935/935 [==============================] - 3s 3ms/step - loss: 5012.9941 - acc: 0.8834 - f1: 0.8827 - val_loss: 5012.9284 - val_acc: 0.8411 - val_f1: 0.8375\n",
      "Epoch 19/70\n",
      "935/935 [==============================] - 3s 3ms/step - loss: 5012.6926 - acc: 0.9102 - f1: 0.9088 - val_loss: 5012.6458 - val_acc: 0.8329 - val_f1: 0.8259\n",
      "Epoch 20/70\n",
      "935/935 [==============================] - 3s 3ms/step - loss: 5012.4137 - acc: 0.9123 - f1: 0.9146 - val_loss: 5012.3743 - val_acc: 0.8466 - val_f1: 0.8427\n",
      "Epoch 21/70\n",
      "935/935 [==============================] - 3s 3ms/step - loss: 5012.1405 - acc: 0.9166 - f1: 0.9187 - val_loss: 5012.1335 - val_acc: 0.8411 - val_f1: 0.8375\n",
      "Epoch 22/70\n",
      "935/935 [==============================] - 3s 3ms/step - loss: 5011.8899 - acc: 0.9294 - f1: 0.9312 - val_loss: 5011.9222 - val_acc: 0.8356 - val_f1: 0.8285\n",
      "Epoch 23/70\n",
      "935/935 [==============================] - 3s 3ms/step - loss: 5011.6857 - acc: 0.9166 - f1: 0.9187 - val_loss: 5011.7147 - val_acc: 0.8384 - val_f1: 0.8311\n",
      "Epoch 24/70\n",
      "935/935 [==============================] - 3s 3ms/step - loss: 5011.4714 - acc: 0.9337 - f1: 0.9317 - val_loss: 5011.4957 - val_acc: 0.8630 - val_f1: 0.8584\n",
      "Epoch 25/70\n",
      "935/935 [==============================] - 3s 3ms/step - loss: 5011.2751 - acc: 0.9294 - f1: 0.9312 - val_loss: 5011.3360 - val_acc: 0.8630 - val_f1: 0.8546\n",
      "Epoch 26/70\n",
      "935/935 [==============================] - 3s 4ms/step - loss: 5011.1183 - acc: 0.9326 - f1: 0.9344 - val_loss: 5011.1361 - val_acc: 0.8740 - val_f1: 0.8688\n",
      "Epoch 27/70\n",
      "935/935 [==============================] - 3s 3ms/step - loss: 5010.9499 - acc: 0.9422 - f1: 0.9438 - val_loss: 5011.0256 - val_acc: 0.8658 - val_f1: 0.8572\n",
      "Epoch 28/70\n",
      "935/935 [==============================] - 3s 3ms/step - loss: 5010.8037 - acc: 0.9422 - f1: 0.9438 - val_loss: 5010.8508 - val_acc: 0.8986 - val_f1: 0.8998\n",
      "Epoch 29/70\n",
      "935/935 [==============================] - 3s 3ms/step - loss: 5010.6705 - acc: 0.9401 - f1: 0.9417 - val_loss: 5010.7375 - val_acc: 0.9041 - val_f1: 0.9050\n",
      "Epoch 30/70\n",
      "935/935 [==============================] - 3s 3ms/step - loss: 5010.5429 - acc: 0.9497 - f1: 0.9473 - val_loss: 5010.6044 - val_acc: 0.8904 - val_f1: 0.8882\n",
      "Epoch 31/70\n",
      "935/935 [==============================] - 3s 3ms/step - loss: 5010.4161 - acc: 0.9572 - f1: 0.9583 - val_loss: 5010.5629 - val_acc: 0.8685 - val_f1: 0.8598\n",
      "Epoch 32/70\n",
      "935/935 [==============================] - 3s 3ms/step - loss: 5010.3192 - acc: 0.9508 - f1: 0.9521 - val_loss: 5010.4296 - val_acc: 0.8877 - val_f1: 0.8818\n",
      "Epoch 33/70\n",
      "935/935 [==============================] - 3s 3ms/step - loss: 5010.2216 - acc: 0.9594 - f1: 0.9604 - val_loss: 5010.3189 - val_acc: 0.8959 - val_f1: 0.8934\n",
      "Epoch 34/70\n",
      "935/935 [==============================] - 3s 3ms/step - loss: 5010.1385 - acc: 0.9572 - f1: 0.9583 - val_loss: 5010.2355 - val_acc: 0.8877 - val_f1: 0.8856\n",
      "Epoch 35/70\n",
      "935/935 [==============================] - 3s 3ms/step - loss: 5010.0427 - acc: 0.9701 - f1: 0.9671 - val_loss: 5010.2032 - val_acc: 0.8795 - val_f1: 0.8740\n",
      "Epoch 36/70\n",
      "935/935 [==============================] - 3s 3ms/step - loss: 5009.9670 - acc: 0.9626 - f1: 0.9598 - val_loss: 5010.0746 - val_acc: 0.8986 - val_f1: 0.8960\n",
      "Epoch 37/70\n",
      "935/935 [==============================] - 3s 3ms/step - loss: 5009.8970 - acc: 0.9722 - f1: 0.9729 - val_loss: 5010.0089 - val_acc: 0.8986 - val_f1: 0.8922\n",
      "Epoch 38/70\n",
      "935/935 [==============================] - 3s 3ms/step - loss: 5009.8293 - acc: 0.9722 - f1: 0.9729 - val_loss: 5009.9665 - val_acc: 0.9014 - val_f1: 0.8986\n",
      "Epoch 39/70\n",
      "935/935 [==============================] - 3s 3ms/step - loss: 5009.7662 - acc: 0.9786 - f1: 0.9792 - val_loss: 5009.9874 - val_acc: 0.8822 - val_f1: 0.8766\n",
      "Epoch 40/70\n",
      "935/935 [==============================] - 3s 3ms/step - loss: 5009.7135 - acc: 0.9765 - f1: 0.9771 - val_loss: 5009.8507 - val_acc: 0.9068 - val_f1: 0.9038\n",
      "Epoch 41/70\n",
      "935/935 [==============================] - 3s 3ms/step - loss: 5009.6732 - acc: 0.9807 - f1: 0.9812 - val_loss: 5009.7983 - val_acc: 0.9068 - val_f1: 0.9038\n",
      "Epoch 42/70\n",
      "935/935 [==============================] - 3s 3ms/step - loss: 5009.6397 - acc: 0.9754 - f1: 0.9723 - val_loss: 5009.8238 - val_acc: 0.8932 - val_f1: 0.8870\n",
      "Epoch 43/70\n",
      "935/935 [==============================] - 3s 3ms/step - loss: 5009.5941 - acc: 0.9765 - f1: 0.9734 - val_loss: 5009.8011 - val_acc: 0.8959 - val_f1: 0.8896\n",
      "Epoch 44/70\n",
      "935/935 [==============================] - 3s 3ms/step - loss: 5009.5519 - acc: 0.9786 - f1: 0.9792 - val_loss: 5009.6909 - val_acc: 0.9014 - val_f1: 0.8986\n",
      "Epoch 45/70\n",
      "935/935 [==============================] - 3s 3ms/step - loss: 5009.5107 - acc: 0.9882 - f1: 0.9885 - val_loss: 5009.7033 - val_acc: 0.8959 - val_f1: 0.8896\n",
      "Epoch 46/70\n",
      "935/935 [==============================] - 3s 3ms/step - loss: 5009.4774 - acc: 0.9807 - f1: 0.9812 - val_loss: 5009.6712 - val_acc: 0.8986 - val_f1: 0.8922\n",
      "Epoch 47/70\n",
      "935/935 [==============================] - 3s 3ms/step - loss: 5009.4529 - acc: 0.9850 - f1: 0.9854 - val_loss: 5009.5964 - val_acc: 0.9014 - val_f1: 0.8986\n",
      "Epoch 48/70\n",
      "935/935 [==============================] - 3s 3ms/step - loss: 5009.4270 - acc: 0.9829 - f1: 0.9833 - val_loss: 5009.5738 - val_acc: 0.9014 - val_f1: 0.8986\n",
      "Epoch 49/70\n"
     ]
    },
    {
     "name": "stdout",
     "output_type": "stream",
     "text": [
      "935/935 [==============================] - 3s 3ms/step - loss: 5009.4017 - acc: 0.9872 - f1: 0.9875 - val_loss: 5009.6236 - val_acc: 0.9041 - val_f1: 0.8974\n",
      "Epoch 50/70\n",
      "935/935 [==============================] - 3s 3ms/step - loss: 5009.3891 - acc: 0.9754 - f1: 0.9723 - val_loss: 5009.5770 - val_acc: 0.9014 - val_f1: 0.8948\n",
      "Epoch 51/70\n",
      "935/935 [==============================] - 3s 3ms/step - loss: 5009.3583 - acc: 0.9882 - f1: 0.9885 - val_loss: 5009.5156 - val_acc: 0.9123 - val_f1: 0.9129\n",
      "Epoch 52/70\n",
      "935/935 [==============================] - 3s 3ms/step - loss: 5009.3444 - acc: 0.9882 - f1: 0.9885 - val_loss: 5009.4783 - val_acc: 0.9068 - val_f1: 0.9038\n",
      "Epoch 53/70\n",
      "935/935 [==============================] - 3s 3ms/step - loss: 5009.3203 - acc: 0.9872 - f1: 0.9875 - val_loss: 5009.5036 - val_acc: 0.9068 - val_f1: 0.8962\n",
      "Epoch 54/70\n",
      "935/935 [==============================] - 3s 3ms/step - loss: 5009.3042 - acc: 0.9925 - f1: 0.9927 - val_loss: 5009.4501 - val_acc: 0.9123 - val_f1: 0.9129\n",
      "Epoch 55/70\n",
      "935/935 [==============================] - 3s 3ms/step - loss: 5009.2899 - acc: 0.9893 - f1: 0.9896 - val_loss: 5009.4747 - val_acc: 0.9068 - val_f1: 0.9038\n",
      "Epoch 56/70\n",
      "935/935 [==============================] - 3s 3ms/step - loss: 5009.2782 - acc: 0.9904 - f1: 0.9906 - val_loss: 5009.4487 - val_acc: 0.9123 - val_f1: 0.9129\n",
      "Epoch 57/70\n",
      "935/935 [==============================] - 3s 3ms/step - loss: 5009.2616 - acc: 0.9925 - f1: 0.9927 - val_loss: 5009.4397 - val_acc: 0.9096 - val_f1: 0.9065\n",
      "Epoch 58/70\n",
      "935/935 [==============================] - 3s 3ms/step - loss: 5009.2510 - acc: 0.9904 - f1: 0.9906 - val_loss: 5009.5196 - val_acc: 0.8986 - val_f1: 0.8922\n",
      "Epoch 59/70\n",
      "935/935 [==============================] - 3s 3ms/step - loss: 5009.2398 - acc: 0.9893 - f1: 0.9896 - val_loss: 5009.4037 - val_acc: 0.9096 - val_f1: 0.9103\n",
      "Epoch 60/70\n",
      "935/935 [==============================] - 3s 3ms/step - loss: 5009.2379 - acc: 0.9893 - f1: 0.9859 - val_loss: 5009.4236 - val_acc: 0.9096 - val_f1: 0.9065\n",
      "Epoch 61/70\n",
      "935/935 [==============================] - 3s 3ms/step - loss: 5009.2417 - acc: 0.9861 - f1: 0.9865 - val_loss: 5009.4872 - val_acc: 0.9014 - val_f1: 0.8948\n",
      "Epoch 62/70\n",
      "935/935 [==============================] - 3s 3ms/step - loss: 5009.2195 - acc: 0.9893 - f1: 0.9896 - val_loss: 5009.4067 - val_acc: 0.9041 - val_f1: 0.9012\n",
      "Epoch 63/70\n",
      "935/935 [==============================] - 3s 3ms/step - loss: 5009.2036 - acc: 0.9957 - f1: 0.9958 - val_loss: 5009.3763 - val_acc: 0.9151 - val_f1: 0.9155\n",
      "Epoch 64/70\n",
      "935/935 [==============================] - 3s 3ms/step - loss: 5009.2087 - acc: 0.9893 - f1: 0.9896 - val_loss: 5009.3880 - val_acc: 0.9096 - val_f1: 0.9065\n",
      "Epoch 65/70\n",
      "935/935 [==============================] - 3s 3ms/step - loss: 5009.1972 - acc: 0.9893 - f1: 0.9896 - val_loss: 5009.3986 - val_acc: 0.9096 - val_f1: 0.9103\n",
      "Epoch 66/70\n",
      "935/935 [==============================] - 3s 3ms/step - loss: 5009.1836 - acc: 0.9968 - f1: 0.9969 - val_loss: 5009.3764 - val_acc: 0.9068 - val_f1: 0.9038\n",
      "Epoch 67/70\n",
      "935/935 [==============================] - 3s 3ms/step - loss: 5009.1794 - acc: 0.9957 - f1: 0.9958 - val_loss: 5009.4125 - val_acc: 0.8986 - val_f1: 0.8922\n",
      "Epoch 68/70\n",
      "935/935 [==============================] - 3s 3ms/step - loss: 5009.1711 - acc: 0.9979 - f1: 0.9979 - val_loss: 5009.4024 - val_acc: 0.8986 - val_f1: 0.8922\n",
      "Epoch 69/70\n",
      "935/935 [==============================] - 3s 3ms/step - loss: 5009.1682 - acc: 0.9979 - f1: 0.9979 - val_loss: 5009.3704 - val_acc: 0.9096 - val_f1: 0.9065\n",
      "Epoch 70/70\n",
      "935/935 [==============================] - 3s 3ms/step - loss: 5009.1609 - acc: 0.9979 - f1: 0.9979 - val_loss: 5009.3863 - val_acc: 0.9123 - val_f1: 0.9129\n"
     ]
    }
   ],
   "source": [
    "param='macro'\n",
    "epochs =70\n",
    "batch_size = 32\n",
    "history=model.fit(W_train, Y_train,epochs=epochs,validation_data=(W_test,Y_test), batch_size=batch_size,verbose=1)        \n",
    "\n"
   ]
  },
  {
   "cell_type": "code",
   "execution_count": 13,
   "metadata": {},
   "outputs": [
    {
     "data": {
      "image/png": "[encoded data removed]",
      "text/plain": [
       "<Figure size 1000x300 with 2 Axes>"
      ]
     },
     "metadata": {},
     "output_type": "display_data"
    }
   ],
   "source": [
    "import matplotlib.pyplot as plt\n",
    "\n",
    "# Training & Validation accuracy\n",
    "train_loss = history.history['loss']\n",
    "val_loss = history.history['val_loss']\n",
    "train_acc = history.history['acc']\n",
    "val_acc = history.history['val_acc']\n",
    "epochs = len(train_loss)\n",
    "\n",
    "xc = range(epochs)\n",
    "\n",
    "plt.figure(figsize=(10, 3))\n",
    "\n",
    "# Loss subplot\n",
    "plt.subplot(1, 2, 1)\n",
    "plt.plot(xc, train_loss, label='Training Loss')\n",
    "plt.plot(xc, val_loss, label='Validation Loss')\n",
    "plt.xlabel('Number of Epochs', fontsize=10)\n",
    "plt.ylabel('Loss', fontsize=10)\n",
    "plt.title('Training and Validation Loss', fontsize=12)\n",
    "plt.legend(fontsize=8)\n",
    "plt.grid(True)\n",
    "\n",
    "# Accuracy subplot\n",
    "plt.subplot(1, 2, 2)\n",
    "plt.plot(xc, train_acc, label='Training Accuracy')\n",
    "plt.plot(xc, val_acc, label='Validation Accuracy')\n",
    "plt.xlabel('Number of Epochs', fontsize=10)\n",
    "plt.ylabel('Accuracy', fontsize=10)\n",
    "plt.title('Training and Validation Accuracy', fontsize=12)\n",
    "plt.legend(fontsize=8, loc='lower right')  # Change position to lower right\n",
    "plt.grid(True)\n",
    "\n",
    "plt.tight_layout()\n",
    "plt.show()\n"
   ]
  },
  {
   "cell_type": "code",
   "execution_count": 15,
   "metadata": {},
   "outputs": [
    {
     "name": "stdout",
     "output_type": "stream",
     "text": [
      "              precision    recall  f1-score   support\n",
      "\n",
      "           0     0.9412    0.7477    0.8333       107\n",
      "           1     0.9036    0.9806    0.9405       258\n",
      "\n",
      "    accuracy                         0.9123       365\n",
      "   macro avg     0.9224    0.8641    0.8869       365\n",
      "weighted avg     0.9146    0.9123    0.9091       365\n",
      "\n",
      " Precision:92.24% Recall:86.41% Fscore:88.69% \n"
     ]
    }
   ],
   "source": [
    "predicted = np.argmax(model.predict(W_test), axis=1)\n",
    "y_test_to_label= np.argmax(Y_test, axis=1)\n",
    "prec, reca, fscore, sup = precision_recall_fscore_support(y_test_to_label, predicted, average=param)\n",
    "\n",
    "\n",
    "# Generate the classification report as a dictionary\n",
    "report_dict = classification_report(y_test_to_label, predicted, output_dict=True)\n",
    "\n",
    "# Create a new dictionary to hold the formatted values\n",
    "formatted_report_dict = {}\n",
    "\n",
    "# Iterate over the items in the report dictionary\n",
    "for key, value in report_dict.items():\n",
    "    if isinstance(value, dict):\n",
    "        # Format the nested dictionary values\n",
    "        formatted_report_dict[key] = {sub_key: f\"{sub_value:.4f}\" for sub_key, sub_value in value.items()}\n",
    "    else:\n",
    "        # Format the top-level dictionary values\n",
    "        formatted_report_dict[key] = f\"{value:.4f}\"\n",
    "\n",
    "# Create a string representation of the formatted dictionary\n",
    "formatted_report_str = classification_report(y_test_to_label, predicted, digits=4)\n",
    "\n",
    "# Print the formatted classification report\n",
    "print(formatted_report_str)\n",
    "\n",
    "\n",
    "print(\" Precision:{:.2f}% Recall:{:.2f}% Fscore:{:.2f}% \".format(prec*100, reca*100, fscore*100))"
   ]
  },
  {
   "cell_type": "code",
   "execution_count": 16,
   "metadata": {},
   "outputs": [
    {
     "data": {
      "image/png": "[encoded data removed]",
      "text/plain": [
       "<Figure size 800x600 with 1 Axes>"
      ]
     },
     "metadata": {},
     "output_type": "display_data"
    }
   ],
   "source": [
    "from sklearn.metrics import confusion_matrix\n",
    "import seaborn as sns\n",
    "\n",
    "# Get the predicted labels\n",
    "predicted_labels = np.argmax(model.predict(W_test), axis=1)\n",
    "\n",
    "# Create the confusion matrix\n",
    "cm = confusion_matrix(np.argmax(Y_test, axis=1), predicted_labels)\n",
    "\n",
    "# Plot the confusion matrix\n",
    "plt.figure(figsize=(8, 6))\n",
    "sns.heatmap(cm, annot=True, fmt='d', cmap='Blues', cbar=False)\n",
    "plt.xlabel('Predicted Labels')\n",
    "plt.ylabel('True Labels')\n",
    "plt.title('Confusion Matrix')\n",
    "plt.show()"
   ]
  },
  {
   "cell_type": "code",
   "execution_count": null,
   "metadata": {},
   "outputs": [],
   "source": []
  }
 ],
 "metadata": {
  "kernelspec": {
   "display_name": "Python [conda env:python]",
   "language": "python",
   "name": "conda-env-python-py"
  },
  "language_info": {
   "codemirror_mode": {
    "name": "ipython",
    "version": 3
   },
   "file_extension": ".py",
   "mimetype": "text/x-python",
   "name": "python",
   "nbconvert_exporter": "python",
   "pygments_lexer": "ipython3",
   "version": "3.7.1"
  }
 },
 "nbformat": 4,
 "nbformat_minor": 4
}
