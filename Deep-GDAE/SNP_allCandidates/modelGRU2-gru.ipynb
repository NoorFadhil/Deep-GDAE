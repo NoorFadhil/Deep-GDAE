{
 "cells": [
  {
   "cell_type": "markdown",
   "metadata": {},
   "source": [
    "# model 1 \n",
    "\n",
    " sara \n",
    "CNN + GRU + GRU"
   ]
  },
  {
   "cell_type": "markdown",
   "metadata": {},
   "source": [
    "#  -------------------------------------------------------------------------------------------"
   ]
  },
  {
   "cell_type": "markdown",
   "metadata": {},
   "source": [
    "# imports"
   ]
  },
  {
   "cell_type": "code",
   "execution_count": 1,
   "metadata": {},
   "outputs": [],
   "source": [
    "import tensorflow as tf\n",
    "from keras.models import load_model\n",
    "from keras.callbacks import ModelCheckpoint, EarlyStopping\n",
    "from keras_tqdm import TQDMNotebookCallback\n",
    "import numpy as np\n",
    "from keras_tqdm import TQDMNotebookCallback\n",
    "import nltk\n",
    "import xml.etree.ElementTree as ET\n",
    "import pandas as pd\n",
    "import os\n",
    "import string\n",
    "from nltk.tokenize import TreebankWordTokenizer\n",
    "from numpy.random import random_sample\n",
    "import re\n",
    "import pickle\n",
    "from sklearn.metrics import accuracy_score\n",
    "from sklearn.metrics import classification_report\n",
    "\n",
    "from keras.layers import Embedding, Flatten,LSTM,GRU\n",
    "from keras.layers.convolutional import Conv2D, MaxPooling2D\n",
    "from keras.utils import to_categorical\n",
    "from keras.models import Sequential, Model\n",
    "from keras.layers import Dense, Dropout, Activation,  Input, merge,Conv1D,MaxPooling1D,GlobalMaxPooling1D,Convolution1D\n",
    "from keras import regularizers\n",
    "from sklearn.metrics import precision_recall_fscore_support\n",
    "from sklearn.model_selection import StratifiedKFold\n",
    "import matplotlib.pyplot as plt\n",
    "from keras.layers import Concatenate, concatenate\n",
    "from keras import backend as K\n",
    "from keras.layers import multiply\n",
    "from keras.layers import merge\n",
    "from keras.layers.core import *\n",
    "from keras.layers.recurrent import LSTM\n",
    "from keras.models import *"
   ]
  },
  {
   "cell_type": "markdown",
   "metadata": {},
   "source": [
    "###  Define Callback functions to generate Measures"
   ]
  },
  {
   "cell_type": "code",
   "execution_count": 3,
   "metadata": {},
   "outputs": [],
   "source": [
    "from keras import backend as K\n",
    "\n",
    "def f1(y_true, y_pred):\n",
    "    def recall(y_true, y_pred):\n",
    "        true_positives = K.sum(K.round(K.clip(y_true * y_pred, 0, 1)))\n",
    "        possible_positives = K.sum(K.round(K.clip(y_true, 0, 1)))\n",
    "        recall = true_positives / (possible_positives + K.epsilon())\n",
    "        return recall\n",
    "\n",
    "    def precision(y_true, y_pred):\n",
    "        true_positives = K.sum(K.round(K.clip(y_true * y_pred, 0, 1)))\n",
    "        predicted_positives = K.sum(K.round(K.clip(y_pred, 0, 1)))\n",
    "        precision = true_positives / (predicted_positives + K.epsilon())\n",
    "        return precision\n",
    "    precision = precision(y_true, y_pred)\n",
    "    recall = recall(y_true, y_pred)\n",
    "    return 2*((precision*recall)/(precision+recall+K.epsilon()))\n"
   ]
  },
  {
   "cell_type": "markdown",
   "metadata": {},
   "source": []
  },
  {
   "cell_type": "markdown",
   "metadata": {},
   "source": [
    "### Load pre procssed Data"
   ]
  },
  {
   "cell_type": "code",
   "execution_count": 8,
   "metadata": {},
   "outputs": [],
   "source": [
    "with open('../data/pickles/train_and_test_data_sentences_snp_2class.pickle', 'rb') as handle:\n",
    "\n",
    "    W_train = pickle.load(handle)\n",
    "    d1_train = pickle.load(handle)\n",
    "    d2_train = pickle.load(handle)\n",
    "    Y_train = pickle.load(handle)\n",
    "    Tr_word_list = pickle.load(handle)\n",
    "    \n",
    "    W_test = pickle.load(handle)\n",
    "    d1_test = pickle.load(handle)\n",
    "    d2_test = pickle.load(handle)\n",
    "    Y_test = pickle.load(handle)\n",
    "    Te_word_list = pickle.load(handle)\n",
    "    \n",
    "    \n",
    "    word_vectors = pickle.load(handle)\n",
    "    word_dict = pickle.load(handle)\n",
    "    d1_dict = pickle.load(handle)\n",
    "    d2_dict = pickle.load(handle)\n",
    "    label_dict = pickle.load(handle)\n",
    "    MAX_SEQUENCE_LENGTH = pickle.load(handle)"
   ]
  },
  {
   "cell_type": "markdown",
   "metadata": {},
   "source": [
    "### Prepare Word Embedding Layer"
   ]
  },
  {
   "cell_type": "code",
   "execution_count": 11,
   "metadata": {},
   "outputs": [],
   "source": [
    "EMBEDDING_DIM=word_vectors.shape[1]\n",
    "embedding_matrix=word_vectors\n",
    "\n",
    "def create_embedding_layer(l2_reg=0.1,use_pretrained=True,is_trainable=False):\n",
    "    \n",
    "    if use_pretrained:        \n",
    "        return Embedding(len(word_dict) ,EMBEDDING_DIM,weights=[embedding_matrix],input_length=MAX_SEQUENCE_LENGTH,trainable=is_trainable,embeddings_regularizer=regularizers.l2(l2_reg))\n",
    "    else:    \n",
    "        return Embedding(len(word_dict) ,EMBEDDING_DIM,input_length=MAX_SEQUENCE_LENGTH)\n",
    "            "
   ]
  },
  {
   "cell_type": "code",
   "execution_count": 13,
   "metadata": {},
   "outputs": [],
   "source": [
    "INPUT_DIM = 2\n",
    "TIME_STEPS = MAX_SEQUENCE_LENGTH"
   ]
  },
  {
   "cell_type": "code",
   "execution_count": 15,
   "metadata": {},
   "outputs": [],
   "source": [
    "def attentionNew(inputs):\n",
    "    inputs = Lambda(lambda x: tf.keras.backend.sigmoid(x))(inputs)\n",
    "    input_dim = int(inputs.shape[2])\n",
    "    a = Permute((2, 1))(inputs)\n",
    "    a = Dense(TIME_STEPS, activation='softmax')(a)\n",
    "    a_probs = Permute((2, 1))(a)\n",
    "    output_attention_mul = multiply([inputs, a_probs])\n",
    "    output_attention_mul = Lambda(lambda x: tf.keras.backend.sigmoid(x))(output_attention_mul)\n",
    "    return output_attention_mul\n"
   ]
  },
  {
   "cell_type": "markdown",
   "metadata": {},
   "source": [
    "### Create the Model"
   ]
  },
  {
   "cell_type": "code",
   "execution_count": 18,
   "metadata": {},
   "outputs": [],
   "source": [
    "from keras.optimizers import Adam\n",
    "def build_model():    \n",
    "    sequence_input = Input(shape=(MAX_SEQUENCE_LENGTH,), dtype='int32')\n",
    "    embedding_layer = create_embedding_layer(use_pretrained=True, is_trainable=False)\n",
    "    embedded_sequences = embedding_layer(sequence_input)\n",
    "\n",
    "    # First Conv1D Layer\n",
    "    x = Conv1D(256, 7, activation='relu')(embedded_sequences)\n",
    "    x = MaxPooling1D(3)(x)\n",
    "    x = Dropout(0.4)(x)\n",
    "\n",
    "    # Second Conv1D Layer\n",
    "    x = Conv1D(128, 5, activation='relu')(x)\n",
    "    x = MaxPooling1D(3)(x)\n",
    "    x = Dropout(0.4)(x)\n",
    "    \n",
    "    conv_sequence = GlobalMaxPooling1D()(x)  # GlobalMaxPooling after all CNN layers\n",
    "\n",
    "    # Bidirectional RNN layers\n",
    "    forward = GRU(100, return_sequences=True, recurrent_dropout=0.05)(embedded_sequences)\n",
    "    backward = GRU(100, return_sequences=True, go_backwards=True, recurrent_dropout=0.05)(embedded_sequences)\n",
    "    lstm_gru_sequence = concatenate([forward, backward], axis=-1)\n",
    "\n",
    "    # Apply attention mechanism\n",
    "    attention_output = attentionNew(lstm_gru_sequence)\n",
    "    attention_pooled = GlobalMaxPooling1D()(attention_output)\n",
    "\n",
    "    # Merge CNN and attention-enhanced RNN outputs\n",
    "    merge = concatenate([conv_sequence, attention_pooled])\n",
    "\n",
    "    # Fully connected layers\n",
    "    x = Dense(256, activation='relu', kernel_regularizer=regularizers.l2(0.05))(merge)\n",
    "    x = Dropout(0.4)(x)\n",
    "    preds = Dense(2, activation='softmax')(x)\n",
    "\n",
    "    # Compile model\n",
    "    optimizer = Adam(learning_rate=0.001)\n",
    "    model = Model(sequence_input, preds)\n",
    "    model.compile(loss='binary_crossentropy', optimizer=optimizer, metrics=['acc', f1])\n",
    "    \n",
    "    return model\n"
   ]
  },
  {
   "cell_type": "code",
   "execution_count": 20,
   "metadata": {},
   "outputs": [
    {
     "name": "stdout",
     "output_type": "stream",
     "text": [
      "Model: \"model_1\"\n",
      "__________________________________________________________________________________________________\n",
      "Layer (type)                    Output Shape         Param #     Connected to                     \n",
      "==================================================================================================\n",
      "input_1 (InputLayer)            (None, 91)           0                                            \n",
      "__________________________________________________________________________________________________\n",
      "embedding_1 (Embedding)         (None, 91, 200)      555000      input_1[0][0]                    \n",
      "__________________________________________________________________________________________________\n",
      "gru_1 (GRU)                     (None, 91, 100)      90300       embedding_1[0][0]                \n",
      "__________________________________________________________________________________________________\n",
      "gru_2 (GRU)                     (None, 91, 100)      90300       embedding_1[0][0]                \n",
      "__________________________________________________________________________________________________\n",
      "concatenate_1 (Concatenate)     (None, 91, 200)      0           gru_1[0][0]                      \n",
      "                                                                 gru_2[0][0]                      \n",
      "__________________________________________________________________________________________________\n",
      "conv1d_1 (Conv1D)               (None, 85, 256)      358656      embedding_1[0][0]                \n",
      "__________________________________________________________________________________________________\n",
      "lambda_1 (Lambda)               (None, 91, 200)      0           concatenate_1[0][0]              \n",
      "__________________________________________________________________________________________________\n",
      "max_pooling1d_1 (MaxPooling1D)  (None, 28, 256)      0           conv1d_1[0][0]                   \n",
      "__________________________________________________________________________________________________\n",
      "permute_1 (Permute)             (None, 200, 91)      0           lambda_1[0][0]                   \n",
      "__________________________________________________________________________________________________\n",
      "dropout_1 (Dropout)             (None, 28, 256)      0           max_pooling1d_1[0][0]            \n",
      "__________________________________________________________________________________________________\n",
      "dense_1 (Dense)                 (None, 200, 91)      8372        permute_1[0][0]                  \n",
      "__________________________________________________________________________________________________\n",
      "conv1d_2 (Conv1D)               (None, 24, 128)      163968      dropout_1[0][0]                  \n",
      "__________________________________________________________________________________________________\n",
      "permute_2 (Permute)             (None, 91, 200)      0           dense_1[0][0]                    \n",
      "__________________________________________________________________________________________________\n",
      "max_pooling1d_2 (MaxPooling1D)  (None, 8, 128)       0           conv1d_2[0][0]                   \n",
      "__________________________________________________________________________________________________\n",
      "multiply_1 (Multiply)           (None, 91, 200)      0           lambda_1[0][0]                   \n",
      "                                                                 permute_2[0][0]                  \n",
      "__________________________________________________________________________________________________\n",
      "dropout_2 (Dropout)             (None, 8, 128)       0           max_pooling1d_2[0][0]            \n",
      "__________________________________________________________________________________________________\n",
      "lambda_2 (Lambda)               (None, 91, 200)      0           multiply_1[0][0]                 \n",
      "__________________________________________________________________________________________________\n",
      "global_max_pooling1d_1 (GlobalM (None, 128)          0           dropout_2[0][0]                  \n",
      "__________________________________________________________________________________________________\n",
      "global_max_pooling1d_2 (GlobalM (None, 200)          0           lambda_2[0][0]                   \n",
      "__________________________________________________________________________________________________\n",
      "concatenate_2 (Concatenate)     (None, 328)          0           global_max_pooling1d_1[0][0]     \n",
      "                                                                 global_max_pooling1d_2[0][0]     \n",
      "__________________________________________________________________________________________________\n",
      "dense_2 (Dense)                 (None, 256)          84224       concatenate_2[0][0]              \n",
      "__________________________________________________________________________________________________\n",
      "dropout_3 (Dropout)             (None, 256)          0           dense_2[0][0]                    \n",
      "__________________________________________________________________________________________________\n",
      "dense_3 (Dense)                 (None, 2)            514         dropout_3[0][0]                  \n",
      "==================================================================================================\n",
      "Total params: 1,351,334\n",
      "Trainable params: 796,334\n",
      "Non-trainable params: 555,000\n",
      "__________________________________________________________________________________________________\n"
     ]
    }
   ],
   "source": [
    "model = build_model()\n",
    "model.summary()"
   ]
  },
  {
   "cell_type": "markdown",
   "metadata": {},
   "source": [
    "### Run the Evaluation on the test dataset "
   ]
  },
  {
   "cell_type": "code",
   "execution_count": 13,
   "metadata": {
    "scrolled": true
   },
   "outputs": [
    {
     "name": "stdout",
     "output_type": "stream",
     "text": [
      "Train on 935 samples, validate on 365 samples\n",
      "Epoch 1/70\n",
      "935/935 [==============================] - 4s 4ms/step - loss: 5023.7850 - acc: 0.6802 - f1: 0.6699 - val_loss: 5023.1784 - val_acc: 0.7068 - val_f1: 0.6909\n",
      "Epoch 2/70\n",
      "935/935 [==============================] - 3s 3ms/step - loss: 5022.7198 - acc: 0.7294 - f1: 0.7365 - val_loss: 5022.2475 - val_acc: 0.7068 - val_f1: 0.6909\n",
      "Epoch 3/70\n",
      "935/935 [==============================] - 3s 3ms/step - loss: 5021.7964 - acc: 0.7422 - f1: 0.7490 - val_loss: 5021.3641 - val_acc: 0.7068 - val_f1: 0.6909\n",
      "Epoch 4/70\n",
      "935/935 [==============================] - 3s 3ms/step - loss: 5020.9111 - acc: 0.7636 - f1: 0.7661 - val_loss: 5020.5260 - val_acc: 0.7068 - val_f1: 0.6909\n",
      "Epoch 5/70\n",
      "935/935 [==============================] - 3s 3ms/step - loss: 5020.1104 - acc: 0.7561 - f1: 0.7513 - val_loss: 5019.7529 - val_acc: 0.7397 - val_f1: 0.7222\n",
      "Epoch 6/70\n",
      "935/935 [==============================] - 3s 3ms/step - loss: 5019.3556 - acc: 0.7594 - f1: 0.7656 - val_loss: 5019.0193 - val_acc: 0.7452 - val_f1: 0.7274\n",
      "Epoch 7/70\n",
      "935/935 [==============================] - 3s 3ms/step - loss: 5018.6423 - acc: 0.7722 - f1: 0.7781 - val_loss: 5018.3180 - val_acc: 0.7315 - val_f1: 0.7143\n",
      "Epoch 8/70\n",
      "935/935 [==============================] - 3s 3ms/step - loss: 5017.9703 - acc: 0.7786 - f1: 0.7807 - val_loss: 5017.6795 - val_acc: 0.7288 - val_f1: 0.7117\n",
      "Epoch 9/70\n",
      "935/935 [==============================] - 3s 3ms/step - loss: 5017.3349 - acc: 0.8032 - f1: 0.8083 - val_loss: 5017.0798 - val_acc: 0.7370 - val_f1: 0.7196\n",
      "Epoch 10/70\n",
      "935/935 [==============================] - 3s 3ms/step - loss: 5016.7391 - acc: 0.8139 - f1: 0.8150 - val_loss: 5016.5191 - val_acc: 0.7397 - val_f1: 0.7222\n",
      "Epoch 11/70\n",
      "935/935 [==============================] - 3s 3ms/step - loss: 5016.2027 - acc: 0.8225 - f1: 0.8122 - val_loss: 5015.9883 - val_acc: 0.8027 - val_f1: 0.7935\n",
      "Epoch 12/70\n",
      "935/935 [==============================] - 3s 3ms/step - loss: 5015.6783 - acc: 0.8439 - f1: 0.8442 - val_loss: 5015.4987 - val_acc: 0.7753 - val_f1: 0.7598\n",
      "Epoch 13/70\n",
      "935/935 [==============================] - 3s 3ms/step - loss: 5015.1870 - acc: 0.8567 - f1: 0.8530 - val_loss: 5015.0408 - val_acc: 0.8438 - val_f1: 0.8440\n",
      "Epoch 14/70\n",
      "935/935 [==============================] - 3s 3ms/step - loss: 5014.7513 - acc: 0.8738 - f1: 0.8734 - val_loss: 5014.6152 - val_acc: 0.8082 - val_f1: 0.7949\n",
      "Epoch 15/70\n",
      "935/935 [==============================] - 3s 3ms/step - loss: 5014.3303 - acc: 0.8813 - f1: 0.8844 - val_loss: 5014.2215 - val_acc: 0.8411 - val_f1: 0.8452\n",
      "Epoch 16/70\n",
      "935/935 [==============================] - 3s 3ms/step - loss: 5013.9472 - acc: 0.8941 - f1: 0.8969 - val_loss: 5013.8708 - val_acc: 0.8164 - val_f1: 0.8027\n",
      "Epoch 17/70\n",
      "935/935 [==============================] - 3s 3ms/step - loss: 5013.5984 - acc: 0.8963 - f1: 0.8990 - val_loss: 5013.5098 - val_acc: 0.8548 - val_f1: 0.8582\n",
      "Epoch 18/70\n",
      "935/935 [==============================] - 3s 3ms/step - loss: 5013.2617 - acc: 0.9005 - f1: 0.8957 - val_loss: 5013.2051 - val_acc: 0.8274 - val_f1: 0.8131\n",
      "Epoch 19/70\n",
      "935/935 [==============================] - 3s 3ms/step - loss: 5012.9436 - acc: 0.9176 - f1: 0.9161 - val_loss: 5012.9040 - val_acc: 0.8438 - val_f1: 0.8363\n",
      "Epoch 20/70\n",
      "935/935 [==============================] - 3s 3ms/step - loss: 5012.6487 - acc: 0.9144 - f1: 0.9129 - val_loss: 5012.6238 - val_acc: 0.8575 - val_f1: 0.8570\n",
      "Epoch 21/70\n",
      "935/935 [==============================] - 3s 3ms/step - loss: 5012.3799 - acc: 0.9348 - f1: 0.9327 - val_loss: 5012.3681 - val_acc: 0.8685 - val_f1: 0.8674\n",
      "Epoch 22/70\n",
      "935/935 [==============================] - 3s 3ms/step - loss: 5012.1395 - acc: 0.9326 - f1: 0.9344 - val_loss: 5012.1425 - val_acc: 0.8822 - val_f1: 0.8842\n",
      "Epoch 23/70\n",
      "935/935 [==============================] - 3s 3ms/step - loss: 5011.9100 - acc: 0.9337 - f1: 0.9354 - val_loss: 5011.9375 - val_acc: 0.8548 - val_f1: 0.8468\n",
      "Epoch 24/70\n",
      "935/935 [==============================] - 3s 3ms/step - loss: 5011.6948 - acc: 0.9401 - f1: 0.9379 - val_loss: 5011.7202 - val_acc: 0.8630 - val_f1: 0.8622\n",
      "Epoch 25/70\n",
      "935/935 [==============================] - 3s 3ms/step - loss: 5011.5232 - acc: 0.9251 - f1: 0.9271 - val_loss: 5011.5323 - val_acc: 0.8685 - val_f1: 0.8674\n",
      "Epoch 26/70\n",
      "935/935 [==============================] - 3s 3ms/step - loss: 5011.3321 - acc: 0.9326 - f1: 0.9307 - val_loss: 5011.3619 - val_acc: 0.8767 - val_f1: 0.8752\n",
      "Epoch 27/70\n",
      "935/935 [==============================] - 3s 3ms/step - loss: 5011.1548 - acc: 0.9508 - f1: 0.9521 - val_loss: 5011.1965 - val_acc: 0.8712 - val_f1: 0.8738\n",
      "Epoch 28/70\n",
      "935/935 [==============================] - 3s 3ms/step - loss: 5011.0044 - acc: 0.9444 - f1: 0.9458 - val_loss: 5011.0918 - val_acc: 0.8630 - val_f1: 0.8546\n",
      "Epoch 29/70\n",
      "935/935 [==============================] - 3s 3ms/step - loss: 5010.8518 - acc: 0.9540 - f1: 0.9552 - val_loss: 5010.9097 - val_acc: 0.8932 - val_f1: 0.8946\n",
      "Epoch 30/70\n",
      "935/935 [==============================] - 3s 3ms/step - loss: 5010.7267 - acc: 0.9519 - f1: 0.9494 - val_loss: 5010.8162 - val_acc: 0.8767 - val_f1: 0.8676\n",
      "Epoch 31/70\n",
      "935/935 [==============================] - 3s 3ms/step - loss: 5010.5915 - acc: 0.9615 - f1: 0.9588 - val_loss: 5010.6660 - val_acc: 0.8795 - val_f1: 0.8816\n",
      "Epoch 32/70\n",
      "935/935 [==============================] - 3s 3ms/step - loss: 5010.4712 - acc: 0.9690 - f1: 0.9661 - val_loss: 5010.5743 - val_acc: 0.8986 - val_f1: 0.8960\n",
      "Epoch 33/70\n",
      "935/935 [==============================] - 3s 3ms/step - loss: 5010.4025 - acc: 0.9465 - f1: 0.9479 - val_loss: 5010.4813 - val_acc: 0.8959 - val_f1: 0.8896\n",
      "Epoch 34/70\n",
      "935/935 [==============================] - 3s 3ms/step - loss: 5010.2762 - acc: 0.9636 - f1: 0.9646 - val_loss: 5010.3884 - val_acc: 0.9041 - val_f1: 0.9050\n",
      "Epoch 35/70\n",
      "935/935 [==============================] - 3s 3ms/step - loss: 5010.1945 - acc: 0.9615 - f1: 0.9625 - val_loss: 5010.2989 - val_acc: 0.9041 - val_f1: 0.9012\n",
      "Epoch 36/70\n",
      "935/935 [==============================] - 3s 3ms/step - loss: 5010.1085 - acc: 0.9668 - f1: 0.9677 - val_loss: 5010.2045 - val_acc: 0.8959 - val_f1: 0.8934\n",
      "Epoch 37/70\n",
      "935/935 [==============================] - 3s 3ms/step - loss: 5010.0277 - acc: 0.9722 - f1: 0.9729 - val_loss: 5010.1394 - val_acc: 0.9014 - val_f1: 0.9024\n",
      "Epoch 38/70\n",
      "935/935 [==============================] - 3s 3ms/step - loss: 5009.9521 - acc: 0.9775 - f1: 0.9781 - val_loss: 5010.1048 - val_acc: 0.8959 - val_f1: 0.8934\n",
      "Epoch 39/70\n",
      "935/935 [==============================] - 3s 3ms/step - loss: 5009.8916 - acc: 0.9765 - f1: 0.9771 - val_loss: 5010.0050 - val_acc: 0.9096 - val_f1: 0.9103\n",
      "Epoch 40/70\n",
      "935/935 [==============================] - 3s 3ms/step - loss: 5009.8260 - acc: 0.9786 - f1: 0.9792 - val_loss: 5009.9628 - val_acc: 0.9068 - val_f1: 0.9038\n",
      "Epoch 41/70\n",
      "935/935 [==============================] - 3s 3ms/step - loss: 5009.7765 - acc: 0.9765 - f1: 0.9771 - val_loss: 5009.9136 - val_acc: 0.9068 - val_f1: 0.9077\n",
      "Epoch 42/70\n",
      "935/935 [==============================] - 3s 3ms/step - loss: 5009.7242 - acc: 0.9797 - f1: 0.9802 - val_loss: 5009.8928 - val_acc: 0.9014 - val_f1: 0.8986\n",
      "Epoch 43/70\n",
      "935/935 [==============================] - 3s 3ms/step - loss: 5009.6823 - acc: 0.9754 - f1: 0.9760 - val_loss: 5009.8030 - val_acc: 0.9068 - val_f1: 0.9115\n",
      "Epoch 44/70\n",
      "935/935 [==============================] - 3s 3ms/step - loss: 5009.6374 - acc: 0.9807 - f1: 0.9812 - val_loss: 5009.7927 - val_acc: 0.9041 - val_f1: 0.9012\n",
      "Epoch 45/70\n",
      "935/935 [==============================] - 3s 3ms/step - loss: 5009.5969 - acc: 0.9765 - f1: 0.9771 - val_loss: 5009.7573 - val_acc: 0.9014 - val_f1: 0.8986\n",
      "Epoch 46/70\n",
      "935/935 [==============================] - 3s 3ms/step - loss: 5009.5807 - acc: 0.9668 - f1: 0.9677 - val_loss: 5009.6988 - val_acc: 0.9123 - val_f1: 0.9129\n",
      "Epoch 47/70\n",
      "935/935 [==============================] - 3s 3ms/step - loss: 5009.5261 - acc: 0.9818 - f1: 0.9823 - val_loss: 5009.6751 - val_acc: 0.9041 - val_f1: 0.9050\n",
      "Epoch 48/70\n",
      "935/935 [==============================] - 3s 3ms/step - loss: 5009.4953 - acc: 0.9829 - f1: 0.9833 - val_loss: 5009.6507 - val_acc: 0.9068 - val_f1: 0.9077\n",
      "Epoch 49/70\n"
     ]
    },
    {
     "name": "stdout",
     "output_type": "stream",
     "text": [
      "935/935 [==============================] - 3s 3ms/step - loss: 5009.4575 - acc: 0.9914 - f1: 0.9879 - val_loss: 5009.6278 - val_acc: 0.9041 - val_f1: 0.9050\n",
      "Epoch 50/70\n",
      "935/935 [==============================] - 3s 3ms/step - loss: 5009.4408 - acc: 0.9882 - f1: 0.9885 - val_loss: 5009.6381 - val_acc: 0.9041 - val_f1: 0.9012\n",
      "Epoch 51/70\n",
      "935/935 [==============================] - 3s 3ms/step - loss: 5009.4155 - acc: 0.9840 - f1: 0.9844 - val_loss: 5009.5607 - val_acc: 0.9123 - val_f1: 0.9129\n",
      "Epoch 52/70\n",
      "935/935 [==============================] - 3s 3ms/step - loss: 5009.3969 - acc: 0.9840 - f1: 0.9844 - val_loss: 5009.5550 - val_acc: 0.9068 - val_f1: 0.9077\n",
      "Epoch 53/70\n",
      "935/935 [==============================] - 3s 3ms/step - loss: 5009.3652 - acc: 0.9893 - f1: 0.9896 - val_loss: 5009.5553 - val_acc: 0.9041 - val_f1: 0.9012\n",
      "Epoch 54/70\n",
      "935/935 [==============================] - 3s 3ms/step - loss: 5009.3508 - acc: 0.9861 - f1: 0.9827 - val_loss: 5009.4982 - val_acc: 0.9096 - val_f1: 0.9103\n",
      "Epoch 55/70\n",
      "935/935 [==============================] - 3s 3ms/step - loss: 5009.3328 - acc: 0.9904 - f1: 0.9906 - val_loss: 5009.4907 - val_acc: 0.9123 - val_f1: 0.9129\n",
      "Epoch 56/70\n",
      "935/935 [==============================] - 3s 3ms/step - loss: 5009.3161 - acc: 0.9882 - f1: 0.9885 - val_loss: 5009.4813 - val_acc: 0.8986 - val_f1: 0.8998\n",
      "Epoch 57/70\n",
      "935/935 [==============================] - 3s 3ms/step - loss: 5009.2988 - acc: 0.9882 - f1: 0.9885 - val_loss: 5009.4515 - val_acc: 0.9096 - val_f1: 0.9103\n",
      "Epoch 58/70\n",
      "935/935 [==============================] - 3s 3ms/step - loss: 5009.2895 - acc: 0.9914 - f1: 0.9917 - val_loss: 5009.4779 - val_acc: 0.9068 - val_f1: 0.9038\n",
      "Epoch 59/70\n",
      "935/935 [==============================] - 3s 3ms/step - loss: 5009.2707 - acc: 0.9968 - f1: 0.9969 - val_loss: 5009.4746 - val_acc: 0.9096 - val_f1: 0.9103\n",
      "Epoch 60/70\n",
      "935/935 [==============================] - 3s 3ms/step - loss: 5009.2701 - acc: 0.9882 - f1: 0.9885 - val_loss: 5009.4315 - val_acc: 0.9014 - val_f1: 0.9024\n",
      "Epoch 61/70\n",
      "935/935 [==============================] - 3s 3ms/step - loss: 5009.2511 - acc: 0.9904 - f1: 0.9906 - val_loss: 5009.4451 - val_acc: 0.9123 - val_f1: 0.9129\n",
      "Epoch 62/70\n",
      "935/935 [==============================] - 3s 3ms/step - loss: 5009.2363 - acc: 0.9947 - f1: 0.9948 - val_loss: 5009.4560 - val_acc: 0.9041 - val_f1: 0.9012\n",
      "Epoch 63/70\n",
      "935/935 [==============================] - 3s 3ms/step - loss: 5009.2252 - acc: 0.9957 - f1: 0.9958 - val_loss: 5009.3981 - val_acc: 0.9123 - val_f1: 0.9129\n",
      "Epoch 64/70\n",
      "935/935 [==============================] - 3s 3ms/step - loss: 5009.2222 - acc: 0.9914 - f1: 0.9917 - val_loss: 5009.4244 - val_acc: 0.9096 - val_f1: 0.9103\n",
      "Epoch 65/70\n",
      "935/935 [==============================] - 3s 3ms/step - loss: 5009.2215 - acc: 0.9893 - f1: 0.9896 - val_loss: 5009.4244 - val_acc: 0.9123 - val_f1: 0.9129\n",
      "Epoch 66/70\n",
      "935/935 [==============================] - 3s 3ms/step - loss: 5009.2084 - acc: 0.9914 - f1: 0.9917 - val_loss: 5009.4654 - val_acc: 0.8986 - val_f1: 0.8922\n",
      "Epoch 67/70\n",
      "935/935 [==============================] - 3s 3ms/step - loss: 5009.2065 - acc: 0.9893 - f1: 0.9896 - val_loss: 5009.3708 - val_acc: 0.9123 - val_f1: 0.9129\n",
      "Epoch 68/70\n",
      "935/935 [==============================] - 3s 3ms/step - loss: 5009.1910 - acc: 0.9957 - f1: 0.9958 - val_loss: 5009.3578 - val_acc: 0.9123 - val_f1: 0.9129\n",
      "Epoch 69/70\n",
      "935/935 [==============================] - 3s 3ms/step - loss: 5009.1859 - acc: 0.9947 - f1: 0.9948 - val_loss: 5009.4390 - val_acc: 0.9068 - val_f1: 0.9038\n",
      "Epoch 70/70\n",
      "935/935 [==============================] - 3s 3ms/step - loss: 5009.1839 - acc: 0.9925 - f1: 0.9927 - val_loss: 5009.3722 - val_acc: 0.9123 - val_f1: 0.9129\n"
     ]
    }
   ],
   "source": [
    "param='macro'\n",
    "epochs =70\n",
    "batch_size = 32\n",
    "history=model.fit(W_train, Y_train,epochs=epochs,validation_data=(W_test,Y_test), batch_size=batch_size,verbose=1)        \n",
    "\n"
   ]
  },
  {
   "cell_type": "code",
   "execution_count": 14,
   "metadata": {},
   "outputs": [
    {
     "data": {
      "image/png": "[encoded data removed]",
      "text/plain": [
       "<Figure size 1000x300 with 2 Axes>"
      ]
     },
     "metadata": {},
     "output_type": "display_data"
    }
   ],
   "source": [
    "import matplotlib.pyplot as plt\n",
    "\n",
    "# Training & Validation accuracy\n",
    "train_loss = history.history['loss']\n",
    "val_loss = history.history['val_loss']\n",
    "train_acc = history.history['acc']\n",
    "val_acc = history.history['val_acc']\n",
    "epochs = len(train_loss)\n",
    "\n",
    "xc = range(epochs)\n",
    "\n",
    "plt.figure(figsize=(10, 3))\n",
    "\n",
    "# Loss subplot\n",
    "plt.subplot(1, 2, 1)\n",
    "plt.plot(xc, train_loss, label='Training Loss')\n",
    "plt.plot(xc, val_loss, label='Validation Loss')\n",
    "plt.xlabel('Number of Epochs', fontsize=10)\n",
    "plt.ylabel('Loss', fontsize=10)\n",
    "plt.title('Training and Validation Loss', fontsize=12)\n",
    "plt.legend(fontsize=8)\n",
    "plt.grid(True)\n",
    "\n",
    "# Accuracy subplot\n",
    "plt.subplot(1, 2, 2)\n",
    "plt.plot(xc, train_acc, label='Training Accuracy')\n",
    "plt.plot(xc, val_acc, label='Validation Accuracy')\n",
    "plt.xlabel('Number of Epochs', fontsize=10)\n",
    "plt.ylabel('Accuracy', fontsize=10)\n",
    "plt.title('Training and Validation Accuracy', fontsize=12)\n",
    "plt.legend(fontsize=8, loc='lower right')  # Change position to lower right\n",
    "plt.grid(True)\n",
    "\n",
    "plt.tight_layout()\n",
    "plt.show()\n"
   ]
  },
  {
   "cell_type": "code",
   "execution_count": 18,
   "metadata": {},
   "outputs": [
    {
     "name": "stdout",
     "output_type": "stream",
     "text": [
      "              precision    recall  f1-score   support\n",
      "\n",
      "           0     0.9310    0.7570    0.8351       107\n",
      "           1     0.9065    0.9767    0.9403       258\n",
      "\n",
      "    accuracy                         0.9123       365\n",
      "   macro avg     0.9188    0.8669    0.8877       365\n",
      "weighted avg     0.9137    0.9123    0.9094       365\n",
      "\n",
      " Precision:91.88% Recall:86.69% Fscore:88.77% \n"
     ]
    }
   ],
   "source": [
    "predicted = np.argmax(model.predict(W_test), axis=1)\n",
    "y_test_to_label= np.argmax(Y_test, axis=1)\n",
    "prec, reca, fscore, sup = precision_recall_fscore_support(y_test_to_label, predicted, average=param)\n",
    "\n",
    "\n",
    "# Generate the classification report as a dictionary\n",
    "report_dict = classification_report(y_test_to_label, predicted, output_dict=True)\n",
    "\n",
    "# Create a new dictionary to hold the formatted values\n",
    "formatted_report_dict = {}\n",
    "\n",
    "# Iterate over the items in the report dictionary\n",
    "for key, value in report_dict.items():\n",
    "    if isinstance(value, dict):\n",
    "        # Format the nested dictionary values\n",
    "        formatted_report_dict[key] = {sub_key: f\"{sub_value:.4f}\" for sub_key, sub_value in value.items()}\n",
    "    else:\n",
    "        # Format the top-level dictionary values\n",
    "        formatted_report_dict[key] = f\"{value:.4f}\"\n",
    "\n",
    "# Create a string representation of the formatted dictionary\n",
    "formatted_report_str = classification_report(y_test_to_label, predicted, digits=4)\n",
    "\n",
    "# Print the formatted classification report\n",
    "print(formatted_report_str)\n",
    "\n",
    "\n",
    "print(\" Precision:{:.2f}% Recall:{:.2f}% Fscore:{:.2f}% \".format(prec*100, reca*100, fscore*100))"
   ]
  },
  {
   "cell_type": "code",
   "execution_count": 17,
   "metadata": {},
   "outputs": [
    {
     "data": {
      "image/png": "[encoded data removed]",
      "text/plain": [
       "<Figure size 800x600 with 1 Axes>"
      ]
     },
     "metadata": {},
     "output_type": "display_data"
    }
   ],
   "source": [
    "from sklearn.metrics import confusion_matrix\n",
    "import seaborn as sns\n",
    "\n",
    "# Get the predicted labels\n",
    "predicted_labels = np.argmax(model.predict(W_test), axis=1)\n",
    "\n",
    "# Create the confusion matrix\n",
    "cm = confusion_matrix(np.argmax(Y_test, axis=1), predicted_labels)\n",
    "\n",
    "# Plot the confusion matrix\n",
    "plt.figure(figsize=(8, 6))\n",
    "sns.heatmap(cm, annot=True, fmt='d', cmap='Blues', cbar=False)\n",
    "plt.xlabel('Predicted Labels')\n",
    "plt.ylabel('True Labels')\n",
    "plt.title('Confusion Matrix')\n",
    "plt.show()"
   ]
  },
  {
   "cell_type": "code",
   "execution_count": null,
   "metadata": {},
   "outputs": [],
   "source": []
  },
  {
   "cell_type": "code",
   "execution_count": null,
   "metadata": {},
   "outputs": [],
   "source": []
  }
 ],
 "metadata": {
  "kernelspec": {
   "display_name": "Python [conda env:python]",
   "language": "python",
   "name": "conda-env-python-py"
  },
  "language_info": {
   "codemirror_mode": {
    "name": "ipython",
    "version": 3
   },
   "file_extension": ".py",
   "mimetype": "text/x-python",
   "name": "python",
   "nbconvert_exporter": "python",
   "pygments_lexer": "ipython3",
   "version": "3.7.1"
  }
 },
 "nbformat": 4,
 "nbformat_minor": 4
}
