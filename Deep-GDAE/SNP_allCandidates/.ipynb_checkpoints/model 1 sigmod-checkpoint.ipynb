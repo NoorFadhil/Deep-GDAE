{
 "cells": [
  {
   "cell_type": "markdown",
   "metadata": {},
   "source": [
    "# model SB With sigmod and binray output\n",
    "CNN + RNN (LSTM) \n",
    "sara \n"
   ]
  },
  {
   "cell_type": "markdown",
   "metadata": {},
   "source": [
    "#  -------------------------------------------------------------------------------------------"
   ]
  },
  {
   "cell_type": "markdown",
   "metadata": {},
   "source": [
    "# imports"
   ]
  },
  {
   "cell_type": "code",
   "execution_count": 1,
   "metadata": {},
   "outputs": [
    {
     "name": "stderr",
     "output_type": "stream",
     "text": [
      "Using TensorFlow backend.\n"
     ]
    }
   ],
   "source": [
    "import tensorflow as tf\n",
    "from keras.models import load_model\n",
    "from keras.callbacks import ModelCheckpoint, EarlyStopping\n",
    "from keras_tqdm import TQDMNotebookCallback\n",
    "import numpy as np\n",
    "from keras_tqdm import TQDMNotebookCallback\n",
    "import nltk\n",
    "import xml.etree.ElementTree as ET\n",
    "import pandas as pd\n",
    "import os\n",
    "import string\n",
    "from nltk.tokenize import TreebankWordTokenizer\n",
    "from numpy.random import random_sample\n",
    "import re\n",
    "import pickle\n",
    "from sklearn.metrics import accuracy_score\n",
    "from sklearn.metrics import classification_report\n",
    "\n",
    "from keras.layers import Embedding, Flatten,LSTM\n",
    "from keras.layers.convolutional import Conv2D, MaxPooling2D\n",
    "from keras.utils import to_categorical\n",
    "from keras.models import Sequential, Model\n",
    "from keras.layers import Dense, Dropout, Activation,  Input, merge,Conv1D,MaxPooling1D,GlobalMaxPooling1D,Convolution1D\n",
    "from keras import regularizers\n",
    "from sklearn.metrics import precision_recall_fscore_support\n",
    "from sklearn.model_selection import StratifiedKFold\n",
    "import matplotlib.pyplot as plt\n",
    "from keras.layers import Concatenate, concatenate\n",
    "from keras import backend as K\n",
    "from keras.layers import multiply\n",
    "from keras.layers import merge\n",
    "from keras.layers.core import *\n",
    "from keras.layers.recurrent import LSTM\n",
    "from keras.models import *\n",
    "random_seed=1337"
   ]
  },
  {
   "cell_type": "markdown",
   "metadata": {},
   "source": [
    "###  Define Callback functions to generate Measures"
   ]
  },
  {
   "cell_type": "code",
   "execution_count": 11,
   "metadata": {},
   "outputs": [],
   "source": [
    "from keras import backend as K\n",
    "\n",
    "def f1(y_true, y_pred):\n",
    "    def recall(y_true, y_pred):\n",
    "        true_positives = K.sum(K.round(K.clip(y_true * y_pred, 0, 1)))\n",
    "        possible_positives = K.sum(K.round(K.clip(y_true, 0, 1)))\n",
    "        recall = true_positives / (possible_positives + K.epsilon())\n",
    "        return recall\n",
    "\n",
    "    def precision(y_true, y_pred):\n",
    "        true_positives = K.sum(K.round(K.clip(y_true * y_pred, 0, 1)))\n",
    "        predicted_positives = K.sum(K.round(K.clip(y_pred, 0, 1)))\n",
    "        precision = true_positives / (predicted_positives + K.epsilon())\n",
    "        return precision\n",
    "    precision = precision(y_true, y_pred)\n",
    "    recall = recall(y_true, y_pred)\n",
    "    return 2*((precision*recall)/(precision+recall+K.epsilon()))\n"
   ]
  },
  {
   "cell_type": "markdown",
   "metadata": {},
   "source": [
    "# Experiments to reproduce the results of Table 9 "
   ]
  },
  {
   "cell_type": "markdown",
   "metadata": {},
   "source": [
    "### Load pre procssed Data"
   ]
  },
  {
   "cell_type": "code",
   "execution_count": 3,
   "metadata": {},
   "outputs": [],
   "source": [
    "with open('../data/pickles/train_and_test_data_sentences_snp_2class.pickle', 'rb') as handle:\n",
    "#with open('../../SNP-Disease/train_and_test_data_sentences_snp_2classWiki.pickle', 'rb') as handle:\n",
    "\n",
    "    W_train = pickle.load(handle)\n",
    "    d1_train = pickle.load(handle)\n",
    "    d2_train = pickle.load(handle)\n",
    "    Y_train = pickle.load(handle)\n",
    "    Tr_word_list = pickle.load(handle)\n",
    "    \n",
    "    W_test = pickle.load(handle)\n",
    "    d1_test = pickle.load(handle)\n",
    "    d2_test = pickle.load(handle)\n",
    "    Y_test = pickle.load(handle)\n",
    "    Te_word_list = pickle.load(handle)\n",
    "    \n",
    "    \n",
    "    word_vectors = pickle.load(handle)\n",
    "    word_dict = pickle.load(handle)\n",
    "    d1_dict = pickle.load(handle)\n",
    "    d2_dict = pickle.load(handle)\n",
    "    label_dict = pickle.load(handle)\n",
    "    MAX_SEQUENCE_LENGTH = pickle.load(handle)"
   ]
  },
  {
   "cell_type": "markdown",
   "metadata": {},
   "source": [
    "### Prepare Word Embedding Layer"
   ]
  },
  {
   "cell_type": "code",
   "execution_count": 4,
   "metadata": {},
   "outputs": [],
   "source": [
    "EMBEDDING_DIM=word_vectors.shape[1]\n",
    "embedding_matrix=word_vectors\n",
    "\n",
    "def create_embedding_layer(l2_reg=0.1,use_pretrained=True,is_trainable=False):\n",
    "    \n",
    "    if use_pretrained:        \n",
    "        return Embedding(len(word_dict) ,EMBEDDING_DIM,weights=[embedding_matrix],input_length=MAX_SEQUENCE_LENGTH,trainable=is_trainable,embeddings_regularizer=regularizers.l2(l2_reg))\n",
    "    else:    \n",
    "        return Embedding(len(word_dict) ,EMBEDDING_DIM,input_length=MAX_SEQUENCE_LENGTH)\n",
    "            "
   ]
  },
  {
   "cell_type": "markdown",
   "metadata": {},
   "source": [
    "### Create the Model"
   ]
  },
  {
   "cell_type": "code",
   "execution_count": 63,
   "metadata": {},
   "outputs": [],
   "source": [
    "def build_model():    \n",
    "    \n",
    "    sequence_input = Input(shape=(MAX_SEQUENCE_LENGTH,), dtype='int32')\n",
    "    embedding_layer=create_embedding_layer(use_pretrained=True,is_trainable=False)\n",
    "    embedded_sequences = embedding_layer(sequence_input)\n",
    "\n",
    "    x = Conv1D(256, 7, activation='relu')(embedded_sequences)\n",
    "    x = MaxPooling1D(3)(x)\n",
    "    x = Dropout(0.5)(x)\n",
    "\n",
    "    x = Conv1D(128, 5, activation='relu')(x)\n",
    "    x = MaxPooling1D(3)(x)\n",
    "    x = Dropout(0.5)(x)\n",
    "    \n",
    " \n",
    "    \n",
    "    conv_sequence=GlobalMaxPooling1D()(x)    #x = Flatten()(x)\n",
    "\n",
    "    \n",
    "    forward = LSTM(200,recurrent_dropout=0.05)(embedded_sequences)\n",
    "    backward = LSTM(200, go_backwards=True,recurrent_dropout=0.05)(embedded_sequences)\n",
    "    lstm_sequence = concatenate([forward,backward])\n",
    "    merge = concatenate([conv_sequence,lstm_sequence])\n",
    "    x = Dense(256, activation='relu', kernel_regularizer=regularizers.l2(0.05))(merge)\n",
    "    x = Dropout(0.5)(x)\n",
    "    preds = Dense(2, activation='softmax')(x)\n",
    "    model = Model(sequence_input, preds)\n",
    "    model.compile(loss='binary_crossentropy',optimizer='adam',metrics=['acc',f1])\n",
    "    #model.summary()\n",
    "    return model"
   ]
  },
  {
   "cell_type": "code",
   "execution_count": 64,
   "metadata": {},
   "outputs": [
    {
     "name": "stdout",
     "output_type": "stream",
     "text": [
      "Model: \"model_18\"\n",
      "__________________________________________________________________________________________________\n",
      "Layer (type)                    Output Shape         Param #     Connected to                     \n",
      "==================================================================================================\n",
      "input_18 (InputLayer)           (None, 91)           0                                            \n",
      "__________________________________________________________________________________________________\n",
      "embedding_18 (Embedding)        (None, 91, 200)      555000      input_18[0][0]                   \n",
      "__________________________________________________________________________________________________\n",
      "conv1d_37 (Conv1D)              (None, 85, 256)      358656      embedding_18[0][0]               \n",
      "__________________________________________________________________________________________________\n",
      "max_pooling1d_37 (MaxPooling1D) (None, 28, 256)      0           conv1d_37[0][0]                  \n",
      "__________________________________________________________________________________________________\n",
      "dropout_51 (Dropout)            (None, 28, 256)      0           max_pooling1d_37[0][0]           \n",
      "__________________________________________________________________________________________________\n",
      "conv1d_38 (Conv1D)              (None, 24, 128)      163968      dropout_51[0][0]                 \n",
      "__________________________________________________________________________________________________\n",
      "max_pooling1d_38 (MaxPooling1D) (None, 8, 128)       0           conv1d_38[0][0]                  \n",
      "__________________________________________________________________________________________________\n",
      "dropout_52 (Dropout)            (None, 8, 128)       0           max_pooling1d_38[0][0]           \n",
      "__________________________________________________________________________________________________\n",
      "lstm_35 (LSTM)                  (None, 200)          320800      embedding_18[0][0]               \n",
      "__________________________________________________________________________________________________\n",
      "lstm_36 (LSTM)                  (None, 200)          320800      embedding_18[0][0]               \n",
      "__________________________________________________________________________________________________\n",
      "global_max_pooling1d_18 (Global (None, 128)          0           dropout_52[0][0]                 \n",
      "__________________________________________________________________________________________________\n",
      "concatenate_35 (Concatenate)    (None, 400)          0           lstm_35[0][0]                    \n",
      "                                                                 lstm_36[0][0]                    \n",
      "__________________________________________________________________________________________________\n",
      "concatenate_36 (Concatenate)    (None, 528)          0           global_max_pooling1d_18[0][0]    \n",
      "                                                                 concatenate_35[0][0]             \n",
      "__________________________________________________________________________________________________\n",
      "dense_39 (Dense)                (None, 256)          135424      concatenate_36[0][0]             \n",
      "__________________________________________________________________________________________________\n",
      "dropout_53 (Dropout)            (None, 256)          0           dense_39[0][0]                   \n",
      "__________________________________________________________________________________________________\n",
      "dense_40 (Dense)                (None, 2)            514         dropout_53[0][0]                 \n",
      "==================================================================================================\n",
      "Total params: 1,855,162\n",
      "Trainable params: 1,300,162\n",
      "Non-trainable params: 555,000\n",
      "__________________________________________________________________________________________________\n"
     ]
    }
   ],
   "source": [
    "model = build_model()\n",
    "model.summary()"
   ]
  },
  {
   "cell_type": "markdown",
   "metadata": {},
   "source": [
    "### Run the Evaluation on the test dataset "
   ]
  },
  {
   "cell_type": "code",
   "execution_count": 65,
   "metadata": {},
   "outputs": [
    {
     "name": "stdout",
     "output_type": "stream",
     "text": [
      "Train on 935 samples, validate on 365 samples\n"
     ]
    },
    {
     "data": {
      "application/vnd.jupyter.widget-view+json": {
       "model_id": "de460d1b7a334af9a9ef7701a140b46d",
       "version_major": 2,
       "version_minor": 0
      },
      "text/plain": [
       "Training:   0%|          | 0/10 [00:00<?, ?it/s]"
      ]
     },
     "metadata": {},
     "output_type": "display_data"
    },
    {
     "name": "stdout",
     "output_type": "stream",
     "text": [
      "Epoch 1/10\n"
     ]
    },
    {
     "data": {
      "application/vnd.jupyter.widget-view+json": {
       "model_id": "",
       "version_major": 2,
       "version_minor": 0
      },
      "text/plain": [
       "Epoch 0:   0%|          | 0/935 [00:00<?, ?it/s]"
      ]
     },
     "metadata": {},
     "output_type": "display_data"
    },
    {
     "name": "stdout",
     "output_type": "stream",
     "text": [
      "935/935 [==============================] - 40s 43ms/step - loss: 5021.5954 - acc: 0.6973 - f1: 0.6940 - val_loss: 5016.7473 - val_acc: 0.4658 - val_f1: 0.4617\n",
      "Epoch 2/10\n"
     ]
    },
    {
     "data": {
      "application/vnd.jupyter.widget-view+json": {
       "model_id": "",
       "version_major": 2,
       "version_minor": 0
      },
      "text/plain": [
       "Epoch 1:   0%|          | 0/935 [00:00<?, ?it/s]"
      ]
     },
     "metadata": {},
     "output_type": "display_data"
    },
    {
     "name": "stdout",
     "output_type": "stream",
     "text": [
      "935/935 [==============================] - 39s 42ms/step - loss: 5014.1377 - acc: 0.7626 - f1: 0.7613 - val_loss: 5012.4455 - val_acc: 0.5123 - val_f1: 0.5060\n",
      "Epoch 3/10\n"
     ]
    },
    {
     "data": {
      "application/vnd.jupyter.widget-view+json": {
       "model_id": "",
       "version_major": 2,
       "version_minor": 0
      },
      "text/plain": [
       "Epoch 2:   0%|          | 0/935 [00:00<?, ?it/s]"
      ]
     },
     "metadata": {},
     "output_type": "display_data"
    },
    {
     "name": "stdout",
     "output_type": "stream",
     "text": [
      "935/935 [==============================] - 39s 42ms/step - loss: 5011.3933 - acc: 0.8107 - f1: 0.8045 - val_loss: 5010.8939 - val_acc: 0.7014 - val_f1: 0.7009\n",
      "Epoch 4/10\n"
     ]
    },
    {
     "data": {
      "application/vnd.jupyter.widget-view+json": {
       "model_id": "",
       "version_major": 2,
       "version_minor": 0
      },
      "text/plain": [
       "Epoch 3:   0%|          | 0/935 [00:00<?, ?it/s]"
      ]
     },
     "metadata": {},
     "output_type": "display_data"
    },
    {
     "name": "stdout",
     "output_type": "stream",
     "text": [
      "935/935 [==============================] - 40s 43ms/step - loss: 5010.3949 - acc: 0.8631 - f1: 0.8629 - val_loss: 5010.4190 - val_acc: 0.5918 - val_f1: 0.5815\n",
      "Epoch 5/10\n"
     ]
    },
    {
     "data": {
      "application/vnd.jupyter.widget-view+json": {
       "model_id": "",
       "version_major": 2,
       "version_minor": 0
      },
      "text/plain": [
       "Epoch 4:   0%|          | 0/935 [00:00<?, ?it/s]"
      ]
     },
     "metadata": {},
     "output_type": "display_data"
    },
    {
     "name": "stdout",
     "output_type": "stream",
     "text": [
      "935/935 [==============================] - 40s 43ms/step - loss: 5009.9793 - acc: 0.8834 - f1: 0.8827 - val_loss: 5010.0844 - val_acc: 0.7836 - val_f1: 0.7829\n",
      "Epoch 6/10\n"
     ]
    },
    {
     "data": {
      "application/vnd.jupyter.widget-view+json": {
       "model_id": "",
       "version_major": 2,
       "version_minor": 0
      },
      "text/plain": [
       "Epoch 5:   0%|          | 0/935 [00:00<?, ?it/s]"
      ]
     },
     "metadata": {},
     "output_type": "display_data"
    },
    {
     "name": "stdout",
     "output_type": "stream",
     "text": [
      "935/935 [==============================] - 40s 43ms/step - loss: 5009.7397 - acc: 0.9048 - f1: 0.9073 - val_loss: 5009.9256 - val_acc: 0.7836 - val_f1: 0.7829\n",
      "Epoch 7/10\n"
     ]
    },
    {
     "data": {
      "application/vnd.jupyter.widget-view+json": {
       "model_id": "",
       "version_major": 2,
       "version_minor": 0
      },
      "text/plain": [
       "Epoch 6:   0%|          | 0/935 [00:00<?, ?it/s]"
      ]
     },
     "metadata": {},
     "output_type": "display_data"
    },
    {
     "name": "stdout",
     "output_type": "stream",
     "text": [
      "935/935 [==============================] - 40s 43ms/step - loss: 5009.5824 - acc: 0.9305 - f1: 0.9286 - val_loss: 5010.0135 - val_acc: 0.6137 - val_f1: 0.6176\n",
      "Epoch 8/10\n"
     ]
    },
    {
     "data": {
      "application/vnd.jupyter.widget-view+json": {
       "model_id": "",
       "version_major": 2,
       "version_minor": 0
      },
      "text/plain": [
       "Epoch 7:   0%|          | 0/935 [00:00<?, ?it/s]"
      ]
     },
     "metadata": {},
     "output_type": "display_data"
    },
    {
     "name": "stdout",
     "output_type": "stream",
     "text": [
      "935/935 [==============================] - 40s 43ms/step - loss: 5009.5046 - acc: 0.9209 - f1: 0.9229 - val_loss: 5009.8602 - val_acc: 0.6192 - val_f1: 0.6380\n",
      "Epoch 9/10\n"
     ]
    },
    {
     "data": {
      "application/vnd.jupyter.widget-view+json": {
       "model_id": "",
       "version_major": 2,
       "version_minor": 0
      },
      "text/plain": [
       "Epoch 8:   0%|          | 0/935 [00:00<?, ?it/s]"
      ]
     },
     "metadata": {},
     "output_type": "display_data"
    },
    {
     "name": "stdout",
     "output_type": "stream",
     "text": [
      "935/935 [==============================] - 40s 43ms/step - loss: 5009.4202 - acc: 0.9283 - f1: 0.9265 - val_loss: 5009.7345 - val_acc: 0.7671 - val_f1: 0.7672\n",
      "Epoch 10/10\n"
     ]
    },
    {
     "data": {
      "application/vnd.jupyter.widget-view+json": {
       "model_id": "",
       "version_major": 2,
       "version_minor": 0
      },
      "text/plain": [
       "Epoch 9:   0%|          | 0/935 [00:00<?, ?it/s]"
      ]
     },
     "metadata": {},
     "output_type": "display_data"
    },
    {
     "name": "stdout",
     "output_type": "stream",
     "text": [
      "935/935 [==============================] - 40s 43ms/step - loss: 5009.3718 - acc: 0.9326 - f1: 0.9344 - val_loss: 5009.6950 - val_acc: 0.7425 - val_f1: 0.7514\n",
      "Precision:74.63% Recall:74.62% Fscore:74.25% \n"
     ]
    }
   ],
   "source": [
    "param='macro'\n",
    "epochs =10\n",
    "batch_size = 64\n",
    "history=model.fit(W_train, Y_train,epochs=epochs,validation_data=(W_test,Y_test), batch_size=32,verbose=1,callbacks=[TQDMNotebookCallback()])        \n",
    "predicted = np.argmax(model.predict(W_test), axis=1)\n",
    "y_test_to_label = np.argmax(Y_test, axis=1)\n",
    "prec, reca, fscore, sup = precision_recall_fscore_support(y_test_to_label, predicted, average=param)\n",
    "print(\"Precision:{:.2f}% Recall:{:.2f}% Fscore:{:.2f}% \".format(prec*100, reca*100, fscore*100))        \n",
    "\n",
    "\n"
   ]
  },
  {
   "cell_type": "code",
   "execution_count": 66,
   "metadata": {},
   "outputs": [
    {
     "data": {
      "image/png": "[encoded data removed]",
      "text/plain": [
       "<Figure size 560x400 with 1 Axes>"
      ]
     },
     "metadata": {},
     "output_type": "display_data"
    },
    {
     "data": {
      "image/png": "[encoded data removed]",
      "text/plain": [
       "<Figure size 560x400 with 1 Axes>"
      ]
     },
     "metadata": {},
     "output_type": "display_data"
    }
   ],
   "source": [
    "#Training & Validation accuracy\n",
    "# visualizing  accuracy\n",
    "train_loss=history.history['loss']\n",
    "val_loss=history.history['val_loss']\n",
    "train_acc=history.history['acc']\n",
    "val_acc=history.history['val_acc']\n",
    "xc = range(epochs)\n",
    "plt.figure(1, figsize=(7, 5))\n",
    "plt.plot(xc, train_loss)\n",
    "plt.plot(xc, val_loss)\n",
    "plt.xlabel('Number of Epochs')\n",
    "plt.ylabel('Loss Function')\n",
    "plt.title('Training Loss Function Vs Validation Loss Function')\n",
    "plt.grid(True)\n",
    "plt.legend(['Train', 'validation'])\n",
    "# print plt.style.available # use bmh, classic,ggplot for big pictures\n",
    "plt.style.use(['classic'])\n",
    "plt.figure(2, figsize=(7, 5))\n",
    "plt.plot(xc, train_acc)\n",
    "plt.plot(xc, val_acc)\n",
    "plt.xlabel('Number of Epochs')\n",
    "plt.ylabel('Train accuracy')\n",
    "plt.title('Training Accuracy Vs Validation Accuracy')\n",
    "plt.grid(True)\n",
    "plt.legend(['train', 'validation'], loc=4)\n",
    "# print plt.style.available # use bmh, classic,ggplot for big pictures\n",
    "plt.style.use(['classic'])\n",
    "plt.show()"
   ]
  },
  {
   "cell_type": "code",
   "execution_count": 67,
   "metadata": {},
   "outputs": [
    {
     "name": "stdout",
     "output_type": "stream",
     "text": [
      "Running predictions...\n",
      "We got 271 of 365 correct (or 0.742 accuracy)\n",
      "Accuracy: 0.7424657534246575\n",
      "              precision    recall  f1-score   support\n",
      "\n",
      "           0       0.80      0.69      0.74       195\n",
      "           1       0.69      0.80      0.74       170\n",
      "\n",
      "    accuracy                           0.74       365\n",
      "   macro avg       0.75      0.75      0.74       365\n",
      "weighted avg       0.75      0.74      0.74       365\n",
      "\n"
     ]
    }
   ],
   "source": [
    "print('Running predictions...')\n",
    "all_predictions, all_labels = [], []\n",
    "labels = np.argmax(Y_test, axis=1)\n",
    "y_pred = np.argmax(model.predict(W_test), axis=1)\n",
    "all_predictions.extend(y_pred.astype('int32'))\n",
    "all_labels.extend(labels.astype('int32'))\n",
    "all_labels = np.array(all_labels)\n",
    "all_predictions = np.array(all_predictions)\n",
    "\n",
    "correct_pred_count = (all_labels == all_predictions).sum()\n",
    "test_acc = correct_pred_count / len(all_labels)\n",
    "# show the the accuracy of testing data\n",
    "print('We got %d of %d correct (or %.3f accuracy)' % (correct_pred_count, len(all_labels), test_acc))\n",
    "print('Accuracy:', accuracy_score(y_true=all_labels, y_pred=all_predictions))\n",
    "print(classification_report(y_true=all_labels, y_pred=all_predictions))"
   ]
  },
  {
   "cell_type": "code",
   "execution_count": null,
   "metadata": {},
   "outputs": [],
   "source": []
  },
  {
   "cell_type": "code",
   "execution_count": null,
   "metadata": {},
   "outputs": [],
   "source": []
  }
 ],
 "metadata": {
  "kernelspec": {
   "display_name": "Python 3",
   "language": "python",
   "name": "python3"
  },
  "language_info": {
   "codemirror_mode": {
    "name": "ipython",
    "version": 3
   },
   "file_extension": ".py",
   "mimetype": "text/x-python",
   "name": "python",
   "nbconvert_exporter": "python",
   "pygments_lexer": "ipython3",
   "version": "3.7.10"
  }
 },
 "nbformat": 4,
 "nbformat_minor": 2
}
