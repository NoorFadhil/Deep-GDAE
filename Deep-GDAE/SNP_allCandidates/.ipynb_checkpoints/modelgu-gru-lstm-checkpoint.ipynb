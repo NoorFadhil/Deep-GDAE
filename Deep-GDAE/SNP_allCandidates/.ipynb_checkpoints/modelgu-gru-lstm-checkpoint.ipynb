{
 "cells": [
  {
   "cell_type": "markdown",
   "metadata": {},
   "source": [
    "# model 1 \n",
    "\n",
    " sara \n",
    "CNN + GRU +LSTM"
   ]
  },
  {
   "cell_type": "markdown",
   "metadata": {},
   "source": [
    "#  -------------------------------------------------------------------------------------------"
   ]
  },
  {
   "cell_type": "markdown",
   "metadata": {},
   "source": [
    "# imports"
   ]
  },
  {
   "cell_type": "code",
   "execution_count": 1,
   "metadata": {},
   "outputs": [
    {
     "name": "stderr",
     "output_type": "stream",
     "text": [
      "Using TensorFlow backend.\n"
     ]
    }
   ],
   "source": [
    "import tensorflow as tf\n",
    "from keras.models import load_model\n",
    "from keras.callbacks import ModelCheckpoint, EarlyStopping\n",
    "from keras_tqdm import TQDMNotebookCallback\n",
    "import numpy as np\n",
    "from keras_tqdm import TQDMNotebookCallback\n",
    "import nltk\n",
    "import xml.etree.ElementTree as ET\n",
    "import pandas as pd\n",
    "import os\n",
    "import string\n",
    "from nltk.tokenize import TreebankWordTokenizer\n",
    "from numpy.random import random_sample\n",
    "import re\n",
    "import pickle\n",
    "from sklearn.metrics import accuracy_score\n",
    "from sklearn.metrics import classification_report\n",
    "\n",
    "from keras.layers import Embedding, Flatten,LSTM,GRU\n",
    "from keras.layers.convolutional import Conv2D, MaxPooling2D\n",
    "from keras.utils import to_categorical\n",
    "from keras.models import Sequential, Model\n",
    "from keras.layers import Dense, Dropout, Activation,  Input, merge,Conv1D,MaxPooling1D,GlobalMaxPooling1D,Convolution1D\n",
    "from keras import regularizers\n",
    "from sklearn.metrics import precision_recall_fscore_support\n",
    "from sklearn.model_selection import StratifiedKFold\n",
    "import matplotlib.pyplot as plt\n",
    "from keras.layers import Concatenate, concatenate\n",
    "from keras import backend as K\n",
    "from keras.layers import multiply\n",
    "from keras.layers import merge\n",
    "from keras.layers.core import *\n",
    "from keras.layers.recurrent import LSTM\n",
    "from keras.models import *\n",
    "random_seed=1337"
   ]
  },
  {
   "cell_type": "markdown",
   "metadata": {},
   "source": [
    "###  Define Callback functions to generate Measures"
   ]
  },
  {
   "cell_type": "code",
   "execution_count": 3,
   "metadata": {},
   "outputs": [],
   "source": [
    "from keras import backend as K\n",
    "\n",
    "def f1(y_true, y_pred):\n",
    "    def recall(y_true, y_pred):\n",
    "        true_positives = K.sum(K.round(K.clip(y_true * y_pred, 0, 1)))\n",
    "        possible_positives = K.sum(K.round(K.clip(y_true, 0, 1)))\n",
    "        recall = true_positives / (possible_positives + K.epsilon())\n",
    "        return recall\n",
    "\n",
    "    def precision(y_true, y_pred):\n",
    "        true_positives = K.sum(K.round(K.clip(y_true * y_pred, 0, 1)))\n",
    "        predicted_positives = K.sum(K.round(K.clip(y_pred, 0, 1)))\n",
    "        precision = true_positives / (predicted_positives + K.epsilon())\n",
    "        return precision\n",
    "    precision = precision(y_true, y_pred)\n",
    "    recall = recall(y_true, y_pred)\n",
    "    return 2*((precision*recall)/(precision+recall+K.epsilon()))\n"
   ]
  },
  {
   "cell_type": "markdown",
   "metadata": {},
   "source": [
    "# Experiments to reproduce the results of Table 9 "
   ]
  },
  {
   "cell_type": "markdown",
   "metadata": {},
   "source": [
    "### Load pre procssed Data"
   ]
  },
  {
   "cell_type": "code",
   "execution_count": 6,
   "metadata": {},
   "outputs": [],
   "source": [
    "with open('../data/pickles/train_and_test_data_sentences_snp_2class.pickle', 'rb') as handle:\n",
    "\n",
    "    W_train = pickle.load(handle)\n",
    "    d1_train = pickle.load(handle)\n",
    "    d2_train = pickle.load(handle)\n",
    "    Y_train = pickle.load(handle)\n",
    "    Tr_word_list = pickle.load(handle)\n",
    "    \n",
    "    W_test = pickle.load(handle)\n",
    "    d1_test = pickle.load(handle)\n",
    "    d2_test = pickle.load(handle)\n",
    "    Y_test = pickle.load(handle)\n",
    "    Te_word_list = pickle.load(handle)\n",
    "    \n",
    "    \n",
    "    word_vectors = pickle.load(handle)\n",
    "    word_dict = pickle.load(handle)\n",
    "    d1_dict = pickle.load(handle)\n",
    "    d2_dict = pickle.load(handle)\n",
    "    label_dict = pickle.load(handle)\n",
    "    MAX_SEQUENCE_LENGTH = pickle.load(handle)"
   ]
  },
  {
   "cell_type": "markdown",
   "metadata": {},
   "source": [
    "### Prepare Word Embedding Layer"
   ]
  },
  {
   "cell_type": "code",
   "execution_count": 9,
   "metadata": {},
   "outputs": [],
   "source": [
    "EMBEDDING_DIM=word_vectors.shape[1]\n",
    "embedding_matrix=word_vectors\n",
    "\n",
    "def create_embedding_layer(l2_reg=0.1,use_pretrained=True,is_trainable=False):\n",
    "    \n",
    "    if use_pretrained:        \n",
    "        return Embedding(len(word_dict) ,EMBEDDING_DIM,weights=[embedding_matrix],input_length=MAX_SEQUENCE_LENGTH,trainable=is_trainable,embeddings_regularizer=regularizers.l2(l2_reg))\n",
    "    else:    \n",
    "        return Embedding(len(word_dict) ,EMBEDDING_DIM,input_length=MAX_SEQUENCE_LENGTH)\n",
    "            "
   ]
  },
  {
   "cell_type": "code",
   "execution_count": 13,
   "metadata": {},
   "outputs": [],
   "source": [
    "INPUT_DIM = 2\n",
    "TIME_STEPS = MAX_SEQUENCE_LENGTH\n",
    "def attentionNew(inputs):\n",
    "    inputs = Lambda(lambda x: tf.keras.backend.tanh(x))(inputs)\n",
    "    input_dim = int(inputs.shape[2])\n",
    "    a = Permute((2, 1))(inputs)\n",
    "    a = Dense(TIME_STEPS, activation='softmax')(a)\n",
    "    a_probs = Permute((2, 1))(a)\n",
    "    output_attention_mul = multiply([inputs, a_probs])\n",
    "    output_attention_mul = Lambda(lambda x: tf.keras.backend.tanh(x))(output_attention_mul)\n",
    "    return output_attention_mul\n"
   ]
  },
  {
   "cell_type": "markdown",
   "metadata": {},
   "source": [
    "### Create the Model"
   ]
  },
  {
   "cell_type": "code",
   "execution_count": 15,
   "metadata": {},
   "outputs": [],
   "source": [
    "from keras.optimizers import Adam\n",
    "def build_model():    \n",
    "    sequence_input = Input(shape=(MAX_SEQUENCE_LENGTH,), dtype='int32')\n",
    "    embedding_layer = create_embedding_layer(use_pretrained=True, is_trainable=False)\n",
    "    embedded_sequences = embedding_layer(sequence_input)\n",
    "\n",
    "    # First Conv1D Layer\n",
    "    x = Conv1D(256, 7, activation='relu')(embedded_sequences)\n",
    "    x = MaxPooling1D(3)(x)\n",
    "    x = Dropout(0.4)(x)\n",
    "\n",
    "    # Second Conv1D Layer\n",
    "    x = Conv1D(128, 5, activation='relu')(x)\n",
    "    x = MaxPooling1D(3)(x)\n",
    "    x = Dropout(0.4)(x)\n",
    "    \n",
    "    conv_sequence = GlobalMaxPooling1D()(x)  # GlobalMaxPooling after all CNN layers\n",
    "\n",
    "    # Bidirectional RNN layers\n",
    "    forward = GRU(100, return_sequences=True, recurrent_dropout=0.05)(embedded_sequences)\n",
    "    backward = LSTM(100, return_sequences=True, go_backwards=True, recurrent_dropout=0.05)(embedded_sequences)\n",
    "    lstm_gru_sequence = concatenate([forward, backward], axis=-1)\n",
    "\n",
    "    # Apply attention mechanism\n",
    "    attention_output = attentionNew(lstm_gru_sequence)\n",
    "    attention_pooled = GlobalMaxPooling1D()(attention_output)\n",
    "\n",
    "    # Merge CNN and attention-enhanced RNN outputs\n",
    "    merge = concatenate([conv_sequence, attention_pooled])\n",
    "\n",
    "    # Fully connected layers\n",
    "    x = Dense(256, activation='relu', kernel_regularizer=regularizers.l2(0.05))(merge)\n",
    "    x = Dropout(0.4)(x)\n",
    "    preds = Dense(2, activation='softmax')(x)\n",
    "\n",
    "    # Compile model\n",
    "    optimizer = Adam(learning_rate=0.001)\n",
    "    model = Model(sequence_input, preds)\n",
    "    model.compile(loss='binary_crossentropy', optimizer=optimizer, metrics=['acc', f1])\n",
    "    \n",
    "    return model\n"
   ]
  },
  {
   "cell_type": "code",
   "execution_count": 17,
   "metadata": {},
   "outputs": [
    {
     "name": "stdout",
     "output_type": "stream",
     "text": [
      "Model: \"model_1\"\n",
      "__________________________________________________________________________________________________\n",
      "Layer (type)                    Output Shape         Param #     Connected to                     \n",
      "==================================================================================================\n",
      "input_1 (InputLayer)            (None, 91)           0                                            \n",
      "__________________________________________________________________________________________________\n",
      "embedding_1 (Embedding)         (None, 91, 200)      555000      input_1[0][0]                    \n",
      "__________________________________________________________________________________________________\n",
      "gru_1 (GRU)                     (None, 91, 100)      90300       embedding_1[0][0]                \n",
      "__________________________________________________________________________________________________\n",
      "lstm_1 (LSTM)                   (None, 91, 100)      120400      embedding_1[0][0]                \n",
      "__________________________________________________________________________________________________\n",
      "concatenate_1 (Concatenate)     (None, 91, 200)      0           gru_1[0][0]                      \n",
      "                                                                 lstm_1[0][0]                     \n",
      "__________________________________________________________________________________________________\n",
      "conv1d_1 (Conv1D)               (None, 85, 256)      358656      embedding_1[0][0]                \n",
      "__________________________________________________________________________________________________\n",
      "lambda_1 (Lambda)               (None, 91, 200)      0           concatenate_1[0][0]              \n",
      "__________________________________________________________________________________________________\n",
      "max_pooling1d_1 (MaxPooling1D)  (None, 28, 256)      0           conv1d_1[0][0]                   \n",
      "__________________________________________________________________________________________________\n",
      "permute_1 (Permute)             (None, 200, 91)      0           lambda_1[0][0]                   \n",
      "__________________________________________________________________________________________________\n",
      "dropout_1 (Dropout)             (None, 28, 256)      0           max_pooling1d_1[0][0]            \n",
      "__________________________________________________________________________________________________\n",
      "dense_1 (Dense)                 (None, 200, 91)      8372        permute_1[0][0]                  \n",
      "__________________________________________________________________________________________________\n",
      "conv1d_2 (Conv1D)               (None, 24, 128)      163968      dropout_1[0][0]                  \n",
      "__________________________________________________________________________________________________\n",
      "permute_2 (Permute)             (None, 91, 200)      0           dense_1[0][0]                    \n",
      "__________________________________________________________________________________________________\n",
      "max_pooling1d_2 (MaxPooling1D)  (None, 8, 128)       0           conv1d_2[0][0]                   \n",
      "__________________________________________________________________________________________________\n",
      "multiply_1 (Multiply)           (None, 91, 200)      0           lambda_1[0][0]                   \n",
      "                                                                 permute_2[0][0]                  \n",
      "__________________________________________________________________________________________________\n",
      "dropout_2 (Dropout)             (None, 8, 128)       0           max_pooling1d_2[0][0]            \n",
      "__________________________________________________________________________________________________\n",
      "lambda_2 (Lambda)               (None, 91, 200)      0           multiply_1[0][0]                 \n",
      "__________________________________________________________________________________________________\n",
      "global_max_pooling1d_1 (GlobalM (None, 128)          0           dropout_2[0][0]                  \n",
      "__________________________________________________________________________________________________\n",
      "global_max_pooling1d_2 (GlobalM (None, 200)          0           lambda_2[0][0]                   \n",
      "__________________________________________________________________________________________________\n",
      "concatenate_2 (Concatenate)     (None, 328)          0           global_max_pooling1d_1[0][0]     \n",
      "                                                                 global_max_pooling1d_2[0][0]     \n",
      "__________________________________________________________________________________________________\n",
      "dense_2 (Dense)                 (None, 256)          84224       concatenate_2[0][0]              \n",
      "__________________________________________________________________________________________________\n",
      "dropout_3 (Dropout)             (None, 256)          0           dense_2[0][0]                    \n",
      "__________________________________________________________________________________________________\n",
      "dense_3 (Dense)                 (None, 2)            514         dropout_3[0][0]                  \n",
      "==================================================================================================\n",
      "Total params: 1,381,434\n",
      "Trainable params: 826,434\n",
      "Non-trainable params: 555,000\n",
      "__________________________________________________________________________________________________\n"
     ]
    }
   ],
   "source": [
    "model = build_model()\n",
    "model.summary()"
   ]
  },
  {
   "cell_type": "markdown",
   "metadata": {},
   "source": [
    "### Run the Evaluation on the test dataset "
   ]
  },
  {
   "cell_type": "code",
   "execution_count": 9,
   "metadata": {
    "scrolled": true
   },
   "outputs": [
    {
     "name": "stdout",
     "output_type": "stream",
     "text": [
      "Train on 935 samples, validate on 365 samples\n",
      "Epoch 1/70\n",
      "935/935 [==============================] - 4s 4ms/step - loss: 5023.5520 - acc: 0.7166 - f1: 0.7128 - val_loss: 5022.9566 - val_acc: 0.7068 - val_f1: 0.6909\n",
      "Epoch 2/70\n",
      "935/935 [==============================] - 3s 3ms/step - loss: 5022.4352 - acc: 0.7358 - f1: 0.7353 - val_loss: 5021.9146 - val_acc: 0.7068 - val_f1: 0.6909\n",
      "Epoch 3/70\n",
      "935/935 [==============================] - 3s 3ms/step - loss: 5021.4010 - acc: 0.7455 - f1: 0.7446 - val_loss: 5020.9427 - val_acc: 0.7068 - val_f1: 0.6909\n",
      "Epoch 4/70\n",
      "935/935 [==============================] - 3s 3ms/step - loss: 5020.4493 - acc: 0.7497 - f1: 0.7414 - val_loss: 5020.0310 - val_acc: 0.7068 - val_f1: 0.6909\n",
      "Epoch 5/70\n",
      "935/935 [==============================] - 3s 3ms/step - loss: 5019.5718 - acc: 0.7487 - f1: 0.7403 - val_loss: 5019.1887 - val_acc: 0.7068 - val_f1: 0.6909\n",
      "Epoch 6/70\n",
      "935/935 [==============================] - 3s 3ms/step - loss: 5018.7545 - acc: 0.7519 - f1: 0.7509 - val_loss: 5018.4069 - val_acc: 0.7068 - val_f1: 0.6909\n",
      "Epoch 7/70\n",
      "935/935 [==============================] - 3s 3ms/step - loss: 5017.9983 - acc: 0.7572 - f1: 0.7561 - val_loss: 5017.6847 - val_acc: 0.7068 - val_f1: 0.6909\n",
      "Epoch 8/70\n",
      "935/935 [==============================] - 3s 3ms/step - loss: 5017.3011 - acc: 0.7658 - f1: 0.7682 - val_loss: 5017.0141 - val_acc: 0.7315 - val_f1: 0.7143\n",
      "Epoch 9/70\n",
      "935/935 [==============================] - 3s 3ms/step - loss: 5016.6433 - acc: 0.7733 - f1: 0.7643 - val_loss: 5016.4019 - val_acc: 0.7479 - val_f1: 0.7300\n",
      "Epoch 10/70\n",
      "935/935 [==============================] - 3s 3ms/step - loss: 5016.0444 - acc: 0.7904 - f1: 0.7884 - val_loss: 5015.8171 - val_acc: 0.7425 - val_f1: 0.7248\n",
      "Epoch 11/70\n",
      "935/935 [==============================] - 3s 3ms/step - loss: 5015.4893 - acc: 0.7936 - f1: 0.7952 - val_loss: 5015.2792 - val_acc: 0.7479 - val_f1: 0.7300\n",
      "Epoch 12/70\n",
      "935/935 [==============================] - 3s 3ms/step - loss: 5014.9776 - acc: 0.8064 - f1: 0.8040 - val_loss: 5014.7840 - val_acc: 0.7479 - val_f1: 0.7300\n",
      "Epoch 13/70\n",
      "935/935 [==============================] - 3s 3ms/step - loss: 5014.4873 - acc: 0.8310 - f1: 0.8317 - val_loss: 5014.3363 - val_acc: 0.7479 - val_f1: 0.7300\n",
      "Epoch 14/70\n",
      "935/935 [==============================] - 3s 3ms/step - loss: 5014.0459 - acc: 0.8342 - f1: 0.8385 - val_loss: 5013.8989 - val_acc: 0.7945 - val_f1: 0.7819\n",
      "Epoch 15/70\n",
      "935/935 [==============================] - 3s 3ms/step - loss: 5013.6307 - acc: 0.8439 - f1: 0.8442 - val_loss: 5013.5073 - val_acc: 0.8164 - val_f1: 0.8103\n",
      "Epoch 16/70\n",
      "935/935 [==============================] - 3s 3ms/step - loss: 5013.2513 - acc: 0.8706 - f1: 0.8740 - val_loss: 5013.1509 - val_acc: 0.7945 - val_f1: 0.7780\n",
      "Epoch 17/70\n",
      "935/935 [==============================] - 3s 3ms/step - loss: 5012.8936 - acc: 0.8888 - f1: 0.8917 - val_loss: 5012.8252 - val_acc: 0.8192 - val_f1: 0.8091\n",
      "Epoch 18/70\n",
      "935/935 [==============================] - 3s 3ms/step - loss: 5012.5920 - acc: 0.8770 - f1: 0.8802 - val_loss: 5012.5220 - val_acc: 0.8438 - val_f1: 0.8440\n",
      "Epoch 19/70\n",
      "935/935 [==============================] - 3s 3ms/step - loss: 5012.2733 - acc: 0.9080 - f1: 0.9104 - val_loss: 5012.2323 - val_acc: 0.8438 - val_f1: 0.8401\n",
      "Epoch 20/70\n",
      "935/935 [==============================] - 3s 3ms/step - loss: 5011.9920 - acc: 0.9059 - f1: 0.9046 - val_loss: 5011.9806 - val_acc: 0.8411 - val_f1: 0.8337\n",
      "Epoch 21/70\n",
      "935/935 [==============================] - 3s 3ms/step - loss: 5011.7597 - acc: 0.9241 - f1: 0.9223 - val_loss: 5011.7489 - val_acc: 0.8356 - val_f1: 0.8285\n",
      "Epoch 22/70\n",
      "935/935 [==============================] - 3s 3ms/step - loss: 5011.5298 - acc: 0.9209 - f1: 0.9192 - val_loss: 5011.5293 - val_acc: 0.8548 - val_f1: 0.8544\n",
      "Epoch 23/70\n",
      "935/935 [==============================] - 3s 3ms/step - loss: 5011.3365 - acc: 0.9134 - f1: 0.9156 - val_loss: 5011.3343 - val_acc: 0.8548 - val_f1: 0.8506\n",
      "Epoch 24/70\n",
      "935/935 [==============================] - 3s 3ms/step - loss: 5011.1421 - acc: 0.9348 - f1: 0.9365 - val_loss: 5011.1813 - val_acc: 0.8466 - val_f1: 0.8389\n",
      "Epoch 25/70\n",
      "935/935 [==============================] - 3s 3ms/step - loss: 5010.9761 - acc: 0.9294 - f1: 0.9275 - val_loss: 5010.9962 - val_acc: 0.8603 - val_f1: 0.8558\n",
      "Epoch 26/70\n",
      "935/935 [==============================] - 3s 3ms/step - loss: 5010.8015 - acc: 0.9348 - f1: 0.9327 - val_loss: 5010.8472 - val_acc: 0.8575 - val_f1: 0.8532\n",
      "Epoch 27/70\n",
      "935/935 [==============================] - 3s 3ms/step - loss: 5010.6647 - acc: 0.9273 - f1: 0.9254 - val_loss: 5010.7155 - val_acc: 0.8712 - val_f1: 0.8624\n",
      "Epoch 28/70\n",
      "935/935 [==============================] - 3s 3ms/step - loss: 5010.5292 - acc: 0.9519 - f1: 0.9531 - val_loss: 5010.5779 - val_acc: 0.8685 - val_f1: 0.8674\n",
      "Epoch 29/70\n",
      "935/935 [==============================] - 3s 3ms/step - loss: 5010.3892 - acc: 0.9497 - f1: 0.9510 - val_loss: 5010.4640 - val_acc: 0.8712 - val_f1: 0.8700\n",
      "Epoch 30/70\n",
      "935/935 [==============================] - 3s 3ms/step - loss: 5010.2810 - acc: 0.9551 - f1: 0.9563 - val_loss: 5010.4185 - val_acc: 0.8685 - val_f1: 0.8598\n",
      "Epoch 31/70\n",
      "935/935 [==============================] - 3s 3ms/step - loss: 5010.1908 - acc: 0.9561 - f1: 0.9536 - val_loss: 5010.2786 - val_acc: 0.8767 - val_f1: 0.8714\n",
      "Epoch 32/70\n",
      "935/935 [==============================] - 3s 3ms/step - loss: 5010.0993 - acc: 0.9583 - f1: 0.9594 - val_loss: 5010.2272 - val_acc: 0.8767 - val_f1: 0.8676\n",
      "Epoch 33/70\n",
      "935/935 [==============================] - 3s 3ms/step - loss: 5010.0070 - acc: 0.9572 - f1: 0.9546 - val_loss: 5010.1118 - val_acc: 0.8877 - val_f1: 0.8856\n",
      "Epoch 34/70\n",
      "935/935 [==============================] - 3s 3ms/step - loss: 5009.9305 - acc: 0.9636 - f1: 0.9646 - val_loss: 5010.0567 - val_acc: 0.8877 - val_f1: 0.8818\n",
      "Epoch 35/70\n",
      "935/935 [==============================] - 3s 3ms/step - loss: 5009.8608 - acc: 0.9658 - f1: 0.9629 - val_loss: 5009.9790 - val_acc: 0.8932 - val_f1: 0.8908\n",
      "Epoch 36/70\n",
      "935/935 [==============================] - 3s 3ms/step - loss: 5009.7974 - acc: 0.9636 - f1: 0.9646 - val_loss: 5009.9136 - val_acc: 0.8904 - val_f1: 0.8882\n",
      "Epoch 37/70\n",
      "935/935 [==============================] - 3s 3ms/step - loss: 5009.7435 - acc: 0.9668 - f1: 0.9677 - val_loss: 5009.9047 - val_acc: 0.8932 - val_f1: 0.8832\n",
      "Epoch 38/70\n",
      "935/935 [==============================] - 3s 3ms/step - loss: 5009.6939 - acc: 0.9668 - f1: 0.9677 - val_loss: 5009.8118 - val_acc: 0.8904 - val_f1: 0.8844\n",
      "Epoch 39/70\n",
      "935/935 [==============================] - 3s 3ms/step - loss: 5009.6348 - acc: 0.9765 - f1: 0.9771 - val_loss: 5009.7857 - val_acc: 0.8932 - val_f1: 0.8870\n",
      "Epoch 40/70\n",
      "935/935 [==============================] - 3s 3ms/step - loss: 5009.5946 - acc: 0.9754 - f1: 0.9760 - val_loss: 5009.7426 - val_acc: 0.8959 - val_f1: 0.8896\n",
      "Epoch 41/70\n",
      "935/935 [==============================] - 3s 3ms/step - loss: 5009.5507 - acc: 0.9818 - f1: 0.9786 - val_loss: 5009.7449 - val_acc: 0.8904 - val_f1: 0.8844\n",
      "Epoch 42/70\n",
      "935/935 [==============================] - 3s 3ms/step - loss: 5009.5276 - acc: 0.9711 - f1: 0.9719 - val_loss: 5009.6995 - val_acc: 0.8932 - val_f1: 0.8870\n",
      "Epoch 43/70\n",
      "935/935 [==============================] - 3s 3ms/step - loss: 5009.4863 - acc: 0.9840 - f1: 0.9844 - val_loss: 5009.6383 - val_acc: 0.9096 - val_f1: 0.9103\n",
      "Epoch 44/70\n",
      "935/935 [==============================] - 3s 3ms/step - loss: 5009.4595 - acc: 0.9786 - f1: 0.9792 - val_loss: 5009.6722 - val_acc: 0.8904 - val_f1: 0.8806\n",
      "Epoch 45/70\n",
      "935/935 [==============================] - 3s 3ms/step - loss: 5009.4510 - acc: 0.9711 - f1: 0.9719 - val_loss: 5009.5827 - val_acc: 0.8986 - val_f1: 0.8922\n",
      "Epoch 46/70\n",
      "935/935 [==============================] - 3s 3ms/step - loss: 5009.3998 - acc: 0.9850 - f1: 0.9854 - val_loss: 5009.5760 - val_acc: 0.8959 - val_f1: 0.8896\n",
      "Epoch 47/70\n",
      "935/935 [==============================] - 3s 3ms/step - loss: 5009.3767 - acc: 0.9850 - f1: 0.9854 - val_loss: 5009.5430 - val_acc: 0.8986 - val_f1: 0.8922\n",
      "Epoch 48/70\n",
      "935/935 [==============================] - 3s 3ms/step - loss: 5009.3565 - acc: 0.9840 - f1: 0.9844 - val_loss: 5009.5440 - val_acc: 0.8959 - val_f1: 0.8896\n",
      "Epoch 49/70\n"
     ]
    },
    {
     "name": "stdout",
     "output_type": "stream",
     "text": [
      "935/935 [==============================] - 3s 3ms/step - loss: 5009.3423 - acc: 0.9872 - f1: 0.9875 - val_loss: 5009.4914 - val_acc: 0.9014 - val_f1: 0.9024\n",
      "Epoch 50/70\n",
      "935/935 [==============================] - 3s 3ms/step - loss: 5009.3206 - acc: 0.9872 - f1: 0.9875 - val_loss: 5009.4718 - val_acc: 0.9123 - val_f1: 0.9167\n",
      "Epoch 51/70\n",
      "935/935 [==============================] - 3s 3ms/step - loss: 5009.3086 - acc: 0.9893 - f1: 0.9896 - val_loss: 5009.5270 - val_acc: 0.8959 - val_f1: 0.8896\n",
      "Epoch 52/70\n",
      "935/935 [==============================] - 3s 3ms/step - loss: 5009.2968 - acc: 0.9861 - f1: 0.9865 - val_loss: 5009.4463 - val_acc: 0.9068 - val_f1: 0.9077\n",
      "Epoch 53/70\n",
      "935/935 [==============================] - 3s 3ms/step - loss: 5009.2925 - acc: 0.9861 - f1: 0.9865 - val_loss: 5009.4741 - val_acc: 0.8959 - val_f1: 0.8896\n",
      "Epoch 54/70\n",
      "935/935 [==============================] - 3s 3ms/step - loss: 5009.2719 - acc: 0.9840 - f1: 0.9807 - val_loss: 5009.4208 - val_acc: 0.9096 - val_f1: 0.9103\n",
      "Epoch 55/70\n",
      "935/935 [==============================] - 3s 3ms/step - loss: 5009.2568 - acc: 0.9872 - f1: 0.9875 - val_loss: 5009.4866 - val_acc: 0.8932 - val_f1: 0.8832\n",
      "Epoch 56/70\n",
      "935/935 [==============================] - 3s 3ms/step - loss: 5009.2440 - acc: 0.9914 - f1: 0.9917 - val_loss: 5009.4136 - val_acc: 0.9096 - val_f1: 0.9103\n",
      "Epoch 57/70\n",
      "935/935 [==============================] - 3s 3ms/step - loss: 5009.2385 - acc: 0.9872 - f1: 0.9875 - val_loss: 5009.4460 - val_acc: 0.8986 - val_f1: 0.8922\n",
      "Epoch 58/70\n",
      "935/935 [==============================] - 3s 3ms/step - loss: 5009.2244 - acc: 0.9936 - f1: 0.9937 - val_loss: 5009.3723 - val_acc: 0.9068 - val_f1: 0.9077\n",
      "Epoch 59/70\n",
      "935/935 [==============================] - 3s 3ms/step - loss: 5009.2197 - acc: 0.9914 - f1: 0.9917 - val_loss: 5009.4283 - val_acc: 0.8959 - val_f1: 0.8896\n",
      "Epoch 60/70\n",
      "935/935 [==============================] - 3s 3ms/step - loss: 5009.2131 - acc: 0.9925 - f1: 0.9927 - val_loss: 5009.4565 - val_acc: 0.8986 - val_f1: 0.8884\n",
      "Epoch 61/70\n",
      "935/935 [==============================] - 3s 3ms/step - loss: 5009.2001 - acc: 0.9968 - f1: 0.9969 - val_loss: 5009.3985 - val_acc: 0.8986 - val_f1: 0.8960\n",
      "Epoch 62/70\n",
      "935/935 [==============================] - 3s 3ms/step - loss: 5009.1966 - acc: 0.9947 - f1: 0.9948 - val_loss: 5009.4511 - val_acc: 0.9014 - val_f1: 0.8948\n",
      "Epoch 63/70\n",
      "935/935 [==============================] - 3s 3ms/step - loss: 5009.1939 - acc: 0.9925 - f1: 0.9927 - val_loss: 5009.4283 - val_acc: 0.8986 - val_f1: 0.8922\n",
      "Epoch 64/70\n",
      "935/935 [==============================] - 3s 3ms/step - loss: 5009.1868 - acc: 0.9957 - f1: 0.9958 - val_loss: 5009.3773 - val_acc: 0.9041 - val_f1: 0.9012\n",
      "Epoch 65/70\n",
      "935/935 [==============================] - 3s 3ms/step - loss: 5009.1810 - acc: 0.9925 - f1: 0.9927 - val_loss: 5009.4377 - val_acc: 0.8986 - val_f1: 0.8884\n",
      "Epoch 66/70\n",
      "935/935 [==============================] - 3s 3ms/step - loss: 5009.1783 - acc: 0.9925 - f1: 0.9927 - val_loss: 5009.3676 - val_acc: 0.9151 - val_f1: 0.9155\n",
      "Epoch 67/70\n",
      "935/935 [==============================] - 3s 3ms/step - loss: 5009.1758 - acc: 0.9914 - f1: 0.9917 - val_loss: 5009.4106 - val_acc: 0.9014 - val_f1: 0.8948\n",
      "Epoch 68/70\n",
      "935/935 [==============================] - 3s 3ms/step - loss: 5009.1690 - acc: 0.9936 - f1: 0.9937 - val_loss: 5009.4246 - val_acc: 0.9014 - val_f1: 0.8948\n",
      "Epoch 69/70\n",
      "935/935 [==============================] - 3s 3ms/step - loss: 5009.1595 - acc: 0.9957 - f1: 0.9958 - val_loss: 5009.4075 - val_acc: 0.9041 - val_f1: 0.8974\n",
      "Epoch 70/70\n",
      "935/935 [==============================] - 3s 3ms/step - loss: 5009.1546 - acc: 0.9979 - f1: 0.9979 - val_loss: 5009.4130 - val_acc: 0.9014 - val_f1: 0.8948\n"
     ]
    }
   ],
   "source": [
    "param='macro'\n",
    "epochs =70\n",
    "batch_size = 32\n",
    "history=model.fit(W_train, Y_train,epochs=epochs,validation_data=(W_test,Y_test), batch_size=batch_size,verbose=1)        \n",
    "\n"
   ]
  },
  {
   "cell_type": "code",
   "execution_count": 10,
   "metadata": {},
   "outputs": [
    {
     "data": {
      "image/png": "[encoded data removed]",
      "text/plain": [
       "<Figure size 1000x300 with 2 Axes>"
      ]
     },
     "metadata": {},
     "output_type": "display_data"
    }
   ],
   "source": [
    "import matplotlib.pyplot as plt\n",
    "\n",
    "# Training & Validation accuracy\n",
    "train_loss = history.history['loss']\n",
    "val_loss = history.history['val_loss']\n",
    "train_acc = history.history['acc']\n",
    "val_acc = history.history['val_acc']\n",
    "epochs = len(train_loss)\n",
    "\n",
    "xc = range(epochs)\n",
    "\n",
    "plt.figure(figsize=(10, 3))\n",
    "\n",
    "# Loss subplot\n",
    "plt.subplot(1, 2, 1)\n",
    "plt.plot(xc, train_loss, label='Training Loss')\n",
    "plt.plot(xc, val_loss, label='Validation Loss')\n",
    "plt.xlabel('Number of Epochs', fontsize=10)\n",
    "plt.ylabel('Loss', fontsize=10)\n",
    "plt.title('Training and Validation Loss', fontsize=12)\n",
    "plt.legend(fontsize=8)\n",
    "plt.grid(True)\n",
    "\n",
    "# Accuracy subplot\n",
    "plt.subplot(1, 2, 2)\n",
    "plt.plot(xc, train_acc, label='Training Accuracy')\n",
    "plt.plot(xc, val_acc, label='Validation Accuracy')\n",
    "plt.xlabel('Number of Epochs', fontsize=10)\n",
    "plt.ylabel('Accuracy', fontsize=10)\n",
    "plt.title('Training and Validation Accuracy', fontsize=12)\n",
    "plt.legend(fontsize=8, loc='lower right')  # Change position to lower right\n",
    "plt.grid(True)\n",
    "\n",
    "plt.tight_layout()\n",
    "plt.show()\n"
   ]
  },
  {
   "cell_type": "code",
   "execution_count": 12,
   "metadata": {},
   "outputs": [
    {
     "name": "stdout",
     "output_type": "stream",
     "text": [
      "              precision    recall  f1-score   support\n",
      "\n",
      "           0     0.9610    0.6916    0.8043       107\n",
      "           1     0.8854    0.9884    0.9341       258\n",
      "\n",
      "    accuracy                         0.9014       365\n",
      "   macro avg     0.9232    0.8400    0.8692       365\n",
      "weighted avg     0.9076    0.9014    0.8960       365\n",
      "\n",
      " Precision:92.32% Recall:84.00% Fscore:86.92% \n"
     ]
    }
   ],
   "source": [
    "predicted = np.argmax(model.predict(W_test), axis=1)\n",
    "y_test_to_label= np.argmax(Y_test, axis=1)\n",
    "prec, reca, fscore, sup = precision_recall_fscore_support(y_test_to_label, predicted, average=param)\n",
    "\n",
    "\n",
    "# Generate the classification report as a dictionary\n",
    "report_dict = classification_report(y_test_to_label, predicted, output_dict=True)\n",
    "\n",
    "# Create a new dictionary to hold the formatted values\n",
    "formatted_report_dict = {}\n",
    "\n",
    "# Iterate over the items in the report dictionary\n",
    "for key, value in report_dict.items():\n",
    "    if isinstance(value, dict):\n",
    "        # Format the nested dictionary values\n",
    "        formatted_report_dict[key] = {sub_key: f\"{sub_value:.4f}\" for sub_key, sub_value in value.items()}\n",
    "    else:\n",
    "        # Format the top-level dictionary values\n",
    "        formatted_report_dict[key] = f\"{value:.4f}\"\n",
    "\n",
    "# Create a string representation of the formatted dictionary\n",
    "formatted_report_str = classification_report(y_test_to_label, predicted, digits=4)\n",
    "\n",
    "# Print the formatted classification report\n",
    "print(formatted_report_str)\n",
    "\n",
    "\n",
    "print(\" Precision:{:.2f}% Recall:{:.2f}% Fscore:{:.2f}% \".format(prec*100, reca*100, fscore*100))"
   ]
  },
  {
   "cell_type": "code",
   "execution_count": 15,
   "metadata": {},
   "outputs": [
    {
     "data": {
      "image/png": "[encoded data removed]",
      "text/plain": [
       "<Figure size 800x600 with 1 Axes>"
      ]
     },
     "metadata": {},
     "output_type": "display_data"
    }
   ],
   "source": [
    "from sklearn.metrics import confusion_matrix\n",
    "import seaborn as sns\n",
    "\n",
    "# Get the predicted labels\n",
    "predicted_labels = np.argmax(model.predict(W_test), axis=1)\n",
    "\n",
    "# Create the confusion matrix\n",
    "cm = confusion_matrix(np.argmax(Y_test, axis=1), predicted_labels)\n",
    "\n",
    "# Plot the confusion matrix\n",
    "plt.figure(figsize=(8, 6))\n",
    "sns.heatmap(cm, annot=True, fmt='d', cmap='Blues', cbar=False)\n",
    "plt.xlabel('Predicted Labels')\n",
    "plt.ylabel('True Labels')\n",
    "plt.title('Confusion Matrix')\n",
    "plt.show()"
   ]
  },
  {
   "cell_type": "code",
   "execution_count": null,
   "metadata": {},
   "outputs": [],
   "source": []
  }
 ],
 "metadata": {
  "kernelspec": {
   "display_name": "Python [conda env:python]",
   "language": "python",
   "name": "conda-env-python-py"
  },
  "language_info": {
   "codemirror_mode": {
    "name": "ipython",
    "version": 3
   },
   "file_extension": ".py",
   "mimetype": "text/x-python",
   "name": "python",
   "nbconvert_exporter": "python",
   "pygments_lexer": "ipython3",
   "version": "3.7.1"
  }
 },
 "nbformat": 4,
 "nbformat_minor": 4
}
