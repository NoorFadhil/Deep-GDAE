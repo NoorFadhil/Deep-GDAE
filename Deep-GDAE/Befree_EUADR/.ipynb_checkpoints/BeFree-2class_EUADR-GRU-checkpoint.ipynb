{
 "cells": [
  {
   "cell_type": "markdown",
   "metadata": {},
   "source": [
    "# Evaluation using the BeFree corpus \n",
    "\n",
    "### EUADR dataset\n",
    "The EU-ADR dataset contains annotations on drugs, diseases, genes and proteins, and associations between them. In this study, we used only GDAs to evaluate the method. Each association is classified according to its level of certainty as positive association (PA), negative association (NA), speculative association (SA); or false association (FA). The EU-ADR corpus is based on 100 MEDLINE abstracts for each association set, and its annotation was conducted by three experts. \n"
   ]
  },
  {
   "cell_type": "markdown",
   "metadata": {},
   "source": [
    "#  -------------------------------------------------------------------------------------------"
   ]
  },
  {
   "cell_type": "markdown",
   "metadata": {},
   "source": [
    "# imports"
   ]
  },
  {
   "cell_type": "code",
   "execution_count": 9,
   "metadata": {},
   "outputs": [],
   "source": [
    "import tensorflow as tf\n",
    "from keras.models import load_model\n",
    "from keras.callbacks import ModelCheckpoint, EarlyStopping\n",
    "from keras_tqdm import TQDMNotebookCallback\n",
    "import numpy as np\n",
    "from keras_tqdm import TQDMNotebookCallback\n",
    "import nltk\n",
    "import xml.etree.ElementTree as ET\n",
    "import pandas as pd\n",
    "import os\n",
    "import string\n",
    "from nltk.tokenize import TreebankWordTokenizer\n",
    "from numpy.random import random_sample\n",
    "import re\n",
    "import pickle\n",
    "from keras.layers import Embedding, Flatten,LSTM, GRU\n",
    "from sklearn.metrics import accuracy_score\n",
    "from sklearn.metrics import classification_report\n",
    "from keras.layers import Embedding, Flatten,LSTM\n",
    "from keras.layers.convolutional import Conv2D, MaxPooling2D\n",
    "from tensorflow.keras.utils import to_categorical\n",
    "from keras.models import Sequential, Model\n",
    "from keras.layers import Dense, Dropout, Activation,  Input, merge,Conv1D,MaxPooling1D,GlobalMaxPooling1D,Convolution1D\n",
    "from keras import regularizers\n",
    "from sklearn.metrics import precision_recall_fscore_support\n",
    "from sklearn.model_selection import StratifiedKFold\n",
    "import matplotlib.pyplot as plt\n",
    "from keras.layers import Concatenate, concatenate\n",
    "from keras import backend as K\n",
    "from keras.layers import multiply\n",
    "from keras.layers import merge\n",
    "from keras.layers.core import *\n",
    "from keras.layers.recurrent import LSTM\n",
    "from keras.models import *"
   ]
  },
  {
   "cell_type": "markdown",
   "metadata": {},
   "source": [
    "###  Define Callback functions to generate Mesures"
   ]
  },
  {
   "cell_type": "code",
   "execution_count": 12,
   "metadata": {},
   "outputs": [],
   "source": [
    "from keras import backend as K\n",
    "\n",
    "def f1(y_true, y_pred):\n",
    "    def recall(y_true, y_pred):\n",
    "        true_positives = K.sum(K.round(K.clip(y_true * y_pred, 0, 1)))\n",
    "        possible_positives = K.sum(K.round(K.clip(y_true, 0, 1)))\n",
    "        recall = true_positives / (possible_positives + K.epsilon())\n",
    "        return recall\n",
    "\n",
    "    def precision(y_true, y_pred):\n",
    "        true_positives = K.sum(K.round(K.clip(y_true * y_pred, 0, 1)))\n",
    "        predicted_positives = K.sum(K.round(K.clip(y_pred, 0, 1)))\n",
    "        precision = true_positives / (predicted_positives + K.epsilon())\n",
    "        return precision\n",
    "    precision = precision(y_true, y_pred)\n",
    "    recall = recall(y_true, y_pred)\n",
    "    return 2*((precision*recall)/(precision+recall+K.epsilon()))\n"
   ]
  },
  {
   "cell_type": "markdown",
   "metadata": {},
   "source": [
    "# Experiments to reproduce the results of Table 8 "
   ]
  },
  {
   "cell_type": "markdown",
   "metadata": {},
   "source": [
    "### Load Prerocssed Data"
   ]
  },
  {
   "cell_type": "code",
   "execution_count": 16,
   "metadata": {},
   "outputs": [
    {
     "name": "stdout",
     "output_type": "stream",
     "text": [
      "W_train 355\n",
      "d1_train 355\n",
      "d2_train 355\n",
      "Y_train 355\n",
      "Tr_word_list 355\n",
      "word_vectors 1355\n",
      "word_dict 1355\n",
      "d1_dict 169\n",
      "d2_dict 171\n",
      "label_dict 4\n",
      "MAX_SEQUENCE_LENGTH 102\n"
     ]
    }
   ],
   "source": [
    "with open('../data/pickles/befree_EUADR_2class_PubMed-and-PMC-w2v.pickle', 'rb') as handle:        \n",
    "    \n",
    "    W_train = pickle.load(handle)\n",
    "    print(\"W_train\",len(W_train))\n",
    "    d1_train = pickle.load(handle)\n",
    "    print(\"d1_train\",len(d1_train))\n",
    "    d2_train = pickle.load(handle)\n",
    "    print(\"d2_train\",len(d2_train))\n",
    "    Y_train = pickle.load(handle)\n",
    "    print(\"Y_train\",len(d2_train))\n",
    "    Tr_word_list = pickle.load(handle)\n",
    "    print(\"Tr_word_list\",len(d2_train))\n",
    "    word_vectors = pickle.load(handle)\n",
    "    print(\"word_vectors\",len(word_vectors))\n",
    "    word_dict = pickle.load(handle)\n",
    "    print(\"word_dict\",len(word_dict))\n",
    "    d1_dict = pickle.load(handle)\n",
    "    print(\"d1_dict\",len(d1_dict))\n",
    "    d2_dict = pickle.load(handle)\n",
    "    print(\"d2_dict\",len(d2_dict))\n",
    "    label_dict = pickle.load(handle)\n",
    "    print(\"label_dict\",len(label_dict))\n",
    "    MAX_SEQUENCE_LENGTH = pickle.load(handle)\n",
    "    print(\"MAX_SEQUENCE_LENGTH\",MAX_SEQUENCE_LENGTH)\n"
   ]
  },
  {
   "cell_type": "markdown",
   "metadata": {},
   "source": [
    "### Create Position Embedding Vectors"
   ]
  },
  {
   "cell_type": "code",
   "execution_count": 19,
   "metadata": {},
   "outputs": [
    {
     "name": "stdout",
     "output_type": "stream",
     "text": [
      "Model: \"sequential_1\"\n",
      "_________________________________________________________________\n",
      "Layer (type)                 Output Shape              Param #   \n",
      "=================================================================\n",
      "Pos-Embd (TrigPosEmbedding)  (None, None, 20)          0         \n",
      "=================================================================\n",
      "Total params: 0\n",
      "Trainable params: 0\n",
      "Non-trainable params: 0\n",
      "_________________________________________________________________\n"
     ]
    },
    {
     "data": {
      "text/plain": [
       "(355, 102, 20)"
      ]
     },
     "execution_count": 19,
     "metadata": {},
     "output_type": "execute_result"
    }
   ],
   "source": [
    "import keras\n",
    "from keras_pos_embd import TrigPosEmbedding\n",
    "\n",
    "model = keras.models.Sequential()\n",
    "model.add(TrigPosEmbedding(\n",
    "    input_shape=(None,),\n",
    "    output_dim=20,                      # The dimension of embeddings.\n",
    "    mode=TrigPosEmbedding.MODE_EXPAND,  # Use `expand` mode\n",
    "    name='Pos-Embd',\n",
    "))\n",
    "model.compile('adam', keras.losses.mae, {})\n",
    "model.summary()\n",
    "\n",
    "d1_train_embedded=model.predict(d1_train)\n",
    "\n",
    "d1_train_embedded.shape\n",
    "\n",
    "d2_train_embedded=model.predict(d2_train)\n",
    "\n",
    "d2_train_embedded.shape"
   ]
  },
  {
   "cell_type": "markdown",
   "metadata": {},
   "source": [
    "### Prepare Word Embedding Layer"
   ]
  },
  {
   "cell_type": "code",
   "execution_count": 22,
   "metadata": {},
   "outputs": [
    {
     "name": "stdout",
     "output_type": "stream",
     "text": [
      "200\n",
      "1355\n"
     ]
    }
   ],
   "source": [
    "EMBEDDING_DIM=word_vectors.shape[1]\n",
    "embedding_matrix=word_vectors\n",
    "print(EMBEDDING_DIM)\n",
    "print(len(embedding_matrix))\n",
    "\n",
    "param='binary'\n",
    "\n",
    "def create_embedding_layer(l2_reg=0.01,use_pretrained=True,is_trainable=False):\n",
    "    \n",
    "    if use_pretrained:        \n",
    "        return Embedding(len(word_dict) ,EMBEDDING_DIM,weights=[embedding_matrix],input_length=MAX_SEQUENCE_LENGTH,trainable=is_trainable,embeddings_regularizer=regularizers.l2(l2_reg))\n",
    "    \n",
    "    else:    \n",
    "        return Embedding(len(word_dict) ,EMBEDDING_DIM,input_length=MAX_SEQUENCE_LENGTH)\n",
    "            \n",
    "    "
   ]
  },
  {
   "cell_type": "markdown",
   "metadata": {},
   "source": [
    "### Prepare Attention Mechanism"
   ]
  },
  {
   "cell_type": "code",
   "execution_count": 25,
   "metadata": {},
   "outputs": [],
   "source": [
    "INPUT_DIM = 2\n",
    "TIME_STEPS = MAX_SEQUENCE_LENGTH\n"
   ]
  },
  {
   "cell_type": "code",
   "execution_count": 27,
   "metadata": {},
   "outputs": [],
   "source": [
    "def attentionNew(inputs):\n",
    "    inputs = Lambda(lambda x: tf.keras.backend.sigmoid(x))(inputs)\n",
    "    input_dim = int(inputs.shape[2])\n",
    "    a = Permute((2, 1))(inputs)\n",
    "    a = Dense(TIME_STEPS, activation='softmax')(a)\n",
    "    a_probs = Permute((2, 1))(a)\n",
    "    output_attention_mul = multiply([inputs, a_probs])\n",
    "    output_attention_mul = Lambda(lambda x: tf.keras.backend.sigmoid(x))(output_attention_mul)\n",
    "    return output_attention_mul\n"
   ]
  },
  {
   "cell_type": "markdown",
   "metadata": {},
   "source": [
    "### Create the Model"
   ]
  },
  {
   "cell_type": "code",
   "execution_count": 35,
   "metadata": {},
   "outputs": [],
   "source": [
    "from keras.optimizers import Adam\n",
    "def build_model_positionAttention():    \n",
    "    sequence_input = Input(shape=(MAX_SEQUENCE_LENGTH,), dtype='int32')\n",
    "    embedding_layer = create_embedding_layer(use_pretrained=True, is_trainable=False)\n",
    "    embedded_sequences = embedding_layer(sequence_input)\n",
    "\n",
    "    pos_embedd_1 = Input(shape=(MAX_SEQUENCE_LENGTH, 20), dtype='float32')\n",
    "    pos_embedd_2 = Input(shape=(MAX_SEQUENCE_LENGTH, 20), dtype='float32')\n",
    "    \n",
    "    # Concatenate embeddings and position encodings\n",
    "    embedded_sequences = concatenate([embedded_sequences, pos_embedd_1, pos_embedd_2])\n",
    "    \n",
    "    # Convolutional layers\n",
    "    x = Conv1D(256, 5, activation='relu')(embedded_sequences)\n",
    "    x = MaxPooling1D(3)(x)\n",
    "    x = Dropout(0.4)(x)\n",
    "    x = Conv1D(128, 3, activation='relu')(x)\n",
    "    x = MaxPooling1D(3)(x)\n",
    "    x = Dropout(0.4)(x)\n",
    "    conv_sequence_7 = GlobalMaxPooling1D()(x)  # Shape: (None, 64)\n",
    "\n",
    "    # Bidirectional RNN layers\n",
    "    forward = GRU(100, return_sequences=True, recurrent_dropout=0.1)(embedded_sequences)\n",
    "    backward = GRU(100, return_sequences=True, go_backwards=True, recurrent_dropout=0.05)(embedded_sequences)\n",
    "    lstm_gru_sequence = concatenate([forward, backward], axis=-1)  # Shape: (None, MAX_SEQUENCE_LENGTH, 200)\n",
    "    \n",
    "    # Apply attention mechanism\n",
    "    attention_output = attentionNew(lstm_gru_sequence)  # Shape: (None, MAX_SEQUENCE_LENGTH, 200)\n",
    "    attention_pooled = GlobalMaxPooling1D()(attention_output)  # Shape: (None, 200)\n",
    "\n",
    "    # Merge CNN and attention-enhanced RNN outputs\n",
    "    merge = concatenate([conv_sequence_7, attention_pooled])  # Shape: (None, 264)\n",
    "    \n",
    "    # Fully connected layers\n",
    "    x = Dropout(0.4)(merge)\n",
    "    x = Dense(256, activation='relu', kernel_regularizer=regularizers.l2(0.05))(x)\n",
    "    x = Dropout(0.4)(x)\n",
    "    preds = Dense(2, activation='softmax')(x)\n",
    "    optimizer = Adam(learning_rate=0.001)\n",
    "    model = Model(inputs=[sequence_input, pos_embedd_1, pos_embedd_2], outputs=preds)\n",
    "\n",
    "    model.compile(loss='binary_crossentropy', optimizer=optimizer, metrics=['acc', f1])\n",
    "    \n",
    "    return model\n"
   ]
  },
  {
   "cell_type": "code",
   "execution_count": 37,
   "metadata": {},
   "outputs": [
    {
     "name": "stdout",
     "output_type": "stream",
     "text": [
      "Model: \"model_2\"\n",
      "__________________________________________________________________________________________________\n",
      "Layer (type)                    Output Shape         Param #     Connected to                     \n",
      "==================================================================================================\n",
      "input_4 (InputLayer)            (None, 102)          0                                            \n",
      "__________________________________________________________________________________________________\n",
      "embedding_2 (Embedding)         (None, 102, 200)     271000      input_4[0][0]                    \n",
      "__________________________________________________________________________________________________\n",
      "input_5 (InputLayer)            (None, 102, 20)      0                                            \n",
      "__________________________________________________________________________________________________\n",
      "input_6 (InputLayer)            (None, 102, 20)      0                                            \n",
      "__________________________________________________________________________________________________\n",
      "concatenate_4 (Concatenate)     (None, 102, 240)     0           embedding_2[0][0]                \n",
      "                                                                 input_5[0][0]                    \n",
      "                                                                 input_6[0][0]                    \n",
      "__________________________________________________________________________________________________\n",
      "gru_3 (GRU)                     (None, 102, 100)     102300      concatenate_4[0][0]              \n",
      "__________________________________________________________________________________________________\n",
      "gru_4 (GRU)                     (None, 102, 100)     102300      concatenate_4[0][0]              \n",
      "__________________________________________________________________________________________________\n",
      "concatenate_5 (Concatenate)     (None, 102, 200)     0           gru_3[0][0]                      \n",
      "                                                                 gru_4[0][0]                      \n",
      "__________________________________________________________________________________________________\n",
      "conv1d_3 (Conv1D)               (None, 98, 256)      307456      concatenate_4[0][0]              \n",
      "__________________________________________________________________________________________________\n",
      "lambda_3 (Lambda)               (None, 102, 200)     0           concatenate_5[0][0]              \n",
      "__________________________________________________________________________________________________\n",
      "max_pooling1d_3 (MaxPooling1D)  (None, 32, 256)      0           conv1d_3[0][0]                   \n",
      "__________________________________________________________________________________________________\n",
      "permute_3 (Permute)             (None, 200, 102)     0           lambda_3[0][0]                   \n",
      "__________________________________________________________________________________________________\n",
      "dropout_5 (Dropout)             (None, 32, 256)      0           max_pooling1d_3[0][0]            \n",
      "__________________________________________________________________________________________________\n",
      "dense_4 (Dense)                 (None, 200, 102)     10506       permute_3[0][0]                  \n",
      "__________________________________________________________________________________________________\n",
      "conv1d_4 (Conv1D)               (None, 30, 128)      98432       dropout_5[0][0]                  \n",
      "__________________________________________________________________________________________________\n",
      "permute_4 (Permute)             (None, 102, 200)     0           dense_4[0][0]                    \n",
      "__________________________________________________________________________________________________\n",
      "max_pooling1d_4 (MaxPooling1D)  (None, 10, 128)      0           conv1d_4[0][0]                   \n",
      "__________________________________________________________________________________________________\n",
      "multiply_2 (Multiply)           (None, 102, 200)     0           lambda_3[0][0]                   \n",
      "                                                                 permute_4[0][0]                  \n",
      "__________________________________________________________________________________________________\n",
      "dropout_6 (Dropout)             (None, 10, 128)      0           max_pooling1d_4[0][0]            \n",
      "__________________________________________________________________________________________________\n",
      "lambda_4 (Lambda)               (None, 102, 200)     0           multiply_2[0][0]                 \n",
      "__________________________________________________________________________________________________\n",
      "global_max_pooling1d_3 (GlobalM (None, 128)          0           dropout_6[0][0]                  \n",
      "__________________________________________________________________________________________________\n",
      "global_max_pooling1d_4 (GlobalM (None, 200)          0           lambda_4[0][0]                   \n",
      "__________________________________________________________________________________________________\n",
      "concatenate_6 (Concatenate)     (None, 328)          0           global_max_pooling1d_3[0][0]     \n",
      "                                                                 global_max_pooling1d_4[0][0]     \n",
      "__________________________________________________________________________________________________\n",
      "dropout_7 (Dropout)             (None, 328)          0           concatenate_6[0][0]              \n",
      "__________________________________________________________________________________________________\n",
      "dense_5 (Dense)                 (None, 256)          84224       dropout_7[0][0]                  \n",
      "__________________________________________________________________________________________________\n",
      "dropout_8 (Dropout)             (None, 256)          0           dense_5[0][0]                    \n",
      "__________________________________________________________________________________________________\n",
      "dense_6 (Dense)                 (None, 2)            514         dropout_8[0][0]                  \n",
      "==================================================================================================\n",
      "Total params: 976,732\n",
      "Trainable params: 705,732\n",
      "Non-trainable params: 271,000\n",
      "__________________________________________________________________________________________________\n"
     ]
    }
   ],
   "source": [
    "model = build_model_positionAttention()\n",
    "model.summary()"
   ]
  },
  {
   "cell_type": "markdown",
   "metadata": {},
   "source": [
    "### Run the Evaluation using 10 fold Cross Validation  "
   ]
  },
  {
   "cell_type": "code",
   "execution_count": 10,
   "metadata": {},
   "outputs": [
    {
     "name": "stdout",
     "output_type": "stream",
     "text": [
      "TrainRate:80.00% testRate:20.00% validation:8.00%  \n"
     ]
    }
   ],
   "source": [
    "\n",
    "\n",
    "validation_split_rate=0.1\n",
    "skf = StratifiedKFold(n_splits=5, random_state=None)\n",
    "Y = [np.argmax(y, axis=None, out=None) for y in Y_train]\n",
    "#print(len(Y))\n",
    "all_histories=[]\n",
    "for trI, teI in skf.split(W_train,Y): \n",
    "    train_index =trI\n",
    "    test_index  =teI\n",
    "trainRate = (len(train_index)/len(Y))*100   \n",
    "testRate = (len(test_index)/len(Y))*100\n",
    "print (\"TrainRate:{:.2f}% testRate:{:.2f}% validation:{:.2f}%  \".format(trainRate,testRate, trainRate*validation_split_rate))\n",
    "#print(train_index, test_index)\n",
    "X_train, X_test = W_train[train_index], W_train[test_index] \n",
    "pos_train1, pos_test1 = d1_train_embedded[train_index], d1_train_embedded[test_index] \n",
    "pos_train2, pos_test2 = d2_train_embedded[train_index], d2_train_embedded[test_index] \n",
    "y_train, y_test = Y_train[train_index], Y_train[test_index]\n",
    "\n",
    "\n",
    "\n",
    "# # Saving the training data split as a pickle file\n",
    "# training_data = {\n",
    "#     'X_train': X_train,\n",
    "#     'pos_train1': pos_train1,\n",
    "#     'pos_train2': pos_train2,\n",
    "#     'y_train': y_train\n",
    "# }\n",
    "\n",
    "# with open('training_data.pkl', 'wb') as f:\n",
    "#     pickle.dump(training_data, f)\n",
    "\n",
    "# # Saving the testing data split as a pickle file\n",
    "# testing_data = {\n",
    "#     'X_test': X_test,\n",
    "#     'pos_test1': pos_test1,\n",
    "#     'pos_test2': pos_test2,\n",
    "#     'y_test': y_test\n",
    "# }\n",
    "\n",
    "# with open('testing_data.pkl', 'wb') as f:\n",
    "#     pickle.dump(testing_data, f)\n",
    "    \n",
    "\n"
   ]
  },
  {
   "cell_type": "code",
   "execution_count": 11,
   "metadata": {},
   "outputs": [
    {
     "name": "stdout",
     "output_type": "stream",
     "text": [
      "(284, 102)\n"
     ]
    }
   ],
   "source": [
    "\n",
    "# Load the training data from the pickle file\n",
    "with open('training_data.pkl', 'rb') as f:\n",
    "    train_data = pickle.load(f)\n",
    "\n",
    "# Load the testing data from the pickle file\n",
    "with open('testing_data.pkl', 'rb') as f:\n",
    "    test_data = pickle.load(f)\n",
    "\n",
    "# Extract data from the loaded dictionaries\n",
    "X_train = train_data['X_train']\n",
    "pos_train1 = train_data['pos_train1']\n",
    "pos_train2 = train_data['pos_train2']\n",
    "y_train = train_data['y_train']\n",
    "\n",
    "\n",
    "X_test = test_data['X_test']\n",
    "pos_test1 = test_data['pos_test1']\n",
    "pos_test2 = test_data['pos_test2']\n",
    "y_test = test_data['y_test']\n",
    "\n",
    "print(X_train.shape)\n"
   ]
  },
  {
   "cell_type": "code",
   "execution_count": 12,
   "metadata": {
    "scrolled": true
   },
   "outputs": [
    {
     "name": "stdout",
     "output_type": "stream",
     "text": [
      "Train on 255 samples, validate on 29 samples\n",
      "Epoch 1/70\n",
      "255/255 [==============================] - 2s 7ms/step - loss: 593.5716 - acc: 0.5137 - f1: 0.5139 - val_loss: 590.9819 - val_acc: 0.9310 - val_f1: 0.9310\n",
      "Epoch 2/70\n",
      "255/255 [==============================] - 1s 3ms/step - loss: 590.0521 - acc: 0.5255 - f1: 0.5252 - val_loss: 588.0590 - val_acc: 0.9310 - val_f1: 0.9310\n",
      "Epoch 3/70\n",
      "255/255 [==============================] - 1s 3ms/step - loss: 587.1259 - acc: 0.5922 - f1: 0.5916 - val_loss: 585.4492 - val_acc: 0.9310 - val_f1: 0.9310\n",
      "Epoch 4/70\n",
      "255/255 [==============================] - 1s 3ms/step - loss: 584.6716 - acc: 0.5647 - f1: 0.5655 - val_loss: 583.1022 - val_acc: 0.9310 - val_f1: 0.9310\n",
      "Epoch 5/70\n",
      "255/255 [==============================] - 1s 3ms/step - loss: 582.6348 - acc: 0.6078 - f1: 0.6077 - val_loss: 581.4643 - val_acc: 0.9310 - val_f1: 0.9310\n",
      "Epoch 6/70\n",
      "255/255 [==============================] - 1s 3ms/step - loss: 580.9631 - acc: 0.6157 - f1: 0.6157 - val_loss: 579.8991 - val_acc: 0.9310 - val_f1: 0.9310\n",
      "Epoch 7/70\n",
      "255/255 [==============================] - 1s 3ms/step - loss: 579.6339 - acc: 0.6157 - f1: 0.6159 - val_loss: 578.7748 - val_acc: 0.9310 - val_f1: 0.9310\n",
      "Epoch 8/70\n",
      "255/255 [==============================] - 1s 4ms/step - loss: 578.5844 - acc: 0.6588 - f1: 0.6584 - val_loss: 577.8549 - val_acc: 0.9310 - val_f1: 0.9310\n",
      "Epoch 9/70\n",
      "255/255 [==============================] - 1s 4ms/step - loss: 577.7364 - acc: 0.6549 - f1: 0.6549 - val_loss: 577.0925 - val_acc: 0.9310 - val_f1: 0.9310\n",
      "Epoch 10/70\n",
      "255/255 [==============================] - 1s 4ms/step - loss: 577.0823 - acc: 0.6510 - f1: 0.6510 - val_loss: 576.4881 - val_acc: 0.9310 - val_f1: 0.9310\n",
      "Epoch 11/70\n",
      "255/255 [==============================] - 1s 3ms/step - loss: 576.5616 - acc: 0.6627 - f1: 0.6627 - val_loss: 576.1151 - val_acc: 0.9310 - val_f1: 0.9310\n",
      "Epoch 12/70\n",
      "255/255 [==============================] - 1s 3ms/step - loss: 576.1274 - acc: 0.6706 - f1: 0.6707 - val_loss: 575.7488 - val_acc: 0.9310 - val_f1: 0.9310\n",
      "Epoch 13/70\n",
      "255/255 [==============================] - 1s 3ms/step - loss: 575.8197 - acc: 0.6863 - f1: 0.6864 - val_loss: 575.3936 - val_acc: 0.9310 - val_f1: 0.9310\n",
      "Epoch 14/70\n",
      "255/255 [==============================] - 1s 3ms/step - loss: 575.5617 - acc: 0.6706 - f1: 0.6705 - val_loss: 575.2310 - val_acc: 0.9310 - val_f1: 0.9310\n",
      "Epoch 15/70\n",
      "255/255 [==============================] - 1s 3ms/step - loss: 575.3317 - acc: 0.6980 - f1: 0.6977 - val_loss: 574.9706 - val_acc: 0.9310 - val_f1: 0.9310\n",
      "Epoch 16/70\n",
      "255/255 [==============================] - 1s 3ms/step - loss: 575.1542 - acc: 0.6667 - f1: 0.6660 - val_loss: 575.0431 - val_acc: 0.7931 - val_f1: 0.7931\n",
      "Epoch 17/70\n",
      "255/255 [==============================] - 1s 3ms/step - loss: 575.0291 - acc: 0.6588 - f1: 0.6590 - val_loss: 574.6978 - val_acc: 0.9310 - val_f1: 0.9310\n",
      "Epoch 18/70\n",
      "255/255 [==============================] - 1s 3ms/step - loss: 574.8964 - acc: 0.6980 - f1: 0.6982 - val_loss: 574.7197 - val_acc: 0.8276 - val_f1: 0.8276\n",
      "Epoch 19/70\n",
      "255/255 [==============================] - 1s 3ms/step - loss: 574.7648 - acc: 0.7098 - f1: 0.7090 - val_loss: 574.6496 - val_acc: 0.8276 - val_f1: 0.8276\n",
      "Epoch 20/70\n",
      "255/255 [==============================] - 1s 3ms/step - loss: 574.7043 - acc: 0.6745 - f1: 0.6749 - val_loss: 574.4107 - val_acc: 0.9310 - val_f1: 0.9310\n",
      "Epoch 21/70\n",
      "255/255 [==============================] - 1s 3ms/step - loss: 574.6216 - acc: 0.7490 - f1: 0.7494 - val_loss: 574.6079 - val_acc: 0.7586 - val_f1: 0.7586\n",
      "Epoch 22/70\n",
      "255/255 [==============================] - 1s 3ms/step - loss: 574.5677 - acc: 0.7373 - f1: 0.7374 - val_loss: 574.4766 - val_acc: 0.8276 - val_f1: 0.8276\n",
      "Epoch 23/70\n",
      "255/255 [==============================] - 1s 3ms/step - loss: 574.4445 - acc: 0.7765 - f1: 0.7767 - val_loss: 574.3586 - val_acc: 0.8276 - val_f1: 0.8276\n",
      "Epoch 24/70\n",
      "255/255 [==============================] - 1s 3ms/step - loss: 574.4054 - acc: 0.7804 - f1: 0.7807 - val_loss: 574.3237 - val_acc: 0.8276 - val_f1: 0.8276\n",
      "Epoch 25/70\n",
      "255/255 [==============================] - 1s 3ms/step - loss: 574.3577 - acc: 0.7412 - f1: 0.7417 - val_loss: 574.2224 - val_acc: 0.9310 - val_f1: 0.9310\n",
      "Epoch 26/70\n",
      "255/255 [==============================] - 1s 3ms/step - loss: 574.3245 - acc: 0.7843 - f1: 0.7841 - val_loss: 574.4989 - val_acc: 0.7241 - val_f1: 0.7241\n",
      "Epoch 27/70\n",
      "255/255 [==============================] - 1s 3ms/step - loss: 574.3015 - acc: 0.7725 - f1: 0.7729 - val_loss: 574.3706 - val_acc: 0.7931 - val_f1: 0.7931\n",
      "Epoch 28/70\n",
      "255/255 [==============================] - 1s 3ms/step - loss: 574.2547 - acc: 0.8000 - f1: 0.7996 - val_loss: 574.3383 - val_acc: 0.7931 - val_f1: 0.7931\n",
      "Epoch 29/70\n",
      "255/255 [==============================] - 1s 3ms/step - loss: 574.1849 - acc: 0.8431 - f1: 0.8432 - val_loss: 574.3223 - val_acc: 0.7931 - val_f1: 0.7931\n",
      "Epoch 30/70\n",
      "255/255 [==============================] - 1s 3ms/step - loss: 574.1488 - acc: 0.8392 - f1: 0.8392 - val_loss: 574.2692 - val_acc: 0.8276 - val_f1: 0.8276\n",
      "Epoch 31/70\n",
      "255/255 [==============================] - 1s 3ms/step - loss: 574.1144 - acc: 0.8510 - f1: 0.8508 - val_loss: 574.3336 - val_acc: 0.7586 - val_f1: 0.7586\n",
      "Epoch 32/70\n",
      "255/255 [==============================] - 1s 3ms/step - loss: 574.0680 - acc: 0.8745 - f1: 0.8744 - val_loss: 574.3074 - val_acc: 0.7586 - val_f1: 0.7586\n",
      "Epoch 33/70\n",
      "255/255 [==============================] - 1s 3ms/step - loss: 574.0723 - acc: 0.8549 - f1: 0.8546 - val_loss: 574.2992 - val_acc: 0.7586 - val_f1: 0.7586\n",
      "Epoch 34/70\n",
      "255/255 [==============================] - 1s 3ms/step - loss: 574.0348 - acc: 0.8667 - f1: 0.8667 - val_loss: 574.2435 - val_acc: 0.7586 - val_f1: 0.7586\n",
      "Epoch 35/70\n",
      "255/255 [==============================] - 1s 3ms/step - loss: 573.9685 - acc: 0.9098 - f1: 0.9097 - val_loss: 574.3271 - val_acc: 0.7931 - val_f1: 0.7931\n",
      "Epoch 36/70\n",
      "255/255 [==============================] - 1s 3ms/step - loss: 574.0172 - acc: 0.8667 - f1: 0.8664 - val_loss: 574.1403 - val_acc: 0.8966 - val_f1: 0.8966\n",
      "Epoch 37/70\n",
      "255/255 [==============================] - 1s 3ms/step - loss: 574.0139 - acc: 0.8706 - f1: 0.8706 - val_loss: 574.3374 - val_acc: 0.7586 - val_f1: 0.7586\n",
      "Epoch 38/70\n",
      "255/255 [==============================] - 1s 3ms/step - loss: 573.9796 - acc: 0.8784 - f1: 0.8782 - val_loss: 574.4898 - val_acc: 0.6897 - val_f1: 0.6897\n",
      "Epoch 39/70\n",
      "255/255 [==============================] - 1s 3ms/step - loss: 573.9240 - acc: 0.9020 - f1: 0.9021 - val_loss: 574.2482 - val_acc: 0.7241 - val_f1: 0.7241\n",
      "Epoch 40/70\n",
      "255/255 [==============================] - 1s 3ms/step - loss: 573.9408 - acc: 0.9098 - f1: 0.9098 - val_loss: 574.0753 - val_acc: 0.8621 - val_f1: 0.8621\n",
      "Epoch 41/70\n",
      "255/255 [==============================] - 1s 3ms/step - loss: 573.9460 - acc: 0.9059 - f1: 0.9059 - val_loss: 574.2303 - val_acc: 0.8276 - val_f1: 0.8276\n",
      "Epoch 42/70\n",
      "255/255 [==============================] - 1s 3ms/step - loss: 573.8836 - acc: 0.9373 - f1: 0.9370 - val_loss: 574.1519 - val_acc: 0.8621 - val_f1: 0.8621\n",
      "Epoch 43/70\n",
      "255/255 [==============================] - 1s 3ms/step - loss: 573.8890 - acc: 0.9412 - f1: 0.9414 - val_loss: 574.1733 - val_acc: 0.8621 - val_f1: 0.8621\n",
      "Epoch 44/70\n",
      "255/255 [==============================] - 1s 3ms/step - loss: 573.8473 - acc: 0.9333 - f1: 0.9332 - val_loss: 574.2234 - val_acc: 0.8276 - val_f1: 0.8276\n",
      "Epoch 45/70\n",
      "255/255 [==============================] - 1s 3ms/step - loss: 573.8706 - acc: 0.9294 - f1: 0.9296 - val_loss: 574.2286 - val_acc: 0.7931 - val_f1: 0.7931\n",
      "Epoch 46/70\n",
      "255/255 [==============================] - 1s 3ms/step - loss: 573.8261 - acc: 0.9490 - f1: 0.9490 - val_loss: 574.5289 - val_acc: 0.6552 - val_f1: 0.6552\n",
      "Epoch 47/70\n",
      "255/255 [==============================] - 1s 3ms/step - loss: 573.8086 - acc: 0.9569 - f1: 0.9568 - val_loss: 574.1724 - val_acc: 0.8621 - val_f1: 0.8621\n",
      "Epoch 48/70\n",
      "255/255 [==============================] - 1s 3ms/step - loss: 573.8092 - acc: 0.9608 - f1: 0.9608 - val_loss: 574.1425 - val_acc: 0.8621 - val_f1: 0.8621\n",
      "Epoch 49/70\n",
      "255/255 [==============================] - 1s 3ms/step - loss: 573.8212 - acc: 0.9333 - f1: 0.9336 - val_loss: 574.1578 - val_acc: 0.8621 - val_f1: 0.8621\n"
     ]
    },
    {
     "name": "stdout",
     "output_type": "stream",
     "text": [
      "Epoch 50/70\n",
      "255/255 [==============================] - 1s 3ms/step - loss: 573.8295 - acc: 0.9490 - f1: 0.9492 - val_loss: 574.1055 - val_acc: 0.8966 - val_f1: 0.8966\n",
      "Epoch 51/70\n",
      "255/255 [==============================] - 1s 3ms/step - loss: 573.8336 - acc: 0.9255 - f1: 0.9257 - val_loss: 574.1573 - val_acc: 0.8621 - val_f1: 0.8621\n",
      "Epoch 52/70\n",
      "255/255 [==============================] - 1s 3ms/step - loss: 573.8750 - acc: 0.9216 - f1: 0.9215 - val_loss: 574.2719 - val_acc: 0.7931 - val_f1: 0.7931\n",
      "Epoch 53/70\n",
      "255/255 [==============================] - 1s 3ms/step - loss: 573.8465 - acc: 0.9216 - f1: 0.9215 - val_loss: 574.7202 - val_acc: 0.5517 - val_f1: 0.5517\n",
      "Epoch 54/70\n",
      "255/255 [==============================] - 1s 3ms/step - loss: 573.8811 - acc: 0.9216 - f1: 0.9214 - val_loss: 574.4154 - val_acc: 0.6897 - val_f1: 0.6897\n",
      "Epoch 55/70\n",
      "255/255 [==============================] - 1s 3ms/step - loss: 573.8594 - acc: 0.9294 - f1: 0.9297 - val_loss: 574.2355 - val_acc: 0.7241 - val_f1: 0.7241\n",
      "Epoch 56/70\n",
      "255/255 [==============================] - 1s 3ms/step - loss: 573.7872 - acc: 0.9647 - f1: 0.9647 - val_loss: 574.2042 - val_acc: 0.7586 - val_f1: 0.7586\n",
      "Epoch 57/70\n",
      "255/255 [==============================] - 1s 3ms/step - loss: 573.7561 - acc: 0.9765 - f1: 0.9766 - val_loss: 574.2498 - val_acc: 0.7586 - val_f1: 0.7586\n",
      "Epoch 58/70\n",
      "255/255 [==============================] - 1s 3ms/step - loss: 573.7192 - acc: 0.9843 - f1: 0.9842 - val_loss: 574.1391 - val_acc: 0.8621 - val_f1: 0.8621\n",
      "Epoch 59/70\n",
      "255/255 [==============================] - 1s 3ms/step - loss: 573.7607 - acc: 0.9686 - f1: 0.9686 - val_loss: 574.1464 - val_acc: 0.8621 - val_f1: 0.8621\n",
      "Epoch 60/70\n",
      "255/255 [==============================] - 1s 3ms/step - loss: 573.7760 - acc: 0.9608 - f1: 0.9609 - val_loss: 574.1441 - val_acc: 0.8621 - val_f1: 0.8621\n",
      "Epoch 61/70\n",
      "255/255 [==============================] - 1s 3ms/step - loss: 573.7751 - acc: 0.9686 - f1: 0.9686 - val_loss: 574.6088 - val_acc: 0.6207 - val_f1: 0.6207\n",
      "Epoch 62/70\n",
      "255/255 [==============================] - 1s 3ms/step - loss: 573.7657 - acc: 0.9529 - f1: 0.9531 - val_loss: 574.2619 - val_acc: 0.7931 - val_f1: 0.7931\n",
      "Epoch 63/70\n",
      "255/255 [==============================] - 1s 3ms/step - loss: 573.7521 - acc: 0.9686 - f1: 0.9686 - val_loss: 574.1494 - val_acc: 0.8276 - val_f1: 0.8276\n",
      "Epoch 64/70\n",
      "255/255 [==============================] - 1s 3ms/step - loss: 573.7129 - acc: 0.9882 - f1: 0.9883 - val_loss: 574.3580 - val_acc: 0.7241 - val_f1: 0.7241\n",
      "Epoch 65/70\n",
      "255/255 [==============================] - 1s 3ms/step - loss: 573.7639 - acc: 0.9490 - f1: 0.9490 - val_loss: 574.4125 - val_acc: 0.7241 - val_f1: 0.7241\n",
      "Epoch 66/70\n",
      "255/255 [==============================] - 1s 3ms/step - loss: 573.7195 - acc: 0.9765 - f1: 0.9762 - val_loss: 574.1776 - val_acc: 0.8621 - val_f1: 0.8621\n",
      "Epoch 67/70\n",
      "255/255 [==============================] - 1s 3ms/step - loss: 573.7244 - acc: 0.9804 - f1: 0.9805 - val_loss: 574.3205 - val_acc: 0.8276 - val_f1: 0.8276\n",
      "Epoch 68/70\n",
      "255/255 [==============================] - 1s 3ms/step - loss: 573.7162 - acc: 0.9765 - f1: 0.9763 - val_loss: 574.3423 - val_acc: 0.7931 - val_f1: 0.7931\n",
      "Epoch 69/70\n",
      "255/255 [==============================] - 1s 3ms/step - loss: 573.7116 - acc: 0.9765 - f1: 0.9764 - val_loss: 574.4764 - val_acc: 0.6552 - val_f1: 0.6552\n",
      "Epoch 70/70\n",
      "255/255 [==============================] - 1s 3ms/step - loss: 573.7103 - acc: 0.9804 - f1: 0.9803 - val_loss: 574.4267 - val_acc: 0.7931 - val_f1: 0.7931\n"
     ]
    }
   ],
   "source": [
    "epochs =70\n",
    "batch_size =32\n",
    "validation_split_rate=0.1\n",
    "history=model.fit([X_train,pos_train1,pos_train2], y_train,validation_split=validation_split_rate ,epochs=epochs, batch_size=batch_size,verbose=1)\n"
   ]
  },
  {
   "cell_type": "code",
   "execution_count": 13,
   "metadata": {},
   "outputs": [
    {
     "data": {
      "image/png": "[encoded data removed]",
      "text/plain": [
       "<Figure size 1000x300 with 2 Axes>"
      ]
     },
     "metadata": {},
     "output_type": "display_data"
    }
   ],
   "source": [
    "import matplotlib.pyplot as plt\n",
    "\n",
    "# Training & Validation accuracy\n",
    "train_loss = history.history['loss']\n",
    "val_loss = history.history['val_loss']\n",
    "train_acc = history.history['acc']\n",
    "val_acc = history.history['val_acc']\n",
    "epochs = len(train_loss)\n",
    "\n",
    "xc = range(epochs)\n",
    "\n",
    "plt.figure(figsize=(10, 3))\n",
    "\n",
    "# Loss subplot\n",
    "plt.subplot(1, 2, 1)\n",
    "plt.plot(xc, train_loss, label='Training Loss')\n",
    "plt.plot(xc, val_loss, label='Validation Loss')\n",
    "plt.xlabel('Number of Epochs', fontsize=10)\n",
    "plt.ylabel('Loss', fontsize=10)\n",
    "plt.title('Training and Validation Loss', fontsize=12)\n",
    "plt.legend(fontsize=8)\n",
    "plt.grid(True)\n",
    "\n",
    "# Accuracy subplot\n",
    "plt.subplot(1, 2, 2)\n",
    "plt.plot(xc, train_acc, label='Training Accuracy')\n",
    "plt.plot(xc, val_acc, label='Validation Accuracy')\n",
    "plt.xlabel('Number of Epochs', fontsize=10)\n",
    "plt.ylabel('Accuracy', fontsize=10)\n",
    "plt.title('Training and Validation Accuracy', fontsize=12)\n",
    "plt.legend(fontsize=8, loc='lower right')  # Change position to lower right\n",
    "plt.grid(True)\n",
    "\n",
    "plt.tight_layout()\n",
    "plt.show()\n"
   ]
  },
  {
   "cell_type": "code",
   "execution_count": 15,
   "metadata": {
    "scrolled": true
   },
   "outputs": [
    {
     "name": "stdout",
     "output_type": "stream",
     "text": [
      "              precision    recall  f1-score   support\n",
      "\n",
      "           0     0.8125    0.7222    0.7647        18\n",
      "           1     0.9091    0.9434    0.9259        53\n",
      "\n",
      "    accuracy                         0.8873        71\n",
      "   macro avg     0.8608    0.8328    0.8453        71\n",
      "weighted avg     0.8846    0.8873    0.8851        71\n",
      "\n",
      " Precision:90.91% Recall:94.34% Fscore:92.59% \n"
     ]
    }
   ],
   "source": [
    "predicted = np.argmax(model.predict([X_test,pos_test1,pos_test2]), axis=1)\n",
    "y_test_to_label= np.argmax(y_test, axis=1)\n",
    "prec, reca, fscore, sup = precision_recall_fscore_support(y_test_to_label, predicted, average=param)\n",
    "\n",
    "\n",
    "\n",
    "# Generate the classification report as a dictionary\n",
    "report_dict = classification_report(y_test_to_label, predicted, output_dict=True)\n",
    "\n",
    "# Create a new dictionary to hold the formatted values\n",
    "formatted_report_dict = {}\n",
    "\n",
    "# Iterate over the items in the report dictionary\n",
    "for key, value in report_dict.items():\n",
    "    if isinstance(value, dict):\n",
    "        # Format the nested dictionary values\n",
    "        formatted_report_dict[key] = {sub_key: f\"{sub_value:.4f}\" for sub_key, sub_value in value.items()}\n",
    "    else:\n",
    "        # Format the top-level dictionary values\n",
    "        formatted_report_dict[key] = f\"{value:.4f}\"\n",
    "\n",
    "# Create a string representation of the formatted dictionary\n",
    "formatted_report_str = classification_report(y_test_to_label, predicted, digits=4)\n",
    "\n",
    "# Print the formatted classification report\n",
    "print(formatted_report_str)\n",
    "\n",
    "\n",
    "\n",
    "print(\" Precision:{:.2f}% Recall:{:.2f}% Fscore:{:.2f}% \".format(prec*100, reca*100, fscore*100))"
   ]
  },
  {
   "cell_type": "code",
   "execution_count": 16,
   "metadata": {},
   "outputs": [
    {
     "data": {
      "image/png": "[encoded data removed]",
      "text/plain": [
       "<Figure size 1000x700 with 2 Axes>"
      ]
     },
     "metadata": {},
     "output_type": "display_data"
    },
    {
     "name": "stdout",
     "output_type": "stream",
     "text": [
      " Precision:90.91% Recall:94.34% Fscore:92.59% \n"
     ]
    }
   ],
   "source": [
    "import numpy as np\n",
    "import matplotlib.pyplot as plt\n",
    "import seaborn as sns\n",
    "from sklearn.metrics import classification_report, confusion_matrix, precision_recall_fscore_support\n",
    "from sklearn.model_selection import StratifiedKFold\n",
    "# Calculate and visualize the confusion matrix\n",
    "cm = confusion_matrix(y_test_to_label, predicted)\n",
    "plt.figure(figsize=(10, 7))\n",
    "sns.heatmap(cm, annot=True, fmt='d', cmap='Blues', xticklabels=['0', '1'], yticklabels=['0', '1'])\n",
    "plt.xlabel('Predicted')\n",
    "plt.ylabel('Actual')\n",
    "plt.title('Confusion Matrix')\n",
    "plt.show()\n",
    "\n",
    "# Print precision, recall, and f-score\n",
    "prec, reca, fscore, sup = precision_recall_fscore_support(y_test_to_label, predicted, average=param)\n",
    "print(\" Precision:{:.2f}% Recall:{:.2f}% Fscore:{:.2f}% \".format(prec*100, reca*100, fscore*100))"
   ]
  },
  {
   "cell_type": "code",
   "execution_count": null,
   "metadata": {},
   "outputs": [],
   "source": []
  }
 ],
 "metadata": {
  "kernelspec": {
   "display_name": "Python [conda env:python]",
   "language": "python",
   "name": "conda-env-python-py"
  },
  "language_info": {
   "codemirror_mode": {
    "name": "ipython",
    "version": 3
   },
   "file_extension": ".py",
   "mimetype": "text/x-python",
   "name": "python",
   "nbconvert_exporter": "python",
   "pygments_lexer": "ipython3",
   "version": "3.7.1"
  }
 },
 "nbformat": 4,
 "nbformat_minor": 4
}
